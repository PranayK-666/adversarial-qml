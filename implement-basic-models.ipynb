{
 "cells": [
  {
   "cell_type": "code",
   "execution_count": 1,
   "id": "48d5d0a7-bffe-4b1c-9237-793115096039",
   "metadata": {},
   "outputs": [
    {
     "name": "stderr",
     "output_type": "stream",
     "text": [
      "2025-03-16 11:34:05.989112: E external/local_xla/xla/stream_executor/cuda/cuda_fft.cc:467] Unable to register cuFFT factory: Attempting to register factory for plugin cuFFT when one has already been registered\n",
      "WARNING: All log messages before absl::InitializeLog() is called are written to STDERR\n",
      "E0000 00:00:1742085246.008318  159130 cuda_dnn.cc:8579] Unable to register cuDNN factory: Attempting to register factory for plugin cuDNN when one has already been registered\n",
      "E0000 00:00:1742085246.014281  159130 cuda_blas.cc:1407] Unable to register cuBLAS factory: Attempting to register factory for plugin cuBLAS when one has already been registered\n",
      "W0000 00:00:1742085246.029066  159130 computation_placer.cc:177] computation placer already registered. Please check linkage and avoid linking the same target more than once.\n",
      "W0000 00:00:1742085246.029094  159130 computation_placer.cc:177] computation placer already registered. Please check linkage and avoid linking the same target more than once.\n",
      "W0000 00:00:1742085246.029096  159130 computation_placer.cc:177] computation placer already registered. Please check linkage and avoid linking the same target more than once.\n",
      "W0000 00:00:1742085246.029098  159130 computation_placer.cc:177] computation placer already registered. Please check linkage and avoid linking the same target more than once.\n",
      "2025-03-16 11:34:06.034509: I tensorflow/core/platform/cpu_feature_guard.cc:210] This TensorFlow binary is optimized to use available CPU instructions in performance-critical operations.\n",
      "To enable the following instructions: AVX2 FMA, in other operations, rebuild TensorFlow with the appropriate compiler flags.\n"
     ]
    }
   ],
   "source": [
    "from utils.tools import get_dataset, visualise_data"
   ]
  },
  {
   "cell_type": "code",
   "execution_count": 3,
   "id": "ae2b208b-9505-4f5a-b325-eefe95ba18f2",
   "metadata": {},
   "outputs": [],
   "source": [
    "from pennylane import numpy as np"
   ]
  },
  {
   "cell_type": "markdown",
   "id": "6a461190-7a88-41e7-8206-e33be3cb3f97",
   "metadata": {},
   "source": [
    "## Setup"
   ]
  },
  {
   "cell_type": "code",
   "execution_count": 1,
   "id": "f2629c2f-8462-4721-a0c6-b189586d8e72",
   "metadata": {},
   "outputs": [
    {
     "name": "stderr",
     "output_type": "stream",
     "text": [
      "2025-03-16 11:17:24.633946: E external/local_xla/xla/stream_executor/cuda/cuda_fft.cc:467] Unable to register cuFFT factory: Attempting to register factory for plugin cuFFT when one has already been registered\n",
      "WARNING: All log messages before absl::InitializeLog() is called are written to STDERR\n",
      "E0000 00:00:1742084244.652625  158795 cuda_dnn.cc:8579] Unable to register cuDNN factory: Attempting to register factory for plugin cuDNN when one has already been registered\n",
      "E0000 00:00:1742084244.658402  158795 cuda_blas.cc:1407] Unable to register cuBLAS factory: Attempting to register factory for plugin cuBLAS when one has already been registered\n",
      "W0000 00:00:1742084244.672856  158795 computation_placer.cc:177] computation placer already registered. Please check linkage and avoid linking the same target more than once.\n",
      "W0000 00:00:1742084244.672869  158795 computation_placer.cc:177] computation placer already registered. Please check linkage and avoid linking the same target more than once.\n",
      "W0000 00:00:1742084244.672871  158795 computation_placer.cc:177] computation placer already registered. Please check linkage and avoid linking the same target more than once.\n",
      "W0000 00:00:1742084244.672873  158795 computation_placer.cc:177] computation placer already registered. Please check linkage and avoid linking the same target more than once.\n",
      "2025-03-16 11:17:24.679796: I tensorflow/core/platform/cpu_feature_guard.cc:210] This TensorFlow binary is optimized to use available CPU instructions in performance-critical operations.\n",
      "To enable the following instructions: AVX2 FMA, in other operations, rebuild TensorFlow with the appropriate compiler flags.\n"
     ]
    }
   ],
   "source": [
    "import tensorflow as tf\n",
    "\n",
    "import sympy\n",
    "import numpy as np\n",
    "import seaborn as sns\n",
    "import collections\n",
    "\n",
    "# importing \"random\" for random operations\n",
    "import random\n",
    "\n",
    "# visualization tools\n",
    "%matplotlib inline\n",
    "import matplotlib.pyplot as plt"
   ]
  },
  {
   "cell_type": "markdown",
   "id": "ada60bf8-b66c-4514-8811-9d4ef733832a",
   "metadata": {},
   "source": [
    "## Data preprocessing"
   ]
  },
  {
   "cell_type": "markdown",
   "id": "673af4bc-bfc7-412e-931e-5ff1b3ed1f59",
   "metadata": {},
   "source": [
    "### Load raw data"
   ]
  },
  {
   "cell_type": "code",
   "execution_count": 2,
   "id": "d63857df-ebbf-4ddf-a414-cecfe3ef031f",
   "metadata": {},
   "outputs": [],
   "source": [
    "def get_dataset(digits=[3, 5], n_px=8, train_size=800, test_size=200):\n",
    "    (x_train, y_train), (x_test, y_test) = tf.keras.datasets.mnist.load_data()\n",
    "\n",
    "    # Rescale the images from [0,255] to the [0.0,1.0] range.\n",
    "    x_train, x_test = x_train[..., np.newaxis] / 255.0, x_test[...,\n",
    "                                                               np.newaxis] / 255.0\n",
    "\n",
    "    # Create a boolean mask to filter out only the samples with desired label\n",
    "    filter_mask = np.isin(y_train, digits)\n",
    "    \n",
    "    # Apply the filter mask to the features and labels to keep only the selected digits\n",
    "    x_train = x_train[filter_mask]\n",
    "    y_train = y_train[filter_mask]\n",
    "    \n",
    "    # Do the same for test dataset\n",
    "    filter_mask = np.isin(y_test, digits)\n",
    "    \n",
    "    x_test = x_test[filter_mask]\n",
    "    y_test = y_test[filter_mask]\n",
    "\n",
    "    # Randomly select samples\n",
    "    random_indices = np.random.choice(x_train.shape[0], train_size, replace=False)\n",
    "    \n",
    "    # Select the corresponding samples\n",
    "    x_train = x_train[random_indices]\n",
    "    y_train = y_train[random_indices]  # Select corresponding labels\n",
    "    \n",
    "    # Do the same for test samples\n",
    "    random_indices = np.random.choice(x_test.shape[0], test_size, replace=False)\n",
    "    \n",
    "    # Select the corresponding samples\n",
    "    x_test = x_test[random_indices]\n",
    "    y_test = y_test[random_indices]  # Select corresponding labels\n",
    "\n",
    "    with tf.device(':CPU:0'):\n",
    "        x_train = tf.image.resize(x_train, (n_px, n_px)).numpy()\n",
    "        x_test = tf.image.resize(x_test, (n_px, n_px)).numpy()\n",
    "\n",
    "    return (x_train, y_train), (x_test, y_test)"
   ]
  },
  {
   "cell_type": "code",
   "execution_count": 3,
   "id": "4f693ce5-1937-4129-b143-4881f8dd3081",
   "metadata": {},
   "outputs": [],
   "source": [
    "def visualize_data(digits, x, y, pred=None):\n",
    "    n_img = len(x)\n",
    "    labels_list = digits\n",
    "    fig, axes = plt.subplots(1, len(x), figsize=(2*len(x), 2))\n",
    "    for i in range(n_img):\n",
    "        axes[i].imshow(x[i], cmap=\"gray\")\n",
    "        if pred is None:\n",
    "            axes[i].set_title(\"Label: {}\".format(labels_list[y[i]]))\n",
    "        else:\n",
    "            axes[i].set_title(\"Label: {}, Pred: {}\".format(labels_list[y[i]], labels_list[pred[i]]))\n",
    "    plt.tight_layout(w_pad=2)"
   ]
  },
  {
   "cell_type": "code",
   "execution_count": 10,
   "id": "69287ffb-ec44-4cdf-83ed-b686d9fb8189",
   "metadata": {},
   "outputs": [
    {
     "name": "stdout",
     "output_type": "stream",
     "text": [
      "X_train: (10000, 16, 16, 1) <class 'numpy.ndarray'> float32\n",
      "X_test : (200, 16, 16, 1) <class 'numpy.ndarray'> float32\n",
      "y_train: (10000,) <class 'numpy.ndarray'> uint8\n",
      "y_test : (200,) <class 'numpy.ndarray'> uint8\n",
      "Digits : [3 5 7 8]\n"
     ]
    }
   ],
   "source": [
    "digits = [3,5,7,8]\n",
    "(x_train, y_train), (x_test, y_test) = get_dataset(digits, 16, train_size=10000)\n",
    "print(f'X_train: {np.shape(x_train)} {type(x_train)} {x_train.dtype}')\n",
    "print(f'X_test : {np.shape(x_test)} {type(x_test)} {x_test.dtype}')\n",
    "print(f'y_train: {np.shape(y_train)} {type(y_train)} {y_train.dtype}')\n",
    "print(f'y_test : {np.shape(y_test)} {type(x_test)} {y_test.dtype}')\n",
    "print(f'Digits : {np.unique(y_train)}')"
   ]
  },
  {
   "cell_type": "code",
   "execution_count": 11,
   "id": "7e589bcb-f50b-47f4-a4ac-d1822f5f4181",
   "metadata": {},
   "outputs": [
    {
     "data": {
      "image/png": "[encoded data removed]",
      "text/plain": [
       "<Figure size 800x200 with 4 Axes>"
      ]
     },
     "metadata": {},
     "output_type": "display_data"
    }
   ],
   "source": [
    "# show one image from each class\n",
    "x_vis = [(x_train[y_train==digit])[np.random.choice(range(10))] for digit in digits] \n",
    "y_vis = range(len(digits))\n",
    "\n",
    "visualise_data(digits, x_vis, y_vis)"
   ]
  },
  {
   "cell_type": "code",
   "execution_count": 2,
   "id": "ef3c1d2d-1991-4c5b-8acf-5c82f561ae2c",
   "metadata": {},
   "outputs": [
    {
     "name": "stdout",
     "output_type": "stream",
     "text": [
      "Number of original training examples: 60000\n",
      "Number of original test examples: 10000\n"
     ]
    }
   ],
   "source": [
    "(x_train, y_train), (x_test, y_test) = tf.keras.datasets.mnist.load_data()\n",
    "\n",
    "# Rescale the images from [0,255] to the [0.0,1.0] range.\n",
    "x_train, x_test = x_train[..., np.newaxis] / 255.0, x_test[...,\n",
    "                                                           np.newaxis] / 255.0\n",
    "\n",
    "print(\"Number of original training examples:\", len(x_train))\n",
    "print(\"Number of original test examples:\", len(x_test))"
   ]
  },
  {
   "cell_type": "code",
   "execution_count": 3,
   "id": "460912a1-ad3a-45e7-974e-bc2c8d7a2f6c",
   "metadata": {},
   "outputs": [
    {
     "name": "stdout",
     "output_type": "stream",
     "text": [
      "Label: 0\n"
     ]
    },
    {
     "data": {
      "image/png": "[encoded data removed]",
      "text/plain": [
       "<Figure size 640x480 with 2 Axes>"
      ]
     },
     "metadata": {},
     "output_type": "display_data"
    }
   ],
   "source": [
    "sample = random.choice(range(len(y_train)))\n",
    "print(f'Label: {y_train[sample]}')\n",
    "\n",
    "plt.imshow(x_train[sample, :, :, 0])\n",
    "plt.colorbar()\n",
    "plt.show()"
   ]
  },
  {
   "cell_type": "markdown",
   "id": "e04a21cf-188b-468e-a008-f585ece3b031",
   "metadata": {},
   "source": [
    "### Filter labels"
   ]
  },
  {
   "cell_type": "code",
   "execution_count": 4,
   "id": "38b2b9e4-925f-408e-a176-d1dfd86d0fab",
   "metadata": {},
   "outputs": [
    {
     "name": "stdout",
     "output_type": "stream",
     "text": [
      "Number of filtered training examples: 11552\n",
      "Number of filtered test examples: 1902\n"
     ]
    }
   ],
   "source": [
    "digits = [3, 5]\n",
    "\n",
    "# Create a boolean mask to filter out only the samples with desired label\n",
    "filter_mask = np.isin(y_train, digits)\n",
    "\n",
    "# Apply the filter mask to the features and labels to keep only the selected digits\n",
    "x_train = x_train[filter_mask]\n",
    "y_train = y_train[filter_mask]\n",
    "\n",
    "# Do the same for test dataset\n",
    "filter_mask = np.isin(y_test, digits)\n",
    "\n",
    "x_test = x_test[filter_mask]\n",
    "y_test = y_test[filter_mask]\n",
    "\n",
    "print(\"Number of filtered training examples:\", len(x_train))\n",
    "print(\"Number of filtered test examples:\", len(x_test))"
   ]
  },
  {
   "cell_type": "code",
   "execution_count": 5,
   "id": "a50c4613-8b44-41f1-85b5-d7863bd1da32",
   "metadata": {},
   "outputs": [
    {
     "name": "stdout",
     "output_type": "stream",
     "text": [
      "Label: 5\n"
     ]
    },
    {
     "data": {
      "image/png": "[encoded data removed]",
      "text/plain": [
       "<Figure size 640x480 with 2 Axes>"
      ]
     },
     "metadata": {},
     "output_type": "display_data"
    }
   ],
   "source": [
    "sample = random.choice(range(len(y_train)))\n",
    "print(f'Label: {y_train[sample]}')\n",
    "\n",
    "plt.imshow(x_train[sample, :, :, 0])\n",
    "plt.colorbar()\n",
    "plt.show()"
   ]
  },
  {
   "cell_type": "markdown",
   "id": "09bc5b62-0170-4475-9bd5-5b33439f2400",
   "metadata": {},
   "source": [
    "### Reduce number of samples"
   ]
  },
  {
   "cell_type": "code",
   "execution_count": 6,
   "id": "f8a7bc40-652f-4641-bb93-65571e55b4f1",
   "metadata": {},
   "outputs": [
    {
     "name": "stdout",
     "output_type": "stream",
     "text": [
      "Number of reduced training examples: 1000\n",
      "Number of reduced test examples: 200\n"
     ]
    }
   ],
   "source": [
    "num_train_samples = 1000\n",
    "num_test_samples = 200\n",
    "\n",
    "# Randomly select samples\n",
    "random_indices = np.random.choice(x_train.shape[0], num_train_samples, replace=False)\n",
    "\n",
    "# Select the corresponding samples\n",
    "x_train = x_train[random_indices]\n",
    "y_train = y_train[random_indices]  # Select corresponding labels\n",
    "\n",
    "# Do the same for test samples\n",
    "random_indices = np.random.choice(x_test.shape[0], num_test_samples, replace=False)\n",
    "\n",
    "# Select the corresponding samples\n",
    "x_test = x_test[random_indices]\n",
    "y_test = y_test[random_indices]  # Select corresponding labels\n",
    "\n",
    "print(\"Number of reduced training examples:\", len(y_train))\n",
    "print(\"Number of reduced test examples:\", len(y_test))"
   ]
  },
  {
   "cell_type": "code",
   "execution_count": 7,
   "id": "31aa2cf3-c328-4d8e-9868-9422f891a103",
   "metadata": {},
   "outputs": [
    {
     "name": "stdout",
     "output_type": "stream",
     "text": [
      "Label: 5\n"
     ]
    },
    {
     "data": {
      "image/png": "[encoded data removed]",
      "text/plain": [
       "<Figure size 640x480 with 2 Axes>"
      ]
     },
     "metadata": {},
     "output_type": "display_data"
    }
   ],
   "source": [
    "# check that the labelling is not messed up\n",
    "sample = random.choice(range(num_train_samples)) # use this same sample to test downscaling\n",
    "print(f'Label: {y_train[sample]}')\n",
    "\n",
    "plt.imshow(x_train[sample, :, :, 0])\n",
    "plt.colorbar()\n",
    "plt.show()"
   ]
  },
  {
   "cell_type": "markdown",
   "id": "3bed4a63-bdb3-4375-b4e3-87e9f9e7c9f0",
   "metadata": {},
   "source": [
    "### Downscale the images"
   ]
  },
  {
   "cell_type": "code",
   "execution_count": 8,
   "id": "6ffc7e8b-3c9f-4722-a7ea-3f3ef6b0bb77",
   "metadata": {},
   "outputs": [
    {
     "data": {
      "text/plain": [
       "[PhysicalDevice(name='/physical_device:CPU:0', device_type='CPU'),\n",
       " PhysicalDevice(name='/physical_device:GPU:0', device_type='GPU')]"
      ]
     },
     "execution_count": 8,
     "metadata": {},
     "output_type": "execute_result"
    }
   ],
   "source": [
    "tf.config.list_physical_devices(\n",
    "    device_type=None\n",
    ")"
   ]
  },
  {
   "cell_type": "code",
   "execution_count": 10,
   "id": "016a9030-72c0-4c01-a80b-e8214f984e76",
   "metadata": {},
   "outputs": [
    {
     "name": "stderr",
     "output_type": "stream",
     "text": [
      "I0000 00:00:1741830308.509353  152126 gpu_device.cc:2019] Created device /job:localhost/replica:0/task:0/device:GPU:0 with 11433 MB memory:  -> device: 0, name: Tesla P100-PCIE-12GB, pci bus id: 0000:02:00.0, compute capability: 6.0\n"
     ]
    }
   ],
   "source": [
    "n_px = 8\n",
    "# with tf.device(':CPU:0'):\n",
    "#     x_train_small = tf.image.resize(x_train, (n_px, n_px)).numpy()\n",
    "#     x_test_small = tf.image.resize(x_test, (n_px, n_px)).numpy()\n",
    "\n",
    "x_train_small = tf.image.resize(x_train, (n_px, n_px)).numpy()\n",
    "x_test_small = tf.image.resize(x_test, (n_px, n_px)).numpy()"
   ]
  },
  {
   "cell_type": "code",
   "execution_count": 11,
   "id": "05a3c6ad-22eb-4757-8357-e47bca19d217",
   "metadata": {},
   "outputs": [],
   "source": [
    "# Clear session to free up GPU memory after resizing\n",
    "tf.keras.backend.clear_session()"
   ]
  },
  {
   "cell_type": "code",
   "execution_count": 14,
   "id": "08f68c7e-2040-4b8a-a2e1-d587f88cf4ad",
   "metadata": {},
   "outputs": [
    {
     "name": "stdout",
     "output_type": "stream",
     "text": [
      "Label: 3\n"
     ]
    },
    {
     "data": {
      "image/png": "[encoded data removed]",
      "text/plain": [
       "<Figure size 640x480 with 2 Axes>"
      ]
     },
     "metadata": {},
     "output_type": "display_data"
    }
   ],
   "source": [
    "print(f'Label: {y_train[sample]}')\n",
    "\n",
    "plt.imshow(x_train_small[sample, :, :, 0])\n",
    "plt.colorbar()\n",
    "plt.show()"
   ]
  },
  {
   "cell_type": "markdown",
   "id": "4fdd5fa0-1aad-4c85-bab5-3c9622bafc98",
   "metadata": {},
   "source": [
    "### Adjust labels\n",
    "might not need this as we can do one-hot encoding"
   ]
  },
  {
   "cell_type": "code",
   "execution_count": 10,
   "id": "3d3ab2e4-6a27-4712-bfc2-aed93af0a9ba",
   "metadata": {},
   "outputs": [],
   "source": [
    "# # Adjust the labels to be centered around 0 and scaled to be in the range -1 to 1\n",
    "# relabel = lambda y: (y - (digits[0]+digits[1])/2) / ((digits[0]-digits[1])/2)\n",
    "\n",
    "# y_train = relabel(y_train)\n",
    "# y_test = relabel(y_test)"
   ]
  },
  {
   "cell_type": "code",
   "execution_count": 11,
   "id": "9c9fa4da-6756-413c-bb94-ea3e7beb5e63",
   "metadata": {},
   "outputs": [],
   "source": [
    "# print(f'Label: {y_train[sample]}')\n",
    "\n",
    "# plt.imshow(x_train_small[sample, :, :, 0])\n",
    "# plt.colorbar()\n",
    "# plt.show()"
   ]
  },
  {
   "cell_type": "markdown",
   "id": "10ada382-e451-4e1b-8b2c-3e254999f97e",
   "metadata": {},
   "source": [
    "### Visualisation of the dataset"
   ]
  },
  {
   "cell_type": "code",
   "execution_count": 12,
   "id": "45b45702-95e1-47a0-bf07-31cf0b180408",
   "metadata": {},
   "outputs": [
    {
     "data": {
      "image/png": "[encoded data removed]",
      "text/plain": [
       "<Figure size 400x200 with 2 Axes>"
      ]
     },
     "metadata": {},
     "output_type": "display_data"
    }
   ],
   "source": [
    "# show one image from each class (in the train- and testsets, the images are randomly permuted)\n",
    "x_vis = [\n",
    "    (x_train_small[y_train==digits[0]])[random.choice(range(200))],\n",
    "    (x_train_small[y_train==digits[1]])[random.choice(range(200))]\n",
    "]\n",
    "y_vis = [0, 1]\n",
    "\n",
    "# later when we train the model we include the predictions as well, so let's just add the functionality here\n",
    "def visualize_data(x, y, pred=None):\n",
    "    n_img = len(x)\n",
    "    labels_list = digits\n",
    "    fig, axes = plt.subplots(1, len(x), figsize=(2*len(x), 2))\n",
    "    for i in range(n_img):\n",
    "        axes[i].imshow(x[i], cmap=\"gray\")\n",
    "        if pred is None:\n",
    "            axes[i].set_title(\"Label: {}\".format(labels_list[y[i]]))\n",
    "        else:\n",
    "            axes[i].set_title(\"Label: {}, Pred: {}\".format(labels_list[y[i]], labels_list[pred[i]]))\n",
    "    plt.tight_layout(w_pad=2)\n",
    "    # plt.show()\n",
    "\n",
    "\n",
    "visualize_data(x_vis, y_vis)"
   ]
  },
  {
   "cell_type": "markdown",
   "id": "a1c8b810-4aa6-49f6-b57b-f11eef3b9723",
   "metadata": {},
   "source": [
    "Using `tf.keras.datasets.mnist` uses a lot of GPU memory, can't get around this."
   ]
  },
  {
   "cell_type": "code",
   "execution_count": null,
   "id": "af42113b-935e-4091-a21c-8d424136b166",
   "metadata": {},
   "outputs": [],
   "source": [
    "#### Hyperparameters ####\n",
    "input_dim = 256 # 16 X 16 pixels\n",
    "num_classes = 4\n",
    "num_layers = 32\n",
    "num_qubits = 8\n",
    "num_reup = 3\n",
    "\n",
    "device = torch.device(\"cuda\" if torch.cuda.is_available() else \"cpu\")\n",
    "print(\"Using device:\", device)\n",
    "\n",
    "\n",
    "class QML_classifier(torch.nn.Module):\n",
    "    \"\"\"\n",
    "    Class for creating a quantum machine learning (classification) model based on the StronglyEntanglingLayers template.\n",
    "\n",
    "    Args:\n",
    "        input_dim: the dimension of the input samples\n",
    "        output_dim: the dimension of the output, i.e. the numbers of classes\n",
    "        num_qubits: the number of qubits in the circuit\n",
    "        num_layers: the number of layers within the StronglyEntanglingLayers template\n",
    "    \"\"\"\n",
    "    def __init__(self, input_dim, output_dim, num_qubits, num_layers):\n",
    "        super().__init__()\n",
    "        torch.manual_seed(1337)  # fixed seed for reproducibility\n",
    "        self.num_qubits = num_qubits\n",
    "        self.output_dim = output_dim\n",
    "        self.num_layers = num_layers\n",
    "        self.device = qml.device(\"lightning.qubit\", wires=self.num_qubits)\n",
    "        self.weights_shape = qml.StronglyEntanglingLayers.shape(\n",
    "            n_layers=self.num_layers, n_wires=self.num_qubits\n",
    "        )\n",
    "\n",
    "        @qml.qnode(self.device)\n",
    "        def circuit(inputs, weights, bias):\n",
    "            inputs = torch.reshape(inputs, self.weights_shape)\n",
    "            qml.StronglyEntanglingLayers(\n",
    "                weights=weights * inputs + bias, wires=range(self.num_qubits)\n",
    "            )\n",
    "            return [qml.expval(qml.PauliZ(i)) for i in range(self.output_dim)]\n",
    "\n",
    "        param_shapes = {\"weights\": self.weights_shape, \"bias\": self.weights_shape}\n",
    "        init_vals = {\n",
    "            \"weights\": 0.1 * torch.rand(self.weights_shape),\n",
    "            \"bias\": 0.1 * torch.rand(self.weights_shape),\n",
    "        }\n",
    "\n",
    "        # initialize the quantum circuit\n",
    "        self.qcircuit = qml.qnn.TorchLayer(\n",
    "            qnode=circuit, weight_shapes=param_shapes, init_method=init_vals\n",
    "        )\n",
    "\n",
    "    def forward(self, x):\n",
    "        inputs_stack = torch.hstack([x] * num_reup)\n",
    "        return self.qcircuit(inputs_stack)"
   ]
  },
  {
   "cell_type": "markdown",
   "id": "604f3cd2-d4f3-48b0-a80c-38abc54f2aee",
   "metadata": {},
   "source": [
    "## MNISQ"
   ]
  },
  {
   "cell_type": "code",
   "execution_count": 69,
   "id": "4d4c7f60-8fa2-4d5e-9eb6-e3c22a1ddabc",
   "metadata": {},
   "outputs": [
    {
     "name": "stdout",
     "output_type": "stream",
     "text": [
      "Label: 4\n"
     ]
    },
    {
     "data": {
      "image/png": "[encoded data removed]",
      "text/plain": [
       "<Figure size 640x480 with 1 Axes>"
      ]
     },
     "metadata": {},
     "output_type": "display_data"
    }
   ],
   "source": [
    "import numpy as np\n",
    "import matplotlib.pyplot as plt\n",
    "import pennylane as qml\n",
    "\n",
    "[ds] = qml.data.load(\"other\", name=\"mnisq\")\n",
    "\n",
    "@qml.qnode(qml.device(\"default.qubit\"))\n",
    "def circuit(num):\n",
    "    for op in ds.circuits[num]:\n",
    "        qml.apply(op)\n",
    "\n",
    "    return qml.state()\n",
    "\n",
    "num = 20\n",
    "image_array = np.reshape(np.abs(circuit(num)[:784]), [28,28])\n",
    "label = ds.labels[num]\n",
    "print(f'Label: {label}')\n",
    "#show the encoded image\n",
    "plt.imshow(image_array)\n",
    "plt.show()"
   ]
  },
  {
   "cell_type": "code",
   "execution_count": 70,
   "id": "0e8e72f5-20bd-4b6f-ad97-288c5cedfd78",
   "metadata": {},
   "outputs": [
    {
     "ename": "AttributeError",
     "evalue": "module 'numpy' has no attribute 'tensor'",
     "output_type": "error",
     "traceback": [
      "\u001b[0;31m---------------------------------------------------------------------------\u001b[0m",
      "\u001b[0;31mAttributeError\u001b[0m                            Traceback (most recent call last)",
      "Cell \u001b[0;32mIn[70], line 1\u001b[0m\n\u001b[0;32m----> 1\u001b[0m X_train \u001b[38;5;241m=\u001b[39m \u001b[43mnp\u001b[49m\u001b[38;5;241;43m.\u001b[39;49m\u001b[43mtensor\u001b[49m([np\u001b[38;5;241m.\u001b[39mreshape(np\u001b[38;5;241m.\u001b[39mabs(circuit(num)[:\u001b[38;5;241m784\u001b[39m]), [\u001b[38;5;241m28\u001b[39m,\u001b[38;5;241m28\u001b[39m]) \u001b[38;5;28;01mfor\u001b[39;00m num \u001b[38;5;129;01min\u001b[39;00m \u001b[38;5;28mrange\u001b[39m(\u001b[38;5;241m10\u001b[39m)])\n",
      "File \u001b[0;32m~/miniforge3/envs/qml/lib/python3.12/site-packages/numpy/__init__.py:333\u001b[0m, in \u001b[0;36m__getattr__\u001b[0;34m(attr)\u001b[0m\n\u001b[1;32m    330\u001b[0m     \u001b[38;5;124m\"\u001b[39m\u001b[38;5;124mRemoved in NumPy 1.25.0\u001b[39m\u001b[38;5;124m\"\u001b[39m\n\u001b[1;32m    331\u001b[0m     \u001b[38;5;28;01mraise\u001b[39;00m \u001b[38;5;167;01mRuntimeError\u001b[39;00m(\u001b[38;5;124m\"\u001b[39m\u001b[38;5;124mTester was removed in NumPy 1.25.\u001b[39m\u001b[38;5;124m\"\u001b[39m)\n\u001b[0;32m--> 333\u001b[0m \u001b[38;5;28;01mraise\u001b[39;00m \u001b[38;5;167;01mAttributeError\u001b[39;00m(\u001b[38;5;124m\"\u001b[39m\u001b[38;5;124mmodule \u001b[39m\u001b[38;5;132;01m{!r}\u001b[39;00m\u001b[38;5;124m has no attribute \u001b[39m\u001b[38;5;124m\"\u001b[39m\n\u001b[1;32m    334\u001b[0m                      \u001b[38;5;124m\"\u001b[39m\u001b[38;5;132;01m{!r}\u001b[39;00m\u001b[38;5;124m\"\u001b[39m\u001b[38;5;241m.\u001b[39mformat(\u001b[38;5;18m__name__\u001b[39m, attr))\n",
      "\u001b[0;31mAttributeError\u001b[0m: module 'numpy' has no attribute 'tensor'"
     ]
    }
   ],
   "source": [
    "X_train = np.tensor([np.reshape(np.abs(circuit(num)[:784]), [28,28]) for num in range(10)])"
   ]
  },
  {
   "cell_type": "code",
   "execution_count": 71,
   "id": "89338691-9a5a-4c98-a662-f839548c5bf6",
   "metadata": {},
   "outputs": [
    {
     "name": "stdout",
     "output_type": "stream",
     "text": [
      "Shape : (10, 28, 28)\n",
      "dType : float64\n",
      "pyType: <class 'pennylane.numpy.tensor.tensor'>\n"
     ]
    }
   ],
   "source": [
    "print(f'Shape : {X_train.shape}')\n",
    "print(f'dType : {X_train.dtype}')\n",
    "print(f'pyType: {type(X_train)}')"
   ]
  },
  {
   "cell_type": "code",
   "execution_count": 56,
   "id": "c7dc2c05-0e29-4934-a2ee-207b4c0a1501",
   "metadata": {},
   "outputs": [],
   "source": [
    "from pennylane import numpy as np"
   ]
  },
  {
   "cell_type": "code",
   "execution_count": null,
   "id": "1afa22a8-c8a4-4a72-b3da-d087b6094f19",
   "metadata": {},
   "outputs": [],
   "source": []
  }
 ],
 "metadata": {
  "kernelspec": {
   "display_name": "Python (qml)",
   "language": "python",
   "name": "qml"
  },
  "language_info": {
   "codemirror_mode": {
    "name": "ipython",
    "version": 3
   },
   "file_extension": ".py",
   "mimetype": "text/x-python",
   "name": "python",
   "nbconvert_exporter": "python",
   "pygments_lexer": "ipython3",
   "version": "3.12.9"
  }
 },
 "nbformat": 4,
 "nbformat_minor": 5
}
