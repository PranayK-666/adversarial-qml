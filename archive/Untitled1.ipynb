{
 "cells": [
  {
   "cell_type": "code",
   "execution_count": 1,
   "id": "44d2811d-48dd-416d-beaa-9717cf7c66bd",
   "metadata": {},
   "outputs": [],
   "source": [
    "import os\n",
    "import torch\n",
    "from torch import nn\n",
    "from torch.utils.data import DataLoader\n",
    "from torchvision import datasets, transforms"
   ]
  },
  {
   "cell_type": "markdown",
   "id": "baed3edb-31f2-4f57-af20-16eb733a9531",
   "metadata": {},
   "source": [
    "### Get Device for Training"
   ]
  },
  {
   "cell_type": "code",
   "execution_count": 2,
   "id": "b9c08186-9cfa-418f-9d25-26b052eca7de",
   "metadata": {},
   "outputs": [
    {
     "name": "stdout",
     "output_type": "stream",
     "text": [
      "Using cuda device\n"
     ]
    }
   ],
   "source": [
    "device = torch.accelerator.current_accelerator().type if torch.accelerator.is_available() else \"cpu\"\n",
    "print(f\"Using {device} device\")"
   ]
  },
  {
   "cell_type": "markdown",
   "id": "cf7c74f8-0732-4898-b54d-e1a4ad831536",
   "metadata": {},
   "source": [
    "### Define the Class"
   ]
  },
  {
   "cell_type": "code",
   "execution_count": 3,
   "id": "5f806299-5f2c-4fc7-b029-d70b7bc22cbe",
   "metadata": {},
   "outputs": [],
   "source": [
    "class NeuralNetwork(nn.Module):\n",
    "    def __init__(self):\n",
    "        super().__init__()\n",
    "        self.flatten = nn.Flatten()\n",
    "        self.linear_relu_stack = nn.Sequential(\n",
    "            nn.Linear(28*28, 512),\n",
    "            nn.ReLU(),\n",
    "            nn.Linear(512, 512),\n",
    "            nn.ReLU(),\n",
    "            nn.Linear(512, 10),\n",
    "        )\n",
    "\n",
    "    def forward(self, x):\n",
    "        x = self.flatten(x)\n",
    "        logits = self.linear_relu_stack(x)\n",
    "        return logits"
   ]
  },
  {
   "cell_type": "code",
   "execution_count": 4,
   "id": "55c95f1c-2a15-4dcb-b437-8347818f8f0d",
   "metadata": {},
   "outputs": [
    {
     "name": "stdout",
     "output_type": "stream",
     "text": [
      "NeuralNetwork(\n",
      "  (flatten): Flatten(start_dim=1, end_dim=-1)\n",
      "  (linear_relu_stack): Sequential(\n",
      "    (0): Linear(in_features=784, out_features=512, bias=True)\n",
      "    (1): ReLU()\n",
      "    (2): Linear(in_features=512, out_features=512, bias=True)\n",
      "    (3): ReLU()\n",
      "    (4): Linear(in_features=512, out_features=10, bias=True)\n",
      "  )\n",
      ")\n"
     ]
    }
   ],
   "source": [
    "model = NeuralNetwork().to(device)\n",
    "print(model)"
   ]
  },
  {
   "cell_type": "code",
   "execution_count": 5,
   "id": "31d1c857-50db-44e2-8ced-c31a402a3ce6",
   "metadata": {},
   "outputs": [
    {
     "name": "stdout",
     "output_type": "stream",
     "text": [
      "Predicted class: tensor([9], device='cuda:0')\n"
     ]
    }
   ],
   "source": [
    "X = torch.rand(1, 28, 28, device=device)\n",
    "logits = model(X)\n",
    "pred_probab = nn.Softmax(dim=1)(logits)\n",
    "y_pred = pred_probab.argmax(1)\n",
    "print(f\"Predicted class: {y_pred}\")"
   ]
  },
  {
   "cell_type": "markdown",
   "id": "9d9d2992-d436-47ec-bcce-a6c0b3ca6900",
   "metadata": {},
   "source": [
    "### Model Layers"
   ]
  },
  {
   "cell_type": "code",
   "execution_count": 6,
   "id": "bd10bfa1-d6f1-4121-9cca-dac60048f6d2",
   "metadata": {},
   "outputs": [
    {
     "name": "stdout",
     "output_type": "stream",
     "text": [
      "torch.Size([3, 28, 28])\n"
     ]
    }
   ],
   "source": [
    "input_image = torch.rand(3,28,28)\n",
    "print(input_image.size())"
   ]
  },
  {
   "cell_type": "markdown",
   "id": "3b73222b-4a65-47c1-9777-4457df8562f1",
   "metadata": {},
   "source": [
    "`nn.Flatten`"
   ]
  },
  {
   "cell_type": "code",
   "execution_count": 7,
   "id": "8a946f7c-111e-4ad4-b176-a142c7c521c8",
   "metadata": {},
   "outputs": [
    {
     "name": "stdout",
     "output_type": "stream",
     "text": [
      "torch.Size([3, 784])\n"
     ]
    }
   ],
   "source": [
    "flatten = nn.Flatten()\n",
    "flat_image = flatten(input_image)\n",
    "print(flat_image.size())"
   ]
  },
  {
   "cell_type": "markdown",
   "id": "518649ee-33cf-42ae-b253-447769e8b885",
   "metadata": {},
   "source": [
    "`nn.Linear`"
   ]
  },
  {
   "cell_type": "code",
   "execution_count": 8,
   "id": "2ccaea9b-0beb-4dcd-8b5f-905adbe48ad2",
   "metadata": {},
   "outputs": [
    {
     "name": "stdout",
     "output_type": "stream",
     "text": [
      "torch.Size([3, 20])\n"
     ]
    }
   ],
   "source": [
    "layer1 = nn.Linear(in_features=28*28, out_features=20)\n",
    "hidden1 = layer1(flat_image)\n",
    "print(hidden1.size())"
   ]
  },
  {
   "cell_type": "markdown",
   "id": "aaadc55d-b02e-4b22-a970-7328de41528e",
   "metadata": {},
   "source": [
    "`nn.ReLU`"
   ]
  },
  {
   "cell_type": "code",
   "execution_count": 9,
   "id": "08182f1a-c3f6-435e-8fb0-57a5d361e3fb",
   "metadata": {},
   "outputs": [
    {
     "name": "stdout",
     "output_type": "stream",
     "text": [
      "Before ReLU: tensor([[-0.1395, -0.1861,  0.0917, -0.3379, -0.1056, -0.1757,  0.1938,  0.1319,\n",
      "          0.0762, -0.8590,  0.0328,  0.4244, -0.1436,  0.3695,  0.0644, -0.1297,\n",
      "         -0.1263, -0.4510,  0.3533, -0.1444],\n",
      "        [ 0.0679, -0.1490,  0.2017, -0.5774, -0.2181, -0.0091, -0.0743,  0.2819,\n",
      "          0.1406, -0.8443,  0.2997, -0.1973, -0.0668,  0.4386, -0.0699,  0.3192,\n",
      "         -0.0962, -0.1145, -0.1431, -0.1176],\n",
      "        [ 0.1312, -0.1482,  0.0901, -0.2705, -0.2110,  0.0185, -0.4501, -0.0254,\n",
      "          0.0478, -0.8993, -0.0784,  0.2915, -0.2258,  0.6114, -0.0803,  0.2670,\n",
      "         -0.0286, -0.2148,  0.4402, -0.4366]], grad_fn=<AddmmBackward0>)\n",
      "\n",
      "\n",
      "After ReLU: tensor([[0.0000, 0.0000, 0.0917, 0.0000, 0.0000, 0.0000, 0.1938, 0.1319, 0.0762,\n",
      "         0.0000, 0.0328, 0.4244, 0.0000, 0.3695, 0.0644, 0.0000, 0.0000, 0.0000,\n",
      "         0.3533, 0.0000],\n",
      "        [0.0679, 0.0000, 0.2017, 0.0000, 0.0000, 0.0000, 0.0000, 0.2819, 0.1406,\n",
      "         0.0000, 0.2997, 0.0000, 0.0000, 0.4386, 0.0000, 0.3192, 0.0000, 0.0000,\n",
      "         0.0000, 0.0000],\n",
      "        [0.1312, 0.0000, 0.0901, 0.0000, 0.0000, 0.0185, 0.0000, 0.0000, 0.0478,\n",
      "         0.0000, 0.0000, 0.2915, 0.0000, 0.6114, 0.0000, 0.2670, 0.0000, 0.0000,\n",
      "         0.4402, 0.0000]], grad_fn=<ReluBackward0>)\n"
     ]
    }
   ],
   "source": [
    "print(f\"Before ReLU: {hidden1}\\n\\n\")\n",
    "hidden1 = nn.ReLU()(hidden1)\n",
    "print(f\"After ReLU: {hidden1}\")"
   ]
  },
  {
   "cell_type": "markdown",
   "id": "cf1d384c-5850-4467-b4af-c517134c5e54",
   "metadata": {},
   "source": [
    "`nn.Sequantial`"
   ]
  },
  {
   "cell_type": "code",
   "execution_count": 10,
   "id": "cfee3080-a02b-428d-a425-906c1265a953",
   "metadata": {},
   "outputs": [],
   "source": [
    "seq_modules = nn.Sequential(\n",
    "    flatten,\n",
    "    layer1,\n",
    "    nn.ReLU(),\n",
    "    nn.Linear(20, 10)\n",
    ")\n",
    "input_image = torch.rand(3,28,28)\n",
    "logits = seq_modules(input_image)"
   ]
  },
  {
   "cell_type": "markdown",
   "id": "736f3fd7-95b0-47ca-b042-7f5239a95ed6",
   "metadata": {},
   "source": [
    "`nn.Softmax`"
   ]
  },
  {
   "cell_type": "code",
   "execution_count": 11,
   "id": "7076813a-4c2a-475f-a487-4ee3362287ff",
   "metadata": {},
   "outputs": [],
   "source": [
    "softmax = nn.Softmax(dim=1)\n",
    "pred_probab = softmax(logits)"
   ]
  },
  {
   "cell_type": "markdown",
   "id": "aceab0cb-b4a6-4727-9bd2-4cad4fd4b42e",
   "metadata": {},
   "source": [
    "### Model Parameters"
   ]
  },
  {
   "cell_type": "code",
   "execution_count": 12,
   "id": "ec5ebef1-eb41-4d6a-bdb1-eaa664fe4006",
   "metadata": {},
   "outputs": [
    {
     "name": "stdout",
     "output_type": "stream",
     "text": [
      "Model structure: NeuralNetwork(\n",
      "  (flatten): Flatten(start_dim=1, end_dim=-1)\n",
      "  (linear_relu_stack): Sequential(\n",
      "    (0): Linear(in_features=784, out_features=512, bias=True)\n",
      "    (1): ReLU()\n",
      "    (2): Linear(in_features=512, out_features=512, bias=True)\n",
      "    (3): ReLU()\n",
      "    (4): Linear(in_features=512, out_features=10, bias=True)\n",
      "  )\n",
      ")\n",
      "\n",
      "\n",
      "Layer: linear_relu_stack.0.weight | Size: torch.Size([512, 784]) | Values : tensor([[ 0.0213,  0.0060, -0.0194,  ..., -0.0285, -0.0297, -0.0337],\n",
      "        [-0.0291, -0.0249, -0.0277,  ..., -0.0105, -0.0140,  0.0168]],\n",
      "       device='cuda:0', grad_fn=<SliceBackward0>) \n",
      "\n",
      "Layer: linear_relu_stack.0.bias | Size: torch.Size([512]) | Values : tensor([0.0306, 0.0302], device='cuda:0', grad_fn=<SliceBackward0>) \n",
      "\n",
      "Layer: linear_relu_stack.2.weight | Size: torch.Size([512, 512]) | Values : tensor([[-0.0360,  0.0043, -0.0020,  ...,  0.0010,  0.0259,  0.0159],\n",
      "        [ 0.0384, -0.0147, -0.0009,  ..., -0.0372, -0.0432, -0.0131]],\n",
      "       device='cuda:0', grad_fn=<SliceBackward0>) \n",
      "\n",
      "Layer: linear_relu_stack.2.bias | Size: torch.Size([512]) | Values : tensor([ 0.0267, -0.0260], device='cuda:0', grad_fn=<SliceBackward0>) \n",
      "\n",
      "Layer: linear_relu_stack.4.weight | Size: torch.Size([10, 512]) | Values : tensor([[ 0.0133, -0.0136, -0.0238,  ..., -0.0226, -0.0341,  0.0437],\n",
      "        [-0.0221, -0.0042,  0.0178,  ...,  0.0110, -0.0384,  0.0044]],\n",
      "       device='cuda:0', grad_fn=<SliceBackward0>) \n",
      "\n",
      "Layer: linear_relu_stack.4.bias | Size: torch.Size([10]) | Values : tensor([-0.0105,  0.0180], device='cuda:0', grad_fn=<SliceBackward0>) \n",
      "\n"
     ]
    }
   ],
   "source": [
    "print(f\"Model structure: {model}\\n\\n\")\n",
    "\n",
    "for name, param in model.named_parameters():\n",
    "    print(f\"Layer: {name} | Size: {param.size()} | Values : {param[:2]} \\n\")"
   ]
  },
  {
   "cell_type": "markdown",
   "id": "1aa05dda-7d55-4b15-a5b6-6d7766c9883a",
   "metadata": {},
   "source": [
    "## Optimizing Model Parameters"
   ]
  },
  {
   "cell_type": "markdown",
   "id": "b435502a-3747-44ef-ac5b-dddb631a597e",
   "metadata": {},
   "source": [
    "### Prerequisite Code"
   ]
  },
  {
   "cell_type": "code",
   "execution_count": 13,
   "id": "aa287486-4d29-413f-b067-e551ac360bcf",
   "metadata": {},
   "outputs": [
    {
     "name": "stderr",
     "output_type": "stream",
     "text": [
      "100%|██████████████████████████████████████| 26.4M/26.4M [00:03<00:00, 6.75MB/s]\n",
      "100%|███████████████████████████████████████| 29.5k/29.5k [00:00<00:00, 103kB/s]\n",
      "100%|██████████████████████████████████████| 4.42M/4.42M [00:02<00:00, 1.92MB/s]\n",
      "100%|██████████████████████████████████████| 5.15k/5.15k [00:00<00:00, 19.5MB/s]\n"
     ]
    }
   ],
   "source": [
    "import torch\n",
    "from torch import nn\n",
    "from torch.utils.data import DataLoader\n",
    "from torchvision import datasets\n",
    "from torchvision.transforms import ToTensor\n",
    "\n",
    "training_data = datasets.FashionMNIST(\n",
    "    root=\"data\",\n",
    "    train=True,\n",
    "    download=True,\n",
    "    transform=ToTensor()\n",
    ")\n",
    "\n",
    "test_data = datasets.FashionMNIST(\n",
    "    root=\"data\",\n",
    "    train=False,\n",
    "    download=True,\n",
    "    transform=ToTensor()\n",
    ")\n",
    "\n",
    "train_dataloader = DataLoader(training_data, batch_size=64)\n",
    "test_dataloader = DataLoader(test_data, batch_size=64)\n",
    "\n",
    "class NeuralNetwork(nn.Module):\n",
    "    def __init__(self):\n",
    "        super().__init__()\n",
    "        self.flatten = nn.Flatten()\n",
    "        self.linear_relu_stack = nn.Sequential(\n",
    "            nn.Linear(28*28, 512),\n",
    "            nn.ReLU(),\n",
    "            nn.Linear(512, 512),\n",
    "            nn.ReLU(),\n",
    "            nn.Linear(512, 10),\n",
    "        )\n",
    "\n",
    "    def forward(self, x):\n",
    "        x = self.flatten(x)\n",
    "        logits = self.linear_relu_stack(x)\n",
    "        return logits\n",
    "\n",
    "model = NeuralNetwork()"
   ]
  },
  {
   "cell_type": "markdown",
   "id": "649f3591-6529-4fa6-b6da-22a7cba5a05d",
   "metadata": {},
   "source": [
    "### Hyperparameters"
   ]
  },
  {
   "cell_type": "code",
   "execution_count": 14,
   "id": "0b568388-bb5e-4da9-969e-92ecb3d34906",
   "metadata": {},
   "outputs": [],
   "source": [
    "learning_rate = 1e-3\n",
    "batch_size = 64\n",
    "epochs = 5"
   ]
  },
  {
   "cell_type": "markdown",
   "id": "3b8ca2ab-845c-4bf1-918b-04f4fdf6116c",
   "metadata": {},
   "source": [
    "### Optimization Loop"
   ]
  },
  {
   "cell_type": "markdown",
   "id": "5eefc7f3-9c97-472e-a376-9d80a95dad25",
   "metadata": {},
   "source": [
    "#### Loss Function"
   ]
  },
  {
   "cell_type": "code",
   "execution_count": 15,
   "id": "aa6ceec5-14d1-4eb7-ad27-a305a974c578",
   "metadata": {},
   "outputs": [],
   "source": [
    "# Initialize the loss function\n",
    "loss_fn = nn.CrossEntropyLoss()"
   ]
  },
  {
   "cell_type": "markdown",
   "id": "774e1011-968c-4b95-8928-8e88aa016db8",
   "metadata": {},
   "source": [
    "#### Optimizer"
   ]
  },
  {
   "cell_type": "code",
   "execution_count": 16,
   "id": "9021996c-2328-4295-8d09-4abc66a3ad06",
   "metadata": {},
   "outputs": [],
   "source": [
    "optimizer = torch.optim.SGD(model.parameters(), lr=learning_rate)"
   ]
  },
  {
   "cell_type": "markdown",
   "id": "9ea0e02d-6d5e-4720-ad75-48032809faf3",
   "metadata": {},
   "source": [
    "### Full Implementation"
   ]
  },
  {
   "cell_type": "code",
   "execution_count": 17,
   "id": "7658eb2e-a653-4d36-88ce-82f8b62a53e2",
   "metadata": {},
   "outputs": [],
   "source": [
    "def train_loop(dataloader, model, loss_fn, optimizer):\n",
    "    size = len(dataloader.dataset)\n",
    "    # Set the model to training mode - important for batch normalization and dropout layers\n",
    "    # Unnecessary in this situation but added for best practices\n",
    "    model.train()\n",
    "    for batch, (X, y) in enumerate(dataloader):\n",
    "        # Compute prediction and loss\n",
    "        pred = model(X)\n",
    "        loss = loss_fn(pred, y)\n",
    "\n",
    "        # Backpropagation\n",
    "        loss.backward()\n",
    "        optimizer.step()\n",
    "        optimizer.zero_grad()\n",
    "\n",
    "        if batch % 100 == 0:\n",
    "            loss, current = loss.item(), batch * batch_size + len(X)\n",
    "            print(f\"loss: {loss:>7f}  [{current:>5d}/{size:>5d}]\")\n",
    "\n",
    "\n",
    "def test_loop(dataloader, model, loss_fn):\n",
    "    # Set the model to evaluation mode - important for batch normalization and dropout layers\n",
    "    # Unnecessary in this situation but added for best practices\n",
    "    model.eval()\n",
    "    size = len(dataloader.dataset)\n",
    "    num_batches = len(dataloader)\n",
    "    test_loss, correct = 0, 0\n",
    "\n",
    "    # Evaluating the model with torch.no_grad() ensures that no gradients are computed during test mode\n",
    "    # also serves to reduce unnecessary gradient computations and memory usage for tensors with requires_grad=True\n",
    "    with torch.no_grad():\n",
    "        for X, y in dataloader:\n",
    "            pred = model(X)\n",
    "            test_loss += loss_fn(pred, y).item()\n",
    "            correct += (pred.argmax(1) == y).type(torch.float).sum().item()\n",
    "\n",
    "    test_loss /= num_batches\n",
    "    correct /= size\n",
    "    print(f\"Test Error: \\n Accuracy: {(100*correct):>0.1f}%, Avg loss: {test_loss:>8f} \\n\")"
   ]
  },
  {
   "cell_type": "code",
   "execution_count": 18,
   "id": "1739b18f-97e4-4d40-97d6-d6aa653ca752",
   "metadata": {},
   "outputs": [
    {
     "name": "stdout",
     "output_type": "stream",
     "text": [
      "Epoch 1\n",
      "-------------------------------\n",
      "loss: 2.312067  [   64/60000]\n",
      "loss: 2.293219  [ 6464/60000]\n",
      "loss: 2.270792  [12864/60000]\n",
      "loss: 2.267136  [19264/60000]\n",
      "loss: 2.239344  [25664/60000]\n",
      "loss: 2.231098  [32064/60000]\n",
      "loss: 2.238086  [38464/60000]\n",
      "loss: 2.199864  [44864/60000]\n",
      "loss: 2.199477  [51264/60000]\n",
      "loss: 2.173437  [57664/60000]\n",
      "Test Error: \n",
      " Accuracy: 43.8%, Avg loss: 2.159869 \n",
      "\n",
      "Epoch 2\n",
      "-------------------------------\n",
      "loss: 2.174911  [   64/60000]\n",
      "loss: 2.162626  [ 6464/60000]\n",
      "loss: 2.099812  [12864/60000]\n",
      "loss: 2.123848  [19264/60000]\n",
      "loss: 2.047157  [25664/60000]\n",
      "loss: 2.009048  [32064/60000]\n",
      "loss: 2.048757  [38464/60000]\n",
      "loss: 1.953727  [44864/60000]\n",
      "loss: 1.973747  [51264/60000]\n",
      "loss: 1.911024  [57664/60000]\n",
      "Test Error: \n",
      " Accuracy: 45.3%, Avg loss: 1.893232 \n",
      "\n",
      "Epoch 3\n",
      "-------------------------------\n",
      "loss: 1.929249  [   64/60000]\n",
      "loss: 1.902736  [ 6464/60000]\n",
      "loss: 1.774734  [12864/60000]\n",
      "loss: 1.835697  [19264/60000]\n",
      "loss: 1.693219  [25664/60000]\n",
      "loss: 1.659599  [32064/60000]\n",
      "loss: 1.709216  [38464/60000]\n",
      "loss: 1.580005  [44864/60000]\n",
      "loss: 1.617503  [51264/60000]\n",
      "loss: 1.539424  [57664/60000]\n",
      "Test Error: \n",
      " Accuracy: 56.4%, Avg loss: 1.532632 \n",
      "\n",
      "Epoch 4\n",
      "-------------------------------\n",
      "loss: 1.594908  [   64/60000]\n",
      "loss: 1.570430  [ 6464/60000]\n",
      "loss: 1.407818  [12864/60000]\n",
      "loss: 1.499385  [19264/60000]\n",
      "loss: 1.354567  [25664/60000]\n",
      "loss: 1.357014  [32064/60000]\n",
      "loss: 1.392673  [38464/60000]\n",
      "loss: 1.288268  [44864/60000]\n",
      "loss: 1.325817  [51264/60000]\n",
      "loss: 1.260967  [57664/60000]\n",
      "Test Error: \n",
      " Accuracy: 61.9%, Avg loss: 1.265370 \n",
      "\n",
      "Epoch 5\n",
      "-------------------------------\n",
      "loss: 1.336141  [   64/60000]\n",
      "loss: 1.329923  [ 6464/60000]\n",
      "loss: 1.154394  [12864/60000]\n",
      "loss: 1.273836  [19264/60000]\n",
      "loss: 1.129802  [25664/60000]\n",
      "loss: 1.156137  [32064/60000]\n",
      "loss: 1.193730  [38464/60000]\n",
      "loss: 1.106996  [44864/60000]\n",
      "loss: 1.146408  [51264/60000]\n",
      "loss: 1.096848  [57664/60000]\n",
      "Test Error: \n",
      " Accuracy: 63.9%, Avg loss: 1.098514 \n",
      "\n",
      "Epoch 6\n",
      "-------------------------------\n",
      "loss: 1.165525  [   64/60000]\n",
      "loss: 1.177895  [ 6464/60000]\n",
      "loss: 0.987224  [12864/60000]\n",
      "loss: 1.132547  [19264/60000]\n",
      "loss: 0.988122  [25664/60000]\n",
      "loss: 1.019572  [32064/60000]\n",
      "loss: 1.070352  [38464/60000]\n",
      "loss: 0.991291  [44864/60000]\n",
      "loss: 1.030021  [51264/60000]\n",
      "loss: 0.993339  [57664/60000]\n",
      "Test Error: \n",
      " Accuracy: 65.2%, Avg loss: 0.990391 \n",
      "\n",
      "Epoch 7\n",
      "-------------------------------\n",
      "loss: 1.048103  [   64/60000]\n",
      "loss: 1.079750  [ 6464/60000]\n",
      "loss: 0.872321  [12864/60000]\n",
      "loss: 1.038241  [19264/60000]\n",
      "loss: 0.896667  [25664/60000]\n",
      "loss: 0.922813  [32064/60000]\n",
      "loss: 0.989761  [38464/60000]\n",
      "loss: 0.916214  [44864/60000]\n",
      "loss: 0.949676  [51264/60000]\n",
      "loss: 0.923871  [57664/60000]\n",
      "Test Error: \n",
      " Accuracy: 66.4%, Avg loss: 0.916928 \n",
      "\n",
      "Epoch 8\n",
      "-------------------------------\n",
      "loss: 0.962506  [   64/60000]\n",
      "loss: 1.012056  [ 6464/60000]\n",
      "loss: 0.790129  [12864/60000]\n",
      "loss: 0.971719  [19264/60000]\n",
      "loss: 0.834610  [25664/60000]\n",
      "loss: 0.852739  [32064/60000]\n",
      "loss: 0.933518  [38464/60000]\n",
      "loss: 0.866536  [44864/60000]\n",
      "loss: 0.892020  [51264/60000]\n",
      "loss: 0.874039  [57664/60000]\n",
      "Test Error: \n",
      " Accuracy: 67.6%, Avg loss: 0.864506 \n",
      "\n",
      "Epoch 9\n",
      "-------------------------------\n",
      "loss: 0.897128  [   64/60000]\n",
      "loss: 0.961532  [ 6464/60000]\n",
      "loss: 0.729044  [12864/60000]\n",
      "loss: 0.922404  [19264/60000]\n",
      "loss: 0.790147  [25664/60000]\n",
      "loss: 0.800281  [32064/60000]\n",
      "loss: 0.891283  [38464/60000]\n",
      "loss: 0.832243  [44864/60000]\n",
      "loss: 0.849093  [51264/60000]\n",
      "loss: 0.835873  [57664/60000]\n",
      "Test Error: \n",
      " Accuracy: 68.9%, Avg loss: 0.825087 \n",
      "\n",
      "Epoch 10\n",
      "-------------------------------\n",
      "loss: 0.845061  [   64/60000]\n",
      "loss: 0.921032  [ 6464/60000]\n",
      "loss: 0.681740  [12864/60000]\n",
      "loss: 0.884266  [19264/60000]\n",
      "loss: 0.756565  [25664/60000]\n",
      "loss: 0.759833  [32064/60000]\n",
      "loss: 0.857391  [38464/60000]\n",
      "loss: 0.807087  [44864/60000]\n",
      "loss: 0.815753  [51264/60000]\n",
      "loss: 0.805161  [57664/60000]\n",
      "Test Error: \n",
      " Accuracy: 70.2%, Avg loss: 0.793859 \n",
      "\n",
      "Done!\n"
     ]
    }
   ],
   "source": [
    "loss_fn = nn.CrossEntropyLoss()\n",
    "optimizer = torch.optim.SGD(model.parameters(), lr=learning_rate)\n",
    "\n",
    "epochs = 10\n",
    "for t in range(epochs):\n",
    "    print(f\"Epoch {t+1}\\n-------------------------------\")\n",
    "    train_loop(train_dataloader, model, loss_fn, optimizer)\n",
    "    test_loop(test_dataloader, model, loss_fn)\n",
    "print(\"Done!\")"
   ]
  },
  {
   "cell_type": "code",
   "execution_count": null,
   "id": "3c73a351-4bf8-41d7-9e5f-75665b16f83c",
   "metadata": {},
   "outputs": [],
   "source": []
  }
 ],
 "metadata": {
  "kernelspec": {
   "display_name": "Python (qml)",
   "language": "python",
   "name": "qml"
  },
  "language_info": {
   "codemirror_mode": {
    "name": "ipython",
    "version": 3
   },
   "file_extension": ".py",
   "mimetype": "text/x-python",
   "name": "python",
   "nbconvert_exporter": "python",
   "pygments_lexer": "ipython3",
   "version": "3.12.9"
  }
 },
 "nbformat": 4,
 "nbformat_minor": 5
}
