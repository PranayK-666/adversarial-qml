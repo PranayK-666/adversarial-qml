{
 "cells": [
  {
   "cell_type": "code",
   "execution_count": 1,
   "id": "a978f117-20bd-41e5-a3e2-f8c7f21bb708",
   "metadata": {},
   "outputs": [],
   "source": [
    "import torch\n",
    "import torch.nn as nn\n",
    "import torch.nn.functional as F\n",
    "from torchvision import datasets\n",
    "import pennylane as qml\n",
    "import matplotlib.pyplot as plt"
   ]
  },
  {
   "cell_type": "code",
   "execution_count": 2,
   "id": "2f6c4336-c13d-4057-84b1-c6e0c726f37a",
   "metadata": {},
   "outputs": [],
   "source": [
    "def get_dataset(digits=[3, 5, 8, 9], n_px=16, train_size=1000, test_size=200):\n",
    "    mnist_train = datasets.MNIST(root='./data', train=True, download=True)\n",
    "    mnist_test = datasets.MNIST(root='./data', train=False, download=True)\n",
    "\n",
    "    def prepare(data, targets, digits, size, n_px):\n",
    "        mask = torch.zeros_like(targets, dtype=torch.bool)\n",
    "        for d in digits:\n",
    "            mask |= (targets == d)\n",
    "        data_f = data[mask]\n",
    "        targ_f = targets[mask]\n",
    "        idx = torch.randperm(len(data_f))[:size]\n",
    "        imgs = data_f[idx].unsqueeze(1).float() / 255.0\n",
    "        labs = targ_f[idx]\n",
    "        imgs_resized = F.interpolate(imgs, size=(n_px, n_px), mode='bilinear', align_corners=False)\n",
    "        labs_mapped = torch.tensor([digits.index(int(l)) for l in labs])\n",
    "        return imgs_resized, labs_mapped\n",
    "\n",
    "    x_train, y_train = prepare(mnist_train.data, mnist_train.targets, digits, train_size, n_px)\n",
    "    x_test, y_test = prepare(mnist_test.data, mnist_test.targets, digits, test_size, n_px)\n",
    "    return (x_train, y_train), (x_test, y_test)\n",
    "\n",
    "def visualize_data(x, y, pred=None):\n",
    "    n_img = len(x)\n",
    "    fig, axes = plt.subplots(1, n_img, figsize=(2*n_img, 2))\n",
    "    for i in range(n_img):\n",
    "        axes[i].imshow(x[i], cmap=\"gray\")\n",
    "        if pred is None:\n",
    "            axes[i].set_title(f\"Label: {y[i]}\")\n",
    "        else:\n",
    "            axes[i].set_title(f\"Label: {y[i]}, Pred: {pred[i]}\")\n",
    "    plt.tight_layout(w_pad=2)"
   ]
  },
  {
   "cell_type": "code",
   "execution_count": 3,
   "id": "c08a33f8-c80e-4938-ba18-97b2a50a4ec0",
   "metadata": {},
   "outputs": [],
   "source": [
    "# ---- Configuration ----\n",
    "digits = [3, 5, 8, 9]\n",
    "n_px = 16\n",
    "n_qubits = 8  # small enough for simulation\n",
    "n_q_layers = 32\n",
    "num_classes = len(digits)\n",
    "epochs = 30\n",
    "batch_size = 64\n",
    "lr = 0.03\n"
   ]
  },
  {
   "cell_type": "code",
   "execution_count": 4,
   "id": "db34daa6-42c6-41bb-abc5-e9723bf4f756",
   "metadata": {},
   "outputs": [],
   "source": [
    "# ---- Load and Prepare Data ----\n",
    "(x_train, y_train), (x_test, y_test) = get_dataset(digits=digits, n_px=n_px, train_size=10000, test_size=2000)\n",
    "x_train = x_train.view(x_train.shape[0], -1)\n",
    "x_test = x_test.view(x_test.shape[0], -1)"
   ]
  },
  {
   "cell_type": "code",
   "execution_count": 5,
   "id": "0d15920d-04d0-4cb5-89d1-d829a3713df2",
   "metadata": {},
   "outputs": [
    {
     "data": {
      "image/png": "[encoded data removed]",
      "text/plain": [
       "<Figure size 800x200 with 4 Axes>"
      ]
     },
     "metadata": {},
     "output_type": "display_data"
    }
   ],
   "source": [
    "# Visualize\n",
    "x_vis = [(x_train[y_train == i])[0].reshape(n_px, n_px) for i in range(num_classes)]\n",
    "visualize_data(x_vis, digits)"
   ]
  },
  {
   "cell_type": "code",
   "execution_count": 6,
   "id": "81271a5e-879c-4e81-9c5c-bca304d67a2e",
   "metadata": {},
   "outputs": [],
   "source": [
    "# ---- Define Quantum Layer ----\n",
    "dev = qml.device(\"default.qubit\", wires=n_qubits)\n",
    "\n",
    "def quantum_circuit(inputs, weights):\n",
    "    qml.templates.AngleEmbedding(inputs, wires=range(n_qubits), rotation='Y')\n",
    "    qml.templates.StronglyEntanglingLayers(weights, wires=range(n_qubits))\n",
    "    return [qml.expval(qml.PauliZ(i)) for i in range(n_qubits)]\n",
    "\n",
    "weight_shapes = {\"weights\": (n_q_layers, n_qubits, 3)}\n",
    "qnode = qml.QNode(quantum_circuit, dev, interface=\"torch\", diff_method=\"backprop\")\n",
    "quantum_layer = qml.qnn.TorchLayer(qnode, weight_shapes)\n"
   ]
  },
  {
   "cell_type": "code",
   "execution_count": 7,
   "id": "3127e576-9ce3-4af9-950c-99decf44cc9b",
   "metadata": {},
   "outputs": [],
   "source": [
    "# ---- Hybrid Model ----\n",
    "class QuantumHybridModel(nn.Module):\n",
    "    def __init__(self, input_dim, n_qubits, num_classes):\n",
    "        super().__init__()\n",
    "        self.encoder = nn.Linear(input_dim, n_qubits)  # reduce to n_qubits\n",
    "        self.q_layer = quantum_layer\n",
    "        self.classifier = nn.Linear(n_qubits, num_classes)  # final logits\n",
    "\n",
    "    def forward(self, x):\n",
    "        x = self.encoder(x)\n",
    "        x = self.q_layer(x)\n",
    "        return self.classifier(x)  # return logits directly"
   ]
  },
  {
   "cell_type": "code",
   "execution_count": 8,
   "id": "f74d61ce-59ed-4d89-9402-8b627e0cc1eb",
   "metadata": {},
   "outputs": [
    {
     "name": "stdout",
     "output_type": "stream",
     "text": [
      "Epoch 1 | Loss: 1.3849 | Test Acc: 0.2910\n",
      "Epoch 2 | Loss: 1.3792 | Test Acc: 0.3295\n",
      "Epoch 3 | Loss: 1.3438 | Test Acc: 0.5120\n",
      "Epoch 4 | Loss: 1.2614 | Test Acc: 0.6595\n",
      "Epoch 5 | Loss: 1.2241 | Test Acc: 0.5975\n",
      "Epoch 6 | Loss: 1.2043 | Test Acc: 0.6810\n",
      "Epoch 7 | Loss: 1.1208 | Test Acc: 0.7735\n",
      "Epoch 8 | Loss: 1.1493 | Test Acc: 0.8035\n",
      "Epoch 9 | Loss: 0.9892 | Test Acc: 0.7915\n",
      "Epoch 10 | Loss: 0.9406 | Test Acc: 0.7580\n",
      "Epoch 11 | Loss: 0.9952 | Test Acc: 0.7820\n",
      "Epoch 12 | Loss: 0.9301 | Test Acc: 0.7850\n",
      "Epoch 13 | Loss: 0.9429 | Test Acc: 0.8355\n",
      "Epoch 14 | Loss: 0.9357 | Test Acc: 0.8755\n",
      "Epoch 15 | Loss: 0.8730 | Test Acc: 0.8730\n",
      "Epoch 16 | Loss: 0.7623 | Test Acc: 0.8405\n",
      "Epoch 17 | Loss: 0.7331 | Test Acc: 0.8430\n",
      "Epoch 18 | Loss: 0.7169 | Test Acc: 0.8775\n",
      "Epoch 19 | Loss: 0.7224 | Test Acc: 0.8655\n",
      "Epoch 20 | Loss: 0.7580 | Test Acc: 0.8840\n",
      "Epoch 21 | Loss: 0.6107 | Test Acc: 0.8960\n",
      "Epoch 22 | Loss: 0.6164 | Test Acc: 0.8750\n",
      "Epoch 23 | Loss: 0.5930 | Test Acc: 0.8265\n",
      "Epoch 24 | Loss: 0.6297 | Test Acc: 0.8610\n",
      "Epoch 25 | Loss: 0.6419 | Test Acc: 0.9080\n",
      "Epoch 26 | Loss: 0.5030 | Test Acc: 0.8920\n",
      "Epoch 27 | Loss: 0.5680 | Test Acc: 0.9045\n",
      "Epoch 28 | Loss: 0.5750 | Test Acc: 0.9040\n",
      "Epoch 29 | Loss: 0.5370 | Test Acc: 0.8820\n",
      "Epoch 30 | Loss: 0.4638 | Test Acc: 0.9020\n"
     ]
    }
   ],
   "source": [
    "# ---- Training ----\n",
    "model = QuantumHybridModel(input_dim=n_px * n_px, n_qubits=n_qubits, num_classes=num_classes)\n",
    "optimizer = torch.optim.Adam(model.parameters(), lr=lr)\n",
    "loss_fn = nn.CrossEntropyLoss()\n",
    "\n",
    "def train(model, x_train, y_train, x_test, y_test, epochs, batch_size):\n",
    "    for epoch in range(epochs):\n",
    "        model.train()\n",
    "        idx = torch.randperm(x_train.shape[0])[:batch_size]\n",
    "        x_batch, y_batch = x_train[idx], y_train[idx]\n",
    "\n",
    "        logits = model(x_batch)\n",
    "        loss = loss_fn(logits, y_batch)\n",
    "\n",
    "        optimizer.zero_grad()\n",
    "        loss.backward()\n",
    "        optimizer.step()\n",
    "\n",
    "        with torch.no_grad():\n",
    "            model.eval()\n",
    "            test_logits = model(x_test)\n",
    "            acc = (torch.argmax(test_logits, dim=1) == y_test).float().mean()\n",
    "        print(f\"Epoch {epoch+1} | Loss: {loss.item():.4f} | Test Acc: {acc:.4f}\")\n",
    "\n",
    "train(model, x_train, y_train, x_test, y_test, epochs=epochs, batch_size=batch_size)"
   ]
  },
  {
   "cell_type": "code",
   "execution_count": 38,
   "id": "af8b508b-a222-4d85-a099-3b509f3f8476",
   "metadata": {},
   "outputs": [
    {
     "data": {
      "image/png": "[encoded data removed]",
      "text/plain": [
       "<Figure size 800x200 with 4 Axes>"
      ]
     },
     "metadata": {},
     "output_type": "display_data"
    }
   ],
   "source": [
    "# ---- Predict and Visualize ----\n",
    "with torch.no_grad():\n",
    "    sample_idx = [0, 1, 2, 3]\n",
    "    x_sample = x_test[sample_idx]\n",
    "    y_true = [digits[i] for i in y_test[sample_idx]]\n",
    "    logits = model(x_sample)\n",
    "    preds = torch.argmax(logits, axis=1)\n",
    "    y_pred = [digits[i] for i in preds]\n",
    "    x_sample_imgs = x_sample.reshape(-1, n_px, n_px)\n",
    "    visualize_data(x_sample_imgs, y_true, y_pred)"
   ]
  },
  {
   "cell_type": "markdown",
   "id": "23173d64-4e2c-4104-9869-af0da80d1cea",
   "metadata": {},
   "source": [
    "# Quantum Model - Amplitude Embedding"
   ]
  },
  {
   "cell_type": "code",
   "execution_count": 23,
   "id": "6eee8088-b71e-4175-9642-0153562a19a2",
   "metadata": {},
   "outputs": [],
   "source": [
    "import torch\n",
    "import torch.nn as nn\n",
    "import torch.nn.functional as F\n",
    "from torch.utils.data import DataLoader, TensorDataset\n",
    "from torchvision import datasets\n",
    "import pennylane as qml\n",
    "import matplotlib.pyplot as plt"
   ]
  },
  {
   "cell_type": "code",
   "execution_count": 24,
   "id": "fb09d37b-7821-47e5-b0e8-3a99ca4b2eb7",
   "metadata": {},
   "outputs": [],
   "source": [
    "# -------------------------------\n",
    "# Dataset Preparation\n",
    "# -------------------------------\n",
    "def get_dataset(digits=[3, 5, 8, 9], n_px=16, train_size=10000, test_size=2000):\n",
    "    mnist_train = datasets.MNIST(root='./data', train=True, download=True)\n",
    "    mnist_test = datasets.MNIST(root='./data', train=False, download=True)\n",
    "\n",
    "    def prepare(data, targets, digits, size, n_px):\n",
    "        mask = torch.zeros_like(targets, dtype=torch.bool)\n",
    "        for d in digits:\n",
    "            mask |= (targets == d)\n",
    "        data_f = data[mask]\n",
    "        targ_f = targets[mask]\n",
    "\n",
    "        idx = torch.randperm(len(data_f))[:size]\n",
    "        imgs = data_f[idx].unsqueeze(1).float() / 255.0\n",
    "        imgs_resized = F.interpolate(imgs, size=(n_px, n_px), mode='bilinear', align_corners=False)\n",
    "        labs = targ_f[idx]\n",
    "        labs_mapped = torch.tensor([digits.index(int(l)) for l in labs])\n",
    "        return imgs_resized, labs_mapped\n",
    "\n",
    "    x_train, y_train = prepare(mnist_train.data, mnist_train.targets, digits, train_size, n_px)\n",
    "    x_test, y_test = prepare(mnist_test.data, mnist_test.targets, digits, test_size, n_px)\n",
    "    return (x_train, y_train), (x_test, y_test)"
   ]
  },
  {
   "cell_type": "code",
   "execution_count": 25,
   "id": "91e7b2bb-fda9-471f-9460-cba8f1902539",
   "metadata": {},
   "outputs": [],
   "source": [
    "# -------------------------------\n",
    "# Quantum Circuit\n",
    "# -------------------------------\n",
    "def create_quantum_layer(n_qubits=8, n_layers=32):\n",
    "    dev = qml.device(\"default.qubit\", wires=n_qubits)\n",
    "\n",
    "    @qml.qnode(dev, interface=\"torch\", diff_method=\"backprop\")\n",
    "    def qnode(inputs, weights):\n",
    "        qml.AmplitudeEmbedding(inputs, wires=range(n_qubits), normalize=False)\n",
    "        # qml.AngleEmbedding(inputs, wires=range(n_qubits), rotation='Y')\n",
    "        qml.templates.StronglyEntanglingLayers(weights, wires=range(n_qubits))\n",
    "        return [qml.expval(qml.PauliZ(w)) for w in range(4)]\n",
    "\n",
    "    weight_shapes = {\"weights\": (n_layers, n_qubits, 3)}\n",
    "    return qml.qnn.TorchLayer(qnode, weight_shapes)"
   ]
  },
  {
   "cell_type": "code",
   "execution_count": 26,
   "id": "8b3b627e-fc2b-4c61-ac66-139c2eabfeab",
   "metadata": {},
   "outputs": [],
   "source": [
    "# -------------------------------\n",
    "# Hybrid Model\n",
    "# -------------------------------\n",
    "class QuantumHybridModel(nn.Module):\n",
    "    def __init__(self, n_qubits, num_classes, quantum_layer, n_px):\n",
    "        super().__init__()\n",
    "        self.n_qubits = n_qubits\n",
    "        # self.encoder = nn.Linear(n_px * n_px, n_qubits)  # reduce 256 → n_qubits\n",
    "        self.q_layer = quantum_layer\n",
    "        self.classifier = nn.Linear(n_qubits, num_classes)\n",
    "\n",
    "    def forward(self, x):\n",
    "        x = x.view(x.shape[0], -1)  # Flatten: [B, 256]\n",
    "        x = x / x.norm(dim=1, keepdim=True)  # Normalize for amplitude embedding\n",
    "        # x = self.encoder(x)\n",
    "        x = self.q_layer(x)  # Output: [B, n_qubits]\n",
    "        # x = F.layer_norm(x, x.shape)  # Optional normalization\n",
    "        return self.classifier(x)  # Logits\n",
    "        # return self.q_layer(x)  # Output: [B, n_classes] logits"
   ]
  },
  {
   "cell_type": "code",
   "execution_count": 27,
   "id": "4147a183-6953-4dab-8c1d-bd5727986054",
   "metadata": {},
   "outputs": [],
   "source": [
    "# -------------------------------\n",
    "# Training Utilities\n",
    "# -------------------------------\n",
    "def train(model, dataloader, optimizer, loss_fn, device):\n",
    "    model.train()\n",
    "    total_loss, correct = 0, 0\n",
    "    for x, y in dataloader:\n",
    "        x, y = x.to(device), y.to(device)\n",
    "        optimizer.zero_grad()\n",
    "        logits = model(x)\n",
    "        loss = loss_fn(logits, y)\n",
    "        loss.backward()\n",
    "        optimizer.step()\n",
    "        total_loss += loss.item() * x.size(0)\n",
    "        correct += (logits.argmax(dim=1) == y).sum().item()\n",
    "    return total_loss / len(dataloader.dataset), correct / len(dataloader.dataset)\n",
    "\n",
    "def evaluate(model, dataloader, loss_fn, device):\n",
    "    model.eval()\n",
    "    total_loss, correct = 0, 0\n",
    "    with torch.no_grad():\n",
    "        for x, y in dataloader:\n",
    "            x, y = x.to(device), y.to(device)\n",
    "            logits = model(x)\n",
    "            loss = loss_fn(logits, y)\n",
    "            total_loss += loss.item() * x.size(0)\n",
    "            correct += (logits.argmax(dim=1) == y).sum().item()\n",
    "    return total_loss / len(dataloader.dataset), correct / len(dataloader.dataset)\n"
   ]
  },
  {
   "cell_type": "code",
   "execution_count": 28,
   "id": "3066714e-f6f7-40e7-a457-fbada4363fb7",
   "metadata": {},
   "outputs": [
    {
     "ename": "RuntimeError",
     "evalue": "mat1 and mat2 shapes cannot be multiplied (100x4 and 6x4)",
     "output_type": "error",
     "traceback": [
      "\u001b[31m---------------------------------------------------------------------------\u001b[39m",
      "\u001b[31mRuntimeError\u001b[39m                              Traceback (most recent call last)",
      "\u001b[36mCell\u001b[39m\u001b[36m \u001b[39m\u001b[32mIn[28]\u001b[39m\u001b[32m, line 32\u001b[39m\n\u001b[32m     30\u001b[39m \u001b[38;5;66;03m# Training Loop\u001b[39;00m\n\u001b[32m     31\u001b[39m \u001b[38;5;28;01mfor\u001b[39;00m epoch \u001b[38;5;129;01min\u001b[39;00m \u001b[38;5;28mrange\u001b[39m(\u001b[32m1\u001b[39m, epochs + \u001b[32m1\u001b[39m):\n\u001b[32m---> \u001b[39m\u001b[32m32\u001b[39m     train_loss, train_acc = \u001b[43mtrain\u001b[49m\u001b[43m(\u001b[49m\u001b[43mmodel\u001b[49m\u001b[43m,\u001b[49m\u001b[43m \u001b[49m\u001b[43mtrain_dl\u001b[49m\u001b[43m,\u001b[49m\u001b[43m \u001b[49m\u001b[43moptimizer\u001b[49m\u001b[43m,\u001b[49m\u001b[43m \u001b[49m\u001b[43mloss_fn\u001b[49m\u001b[43m,\u001b[49m\u001b[43m \u001b[49m\u001b[43mdevice\u001b[49m\u001b[43m)\u001b[49m\n\u001b[32m     33\u001b[39m     test_loss, test_acc = evaluate(model, test_dl, loss_fn, device)\n\u001b[32m     34\u001b[39m     scheduler.step(test_loss)\n",
      "\u001b[36mCell\u001b[39m\u001b[36m \u001b[39m\u001b[32mIn[27]\u001b[39m\u001b[32m, line 10\u001b[39m, in \u001b[36mtrain\u001b[39m\u001b[34m(model, dataloader, optimizer, loss_fn, device)\u001b[39m\n\u001b[32m      8\u001b[39m x, y = x.to(device), y.to(device)\n\u001b[32m      9\u001b[39m optimizer.zero_grad()\n\u001b[32m---> \u001b[39m\u001b[32m10\u001b[39m logits = \u001b[43mmodel\u001b[49m\u001b[43m(\u001b[49m\u001b[43mx\u001b[49m\u001b[43m)\u001b[49m\n\u001b[32m     11\u001b[39m loss = loss_fn(logits, y)\n\u001b[32m     12\u001b[39m loss.backward()\n",
      "\u001b[36mFile \u001b[39m\u001b[32m~/miniforge3/envs/qml/lib/python3.12/site-packages/torch/nn/modules/module.py:1739\u001b[39m, in \u001b[36mModule._wrapped_call_impl\u001b[39m\u001b[34m(self, *args, **kwargs)\u001b[39m\n\u001b[32m   1737\u001b[39m     \u001b[38;5;28;01mreturn\u001b[39;00m \u001b[38;5;28mself\u001b[39m._compiled_call_impl(*args, **kwargs)  \u001b[38;5;66;03m# type: ignore[misc]\u001b[39;00m\n\u001b[32m   1738\u001b[39m \u001b[38;5;28;01melse\u001b[39;00m:\n\u001b[32m-> \u001b[39m\u001b[32m1739\u001b[39m     \u001b[38;5;28;01mreturn\u001b[39;00m \u001b[38;5;28;43mself\u001b[39;49m\u001b[43m.\u001b[49m\u001b[43m_call_impl\u001b[49m\u001b[43m(\u001b[49m\u001b[43m*\u001b[49m\u001b[43margs\u001b[49m\u001b[43m,\u001b[49m\u001b[43m \u001b[49m\u001b[43m*\u001b[49m\u001b[43m*\u001b[49m\u001b[43mkwargs\u001b[49m\u001b[43m)\u001b[49m\n",
      "\u001b[36mFile \u001b[39m\u001b[32m~/miniforge3/envs/qml/lib/python3.12/site-packages/torch/nn/modules/module.py:1750\u001b[39m, in \u001b[36mModule._call_impl\u001b[39m\u001b[34m(self, *args, **kwargs)\u001b[39m\n\u001b[32m   1745\u001b[39m \u001b[38;5;66;03m# If we don't have any hooks, we want to skip the rest of the logic in\u001b[39;00m\n\u001b[32m   1746\u001b[39m \u001b[38;5;66;03m# this function, and just call forward.\u001b[39;00m\n\u001b[32m   1747\u001b[39m \u001b[38;5;28;01mif\u001b[39;00m \u001b[38;5;129;01mnot\u001b[39;00m (\u001b[38;5;28mself\u001b[39m._backward_hooks \u001b[38;5;129;01mor\u001b[39;00m \u001b[38;5;28mself\u001b[39m._backward_pre_hooks \u001b[38;5;129;01mor\u001b[39;00m \u001b[38;5;28mself\u001b[39m._forward_hooks \u001b[38;5;129;01mor\u001b[39;00m \u001b[38;5;28mself\u001b[39m._forward_pre_hooks\n\u001b[32m   1748\u001b[39m         \u001b[38;5;129;01mor\u001b[39;00m _global_backward_pre_hooks \u001b[38;5;129;01mor\u001b[39;00m _global_backward_hooks\n\u001b[32m   1749\u001b[39m         \u001b[38;5;129;01mor\u001b[39;00m _global_forward_hooks \u001b[38;5;129;01mor\u001b[39;00m _global_forward_pre_hooks):\n\u001b[32m-> \u001b[39m\u001b[32m1750\u001b[39m     \u001b[38;5;28;01mreturn\u001b[39;00m \u001b[43mforward_call\u001b[49m\u001b[43m(\u001b[49m\u001b[43m*\u001b[49m\u001b[43margs\u001b[49m\u001b[43m,\u001b[49m\u001b[43m \u001b[49m\u001b[43m*\u001b[49m\u001b[43m*\u001b[49m\u001b[43mkwargs\u001b[49m\u001b[43m)\u001b[49m\n\u001b[32m   1752\u001b[39m result = \u001b[38;5;28;01mNone\u001b[39;00m\n\u001b[32m   1753\u001b[39m called_always_called_hooks = \u001b[38;5;28mset\u001b[39m()\n",
      "\u001b[36mCell\u001b[39m\u001b[36m \u001b[39m\u001b[32mIn[26]\u001b[39m\u001b[32m, line 18\u001b[39m, in \u001b[36mQuantumHybridModel.forward\u001b[39m\u001b[34m(self, x)\u001b[39m\n\u001b[32m     16\u001b[39m x = \u001b[38;5;28mself\u001b[39m.q_layer(x)  \u001b[38;5;66;03m# Output: [B, n_qubits]\u001b[39;00m\n\u001b[32m     17\u001b[39m \u001b[38;5;66;03m# x = F.layer_norm(x, x.shape)  # Optional normalization\u001b[39;00m\n\u001b[32m---> \u001b[39m\u001b[32m18\u001b[39m \u001b[38;5;28;01mreturn\u001b[39;00m \u001b[38;5;28;43mself\u001b[39;49m\u001b[43m.\u001b[49m\u001b[43mclassifier\u001b[49m\u001b[43m(\u001b[49m\u001b[43mx\u001b[49m\u001b[43m)\u001b[49m\n",
      "\u001b[36mFile \u001b[39m\u001b[32m~/miniforge3/envs/qml/lib/python3.12/site-packages/torch/nn/modules/module.py:1739\u001b[39m, in \u001b[36mModule._wrapped_call_impl\u001b[39m\u001b[34m(self, *args, **kwargs)\u001b[39m\n\u001b[32m   1737\u001b[39m     \u001b[38;5;28;01mreturn\u001b[39;00m \u001b[38;5;28mself\u001b[39m._compiled_call_impl(*args, **kwargs)  \u001b[38;5;66;03m# type: ignore[misc]\u001b[39;00m\n\u001b[32m   1738\u001b[39m \u001b[38;5;28;01melse\u001b[39;00m:\n\u001b[32m-> \u001b[39m\u001b[32m1739\u001b[39m     \u001b[38;5;28;01mreturn\u001b[39;00m \u001b[38;5;28;43mself\u001b[39;49m\u001b[43m.\u001b[49m\u001b[43m_call_impl\u001b[49m\u001b[43m(\u001b[49m\u001b[43m*\u001b[49m\u001b[43margs\u001b[49m\u001b[43m,\u001b[49m\u001b[43m \u001b[49m\u001b[43m*\u001b[49m\u001b[43m*\u001b[49m\u001b[43mkwargs\u001b[49m\u001b[43m)\u001b[49m\n",
      "\u001b[36mFile \u001b[39m\u001b[32m~/miniforge3/envs/qml/lib/python3.12/site-packages/torch/nn/modules/module.py:1750\u001b[39m, in \u001b[36mModule._call_impl\u001b[39m\u001b[34m(self, *args, **kwargs)\u001b[39m\n\u001b[32m   1745\u001b[39m \u001b[38;5;66;03m# If we don't have any hooks, we want to skip the rest of the logic in\u001b[39;00m\n\u001b[32m   1746\u001b[39m \u001b[38;5;66;03m# this function, and just call forward.\u001b[39;00m\n\u001b[32m   1747\u001b[39m \u001b[38;5;28;01mif\u001b[39;00m \u001b[38;5;129;01mnot\u001b[39;00m (\u001b[38;5;28mself\u001b[39m._backward_hooks \u001b[38;5;129;01mor\u001b[39;00m \u001b[38;5;28mself\u001b[39m._backward_pre_hooks \u001b[38;5;129;01mor\u001b[39;00m \u001b[38;5;28mself\u001b[39m._forward_hooks \u001b[38;5;129;01mor\u001b[39;00m \u001b[38;5;28mself\u001b[39m._forward_pre_hooks\n\u001b[32m   1748\u001b[39m         \u001b[38;5;129;01mor\u001b[39;00m _global_backward_pre_hooks \u001b[38;5;129;01mor\u001b[39;00m _global_backward_hooks\n\u001b[32m   1749\u001b[39m         \u001b[38;5;129;01mor\u001b[39;00m _global_forward_hooks \u001b[38;5;129;01mor\u001b[39;00m _global_forward_pre_hooks):\n\u001b[32m-> \u001b[39m\u001b[32m1750\u001b[39m     \u001b[38;5;28;01mreturn\u001b[39;00m \u001b[43mforward_call\u001b[49m\u001b[43m(\u001b[49m\u001b[43m*\u001b[49m\u001b[43margs\u001b[49m\u001b[43m,\u001b[49m\u001b[43m \u001b[49m\u001b[43m*\u001b[49m\u001b[43m*\u001b[49m\u001b[43mkwargs\u001b[49m\u001b[43m)\u001b[49m\n\u001b[32m   1752\u001b[39m result = \u001b[38;5;28;01mNone\u001b[39;00m\n\u001b[32m   1753\u001b[39m called_always_called_hooks = \u001b[38;5;28mset\u001b[39m()\n",
      "\u001b[36mFile \u001b[39m\u001b[32m~/miniforge3/envs/qml/lib/python3.12/site-packages/torch/nn/modules/linear.py:125\u001b[39m, in \u001b[36mLinear.forward\u001b[39m\u001b[34m(self, input)\u001b[39m\n\u001b[32m    124\u001b[39m \u001b[38;5;28;01mdef\u001b[39;00m\u001b[38;5;250m \u001b[39m\u001b[34mforward\u001b[39m(\u001b[38;5;28mself\u001b[39m, \u001b[38;5;28minput\u001b[39m: Tensor) -> Tensor:\n\u001b[32m--> \u001b[39m\u001b[32m125\u001b[39m     \u001b[38;5;28;01mreturn\u001b[39;00m \u001b[43mF\u001b[49m\u001b[43m.\u001b[49m\u001b[43mlinear\u001b[49m\u001b[43m(\u001b[49m\u001b[38;5;28;43minput\u001b[39;49m\u001b[43m,\u001b[49m\u001b[43m \u001b[49m\u001b[38;5;28;43mself\u001b[39;49m\u001b[43m.\u001b[49m\u001b[43mweight\u001b[49m\u001b[43m,\u001b[49m\u001b[43m \u001b[49m\u001b[38;5;28;43mself\u001b[39;49m\u001b[43m.\u001b[49m\u001b[43mbias\u001b[49m\u001b[43m)\u001b[49m\n",
      "\u001b[31mRuntimeError\u001b[39m: mat1 and mat2 shapes cannot be multiplied (100x4 and 6x4)"
     ]
    }
   ],
   "source": [
    "# -------------------------------\n",
    "# Main\n",
    "# -------------------------------\n",
    "# Setup\n",
    "device = torch.device(\"cuda\" if torch.cuda.is_available() else \"cpu\")\n",
    "device = \"cpu\"\n",
    "n_qubits = 6\n",
    "n_classes = 4\n",
    "batch_size = 100\n",
    "epochs = 20\n",
    "n_px = 8\n",
    "\n",
    "# Load Data\n",
    "digits = [3, 5, 8, 9]\n",
    "(x_train, y_train), (x_test, y_test) = get_dataset(digits=digits, n_px=n_px)\n",
    "train_ds = TensorDataset(x_train, y_train)\n",
    "test_ds = TensorDataset(x_test, y_test)\n",
    "train_dl = DataLoader(train_ds, batch_size=batch_size, shuffle=True)\n",
    "test_dl = DataLoader(test_ds, batch_size=batch_size)\n",
    "\n",
    "# Model\n",
    "q_layer = create_quantum_layer(n_qubits=n_qubits, n_layers=32)\n",
    "model = QuantumHybridModel(n_qubits=n_qubits, num_classes=n_classes, quantum_layer=q_layer, n_px=n_px).to(device)\n",
    "\n",
    "# Training Setup\n",
    "optimizer = torch.optim.Adam(model.parameters(), lr=3e-2)\n",
    "scheduler = torch.optim.lr_scheduler.ReduceLROnPlateau(optimizer, patience=3, factor=0.5)\n",
    "loss_fn = nn.CrossEntropyLoss()\n",
    "\n",
    "# Training Loop\n",
    "for epoch in range(1, epochs + 1):\n",
    "    train_loss, train_acc = train(model, train_dl, optimizer, loss_fn, device)\n",
    "    test_loss, test_acc = evaluate(model, test_dl, loss_fn, device)\n",
    "    scheduler.step(test_loss)\n",
    "\n",
    "    print(f\"Epoch {epoch:3d} | Train Acc: {train_acc:.4f} | Test Acc: {test_acc:.4f}\")"
   ]
  },
  {
   "cell_type": "code",
   "execution_count": null,
   "id": "5a3dabd1-2fc0-4ea6-bff8-52b732f16fc5",
   "metadata": {},
   "outputs": [],
   "source": []
  }
 ],
 "metadata": {
  "kernelspec": {
   "display_name": "Python (qml)",
   "language": "python",
   "name": "qml"
  },
  "language_info": {
   "codemirror_mode": {
    "name": "ipython",
    "version": 3
   },
   "file_extension": ".py",
   "mimetype": "text/x-python",
   "name": "python",
   "nbconvert_exporter": "python",
   "pygments_lexer": "ipython3",
   "version": "3.12.9"
  }
 },
 "nbformat": 4,
 "nbformat_minor": 5
}
