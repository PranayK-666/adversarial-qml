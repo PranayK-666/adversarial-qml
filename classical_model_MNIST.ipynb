{
 "cells": [
  {
   "cell_type": "code",
   "execution_count": 1,
   "id": "b089220e-bd80-4aaa-9ac8-ce48e80430b3",
   "metadata": {},
   "outputs": [
    {
     "name": "stderr",
     "output_type": "stream",
     "text": [
      "2025-03-17 10:48:49.055038: E external/local_xla/xla/stream_executor/cuda/cuda_fft.cc:467] Unable to register cuFFT factory: Attempting to register factory for plugin cuFFT when one has already been registered\n",
      "WARNING: All log messages before absl::InitializeLog() is called are written to STDERR\n",
      "E0000 00:00:1742168929.070932  204754 cuda_dnn.cc:8579] Unable to register cuDNN factory: Attempting to register factory for plugin cuDNN when one has already been registered\n",
      "E0000 00:00:1742168929.075873  204754 cuda_blas.cc:1407] Unable to register cuBLAS factory: Attempting to register factory for plugin cuBLAS when one has already been registered\n",
      "W0000 00:00:1742168929.088364  204754 computation_placer.cc:177] computation placer already registered. Please check linkage and avoid linking the same target more than once.\n",
      "W0000 00:00:1742168929.088377  204754 computation_placer.cc:177] computation placer already registered. Please check linkage and avoid linking the same target more than once.\n",
      "W0000 00:00:1742168929.088379  204754 computation_placer.cc:177] computation placer already registered. Please check linkage and avoid linking the same target more than once.\n",
      "W0000 00:00:1742168929.088381  204754 computation_placer.cc:177] computation placer already registered. Please check linkage and avoid linking the same target more than once.\n",
      "2025-03-17 10:48:49.092696: I tensorflow/core/platform/cpu_feature_guard.cc:210] This TensorFlow binary is optimized to use available CPU instructions in performance-critical operations.\n",
      "To enable the following instructions: AVX2 FMA, in other operations, rebuild TensorFlow with the appropriate compiler flags.\n"
     ]
    }
   ],
   "source": [
    "from pennylane import numpy as np\n",
    "from tensorflow import keras\n",
    "from matplotlib import pyplot as plt\n",
    "import tensorflow as tf\n",
    "import seaborn as sns\n",
    "\n",
    "from utils.tools import get_dataset, visualise_data"
   ]
  },
  {
   "cell_type": "code",
   "execution_count": 2,
   "id": "5e39251c-6c29-4e1b-a8d3-9354c271d120",
   "metadata": {},
   "outputs": [
    {
     "name": "stderr",
     "output_type": "stream",
     "text": [
      "I0000 00:00:1742168931.362906  204754 gpu_device.cc:2019] Created device /job:localhost/replica:0/task:0/device:GPU:0 with 11433 MB memory:  -> device: 0, name: Tesla P100-PCIE-12GB, pci bus id: 0000:02:00.0, compute capability: 6.0\n"
     ]
    },
    {
     "data": {
      "image/png": "[encoded data removed]",
      "text/plain": [
       "<Figure size 400x200 with 2 Axes>"
      ]
     },
     "metadata": {},
     "output_type": "display_data"
    }
   ],
   "source": [
    "digits = [5,8]\n",
    "n_px = 16\n",
    "\n",
    "(x_train, y_train), (x_test, y_test) = get_dataset(digits=digits, n_px=n_px)\n",
    "\n",
    "# show one image from each class\n",
    "x_vis = [(x_train[y_train==digit])[np.random.choice(range(10))] for digit in digits] \n",
    "y_vis = range(len(digits))\n",
    "\n",
    "visualise_data(digits, x_vis, y_vis)"
   ]
  },
  {
   "cell_type": "markdown",
   "id": "2e0a4012-340a-43c1-928a-7b238d4f12ab",
   "metadata": {},
   "source": [
    "### Classical model\n",
    "from PennyLane demo Quanvolutional NN"
   ]
  },
  {
   "cell_type": "code",
   "execution_count": 6,
   "id": "ab0ee7fa-7939-48f5-a6bc-531da4342dea",
   "metadata": {},
   "outputs": [],
   "source": [
    "def MyModel():\n",
    "    \"\"\"Initializes and returns a custom Keras model\n",
    "    which is ready to be trained.\"\"\"\n",
    "    model = keras.models.Sequential([\n",
    "        keras.layers.Flatten(),\n",
    "        keras.layers.Dense(10, activation=\"softmax\")\n",
    "    ])\n",
    "\n",
    "    model.compile(\n",
    "        optimizer='adam', # stochastic-gradient-descent\n",
    "        loss=\"sparse_categorical_crossentropy\", # cross-entropy\n",
    "        metrics=[\"accuracy\"],\n",
    "    )\n",
    "    return model"
   ]
  },
  {
   "cell_type": "code",
   "execution_count": 7,
   "id": "826a76c1-038e-4a19-884f-a993107d9646",
   "metadata": {},
   "outputs": [
    {
     "data": {
      "text/html": [
       "<pre style=\"white-space:pre;overflow-x:auto;line-height:normal;font-family:Menlo,'DejaVu Sans Mono',consolas,'Courier New',monospace\"><span style=\"font-weight: bold\">Model: \"sequential_1\"</span>\n",
       "</pre>\n"
      ],
      "text/plain": [
       "\u001b[1mModel: \"sequential_1\"\u001b[0m\n"
      ]
     },
     "metadata": {},
     "output_type": "display_data"
    },
    {
     "data": {
      "text/html": [
       "<pre style=\"white-space:pre;overflow-x:auto;line-height:normal;font-family:Menlo,'DejaVu Sans Mono',consolas,'Courier New',monospace\">┏━━━━━━━━━━━━━━━━━━━━━━━━━━━━━━━━━┳━━━━━━━━━━━━━━━━━━━━━━━━┳━━━━━━━━━━━━━━━┓\n",
       "┃<span style=\"font-weight: bold\"> Layer (type)                    </span>┃<span style=\"font-weight: bold\"> Output Shape           </span>┃<span style=\"font-weight: bold\">       Param # </span>┃\n",
       "┡━━━━━━━━━━━━━━━━━━━━━━━━━━━━━━━━━╇━━━━━━━━━━━━━━━━━━━━━━━━╇━━━━━━━━━━━━━━━┩\n",
       "│ flatten_1 (<span style=\"color: #0087ff; text-decoration-color: #0087ff\">Flatten</span>)             │ ?                      │   <span style=\"color: #00af00; text-decoration-color: #00af00\">0</span> (unbuilt) │\n",
       "├─────────────────────────────────┼────────────────────────┼───────────────┤\n",
       "│ dense_1 (<span style=\"color: #0087ff; text-decoration-color: #0087ff\">Dense</span>)                 │ ?                      │   <span style=\"color: #00af00; text-decoration-color: #00af00\">0</span> (unbuilt) │\n",
       "└─────────────────────────────────┴────────────────────────┴───────────────┘\n",
       "</pre>\n"
      ],
      "text/plain": [
       "┏━━━━━━━━━━━━━━━━━━━━━━━━━━━━━━━━━┳━━━━━━━━━━━━━━━━━━━━━━━━┳━━━━━━━━━━━━━━━┓\n",
       "┃\u001b[1m \u001b[0m\u001b[1mLayer (type)                   \u001b[0m\u001b[1m \u001b[0m┃\u001b[1m \u001b[0m\u001b[1mOutput Shape          \u001b[0m\u001b[1m \u001b[0m┃\u001b[1m \u001b[0m\u001b[1m      Param #\u001b[0m\u001b[1m \u001b[0m┃\n",
       "┡━━━━━━━━━━━━━━━━━━━━━━━━━━━━━━━━━╇━━━━━━━━━━━━━━━━━━━━━━━━╇━━━━━━━━━━━━━━━┩\n",
       "│ flatten_1 (\u001b[38;5;33mFlatten\u001b[0m)             │ ?                      │   \u001b[38;5;34m0\u001b[0m (unbuilt) │\n",
       "├─────────────────────────────────┼────────────────────────┼───────────────┤\n",
       "│ dense_1 (\u001b[38;5;33mDense\u001b[0m)                 │ ?                      │   \u001b[38;5;34m0\u001b[0m (unbuilt) │\n",
       "└─────────────────────────────────┴────────────────────────┴───────────────┘\n"
      ]
     },
     "metadata": {},
     "output_type": "display_data"
    },
    {
     "data": {
      "text/html": [
       "<pre style=\"white-space:pre;overflow-x:auto;line-height:normal;font-family:Menlo,'DejaVu Sans Mono',consolas,'Courier New',monospace\"><span style=\"font-weight: bold\"> Total params: </span><span style=\"color: #00af00; text-decoration-color: #00af00\">0</span> (0.00 B)\n",
       "</pre>\n"
      ],
      "text/plain": [
       "\u001b[1m Total params: \u001b[0m\u001b[38;5;34m0\u001b[0m (0.00 B)\n"
      ]
     },
     "metadata": {},
     "output_type": "display_data"
    },
    {
     "data": {
      "text/html": [
       "<pre style=\"white-space:pre;overflow-x:auto;line-height:normal;font-family:Menlo,'DejaVu Sans Mono',consolas,'Courier New',monospace\"><span style=\"font-weight: bold\"> Trainable params: </span><span style=\"color: #00af00; text-decoration-color: #00af00\">0</span> (0.00 B)\n",
       "</pre>\n"
      ],
      "text/plain": [
       "\u001b[1m Trainable params: \u001b[0m\u001b[38;5;34m0\u001b[0m (0.00 B)\n"
      ]
     },
     "metadata": {},
     "output_type": "display_data"
    },
    {
     "data": {
      "text/html": [
       "<pre style=\"white-space:pre;overflow-x:auto;line-height:normal;font-family:Menlo,'DejaVu Sans Mono',consolas,'Courier New',monospace\"><span style=\"font-weight: bold\"> Non-trainable params: </span><span style=\"color: #00af00; text-decoration-color: #00af00\">0</span> (0.00 B)\n",
       "</pre>\n"
      ],
      "text/plain": [
       "\u001b[1m Non-trainable params: \u001b[0m\u001b[38;5;34m0\u001b[0m (0.00 B)\n"
      ]
     },
     "metadata": {},
     "output_type": "display_data"
    }
   ],
   "source": [
    "c_model = MyModel()\n",
    "c_model.summary()"
   ]
  },
  {
   "cell_type": "code",
   "execution_count": 8,
   "id": "5cb98fef-d735-4612-b055-243e23eaa110",
   "metadata": {},
   "outputs": [
    {
     "name": "stdout",
     "output_type": "stream",
     "text": [
      "Epoch 1/30\n",
      "200/200 - 2s - 10ms/step - accuracy: 0.6963 - loss: 0.8856 - val_accuracy: 0.8900 - val_loss: 0.4900\n",
      "Epoch 2/30\n",
      "200/200 - 1s - 3ms/step - accuracy: 0.8963 - loss: 0.4399 - val_accuracy: 0.9350 - val_loss: 0.3368\n",
      "Epoch 3/30\n",
      "200/200 - 1s - 3ms/step - accuracy: 0.9150 - loss: 0.3348 - val_accuracy: 0.9450 - val_loss: 0.2687\n",
      "Epoch 4/30\n",
      "200/200 - 1s - 3ms/step - accuracy: 0.9237 - loss: 0.2801 - val_accuracy: 0.9500 - val_loss: 0.2299\n",
      "Epoch 5/30\n",
      "200/200 - 1s - 3ms/step - accuracy: 0.9312 - loss: 0.2451 - val_accuracy: 0.9550 - val_loss: 0.2026\n",
      "Epoch 6/30\n",
      "200/200 - 1s - 3ms/step - accuracy: 0.9388 - loss: 0.2221 - val_accuracy: 0.9550 - val_loss: 0.1850\n",
      "Epoch 7/30\n",
      "200/200 - 1s - 3ms/step - accuracy: 0.9388 - loss: 0.2027 - val_accuracy: 0.9550 - val_loss: 0.1698\n",
      "Epoch 8/30\n",
      "200/200 - 1s - 3ms/step - accuracy: 0.9425 - loss: 0.1875 - val_accuracy: 0.9600 - val_loss: 0.1681\n",
      "Epoch 9/30\n",
      "200/200 - 1s - 3ms/step - accuracy: 0.9425 - loss: 0.1773 - val_accuracy: 0.9550 - val_loss: 0.1517\n",
      "Epoch 10/30\n",
      "200/200 - 1s - 4ms/step - accuracy: 0.9500 - loss: 0.1679 - val_accuracy: 0.9600 - val_loss: 0.1452\n",
      "Epoch 11/30\n",
      "200/200 - 1s - 4ms/step - accuracy: 0.9475 - loss: 0.1582 - val_accuracy: 0.9550 - val_loss: 0.1402\n",
      "Epoch 12/30\n",
      "200/200 - 1s - 3ms/step - accuracy: 0.9513 - loss: 0.1518 - val_accuracy: 0.9600 - val_loss: 0.1364\n",
      "Epoch 13/30\n",
      "200/200 - 1s - 3ms/step - accuracy: 0.9600 - loss: 0.1459 - val_accuracy: 0.9600 - val_loss: 0.1338\n",
      "Epoch 14/30\n",
      "200/200 - 1s - 3ms/step - accuracy: 0.9575 - loss: 0.1397 - val_accuracy: 0.9650 - val_loss: 0.1312\n",
      "Epoch 15/30\n",
      "200/200 - 1s - 3ms/step - accuracy: 0.9613 - loss: 0.1350 - val_accuracy: 0.9650 - val_loss: 0.1265\n",
      "Epoch 16/30\n",
      "200/200 - 1s - 3ms/step - accuracy: 0.9650 - loss: 0.1310 - val_accuracy: 0.9650 - val_loss: 0.1248\n",
      "Epoch 17/30\n",
      "200/200 - 1s - 3ms/step - accuracy: 0.9638 - loss: 0.1265 - val_accuracy: 0.9650 - val_loss: 0.1232\n",
      "Epoch 18/30\n",
      "200/200 - 1s - 3ms/step - accuracy: 0.9638 - loss: 0.1232 - val_accuracy: 0.9600 - val_loss: 0.1214\n",
      "Epoch 19/30\n",
      "200/200 - 1s - 4ms/step - accuracy: 0.9663 - loss: 0.1202 - val_accuracy: 0.9600 - val_loss: 0.1195\n",
      "Epoch 20/30\n",
      "200/200 - 1s - 4ms/step - accuracy: 0.9675 - loss: 0.1172 - val_accuracy: 0.9600 - val_loss: 0.1186\n",
      "Epoch 21/30\n",
      "200/200 - 1s - 3ms/step - accuracy: 0.9700 - loss: 0.1133 - val_accuracy: 0.9650 - val_loss: 0.1177\n",
      "Epoch 22/30\n",
      "200/200 - 1s - 3ms/step - accuracy: 0.9675 - loss: 0.1112 - val_accuracy: 0.9600 - val_loss: 0.1164\n",
      "Epoch 23/30\n",
      "200/200 - 1s - 3ms/step - accuracy: 0.9675 - loss: 0.1085 - val_accuracy: 0.9600 - val_loss: 0.1146\n",
      "Epoch 24/30\n",
      "200/200 - 1s - 3ms/step - accuracy: 0.9663 - loss: 0.1057 - val_accuracy: 0.9650 - val_loss: 0.1146\n",
      "Epoch 25/30\n",
      "200/200 - 1s - 3ms/step - accuracy: 0.9712 - loss: 0.1037 - val_accuracy: 0.9600 - val_loss: 0.1136\n",
      "Epoch 26/30\n",
      "200/200 - 1s - 3ms/step - accuracy: 0.9700 - loss: 0.1022 - val_accuracy: 0.9600 - val_loss: 0.1118\n",
      "Epoch 27/30\n",
      "200/200 - 1s - 3ms/step - accuracy: 0.9712 - loss: 0.0998 - val_accuracy: 0.9600 - val_loss: 0.1104\n",
      "Epoch 28/30\n",
      "200/200 - 1s - 3ms/step - accuracy: 0.9700 - loss: 0.0984 - val_accuracy: 0.9600 - val_loss: 0.1097\n",
      "Epoch 29/30\n",
      "200/200 - 1s - 3ms/step - accuracy: 0.9737 - loss: 0.0965 - val_accuracy: 0.9600 - val_loss: 0.1111\n",
      "Epoch 30/30\n",
      "200/200 - 1s - 3ms/step - accuracy: 0.9700 - loss: 0.0945 - val_accuracy: 0.9600 - val_loss: 0.1115\n"
     ]
    }
   ],
   "source": [
    "c_history = c_model.fit(\n",
    "    x_train,\n",
    "    y_train,\n",
    "    validation_data=(x_test, y_test),\n",
    "    batch_size=4,\n",
    "    epochs=30,\n",
    "    verbose=2,\n",
    ")"
   ]
  },
  {
   "cell_type": "code",
   "execution_count": 9,
   "id": "58af3d89-19a9-4c0e-b272-177daa020872",
   "metadata": {},
   "outputs": [],
   "source": [
    "def ClassicalModel(n_px, digits):\n",
    "    \"\"\"Initializes and returns a custom Keras model\n",
    "    which is ready to be trained.\"\"\"\n",
    "    model = keras.models.Sequential([\n",
    "        keras.layers.Input((n_px,n_px,1)),\n",
    "        keras.layers.Flatten(),\n",
    "        keras.layers.Dense(16),\n",
    "        keras.layers.Dense(10, activation=\"softmax\")\n",
    "    ])\n",
    "\n",
    "    model.compile(\n",
    "        optimizer='adam', # stochastic-gradient-descent\n",
    "        loss=\"sparse_categorical_crossentropy\", # cross-entropy\n",
    "        metrics=[\"accuracy\"],\n",
    "    )\n",
    "    return model"
   ]
  },
  {
   "cell_type": "code",
   "execution_count": 10,
   "id": "e0709e8c-cd31-4972-a756-2cb147213ae4",
   "metadata": {},
   "outputs": [
    {
     "data": {
      "text/html": [
       "<pre style=\"white-space:pre;overflow-x:auto;line-height:normal;font-family:Menlo,'DejaVu Sans Mono',consolas,'Courier New',monospace\"><span style=\"font-weight: bold\">Model: \"sequential_2\"</span>\n",
       "</pre>\n"
      ],
      "text/plain": [
       "\u001b[1mModel: \"sequential_2\"\u001b[0m\n"
      ]
     },
     "metadata": {},
     "output_type": "display_data"
    },
    {
     "data": {
      "text/html": [
       "<pre style=\"white-space:pre;overflow-x:auto;line-height:normal;font-family:Menlo,'DejaVu Sans Mono',consolas,'Courier New',monospace\">┏━━━━━━━━━━━━━━━━━━━━━━━━━━━━━━━━━┳━━━━━━━━━━━━━━━━━━━━━━━━┳━━━━━━━━━━━━━━━┓\n",
       "┃<span style=\"font-weight: bold\"> Layer (type)                    </span>┃<span style=\"font-weight: bold\"> Output Shape           </span>┃<span style=\"font-weight: bold\">       Param # </span>┃\n",
       "┡━━━━━━━━━━━━━━━━━━━━━━━━━━━━━━━━━╇━━━━━━━━━━━━━━━━━━━━━━━━╇━━━━━━━━━━━━━━━┩\n",
       "│ flatten_2 (<span style=\"color: #0087ff; text-decoration-color: #0087ff\">Flatten</span>)             │ (<span style=\"color: #00d7ff; text-decoration-color: #00d7ff\">None</span>, <span style=\"color: #00af00; text-decoration-color: #00af00\">256</span>)            │             <span style=\"color: #00af00; text-decoration-color: #00af00\">0</span> │\n",
       "├─────────────────────────────────┼────────────────────────┼───────────────┤\n",
       "│ dense_2 (<span style=\"color: #0087ff; text-decoration-color: #0087ff\">Dense</span>)                 │ (<span style=\"color: #00d7ff; text-decoration-color: #00d7ff\">None</span>, <span style=\"color: #00af00; text-decoration-color: #00af00\">16</span>)             │         <span style=\"color: #00af00; text-decoration-color: #00af00\">4,112</span> │\n",
       "├─────────────────────────────────┼────────────────────────┼───────────────┤\n",
       "│ dense_3 (<span style=\"color: #0087ff; text-decoration-color: #0087ff\">Dense</span>)                 │ (<span style=\"color: #00d7ff; text-decoration-color: #00d7ff\">None</span>, <span style=\"color: #00af00; text-decoration-color: #00af00\">10</span>)             │           <span style=\"color: #00af00; text-decoration-color: #00af00\">170</span> │\n",
       "└─────────────────────────────────┴────────────────────────┴───────────────┘\n",
       "</pre>\n"
      ],
      "text/plain": [
       "┏━━━━━━━━━━━━━━━━━━━━━━━━━━━━━━━━━┳━━━━━━━━━━━━━━━━━━━━━━━━┳━━━━━━━━━━━━━━━┓\n",
       "┃\u001b[1m \u001b[0m\u001b[1mLayer (type)                   \u001b[0m\u001b[1m \u001b[0m┃\u001b[1m \u001b[0m\u001b[1mOutput Shape          \u001b[0m\u001b[1m \u001b[0m┃\u001b[1m \u001b[0m\u001b[1m      Param #\u001b[0m\u001b[1m \u001b[0m┃\n",
       "┡━━━━━━━━━━━━━━━━━━━━━━━━━━━━━━━━━╇━━━━━━━━━━━━━━━━━━━━━━━━╇━━━━━━━━━━━━━━━┩\n",
       "│ flatten_2 (\u001b[38;5;33mFlatten\u001b[0m)             │ (\u001b[38;5;45mNone\u001b[0m, \u001b[38;5;34m256\u001b[0m)            │             \u001b[38;5;34m0\u001b[0m │\n",
       "├─────────────────────────────────┼────────────────────────┼───────────────┤\n",
       "│ dense_2 (\u001b[38;5;33mDense\u001b[0m)                 │ (\u001b[38;5;45mNone\u001b[0m, \u001b[38;5;34m16\u001b[0m)             │         \u001b[38;5;34m4,112\u001b[0m │\n",
       "├─────────────────────────────────┼────────────────────────┼───────────────┤\n",
       "│ dense_3 (\u001b[38;5;33mDense\u001b[0m)                 │ (\u001b[38;5;45mNone\u001b[0m, \u001b[38;5;34m10\u001b[0m)             │           \u001b[38;5;34m170\u001b[0m │\n",
       "└─────────────────────────────────┴────────────────────────┴───────────────┘\n"
      ]
     },
     "metadata": {},
     "output_type": "display_data"
    },
    {
     "data": {
      "text/html": [
       "<pre style=\"white-space:pre;overflow-x:auto;line-height:normal;font-family:Menlo,'DejaVu Sans Mono',consolas,'Courier New',monospace\"><span style=\"font-weight: bold\"> Total params: </span><span style=\"color: #00af00; text-decoration-color: #00af00\">4,282</span> (16.73 KB)\n",
       "</pre>\n"
      ],
      "text/plain": [
       "\u001b[1m Total params: \u001b[0m\u001b[38;5;34m4,282\u001b[0m (16.73 KB)\n"
      ]
     },
     "metadata": {},
     "output_type": "display_data"
    },
    {
     "data": {
      "text/html": [
       "<pre style=\"white-space:pre;overflow-x:auto;line-height:normal;font-family:Menlo,'DejaVu Sans Mono',consolas,'Courier New',monospace\"><span style=\"font-weight: bold\"> Trainable params: </span><span style=\"color: #00af00; text-decoration-color: #00af00\">4,282</span> (16.73 KB)\n",
       "</pre>\n"
      ],
      "text/plain": [
       "\u001b[1m Trainable params: \u001b[0m\u001b[38;5;34m4,282\u001b[0m (16.73 KB)\n"
      ]
     },
     "metadata": {},
     "output_type": "display_data"
    },
    {
     "data": {
      "text/html": [
       "<pre style=\"white-space:pre;overflow-x:auto;line-height:normal;font-family:Menlo,'DejaVu Sans Mono',consolas,'Courier New',monospace\"><span style=\"font-weight: bold\"> Non-trainable params: </span><span style=\"color: #00af00; text-decoration-color: #00af00\">0</span> (0.00 B)\n",
       "</pre>\n"
      ],
      "text/plain": [
       "\u001b[1m Non-trainable params: \u001b[0m\u001b[38;5;34m0\u001b[0m (0.00 B)\n"
      ]
     },
     "metadata": {},
     "output_type": "display_data"
    }
   ],
   "source": [
    "c_model = ClassicalModel(n_px, digits)\n",
    "c_model.summary()"
   ]
  },
  {
   "cell_type": "code",
   "execution_count": 5,
   "id": "c09fea4f-10f6-4c0f-b45a-2657d067b475",
   "metadata": {},
   "outputs": [],
   "source": [
    "n_epochs = 30   # Number of optimization epochs"
   ]
  },
  {
   "cell_type": "code",
   "execution_count": 11,
   "id": "ca120fd5-bc8c-4ad2-b93d-078f2de6b698",
   "metadata": {},
   "outputs": [
    {
     "name": "stdout",
     "output_type": "stream",
     "text": [
      "Epoch 1/30\n",
      "200/200 - 2s - 11ms/step - accuracy: 0.7962 - loss: 0.6491 - val_accuracy: 0.9500 - val_loss: 0.2609\n",
      "Epoch 2/30\n",
      "200/200 - 1s - 4ms/step - accuracy: 0.9325 - loss: 0.2426 - val_accuracy: 0.9500 - val_loss: 0.1658\n",
      "Epoch 3/30\n",
      "200/200 - 1s - 3ms/step - accuracy: 0.9388 - loss: 0.1778 - val_accuracy: 0.9500 - val_loss: 0.1332\n",
      "Epoch 4/30\n",
      "200/200 - 1s - 4ms/step - accuracy: 0.9500 - loss: 0.1492 - val_accuracy: 0.9650 - val_loss: 0.1224\n",
      "Epoch 5/30\n",
      "200/200 - 1s - 3ms/step - accuracy: 0.9600 - loss: 0.1260 - val_accuracy: 0.9600 - val_loss: 0.1165\n",
      "Epoch 6/30\n",
      "200/200 - 1s - 3ms/step - accuracy: 0.9675 - loss: 0.1120 - val_accuracy: 0.9600 - val_loss: 0.1137\n",
      "Epoch 7/30\n",
      "200/200 - 1s - 4ms/step - accuracy: 0.9638 - loss: 0.1002 - val_accuracy: 0.9550 - val_loss: 0.1089\n",
      "Epoch 8/30\n",
      "200/200 - 1s - 4ms/step - accuracy: 0.9737 - loss: 0.0924 - val_accuracy: 0.9600 - val_loss: 0.1144\n",
      "Epoch 9/30\n",
      "200/200 - 1s - 4ms/step - accuracy: 0.9712 - loss: 0.0868 - val_accuracy: 0.9650 - val_loss: 0.1161\n",
      "Epoch 10/30\n",
      "200/200 - 1s - 4ms/step - accuracy: 0.9688 - loss: 0.0845 - val_accuracy: 0.9500 - val_loss: 0.1009\n",
      "Epoch 11/30\n",
      "200/200 - 1s - 3ms/step - accuracy: 0.9725 - loss: 0.0752 - val_accuracy: 0.9450 - val_loss: 0.1085\n",
      "Epoch 12/30\n",
      "200/200 - 1s - 3ms/step - accuracy: 0.9737 - loss: 0.0718 - val_accuracy: 0.9650 - val_loss: 0.1090\n",
      "Epoch 13/30\n",
      "200/200 - 1s - 3ms/step - accuracy: 0.9787 - loss: 0.0620 - val_accuracy: 0.9650 - val_loss: 0.1172\n",
      "Epoch 14/30\n",
      "200/200 - 1s - 4ms/step - accuracy: 0.9800 - loss: 0.0599 - val_accuracy: 0.9650 - val_loss: 0.1164\n",
      "Epoch 15/30\n",
      "200/200 - 1s - 4ms/step - accuracy: 0.9775 - loss: 0.0570 - val_accuracy: 0.9400 - val_loss: 0.1062\n",
      "Epoch 16/30\n",
      "200/200 - 1s - 4ms/step - accuracy: 0.9800 - loss: 0.0563 - val_accuracy: 0.9650 - val_loss: 0.1058\n",
      "Epoch 17/30\n",
      "200/200 - 1s - 3ms/step - accuracy: 0.9825 - loss: 0.0502 - val_accuracy: 0.9650 - val_loss: 0.1090\n",
      "Epoch 18/30\n",
      "200/200 - 1s - 4ms/step - accuracy: 0.9825 - loss: 0.0481 - val_accuracy: 0.9550 - val_loss: 0.1138\n",
      "Epoch 19/30\n",
      "200/200 - 1s - 4ms/step - accuracy: 0.9887 - loss: 0.0442 - val_accuracy: 0.9350 - val_loss: 0.1122\n",
      "Epoch 20/30\n",
      "200/200 - 1s - 4ms/step - accuracy: 0.9875 - loss: 0.0386 - val_accuracy: 0.9550 - val_loss: 0.1287\n",
      "Epoch 21/30\n",
      "200/200 - 1s - 4ms/step - accuracy: 0.9925 - loss: 0.0368 - val_accuracy: 0.9500 - val_loss: 0.1195\n",
      "Epoch 22/30\n",
      "200/200 - 1s - 3ms/step - accuracy: 0.9912 - loss: 0.0359 - val_accuracy: 0.9650 - val_loss: 0.1355\n",
      "Epoch 23/30\n",
      "200/200 - 1s - 3ms/step - accuracy: 0.9900 - loss: 0.0337 - val_accuracy: 0.9600 - val_loss: 0.1375\n",
      "Epoch 24/30\n",
      "200/200 - 1s - 4ms/step - accuracy: 0.9912 - loss: 0.0340 - val_accuracy: 0.9450 - val_loss: 0.1171\n",
      "Epoch 25/30\n",
      "200/200 - 1s - 4ms/step - accuracy: 0.9962 - loss: 0.0271 - val_accuracy: 0.9450 - val_loss: 0.1276\n",
      "Epoch 26/30\n",
      "200/200 - 1s - 3ms/step - accuracy: 0.9937 - loss: 0.0273 - val_accuracy: 0.9550 - val_loss: 0.1514\n",
      "Epoch 27/30\n",
      "200/200 - 1s - 4ms/step - accuracy: 0.9962 - loss: 0.0244 - val_accuracy: 0.9550 - val_loss: 0.1379\n",
      "Epoch 28/30\n",
      "200/200 - 1s - 4ms/step - accuracy: 0.9975 - loss: 0.0226 - val_accuracy: 0.9400 - val_loss: 0.1290\n",
      "Epoch 29/30\n",
      "200/200 - 1s - 3ms/step - accuracy: 0.9975 - loss: 0.0207 - val_accuracy: 0.9500 - val_loss: 0.1358\n",
      "Epoch 30/30\n",
      "200/200 - 1s - 4ms/step - accuracy: 0.9987 - loss: 0.0195 - val_accuracy: 0.9450 - val_loss: 0.1376\n"
     ]
    }
   ],
   "source": [
    "# c_model = ClassicalModel()\n",
    "\n",
    "c_history = c_model.fit(\n",
    "    x_train,\n",
    "    y_train,\n",
    "    validation_data=(x_test, y_test),\n",
    "    batch_size=4,\n",
    "    epochs=30,\n",
    "    verbose=2,\n",
    ")"
   ]
  },
  {
   "cell_type": "code",
   "execution_count": 15,
   "id": "e7be29ab-1f6a-449f-b428-758b39a799f8",
   "metadata": {},
   "outputs": [
    {
     "data": {
      "image/png": "[encoded data removed]",
      "text/plain": [
       "<Figure size 600x900 with 2 Axes>"
      ]
     },
     "metadata": {},
     "output_type": "display_data"
    }
   ],
   "source": [
    "plt.style.use(\"seaborn-v0_8\")\n",
    "fig, ax = plt.subplots(2, 1, figsize=(6,9))\n",
    "\n",
    "ax[0].plot(c_history.history[\"val_accuracy\"], \"-ob\", label=\"Classical feedforward network\")\n",
    "ax[0].set_ylabel(\"Accuracy\")\n",
    "ax[0].set_ylim([0, 1])\n",
    "ax[0].set_xlabel(\"Epoch\")\n",
    "ax[0].legend()\n",
    "\n",
    "ax[1].plot(c_history.history[\"val_loss\"], \"-ob\", label=\"Classical feedforward network\")\n",
    "ax[1].set_ylabel(\"Loss\")\n",
    "ax[1].set_ylim(top=2.5)\n",
    "ax[1].set_xlabel(\"Epoch\")\n",
    "ax[1].legend()\n",
    "\n",
    "plt.tight_layout()\n",
    "plt.show()"
   ]
  },
  {
   "cell_type": "code",
   "execution_count": 12,
   "id": "4b2480de-54fe-4647-9b8a-2b2554148abf",
   "metadata": {},
   "outputs": [
    {
     "name": "stderr",
     "output_type": "stream",
     "text": [
      "/home/pranay/miniforge3/envs/qml/lib/python3.12/site-packages/keras/src/layers/convolutional/base_conv.py:107: UserWarning: Do not pass an `input_shape`/`input_dim` argument to a layer. When using Sequential models, prefer using an `Input(shape)` object as the first layer in the model instead.\n",
      "  super().__init__(activity_regularizer=activity_regularizer, **kwargs)\n"
     ]
    },
    {
     "data": {
      "text/html": [
       "<pre style=\"white-space:pre;overflow-x:auto;line-height:normal;font-family:Menlo,'DejaVu Sans Mono',consolas,'Courier New',monospace\"><span style=\"font-weight: bold\">Model: \"sequential_3\"</span>\n",
       "</pre>\n"
      ],
      "text/plain": [
       "\u001b[1mModel: \"sequential_3\"\u001b[0m\n"
      ]
     },
     "metadata": {},
     "output_type": "display_data"
    },
    {
     "data": {
      "text/html": [
       "<pre style=\"white-space:pre;overflow-x:auto;line-height:normal;font-family:Menlo,'DejaVu Sans Mono',consolas,'Courier New',monospace\">┏━━━━━━━━━━━━━━━━━━━━━━━━━━━━━━━━━┳━━━━━━━━━━━━━━━━━━━━━━━━┳━━━━━━━━━━━━━━━┓\n",
       "┃<span style=\"font-weight: bold\"> Layer (type)                    </span>┃<span style=\"font-weight: bold\"> Output Shape           </span>┃<span style=\"font-weight: bold\">       Param # </span>┃\n",
       "┡━━━━━━━━━━━━━━━━━━━━━━━━━━━━━━━━━╇━━━━━━━━━━━━━━━━━━━━━━━━╇━━━━━━━━━━━━━━━┩\n",
       "│ conv2d (<span style=\"color: #0087ff; text-decoration-color: #0087ff\">Conv2D</span>)                 │ (<span style=\"color: #00d7ff; text-decoration-color: #00d7ff\">None</span>, <span style=\"color: #00af00; text-decoration-color: #00af00\">14</span>, <span style=\"color: #00af00; text-decoration-color: #00af00\">14</span>, <span style=\"color: #00af00; text-decoration-color: #00af00\">32</span>)     │           <span style=\"color: #00af00; text-decoration-color: #00af00\">320</span> │\n",
       "├─────────────────────────────────┼────────────────────────┼───────────────┤\n",
       "│ conv2d_1 (<span style=\"color: #0087ff; text-decoration-color: #0087ff\">Conv2D</span>)               │ (<span style=\"color: #00d7ff; text-decoration-color: #00d7ff\">None</span>, <span style=\"color: #00af00; text-decoration-color: #00af00\">12</span>, <span style=\"color: #00af00; text-decoration-color: #00af00\">12</span>, <span style=\"color: #00af00; text-decoration-color: #00af00\">64</span>)     │        <span style=\"color: #00af00; text-decoration-color: #00af00\">18,496</span> │\n",
       "├─────────────────────────────────┼────────────────────────┼───────────────┤\n",
       "│ max_pooling2d (<span style=\"color: #0087ff; text-decoration-color: #0087ff\">MaxPooling2D</span>)    │ (<span style=\"color: #00d7ff; text-decoration-color: #00d7ff\">None</span>, <span style=\"color: #00af00; text-decoration-color: #00af00\">6</span>, <span style=\"color: #00af00; text-decoration-color: #00af00\">6</span>, <span style=\"color: #00af00; text-decoration-color: #00af00\">64</span>)       │             <span style=\"color: #00af00; text-decoration-color: #00af00\">0</span> │\n",
       "├─────────────────────────────────┼────────────────────────┼───────────────┤\n",
       "│ dropout (<span style=\"color: #0087ff; text-decoration-color: #0087ff\">Dropout</span>)               │ (<span style=\"color: #00d7ff; text-decoration-color: #00d7ff\">None</span>, <span style=\"color: #00af00; text-decoration-color: #00af00\">6</span>, <span style=\"color: #00af00; text-decoration-color: #00af00\">6</span>, <span style=\"color: #00af00; text-decoration-color: #00af00\">64</span>)       │             <span style=\"color: #00af00; text-decoration-color: #00af00\">0</span> │\n",
       "├─────────────────────────────────┼────────────────────────┼───────────────┤\n",
       "│ flatten_3 (<span style=\"color: #0087ff; text-decoration-color: #0087ff\">Flatten</span>)             │ (<span style=\"color: #00d7ff; text-decoration-color: #00d7ff\">None</span>, <span style=\"color: #00af00; text-decoration-color: #00af00\">2304</span>)           │             <span style=\"color: #00af00; text-decoration-color: #00af00\">0</span> │\n",
       "├─────────────────────────────────┼────────────────────────┼───────────────┤\n",
       "│ dense_4 (<span style=\"color: #0087ff; text-decoration-color: #0087ff\">Dense</span>)                 │ (<span style=\"color: #00d7ff; text-decoration-color: #00d7ff\">None</span>, <span style=\"color: #00af00; text-decoration-color: #00af00\">128</span>)            │       <span style=\"color: #00af00; text-decoration-color: #00af00\">295,040</span> │\n",
       "├─────────────────────────────────┼────────────────────────┼───────────────┤\n",
       "│ dropout_1 (<span style=\"color: #0087ff; text-decoration-color: #0087ff\">Dropout</span>)             │ (<span style=\"color: #00d7ff; text-decoration-color: #00d7ff\">None</span>, <span style=\"color: #00af00; text-decoration-color: #00af00\">128</span>)            │             <span style=\"color: #00af00; text-decoration-color: #00af00\">0</span> │\n",
       "├─────────────────────────────────┼────────────────────────┼───────────────┤\n",
       "│ dense_5 (<span style=\"color: #0087ff; text-decoration-color: #0087ff\">Dense</span>)                 │ (<span style=\"color: #00d7ff; text-decoration-color: #00d7ff\">None</span>, <span style=\"color: #00af00; text-decoration-color: #00af00\">1</span>)              │           <span style=\"color: #00af00; text-decoration-color: #00af00\">129</span> │\n",
       "└─────────────────────────────────┴────────────────────────┴───────────────┘\n",
       "</pre>\n"
      ],
      "text/plain": [
       "┏━━━━━━━━━━━━━━━━━━━━━━━━━━━━━━━━━┳━━━━━━━━━━━━━━━━━━━━━━━━┳━━━━━━━━━━━━━━━┓\n",
       "┃\u001b[1m \u001b[0m\u001b[1mLayer (type)                   \u001b[0m\u001b[1m \u001b[0m┃\u001b[1m \u001b[0m\u001b[1mOutput Shape          \u001b[0m\u001b[1m \u001b[0m┃\u001b[1m \u001b[0m\u001b[1m      Param #\u001b[0m\u001b[1m \u001b[0m┃\n",
       "┡━━━━━━━━━━━━━━━━━━━━━━━━━━━━━━━━━╇━━━━━━━━━━━━━━━━━━━━━━━━╇━━━━━━━━━━━━━━━┩\n",
       "│ conv2d (\u001b[38;5;33mConv2D\u001b[0m)                 │ (\u001b[38;5;45mNone\u001b[0m, \u001b[38;5;34m14\u001b[0m, \u001b[38;5;34m14\u001b[0m, \u001b[38;5;34m32\u001b[0m)     │           \u001b[38;5;34m320\u001b[0m │\n",
       "├─────────────────────────────────┼────────────────────────┼───────────────┤\n",
       "│ conv2d_1 (\u001b[38;5;33mConv2D\u001b[0m)               │ (\u001b[38;5;45mNone\u001b[0m, \u001b[38;5;34m12\u001b[0m, \u001b[38;5;34m12\u001b[0m, \u001b[38;5;34m64\u001b[0m)     │        \u001b[38;5;34m18,496\u001b[0m │\n",
       "├─────────────────────────────────┼────────────────────────┼───────────────┤\n",
       "│ max_pooling2d (\u001b[38;5;33mMaxPooling2D\u001b[0m)    │ (\u001b[38;5;45mNone\u001b[0m, \u001b[38;5;34m6\u001b[0m, \u001b[38;5;34m6\u001b[0m, \u001b[38;5;34m64\u001b[0m)       │             \u001b[38;5;34m0\u001b[0m │\n",
       "├─────────────────────────────────┼────────────────────────┼───────────────┤\n",
       "│ dropout (\u001b[38;5;33mDropout\u001b[0m)               │ (\u001b[38;5;45mNone\u001b[0m, \u001b[38;5;34m6\u001b[0m, \u001b[38;5;34m6\u001b[0m, \u001b[38;5;34m64\u001b[0m)       │             \u001b[38;5;34m0\u001b[0m │\n",
       "├─────────────────────────────────┼────────────────────────┼───────────────┤\n",
       "│ flatten_3 (\u001b[38;5;33mFlatten\u001b[0m)             │ (\u001b[38;5;45mNone\u001b[0m, \u001b[38;5;34m2304\u001b[0m)           │             \u001b[38;5;34m0\u001b[0m │\n",
       "├─────────────────────────────────┼────────────────────────┼───────────────┤\n",
       "│ dense_4 (\u001b[38;5;33mDense\u001b[0m)                 │ (\u001b[38;5;45mNone\u001b[0m, \u001b[38;5;34m128\u001b[0m)            │       \u001b[38;5;34m295,040\u001b[0m │\n",
       "├─────────────────────────────────┼────────────────────────┼───────────────┤\n",
       "│ dropout_1 (\u001b[38;5;33mDropout\u001b[0m)             │ (\u001b[38;5;45mNone\u001b[0m, \u001b[38;5;34m128\u001b[0m)            │             \u001b[38;5;34m0\u001b[0m │\n",
       "├─────────────────────────────────┼────────────────────────┼───────────────┤\n",
       "│ dense_5 (\u001b[38;5;33mDense\u001b[0m)                 │ (\u001b[38;5;45mNone\u001b[0m, \u001b[38;5;34m1\u001b[0m)              │           \u001b[38;5;34m129\u001b[0m │\n",
       "└─────────────────────────────────┴────────────────────────┴───────────────┘\n"
      ]
     },
     "metadata": {},
     "output_type": "display_data"
    },
    {
     "data": {
      "text/html": [
       "<pre style=\"white-space:pre;overflow-x:auto;line-height:normal;font-family:Menlo,'DejaVu Sans Mono',consolas,'Courier New',monospace\"><span style=\"font-weight: bold\"> Total params: </span><span style=\"color: #00af00; text-decoration-color: #00af00\">313,985</span> (1.20 MB)\n",
       "</pre>\n"
      ],
      "text/plain": [
       "\u001b[1m Total params: \u001b[0m\u001b[38;5;34m313,985\u001b[0m (1.20 MB)\n"
      ]
     },
     "metadata": {},
     "output_type": "display_data"
    },
    {
     "data": {
      "text/html": [
       "<pre style=\"white-space:pre;overflow-x:auto;line-height:normal;font-family:Menlo,'DejaVu Sans Mono',consolas,'Courier New',monospace\"><span style=\"font-weight: bold\"> Trainable params: </span><span style=\"color: #00af00; text-decoration-color: #00af00\">313,985</span> (1.20 MB)\n",
       "</pre>\n"
      ],
      "text/plain": [
       "\u001b[1m Trainable params: \u001b[0m\u001b[38;5;34m313,985\u001b[0m (1.20 MB)\n"
      ]
     },
     "metadata": {},
     "output_type": "display_data"
    },
    {
     "data": {
      "text/html": [
       "<pre style=\"white-space:pre;overflow-x:auto;line-height:normal;font-family:Menlo,'DejaVu Sans Mono',consolas,'Courier New',monospace\"><span style=\"font-weight: bold\"> Non-trainable params: </span><span style=\"color: #00af00; text-decoration-color: #00af00\">0</span> (0.00 B)\n",
       "</pre>\n"
      ],
      "text/plain": [
       "\u001b[1m Non-trainable params: \u001b[0m\u001b[38;5;34m0\u001b[0m (0.00 B)\n"
      ]
     },
     "metadata": {},
     "output_type": "display_data"
    }
   ],
   "source": [
    "def create_classical_model_CNN():\n",
    "    # A simple model based off LeNet from https://keras.io/examples/mnist_cnn/\n",
    "    model = tf.keras.Sequential()\n",
    "    model.add(\n",
    "        tf.keras.layers.Conv2D(32, [3, 3],\n",
    "                               activation='relu',\n",
    "                               input_shape=(n_px, n_px, 1)))\n",
    "    model.add(tf.keras.layers.Conv2D(64, [3, 3], activation='relu'))\n",
    "    model.add(tf.keras.layers.MaxPooling2D(pool_size=(2, 2)))\n",
    "    model.add(tf.keras.layers.Dropout(0.25))\n",
    "    model.add(tf.keras.layers.Flatten())\n",
    "    model.add(tf.keras.layers.Dense(128, activation='relu'))\n",
    "    model.add(tf.keras.layers.Dropout(0.5))\n",
    "    model.add(tf.keras.layers.Dense(1))\n",
    "    return model\n",
    "\n",
    "\n",
    "model = create_classical_model_CNN()\n",
    "model.compile(loss=tf.keras.losses.BinaryCrossentropy(from_logits=True),\n",
    "              optimizer=tf.keras.optimizers.Adam(),\n",
    "              metrics=['accuracy'])\n",
    "\n",
    "model.summary()"
   ]
  },
  {
   "cell_type": "code",
   "execution_count": 13,
   "id": "b95d1b2d-f1c9-4eab-b61a-d39a0db41afc",
   "metadata": {},
   "outputs": [
    {
     "name": "stderr",
     "output_type": "stream",
     "text": [
      "2025-03-17 10:51:46.472639: I external/local_xla/xla/service/gpu/autotuning/conv_algorithm_picker.cc:549] Omitted potentially buggy algorithm eng14{} for conv %cudnn-conv-bias-activation.7 = (f32[128,64,12,12]{3,2,1,0}, u8[0]{0}) custom-call(f32[128,32,14,14]{3,2,1,0} %bitcast.7065, f32[64,32,3,3]{3,2,1,0} %bitcast.6594, f32[64]{0} %bitcast.7125), window={size=3x3}, dim_labels=bf01_oi01->bf01, custom_call_target=\"__cudnn$convBiasActivationForward\", metadata={op_type=\"Conv2D\" op_name=\"sequential_3_1/conv2d_1_2/convolution\" source_file=\"/home/pranay/miniforge3/envs/qml/lib/python3.12/site-packages/tensorflow/python/framework/ops.py\" source_line=1200}, backend_config={\"operation_queue_id\":\"0\",\"wait_on_operation_queues\":[],\"cudnn_conv_backend_config\":{\"conv_result_scale\":1,\"activation_mode\":\"kNone\",\"side_input_scale\":0,\"leakyrelu_alpha\":0},\"force_earliest_schedule\":false}\n"
     ]
    },
    {
     "name": "stdout",
     "output_type": "stream",
     "text": [
      "\u001b[1m1/7\u001b[0m \u001b[32m━━\u001b[0m\u001b[37m━━━━━━━━━━━━━━━━━━\u001b[0m \u001b[1m18s\u001b[0m 3s/step - accuracy: 0.0000e+00 - loss: 0.4587"
     ]
    },
    {
     "name": "stderr",
     "output_type": "stream",
     "text": [
      "2025-03-17 10:51:48.306873: I external/local_xla/xla/service/gpu/autotuning/conv_algorithm_picker.cc:549] Omitted potentially buggy algorithm eng14{} for conv %cudnn-conv-bias-activation.7 = (f32[32,64,12,12]{3,2,1,0}, u8[0]{0}) custom-call(f32[32,32,14,14]{3,2,1,0} %bitcast.7065, f32[64,32,3,3]{3,2,1,0} %bitcast.6594, f32[64]{0} %bitcast.7125), window={size=3x3}, dim_labels=bf01_oi01->bf01, custom_call_target=\"__cudnn$convBiasActivationForward\", metadata={op_type=\"Conv2D\" op_name=\"sequential_3_1/conv2d_1_2/convolution\" source_file=\"/home/pranay/miniforge3/envs/qml/lib/python3.12/site-packages/tensorflow/python/framework/ops.py\" source_line=1200}, backend_config={\"operation_queue_id\":\"0\",\"wait_on_operation_queues\":[],\"cudnn_conv_backend_config\":{\"conv_result_scale\":1,\"activation_mode\":\"kNone\",\"side_input_scale\":0,\"leakyrelu_alpha\":0},\"force_earliest_schedule\":false}\n"
     ]
    },
    {
     "name": "stdout",
     "output_type": "stream",
     "text": [
      "\u001b[1m7/7\u001b[0m \u001b[32m━━━━━━━━━━━━━━━━━━━━\u001b[0m\u001b[37m\u001b[0m \u001b[1m0s\u001b[0m 287ms/step - accuracy: 0.0000e+00 - loss: -6.5416"
     ]
    },
    {
     "name": "stderr",
     "output_type": "stream",
     "text": [
      "2025-03-17 10:51:49.937878: I external/local_xla/xla/service/gpu/autotuning/conv_algorithm_picker.cc:549] Omitted potentially buggy algorithm eng14{} for conv %cudnn-conv-bias-activation.7 = (f32[128,64,12,12]{3,2,1,0}, u8[0]{0}) custom-call(f32[128,32,14,14]{3,2,1,0} %bitcast.371, f32[64,32,3,3]{3,2,1,0} %bitcast.378, f32[64]{0} %bitcast.380), window={size=3x3}, dim_labels=bf01_oi01->bf01, custom_call_target=\"__cudnn$convBiasActivationForward\", metadata={op_type=\"Conv2D\" op_name=\"sequential_3_1/conv2d_1_2/convolution\" source_file=\"/home/pranay/miniforge3/envs/qml/lib/python3.12/site-packages/tensorflow/python/framework/ops.py\" source_line=1200}, backend_config={\"operation_queue_id\":\"0\",\"wait_on_operation_queues\":[],\"cudnn_conv_backend_config\":{\"conv_result_scale\":1,\"activation_mode\":\"kRelu\",\"side_input_scale\":0,\"leakyrelu_alpha\":0},\"force_earliest_schedule\":false}\n",
      "2025-03-17 10:51:50.205531: I external/local_xla/xla/service/gpu/autotuning/conv_algorithm_picker.cc:549] Omitted potentially buggy algorithm eng14{} for conv %cudnn-conv-bias-activation.7 = (f32[72,64,12,12]{3,2,1,0}, u8[0]{0}) custom-call(f32[72,32,14,14]{3,2,1,0} %bitcast.371, f32[64,32,3,3]{3,2,1,0} %bitcast.378, f32[64]{0} %bitcast.380), window={size=3x3}, dim_labels=bf01_oi01->bf01, custom_call_target=\"__cudnn$convBiasActivationForward\", metadata={op_type=\"Conv2D\" op_name=\"sequential_3_1/conv2d_1_2/convolution\" source_file=\"/home/pranay/miniforge3/envs/qml/lib/python3.12/site-packages/tensorflow/python/framework/ops.py\" source_line=1200}, backend_config={\"operation_queue_id\":\"0\",\"wait_on_operation_queues\":[],\"cudnn_conv_backend_config\":{\"conv_result_scale\":1,\"activation_mode\":\"kRelu\",\"side_input_scale\":0,\"leakyrelu_alpha\":0},\"force_earliest_schedule\":false}\n"
     ]
    },
    {
     "name": "stdout",
     "output_type": "stream",
     "text": [
      "\u001b[1m7/7\u001b[0m \u001b[32m━━━━━━━━━━━━━━━━━━━━\u001b[0m\u001b[37m\u001b[0m \u001b[1m6s\u001b[0m 425ms/step - accuracy: 0.0000e+00 - loss: -7.4570 - val_accuracy: 0.0000e+00 - val_loss: -62.4373\n",
      "\u001b[1m1/7\u001b[0m \u001b[32m━━\u001b[0m\u001b[37m━━━━━━━━━━━━━━━━━━\u001b[0m \u001b[1m1s\u001b[0m 288ms/step - accuracy: 0.0000e+00 - loss: -61.5510"
     ]
    },
    {
     "name": "stderr",
     "output_type": "stream",
     "text": [
      "2025-03-17 10:51:50.575704: I external/local_xla/xla/service/gpu/autotuning/conv_algorithm_picker.cc:549] Omitted potentially buggy algorithm eng14{} for conv %cudnn-conv-bias-activation.7 = (f32[32,64,12,12]{3,2,1,0}, u8[0]{0}) custom-call(f32[32,32,14,14]{3,2,1,0} %bitcast.371, f32[64,32,3,3]{3,2,1,0} %bitcast.378, f32[64]{0} %bitcast.380), window={size=3x3}, dim_labels=bf01_oi01->bf01, custom_call_target=\"__cudnn$convBiasActivationForward\", metadata={op_type=\"Conv2D\" op_name=\"sequential_3_1/conv2d_1_2/convolution\" source_file=\"/home/pranay/miniforge3/envs/qml/lib/python3.12/site-packages/tensorflow/python/framework/ops.py\" source_line=1200}, backend_config={\"operation_queue_id\":\"0\",\"wait_on_operation_queues\":[],\"cudnn_conv_backend_config\":{\"conv_result_scale\":1,\"activation_mode\":\"kRelu\",\"side_input_scale\":0,\"leakyrelu_alpha\":0},\"force_earliest_schedule\":false}\n"
     ]
    },
    {
     "name": "stdout",
     "output_type": "stream",
     "text": [
      "\u001b[1m7/7\u001b[0m \u001b[32m━━━━━━━━━━━━━━━━━━━━\u001b[0m\u001b[37m\u001b[0m \u001b[1m0s\u001b[0m 57ms/step - accuracy: 0.0000e+00 - loss: -62.1747 "
     ]
    },
    {
     "name": "stderr",
     "output_type": "stream",
     "text": [
      "2025-03-17 10:51:50.912159: I external/local_xla/xla/service/gpu/autotuning/conv_algorithm_picker.cc:549] Omitted potentially buggy algorithm eng14{} for conv %cudnn-conv-bias-activation.7 = (f32[8,64,12,12]{3,2,1,0}, u8[0]{0}) custom-call(f32[8,32,14,14]{3,2,1,0} %bitcast.371, f32[64,32,3,3]{3,2,1,0} %bitcast.378, f32[64]{0} %bitcast.380), window={size=3x3}, dim_labels=bf01_oi01->bf01, custom_call_target=\"__cudnn$convBiasActivationForward\", metadata={op_type=\"Conv2D\" op_name=\"sequential_3_1/conv2d_1_2/convolution\" source_file=\"/home/pranay/miniforge3/envs/qml/lib/python3.12/site-packages/tensorflow/python/framework/ops.py\" source_line=1200}, backend_config={\"operation_queue_id\":\"0\",\"wait_on_operation_queues\":[],\"cudnn_conv_backend_config\":{\"conv_result_scale\":1,\"activation_mode\":\"kRelu\",\"side_input_scale\":0,\"leakyrelu_alpha\":0},\"force_earliest_schedule\":false}\n"
     ]
    },
    {
     "name": "stdout",
     "output_type": "stream",
     "text": [
      "\u001b[1m7/7\u001b[0m \u001b[32m━━━━━━━━━━━━━━━━━━━━\u001b[0m\u001b[37m\u001b[0m \u001b[1m1s\u001b[0m 60ms/step - accuracy: 0.0000e+00 - loss: -62.2075\n"
     ]
    }
   ],
   "source": [
    "model.fit(x_train,\n",
    "          y_train,\n",
    "          batch_size=128,\n",
    "          epochs=1,\n",
    "          verbose=1,\n",
    "          validation_data=(x_test, y_test))\n",
    "\n",
    "cnn_results = model.evaluate(x_test, y_test)"
   ]
  },
  {
   "cell_type": "code",
   "execution_count": 11,
   "id": "3ccf4a1b-bfbb-4ec4-a474-9133a80a9bf7",
   "metadata": {},
   "outputs": [
    {
     "data": {
      "text/plain": [
       "<Axes: >"
      ]
     },
     "execution_count": 11,
     "metadata": {},
     "output_type": "execute_result"
    },
    {
     "data": {
      "image/png": "[encoded data removed]",
      "text/plain": [
       "<Figure size 640x480 with 1 Axes>"
      ]
     },
     "metadata": {},
     "output_type": "display_data"
    }
   ],
   "source": [
    "# qnn_accuracy = qnn_results[1]\n",
    "cnn_accuracy = cnn_results[1]\n",
    "# fair_nn_accuracy = fair_nn_results[1]\n",
    "\n",
    "sns.barplot(x=[\"Classical, full\"],\n",
    "            y=[cnn_accuracy])"
   ]
  },
  {
   "cell_type": "code",
   "execution_count": 18,
   "id": "2b8bf2b3-35c6-4e18-b0a4-846821f8c712",
   "metadata": {},
   "outputs": [],
   "source": [
    "def create_classical_model(n_px, digits):\n",
    "    model = keras.Sequential([\n",
    "        keras.Input(shape=(n_px,n_px,1)),\n",
    "        keras.layers.Flatten(),\n",
    "        # select the dense layer outputs to match quantum model #parameters\n",
    "        keras.layers.Dense(16, activation='relu'),\n",
    "        # keras.layers.Dense(32, activation='relu'),\n",
    "        keras.layers.Dense(10, activation='softmax')\n",
    "    ])\n",
    "\n",
    "    return model\n",
    "\n",
    "def create_classical_model_CNN(n_px, digits):\n",
    "    model = keras.Sequential([\n",
    "        keras.Input(shape=(n_px,n_px,1)),\n",
    "        keras.layers.Conv2D(32, [3,3], activation='relu'),\n",
    "        keras.layers.Conv2D(64, [3, 3], activation='relu'),\n",
    "        keras.layers.MaxPooling2D(pool_size=(2, 2)),\n",
    "        keras.layers.Dropout(0.25),\n",
    "        keras.layers.Flatten(),\n",
    "        keras.layers.Dense(128, activation='relu'),\n",
    "        keras.layers.Dropout(0.5),\n",
    "        keras.layers.Dense(10, activation='softmax')\n",
    "    ])\n",
    "\n",
    "    return model"
   ]
  },
  {
   "cell_type": "code",
   "execution_count": 19,
   "id": "c8fe0470-cfd8-4148-81b6-2565adbd3c29",
   "metadata": {},
   "outputs": [
    {
     "data": {
      "text/html": [
       "<pre style=\"white-space:pre;overflow-x:auto;line-height:normal;font-family:Menlo,'DejaVu Sans Mono',consolas,'Courier New',monospace\"><span style=\"font-weight: bold\">Model: \"sequential_6\"</span>\n",
       "</pre>\n"
      ],
      "text/plain": [
       "\u001b[1mModel: \"sequential_6\"\u001b[0m\n"
      ]
     },
     "metadata": {},
     "output_type": "display_data"
    },
    {
     "data": {
      "text/html": [
       "<pre style=\"white-space:pre;overflow-x:auto;line-height:normal;font-family:Menlo,'DejaVu Sans Mono',consolas,'Courier New',monospace\">┏━━━━━━━━━━━━━━━━━━━━━━━━━━━━━━━━━┳━━━━━━━━━━━━━━━━━━━━━━━━┳━━━━━━━━━━━━━━━┓\n",
       "┃<span style=\"font-weight: bold\"> Layer (type)                    </span>┃<span style=\"font-weight: bold\"> Output Shape           </span>┃<span style=\"font-weight: bold\">       Param # </span>┃\n",
       "┡━━━━━━━━━━━━━━━━━━━━━━━━━━━━━━━━━╇━━━━━━━━━━━━━━━━━━━━━━━━╇━━━━━━━━━━━━━━━┩\n",
       "│ flatten_6 (<span style=\"color: #0087ff; text-decoration-color: #0087ff\">Flatten</span>)             │ (<span style=\"color: #00d7ff; text-decoration-color: #00d7ff\">None</span>, <span style=\"color: #00af00; text-decoration-color: #00af00\">256</span>)            │             <span style=\"color: #00af00; text-decoration-color: #00af00\">0</span> │\n",
       "├─────────────────────────────────┼────────────────────────┼───────────────┤\n",
       "│ dense_10 (<span style=\"color: #0087ff; text-decoration-color: #0087ff\">Dense</span>)                │ (<span style=\"color: #00d7ff; text-decoration-color: #00d7ff\">None</span>, <span style=\"color: #00af00; text-decoration-color: #00af00\">16</span>)             │         <span style=\"color: #00af00; text-decoration-color: #00af00\">4,112</span> │\n",
       "├─────────────────────────────────┼────────────────────────┼───────────────┤\n",
       "│ dense_11 (<span style=\"color: #0087ff; text-decoration-color: #0087ff\">Dense</span>)                │ (<span style=\"color: #00d7ff; text-decoration-color: #00d7ff\">None</span>, <span style=\"color: #00af00; text-decoration-color: #00af00\">10</span>)             │           <span style=\"color: #00af00; text-decoration-color: #00af00\">170</span> │\n",
       "└─────────────────────────────────┴────────────────────────┴───────────────┘\n",
       "</pre>\n"
      ],
      "text/plain": [
       "┏━━━━━━━━━━━━━━━━━━━━━━━━━━━━━━━━━┳━━━━━━━━━━━━━━━━━━━━━━━━┳━━━━━━━━━━━━━━━┓\n",
       "┃\u001b[1m \u001b[0m\u001b[1mLayer (type)                   \u001b[0m\u001b[1m \u001b[0m┃\u001b[1m \u001b[0m\u001b[1mOutput Shape          \u001b[0m\u001b[1m \u001b[0m┃\u001b[1m \u001b[0m\u001b[1m      Param #\u001b[0m\u001b[1m \u001b[0m┃\n",
       "┡━━━━━━━━━━━━━━━━━━━━━━━━━━━━━━━━━╇━━━━━━━━━━━━━━━━━━━━━━━━╇━━━━━━━━━━━━━━━┩\n",
       "│ flatten_6 (\u001b[38;5;33mFlatten\u001b[0m)             │ (\u001b[38;5;45mNone\u001b[0m, \u001b[38;5;34m256\u001b[0m)            │             \u001b[38;5;34m0\u001b[0m │\n",
       "├─────────────────────────────────┼────────────────────────┼───────────────┤\n",
       "│ dense_10 (\u001b[38;5;33mDense\u001b[0m)                │ (\u001b[38;5;45mNone\u001b[0m, \u001b[38;5;34m16\u001b[0m)             │         \u001b[38;5;34m4,112\u001b[0m │\n",
       "├─────────────────────────────────┼────────────────────────┼───────────────┤\n",
       "│ dense_11 (\u001b[38;5;33mDense\u001b[0m)                │ (\u001b[38;5;45mNone\u001b[0m, \u001b[38;5;34m10\u001b[0m)             │           \u001b[38;5;34m170\u001b[0m │\n",
       "└─────────────────────────────────┴────────────────────────┴───────────────┘\n"
      ]
     },
     "metadata": {},
     "output_type": "display_data"
    },
    {
     "data": {
      "text/html": [
       "<pre style=\"white-space:pre;overflow-x:auto;line-height:normal;font-family:Menlo,'DejaVu Sans Mono',consolas,'Courier New',monospace\"><span style=\"font-weight: bold\"> Total params: </span><span style=\"color: #00af00; text-decoration-color: #00af00\">4,282</span> (16.73 KB)\n",
       "</pre>\n"
      ],
      "text/plain": [
       "\u001b[1m Total params: \u001b[0m\u001b[38;5;34m4,282\u001b[0m (16.73 KB)\n"
      ]
     },
     "metadata": {},
     "output_type": "display_data"
    },
    {
     "data": {
      "text/html": [
       "<pre style=\"white-space:pre;overflow-x:auto;line-height:normal;font-family:Menlo,'DejaVu Sans Mono',consolas,'Courier New',monospace\"><span style=\"font-weight: bold\"> Trainable params: </span><span style=\"color: #00af00; text-decoration-color: #00af00\">4,282</span> (16.73 KB)\n",
       "</pre>\n"
      ],
      "text/plain": [
       "\u001b[1m Trainable params: \u001b[0m\u001b[38;5;34m4,282\u001b[0m (16.73 KB)\n"
      ]
     },
     "metadata": {},
     "output_type": "display_data"
    },
    {
     "data": {
      "text/html": [
       "<pre style=\"white-space:pre;overflow-x:auto;line-height:normal;font-family:Menlo,'DejaVu Sans Mono',consolas,'Courier New',monospace\"><span style=\"font-weight: bold\"> Non-trainable params: </span><span style=\"color: #00af00; text-decoration-color: #00af00\">0</span> (0.00 B)\n",
       "</pre>\n"
      ],
      "text/plain": [
       "\u001b[1m Non-trainable params: \u001b[0m\u001b[38;5;34m0\u001b[0m (0.00 B)\n"
      ]
     },
     "metadata": {},
     "output_type": "display_data"
    }
   ],
   "source": [
    "classical_model = create_classical_model(n_px, digits)\n",
    "classical_model.compile(\n",
    "    optimizer=keras.optimizers.Adam(),\n",
    "    loss=keras.losses.sparse_categorical_crossentropy,\n",
    "    metrics=['accuracy']\n",
    ")\n",
    "classical_model.summary()"
   ]
  },
  {
   "cell_type": "code",
   "execution_count": 20,
   "id": "636da60c-c91b-4689-b0f0-d7ebd5ea1016",
   "metadata": {},
   "outputs": [
    {
     "data": {
      "text/html": [
       "<pre style=\"white-space:pre;overflow-x:auto;line-height:normal;font-family:Menlo,'DejaVu Sans Mono',consolas,'Courier New',monospace\"><span style=\"font-weight: bold\">Model: \"sequential_7\"</span>\n",
       "</pre>\n"
      ],
      "text/plain": [
       "\u001b[1mModel: \"sequential_7\"\u001b[0m\n"
      ]
     },
     "metadata": {},
     "output_type": "display_data"
    },
    {
     "data": {
      "text/html": [
       "<pre style=\"white-space:pre;overflow-x:auto;line-height:normal;font-family:Menlo,'DejaVu Sans Mono',consolas,'Courier New',monospace\">┏━━━━━━━━━━━━━━━━━━━━━━━━━━━━━━━━━┳━━━━━━━━━━━━━━━━━━━━━━━━┳━━━━━━━━━━━━━━━┓\n",
       "┃<span style=\"font-weight: bold\"> Layer (type)                    </span>┃<span style=\"font-weight: bold\"> Output Shape           </span>┃<span style=\"font-weight: bold\">       Param # </span>┃\n",
       "┡━━━━━━━━━━━━━━━━━━━━━━━━━━━━━━━━━╇━━━━━━━━━━━━━━━━━━━━━━━━╇━━━━━━━━━━━━━━━┩\n",
       "│ conv2d_4 (<span style=\"color: #0087ff; text-decoration-color: #0087ff\">Conv2D</span>)               │ (<span style=\"color: #00d7ff; text-decoration-color: #00d7ff\">None</span>, <span style=\"color: #00af00; text-decoration-color: #00af00\">14</span>, <span style=\"color: #00af00; text-decoration-color: #00af00\">14</span>, <span style=\"color: #00af00; text-decoration-color: #00af00\">32</span>)     │           <span style=\"color: #00af00; text-decoration-color: #00af00\">320</span> │\n",
       "├─────────────────────────────────┼────────────────────────┼───────────────┤\n",
       "│ conv2d_5 (<span style=\"color: #0087ff; text-decoration-color: #0087ff\">Conv2D</span>)               │ (<span style=\"color: #00d7ff; text-decoration-color: #00d7ff\">None</span>, <span style=\"color: #00af00; text-decoration-color: #00af00\">12</span>, <span style=\"color: #00af00; text-decoration-color: #00af00\">12</span>, <span style=\"color: #00af00; text-decoration-color: #00af00\">64</span>)     │        <span style=\"color: #00af00; text-decoration-color: #00af00\">18,496</span> │\n",
       "├─────────────────────────────────┼────────────────────────┼───────────────┤\n",
       "│ max_pooling2d_2 (<span style=\"color: #0087ff; text-decoration-color: #0087ff\">MaxPooling2D</span>)  │ (<span style=\"color: #00d7ff; text-decoration-color: #00d7ff\">None</span>, <span style=\"color: #00af00; text-decoration-color: #00af00\">6</span>, <span style=\"color: #00af00; text-decoration-color: #00af00\">6</span>, <span style=\"color: #00af00; text-decoration-color: #00af00\">64</span>)       │             <span style=\"color: #00af00; text-decoration-color: #00af00\">0</span> │\n",
       "├─────────────────────────────────┼────────────────────────┼───────────────┤\n",
       "│ dropout_4 (<span style=\"color: #0087ff; text-decoration-color: #0087ff\">Dropout</span>)             │ (<span style=\"color: #00d7ff; text-decoration-color: #00d7ff\">None</span>, <span style=\"color: #00af00; text-decoration-color: #00af00\">6</span>, <span style=\"color: #00af00; text-decoration-color: #00af00\">6</span>, <span style=\"color: #00af00; text-decoration-color: #00af00\">64</span>)       │             <span style=\"color: #00af00; text-decoration-color: #00af00\">0</span> │\n",
       "├─────────────────────────────────┼────────────────────────┼───────────────┤\n",
       "│ flatten_7 (<span style=\"color: #0087ff; text-decoration-color: #0087ff\">Flatten</span>)             │ (<span style=\"color: #00d7ff; text-decoration-color: #00d7ff\">None</span>, <span style=\"color: #00af00; text-decoration-color: #00af00\">2304</span>)           │             <span style=\"color: #00af00; text-decoration-color: #00af00\">0</span> │\n",
       "├─────────────────────────────────┼────────────────────────┼───────────────┤\n",
       "│ dense_12 (<span style=\"color: #0087ff; text-decoration-color: #0087ff\">Dense</span>)                │ (<span style=\"color: #00d7ff; text-decoration-color: #00d7ff\">None</span>, <span style=\"color: #00af00; text-decoration-color: #00af00\">128</span>)            │       <span style=\"color: #00af00; text-decoration-color: #00af00\">295,040</span> │\n",
       "├─────────────────────────────────┼────────────────────────┼───────────────┤\n",
       "│ dropout_5 (<span style=\"color: #0087ff; text-decoration-color: #0087ff\">Dropout</span>)             │ (<span style=\"color: #00d7ff; text-decoration-color: #00d7ff\">None</span>, <span style=\"color: #00af00; text-decoration-color: #00af00\">128</span>)            │             <span style=\"color: #00af00; text-decoration-color: #00af00\">0</span> │\n",
       "├─────────────────────────────────┼────────────────────────┼───────────────┤\n",
       "│ dense_13 (<span style=\"color: #0087ff; text-decoration-color: #0087ff\">Dense</span>)                │ (<span style=\"color: #00d7ff; text-decoration-color: #00d7ff\">None</span>, <span style=\"color: #00af00; text-decoration-color: #00af00\">10</span>)             │         <span style=\"color: #00af00; text-decoration-color: #00af00\">1,290</span> │\n",
       "└─────────────────────────────────┴────────────────────────┴───────────────┘\n",
       "</pre>\n"
      ],
      "text/plain": [
       "┏━━━━━━━━━━━━━━━━━━━━━━━━━━━━━━━━━┳━━━━━━━━━━━━━━━━━━━━━━━━┳━━━━━━━━━━━━━━━┓\n",
       "┃\u001b[1m \u001b[0m\u001b[1mLayer (type)                   \u001b[0m\u001b[1m \u001b[0m┃\u001b[1m \u001b[0m\u001b[1mOutput Shape          \u001b[0m\u001b[1m \u001b[0m┃\u001b[1m \u001b[0m\u001b[1m      Param #\u001b[0m\u001b[1m \u001b[0m┃\n",
       "┡━━━━━━━━━━━━━━━━━━━━━━━━━━━━━━━━━╇━━━━━━━━━━━━━━━━━━━━━━━━╇━━━━━━━━━━━━━━━┩\n",
       "│ conv2d_4 (\u001b[38;5;33mConv2D\u001b[0m)               │ (\u001b[38;5;45mNone\u001b[0m, \u001b[38;5;34m14\u001b[0m, \u001b[38;5;34m14\u001b[0m, \u001b[38;5;34m32\u001b[0m)     │           \u001b[38;5;34m320\u001b[0m │\n",
       "├─────────────────────────────────┼────────────────────────┼───────────────┤\n",
       "│ conv2d_5 (\u001b[38;5;33mConv2D\u001b[0m)               │ (\u001b[38;5;45mNone\u001b[0m, \u001b[38;5;34m12\u001b[0m, \u001b[38;5;34m12\u001b[0m, \u001b[38;5;34m64\u001b[0m)     │        \u001b[38;5;34m18,496\u001b[0m │\n",
       "├─────────────────────────────────┼────────────────────────┼───────────────┤\n",
       "│ max_pooling2d_2 (\u001b[38;5;33mMaxPooling2D\u001b[0m)  │ (\u001b[38;5;45mNone\u001b[0m, \u001b[38;5;34m6\u001b[0m, \u001b[38;5;34m6\u001b[0m, \u001b[38;5;34m64\u001b[0m)       │             \u001b[38;5;34m0\u001b[0m │\n",
       "├─────────────────────────────────┼────────────────────────┼───────────────┤\n",
       "│ dropout_4 (\u001b[38;5;33mDropout\u001b[0m)             │ (\u001b[38;5;45mNone\u001b[0m, \u001b[38;5;34m6\u001b[0m, \u001b[38;5;34m6\u001b[0m, \u001b[38;5;34m64\u001b[0m)       │             \u001b[38;5;34m0\u001b[0m │\n",
       "├─────────────────────────────────┼────────────────────────┼───────────────┤\n",
       "│ flatten_7 (\u001b[38;5;33mFlatten\u001b[0m)             │ (\u001b[38;5;45mNone\u001b[0m, \u001b[38;5;34m2304\u001b[0m)           │             \u001b[38;5;34m0\u001b[0m │\n",
       "├─────────────────────────────────┼────────────────────────┼───────────────┤\n",
       "│ dense_12 (\u001b[38;5;33mDense\u001b[0m)                │ (\u001b[38;5;45mNone\u001b[0m, \u001b[38;5;34m128\u001b[0m)            │       \u001b[38;5;34m295,040\u001b[0m │\n",
       "├─────────────────────────────────┼────────────────────────┼───────────────┤\n",
       "│ dropout_5 (\u001b[38;5;33mDropout\u001b[0m)             │ (\u001b[38;5;45mNone\u001b[0m, \u001b[38;5;34m128\u001b[0m)            │             \u001b[38;5;34m0\u001b[0m │\n",
       "├─────────────────────────────────┼────────────────────────┼───────────────┤\n",
       "│ dense_13 (\u001b[38;5;33mDense\u001b[0m)                │ (\u001b[38;5;45mNone\u001b[0m, \u001b[38;5;34m10\u001b[0m)             │         \u001b[38;5;34m1,290\u001b[0m │\n",
       "└─────────────────────────────────┴────────────────────────┴───────────────┘\n"
      ]
     },
     "metadata": {},
     "output_type": "display_data"
    },
    {
     "data": {
      "text/html": [
       "<pre style=\"white-space:pre;overflow-x:auto;line-height:normal;font-family:Menlo,'DejaVu Sans Mono',consolas,'Courier New',monospace\"><span style=\"font-weight: bold\"> Total params: </span><span style=\"color: #00af00; text-decoration-color: #00af00\">315,146</span> (1.20 MB)\n",
       "</pre>\n"
      ],
      "text/plain": [
       "\u001b[1m Total params: \u001b[0m\u001b[38;5;34m315,146\u001b[0m (1.20 MB)\n"
      ]
     },
     "metadata": {},
     "output_type": "display_data"
    },
    {
     "data": {
      "text/html": [
       "<pre style=\"white-space:pre;overflow-x:auto;line-height:normal;font-family:Menlo,'DejaVu Sans Mono',consolas,'Courier New',monospace\"><span style=\"font-weight: bold\"> Trainable params: </span><span style=\"color: #00af00; text-decoration-color: #00af00\">315,146</span> (1.20 MB)\n",
       "</pre>\n"
      ],
      "text/plain": [
       "\u001b[1m Trainable params: \u001b[0m\u001b[38;5;34m315,146\u001b[0m (1.20 MB)\n"
      ]
     },
     "metadata": {},
     "output_type": "display_data"
    },
    {
     "data": {
      "text/html": [
       "<pre style=\"white-space:pre;overflow-x:auto;line-height:normal;font-family:Menlo,'DejaVu Sans Mono',consolas,'Courier New',monospace\"><span style=\"font-weight: bold\"> Non-trainable params: </span><span style=\"color: #00af00; text-decoration-color: #00af00\">0</span> (0.00 B)\n",
       "</pre>\n"
      ],
      "text/plain": [
       "\u001b[1m Non-trainable params: \u001b[0m\u001b[38;5;34m0\u001b[0m (0.00 B)\n"
      ]
     },
     "metadata": {},
     "output_type": "display_data"
    }
   ],
   "source": [
    "classical_model_CNN = create_classical_model_CNN(n_px, digits)\n",
    "classical_model_CNN.compile(\n",
    "    optimizer=keras.optimizers.Adam(),\n",
    "    loss=keras.losses.sparse_categorical_crossentropy,\n",
    "    metrics=['accuracy']\n",
    ")\n",
    "classical_model_CNN.summary()"
   ]
  },
  {
   "cell_type": "code",
   "execution_count": 21,
   "id": "e06f1be8-0698-4aa5-9658-8405e4a09e4c",
   "metadata": {},
   "outputs": [
    {
     "name": "stdout",
     "output_type": "stream",
     "text": [
      "Epoch 1/30\n",
      "200/200 - 2s - 11ms/step - accuracy: 0.6400 - loss: 1.0233 - val_accuracy: 0.9100 - val_loss: 0.3650\n",
      "Epoch 2/30\n",
      "200/200 - 1s - 4ms/step - accuracy: 0.9137 - loss: 0.2908 - val_accuracy: 0.9550 - val_loss: 0.2033\n",
      "Epoch 3/30\n",
      "200/200 - 1s - 4ms/step - accuracy: 0.9388 - loss: 0.1967 - val_accuracy: 0.9450 - val_loss: 0.1496\n",
      "Epoch 4/30\n",
      "200/200 - 1s - 4ms/step - accuracy: 0.9500 - loss: 0.1498 - val_accuracy: 0.9600 - val_loss: 0.1222\n",
      "Epoch 5/30\n",
      "200/200 - 1s - 4ms/step - accuracy: 0.9538 - loss: 0.1232 - val_accuracy: 0.9600 - val_loss: 0.1059\n",
      "Epoch 6/30\n",
      "200/200 - 1s - 4ms/step - accuracy: 0.9688 - loss: 0.0959 - val_accuracy: 0.9600 - val_loss: 0.1023\n",
      "Epoch 7/30\n",
      "200/200 - 1s - 3ms/step - accuracy: 0.9725 - loss: 0.0795 - val_accuracy: 0.9550 - val_loss: 0.0978\n",
      "Epoch 8/30\n",
      "200/200 - 1s - 3ms/step - accuracy: 0.9737 - loss: 0.0712 - val_accuracy: 0.9650 - val_loss: 0.1050\n",
      "Epoch 9/30\n",
      "200/200 - 1s - 4ms/step - accuracy: 0.9787 - loss: 0.0587 - val_accuracy: 0.9600 - val_loss: 0.0897\n",
      "Epoch 10/30\n",
      "200/200 - 1s - 4ms/step - accuracy: 0.9850 - loss: 0.0499 - val_accuracy: 0.9600 - val_loss: 0.0895\n",
      "Epoch 11/30\n",
      "200/200 - 1s - 4ms/step - accuracy: 0.9900 - loss: 0.0409 - val_accuracy: 0.9700 - val_loss: 0.0922\n",
      "Epoch 12/30\n",
      "200/200 - 1s - 4ms/step - accuracy: 0.9900 - loss: 0.0363 - val_accuracy: 0.9650 - val_loss: 0.0887\n",
      "Epoch 13/30\n",
      "200/200 - 1s - 4ms/step - accuracy: 0.9937 - loss: 0.0315 - val_accuracy: 0.9650 - val_loss: 0.0873\n",
      "Epoch 14/30\n",
      "200/200 - 1s - 4ms/step - accuracy: 0.9975 - loss: 0.0267 - val_accuracy: 0.9650 - val_loss: 0.0882\n",
      "Epoch 15/30\n",
      "200/200 - 1s - 4ms/step - accuracy: 1.0000 - loss: 0.0238 - val_accuracy: 0.9700 - val_loss: 0.0911\n",
      "Epoch 16/30\n",
      "200/200 - 1s - 4ms/step - accuracy: 1.0000 - loss: 0.0188 - val_accuracy: 0.9650 - val_loss: 0.0855\n",
      "Epoch 17/30\n",
      "200/200 - 1s - 4ms/step - accuracy: 1.0000 - loss: 0.0165 - val_accuracy: 0.9650 - val_loss: 0.0777\n",
      "Epoch 18/30\n",
      "200/200 - 1s - 4ms/step - accuracy: 1.0000 - loss: 0.0153 - val_accuracy: 0.9650 - val_loss: 0.1143\n",
      "Epoch 19/30\n",
      "200/200 - 1s - 4ms/step - accuracy: 1.0000 - loss: 0.0132 - val_accuracy: 0.9650 - val_loss: 0.0887\n",
      "Epoch 20/30\n",
      "200/200 - 1s - 4ms/step - accuracy: 1.0000 - loss: 0.0119 - val_accuracy: 0.9600 - val_loss: 0.0927\n",
      "Epoch 21/30\n",
      "200/200 - 1s - 3ms/step - accuracy: 1.0000 - loss: 0.0102 - val_accuracy: 0.9650 - val_loss: 0.0949\n",
      "Epoch 22/30\n",
      "200/200 - 1s - 3ms/step - accuracy: 1.0000 - loss: 0.0087 - val_accuracy: 0.9600 - val_loss: 0.0967\n",
      "Epoch 23/30\n",
      "200/200 - 1s - 4ms/step - accuracy: 1.0000 - loss: 0.0075 - val_accuracy: 0.9600 - val_loss: 0.0867\n",
      "Epoch 24/30\n",
      "200/200 - 1s - 3ms/step - accuracy: 1.0000 - loss: 0.0069 - val_accuracy: 0.9650 - val_loss: 0.0992\n",
      "Epoch 25/30\n",
      "200/200 - 1s - 4ms/step - accuracy: 1.0000 - loss: 0.0067 - val_accuracy: 0.9650 - val_loss: 0.1036\n",
      "Epoch 26/30\n",
      "200/200 - 1s - 4ms/step - accuracy: 1.0000 - loss: 0.0054 - val_accuracy: 0.9650 - val_loss: 0.0897\n",
      "Epoch 27/30\n",
      "200/200 - 1s - 4ms/step - accuracy: 1.0000 - loss: 0.0047 - val_accuracy: 0.9600 - val_loss: 0.0869\n",
      "Epoch 28/30\n",
      "200/200 - 1s - 4ms/step - accuracy: 1.0000 - loss: 0.0041 - val_accuracy: 0.9600 - val_loss: 0.0976\n",
      "Epoch 29/30\n",
      "200/200 - 1s - 4ms/step - accuracy: 1.0000 - loss: 0.0036 - val_accuracy: 0.9600 - val_loss: 0.0919\n",
      "Epoch 30/30\n",
      "200/200 - 1s - 4ms/step - accuracy: 1.0000 - loss: 0.0031 - val_accuracy: 0.9600 - val_loss: 0.0889\n"
     ]
    }
   ],
   "source": [
    "c_history = classical_model.fit(\n",
    "    x_train,\n",
    "    y_train,\n",
    "    validation_data=(x_test, y_test),\n",
    "    batch_size=4,\n",
    "    epochs=30,\n",
    "    verbose=2\n",
    ")\n",
    "\n",
    "# classical_model_results = classical_model.evaluate(x_test, y_test)"
   ]
  },
  {
   "cell_type": "code",
   "execution_count": 27,
   "id": "16215d6d-d580-487b-a0f0-2ccc26b1740b",
   "metadata": {},
   "outputs": [
    {
     "name": "stdout",
     "output_type": "stream",
     "text": [
      "Epoch 1/8\n",
      "8/8 - 0s - 14ms/step - accuracy: 0.9737 - loss: 0.0816 - val_accuracy: 0.9800 - val_loss: 0.0492\n",
      "Epoch 2/8\n",
      "8/8 - 0s - 11ms/step - accuracy: 0.9825 - loss: 0.0714 - val_accuracy: 0.9900 - val_loss: 0.0355\n",
      "Epoch 3/8\n",
      "8/8 - 0s - 10ms/step - accuracy: 0.9800 - loss: 0.0566 - val_accuracy: 0.9850 - val_loss: 0.0386\n",
      "Epoch 4/8\n",
      "8/8 - 0s - 10ms/step - accuracy: 0.9787 - loss: 0.0557 - val_accuracy: 0.9850 - val_loss: 0.0416\n",
      "Epoch 5/8\n",
      "8/8 - 0s - 10ms/step - accuracy: 0.9875 - loss: 0.0480 - val_accuracy: 0.9900 - val_loss: 0.0293\n",
      "Epoch 6/8\n",
      "8/8 - 0s - 10ms/step - accuracy: 0.9862 - loss: 0.0411 - val_accuracy: 0.9900 - val_loss: 0.0308\n",
      "Epoch 7/8\n",
      "8/8 - 0s - 10ms/step - accuracy: 0.9925 - loss: 0.0338 - val_accuracy: 0.9800 - val_loss: 0.0478\n",
      "Epoch 8/8\n",
      "8/8 - 0s - 10ms/step - accuracy: 0.9837 - loss: 0.0406 - val_accuracy: 0.9950 - val_loss: 0.0199\n"
     ]
    }
   ],
   "source": [
    "CNN_history = classical_model_CNN.fit(x_train,\n",
    "                   y_train,\n",
    "                   batch_size=100,\n",
    "                   epochs=8,\n",
    "                   verbose=2,\n",
    "                   validation_data=(x_test, y_test))\n",
    "\n",
    "# classical_model_CNN_results = classical_model_CNN.evaluate(x_test, y_test)"
   ]
  },
  {
   "cell_type": "code",
   "execution_count": 23,
   "id": "c26c691d-a5df-45e4-b268-1b5308de8908",
   "metadata": {},
   "outputs": [
    {
     "data": {
      "text/plain": [
       "[0.06047125905752182, 0.9800000190734863]"
      ]
     },
     "execution_count": 23,
     "metadata": {},
     "output_type": "execute_result"
    }
   ],
   "source": [
    "classical_model_CNN_results"
   ]
  },
  {
   "cell_type": "code",
   "execution_count": 26,
   "id": "2b15c6cc-1fc3-4bb3-aae4-ec90c614f461",
   "metadata": {},
   "outputs": [
    {
     "data": {
      "text/plain": [
       "[0.9100000262260437,\n",
       " 0.9549999833106995,\n",
       " 0.9449999928474426,\n",
       " 0.9599999785423279,\n",
       " 0.9599999785423279,\n",
       " 0.9599999785423279,\n",
       " 0.9549999833106995,\n",
       " 0.9649999737739563,\n",
       " 0.9599999785423279,\n",
       " 0.9599999785423279,\n",
       " 0.9700000286102295,\n",
       " 0.9649999737739563,\n",
       " 0.9649999737739563,\n",
       " 0.9649999737739563,\n",
       " 0.9700000286102295,\n",
       " 0.9649999737739563,\n",
       " 0.9649999737739563,\n",
       " 0.9649999737739563,\n",
       " 0.9649999737739563,\n",
       " 0.9599999785423279,\n",
       " 0.9649999737739563,\n",
       " 0.9599999785423279,\n",
       " 0.9599999785423279,\n",
       " 0.9649999737739563,\n",
       " 0.9649999737739563,\n",
       " 0.9649999737739563,\n",
       " 0.9599999785423279,\n",
       " 0.9599999785423279,\n",
       " 0.9599999785423279,\n",
       " 0.9599999785423279]"
      ]
     },
     "execution_count": 26,
     "metadata": {},
     "output_type": "execute_result"
    }
   ],
   "source": [
    "c_history.history[\"val_accuracy\"]"
   ]
  },
  {
   "cell_type": "code",
   "execution_count": 28,
   "id": "40b57e8c-2b2b-4242-a867-c6214757dde6",
   "metadata": {},
   "outputs": [
    {
     "data": {
      "text/plain": [
       "[0.9800000190734863,\n",
       " 0.9900000095367432,\n",
       " 0.9850000143051147,\n",
       " 0.9850000143051147,\n",
       " 0.9900000095367432,\n",
       " 0.9900000095367432,\n",
       " 0.9800000190734863,\n",
       " 0.9950000047683716]"
      ]
     },
     "execution_count": 28,
     "metadata": {},
     "output_type": "execute_result"
    }
   ],
   "source": [
    "CNN_history.history['val_accuracy']"
   ]
  },
  {
   "cell_type": "code",
   "execution_count": null,
   "id": "e514c6a8-712c-4fe2-af9a-6affe6b2a887",
   "metadata": {},
   "outputs": [],
   "source": []
  }
 ],
 "metadata": {
  "kernelspec": {
   "display_name": "Python (qml)",
   "language": "python",
   "name": "qml"
  },
  "language_info": {
   "codemirror_mode": {
    "name": "ipython",
    "version": 3
   },
   "file_extension": ".py",
   "mimetype": "text/x-python",
   "name": "python",
   "nbconvert_exporter": "python",
   "pygments_lexer": "ipython3",
   "version": "3.12.9"
  }
 },
 "nbformat": 4,
 "nbformat_minor": 5
}
