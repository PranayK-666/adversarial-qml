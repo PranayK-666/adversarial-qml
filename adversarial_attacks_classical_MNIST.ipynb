{
 "cells": [
  {
   "cell_type": "markdown",
   "id": "4def539e-03dc-456c-862a-c5a2abe71f5e",
   "metadata": {},
   "source": [
    "# Adversarial machine learning - classical models"
   ]
  },
  {
   "cell_type": "code",
   "execution_count": 24,
   "id": "8a2af7e3-9169-4a8b-bbe4-2159e6342903",
   "metadata": {},
   "outputs": [
    {
     "data": {
      "text/plain": [
       "<torch._C.Generator at 0x7f0fe4162930>"
      ]
     },
     "execution_count": 24,
     "metadata": {},
     "output_type": "execute_result"
    }
   ],
   "source": [
    "import torch\n",
    "import torch.nn as nn\n",
    "import torch.nn.functional as F\n",
    "import torch.optim as optim\n",
    "from torch.utils.data import DataLoader, TensorDataset\n",
    "from torchvision import datasets\n",
    "from torchsummary import summary\n",
    "import matplotlib.pyplot as plt\n",
    "import numpy as np\n",
    "from tqdm import tqdm\n",
    "torch.manual_seed(101)"
   ]
  },
  {
   "cell_type": "code",
   "execution_count": 25,
   "id": "990e6be9-beeb-454c-8e4f-88b0ea385c3b",
   "metadata": {},
   "outputs": [
    {
     "name": "stdout",
     "output_type": "stream",
     "text": [
      "Using cuda device\n"
     ]
    }
   ],
   "source": [
    "device = torch.accelerator.current_accelerator().type if torch.accelerator.is_available() else \"cpu\"\n",
    "print(f\"Using {device} device\")"
   ]
  },
  {
   "cell_type": "markdown",
   "id": "d34a3a8d-b006-40b5-a919-5b3b4a578d74",
   "metadata": {},
   "source": [
    "### Dataset"
   ]
  },
  {
   "cell_type": "code",
   "execution_count": 26,
   "id": "6d33f1a3-2d8d-4d0e-a3b0-8702a858ed49",
   "metadata": {},
   "outputs": [],
   "source": [
    "digits = [5, 8]\n",
    "n_px = 16\n",
    "\n",
    "train_size = 10000\n",
    "test_size = 2000\n",
    "\n",
    "batch_size = 100\n",
    "epochs = 20"
   ]
  },
  {
   "cell_type": "code",
   "execution_count": 27,
   "id": "826993f8-a183-434b-834c-f928a9bbc222",
   "metadata": {},
   "outputs": [],
   "source": [
    "def get_dataset(digits=[3, 5], n_px=8, train_size=1000, test_size=200):\n",
    "    # Load raw data (uint8 [0-255])\n",
    "    mnist_train = datasets.MNIST(root='./data', train=True, download=True)\n",
    "    mnist_test = datasets.MNIST(root='./data', train=False, download=True)\n",
    "\n",
    "    # Helper: filter, sample, normalize, resize\n",
    "    def prepare(data, targets, digits, size, n_px):\n",
    "        # Filter by class\n",
    "        mask = torch.zeros_like(targets, dtype=torch.bool)\n",
    "        for d in digits:\n",
    "            mask |= (targets == d)\n",
    "        data_f = data[mask]\n",
    "        targ_f = targets[mask]\n",
    "\n",
    "        # Sample 'size' examples\n",
    "        idx = torch.randperm(len(data_f))[:size]\n",
    "        imgs = data_f[idx].unsqueeze(1).float() / 255.0  # [size,1,28,28]\n",
    "        labs = targ_f[idx]\n",
    "\n",
    "        # Resize to n_px x n_px\n",
    "        imgs_resized = F.interpolate(imgs, size=(n_px, n_px), mode='bilinear', align_corners=False)\n",
    "        # Map labels to 0..len(digits)-1\n",
    "        labs_mapped = torch.tensor([digits.index(int(l)) for l in labs])\n",
    "        return imgs_resized, labs_mapped\n",
    "\n",
    "    x_train, y_train = prepare(mnist_train.data, mnist_train.targets, digits, train_size, n_px)\n",
    "    x_test, y_test   = prepare(mnist_test.data, mnist_test.targets,   digits, test_size,  n_px)\n",
    "    return (x_train, y_train), (x_test, y_test)"
   ]
  },
  {
   "cell_type": "code",
   "execution_count": 28,
   "id": "7a74eb1c-54f1-4cbb-8790-c3fc968cad5f",
   "metadata": {},
   "outputs": [],
   "source": [
    "# Load and prepare dataset\n",
    "(x_train, y_train), (x_test, y_test) = get_dataset(digits=digits, n_px=n_px, train_size=train_size, test_size=test_size)\n",
    "train_loader = DataLoader(TensorDataset(x_train, y_train), batch_size=batch_size, shuffle=True)\n",
    "test_loader = DataLoader(TensorDataset(x_test,  y_test),  batch_size=batch_size)"
   ]
  },
  {
   "cell_type": "markdown",
   "id": "8b0ba066-fca3-421a-9e4c-dfc1b11beaef",
   "metadata": {},
   "source": [
    "### Visulaise data"
   ]
  },
  {
   "cell_type": "code",
   "execution_count": 29,
   "id": "cd36446e-9869-4606-a053-91158b0ba6ce",
   "metadata": {},
   "outputs": [
    {
     "data": {
      "image/png": "[encoded data removed]",
      "text/plain": [
       "<Figure size 400x200 with 2 Axes>"
      ]
     },
     "metadata": {},
     "output_type": "display_data"
    }
   ],
   "source": [
    "# show one image from each class (in the train- and testsets, the images are randomly permuted)\n",
    "x_vis = [(x_train[y_train == i])[0].squeeze(0) for i in range(len(digits))]\n",
    "y_vis = digits\n",
    "\n",
    "# later when we train the model we include the predictions as well, so let's just add the functionality here\n",
    "def visualize_data(x, y, pred=None):\n",
    "    n_img = len(x)\n",
    "    fig, axes = plt.subplots(1, n_img, figsize=(2*n_img, 2))\n",
    "    for i in range(n_img):\n",
    "        axes[i].imshow(x[i], cmap=\"gray\")\n",
    "        if pred is None:\n",
    "            axes[i].set_title(\"Label: {}\".format(y[i]))\n",
    "        else:\n",
    "            axes[i].set_title(\"Label: {}, Pred: {}\".format(y[i], pred[i]))\n",
    "    plt.tight_layout(w_pad=2)\n",
    "    # plt.show()\n",
    "\n",
    "visualize_data(x_vis, y_vis)"
   ]
  },
  {
   "cell_type": "markdown",
   "id": "0bbb1e95-5ad9-4ac0-836e-4fdfa1b7323c",
   "metadata": {},
   "source": [
    "## Classical models"
   ]
  },
  {
   "cell_type": "code",
   "execution_count": 30,
   "id": "e1f882e3-e758-470f-a7d2-65db59aa5f20",
   "metadata": {},
   "outputs": [],
   "source": [
    "# convolutional neural network for good performance\n",
    "# PyTorch tutorials: https://pytorch.org/tutorials/beginner/blitz/cifar10_tutorial.html\n",
    "class NetCNN(nn.Module):\n",
    "    def __init__(self, n_px, n_classes):\n",
    "        super().__init__()\n",
    "        # out_size = [w-k+2p]/s+1\n",
    "        self.conv1 = nn.Conv2d(1, 8, kernel_size=3, padding=1)\n",
    "        self.pool = nn.MaxPool2d(2, 2)\n",
    "        self.conv2 = nn.Conv2d(8, 16, kernel_size=3, padding=1)\n",
    "        self.fc1 = nn.Linear(16 * n_px//4 * n_px//4, 16)\n",
    "        self.fc2 = nn.Linear(16, n_classes)\n",
    "\n",
    "    def forward(self, x):\n",
    "        x = self.pool(F.relu(self.conv1(x)))\n",
    "        x = self.pool(F.relu(self.conv2(x)))\n",
    "        x = torch.flatten(x, 1) # flatten all dimensions except batch\n",
    "        x = F.relu(self.fc1(x))\n",
    "        x = self.fc2(x)\n",
    "        return x\n",
    "\n",
    "# fully connected neural network for direct comparison with quantum model\n",
    "# PyTorch tutorials: https://pytorch.org/tutorials/beginner/basics/buildmodel_tutorial.html\n",
    "class NeuralNetwork(nn.Module):\n",
    "    def __init__(self, n_px, n_classes):\n",
    "        super().__init__()\n",
    "        self.flatten = nn.Flatten()\n",
    "        self.linear_relu_stack = nn.Sequential(\n",
    "            nn.Linear(n_px*n_px, 32),\n",
    "            nn.ReLU(),\n",
    "            nn.Linear(32, 8),\n",
    "            nn.ReLU(),\n",
    "            nn.Linear(8, n_classes),\n",
    "        )\n",
    "\n",
    "    def forward(self, x):\n",
    "        x = self.flatten(x)\n",
    "        logits = self.linear_relu_stack(x)\n",
    "        return logits"
   ]
  },
  {
   "cell_type": "code",
   "execution_count": 31,
   "id": "1cd25631-c18f-41d5-ac80-387b6fe029f8",
   "metadata": {},
   "outputs": [
    {
     "name": "stdout",
     "output_type": "stream",
     "text": [
      "----------------------------------------------------------------\n",
      "        Layer (type)               Output Shape         Param #\n",
      "================================================================\n",
      "           Flatten-1                  [-1, 256]               0\n",
      "            Linear-2                   [-1, 32]           8,224\n",
      "              ReLU-3                   [-1, 32]               0\n",
      "            Linear-4                    [-1, 8]             264\n",
      "              ReLU-5                    [-1, 8]               0\n",
      "            Linear-6                    [-1, 2]              18\n",
      "================================================================\n",
      "Total params: 8,506\n",
      "Trainable params: 8,506\n",
      "Non-trainable params: 0\n",
      "----------------------------------------------------------------\n",
      "Input size (MB): 0.00\n",
      "Forward/backward pass size (MB): 0.00\n",
      "Params size (MB): 0.03\n",
      "Estimated Total Size (MB): 0.04\n",
      "----------------------------------------------------------------\n"
     ]
    }
   ],
   "source": [
    "neural_model = NeuralNetwork(n_px=n_px, n_classes=len(digits)).to(device)\n",
    "summary(neural_model,input_size=(1,n_px,n_px))"
   ]
  },
  {
   "cell_type": "code",
   "execution_count": 32,
   "id": "f7b0edd4-fbf8-4641-bb48-4c7ec93ffd5e",
   "metadata": {},
   "outputs": [
    {
     "name": "stdout",
     "output_type": "stream",
     "text": [
      "----------------------------------------------------------------\n",
      "        Layer (type)               Output Shape         Param #\n",
      "================================================================\n",
      "            Conv2d-1            [-1, 8, 16, 16]              80\n",
      "         MaxPool2d-2              [-1, 8, 8, 8]               0\n",
      "            Conv2d-3             [-1, 16, 8, 8]           1,168\n",
      "         MaxPool2d-4             [-1, 16, 4, 4]               0\n",
      "            Linear-5                   [-1, 16]           4,112\n",
      "            Linear-6                    [-1, 2]              34\n",
      "================================================================\n",
      "Total params: 5,394\n",
      "Trainable params: 5,394\n",
      "Non-trainable params: 0\n",
      "----------------------------------------------------------------\n",
      "Input size (MB): 0.00\n",
      "Forward/backward pass size (MB): 0.03\n",
      "Params size (MB): 0.02\n",
      "Estimated Total Size (MB): 0.05\n",
      "----------------------------------------------------------------\n"
     ]
    }
   ],
   "source": [
    "cnn_model = NetCNN(n_px=n_px, n_classes=len(digits)).to(device)\n",
    "summary(cnn_model,input_size=(1,n_px,n_px))"
   ]
  },
  {
   "cell_type": "markdown",
   "id": "5073fdc0-a999-424e-8366-800eb6685fd0",
   "metadata": {},
   "source": [
    "### Training"
   ]
  },
  {
   "cell_type": "code",
   "execution_count": 33,
   "id": "8bb80b14-e323-4208-a5dc-ac58d9cccc55",
   "metadata": {
    "jupyter": {
     "source_hidden": true
    }
   },
   "outputs": [],
   "source": [
    "# def train_loop(dataloader, model, loss_fn, optimizer, device):\n",
    "#     size = len(dataloader.dataset)\n",
    "#     # Set the model to training mode - important for batch normalization and dropout layers\n",
    "#     # Unnecessary in this situation but added for best practices\n",
    "#     model.train()\n",
    "#     for batch, (X, y) in enumerate(tqdm(dataloader, desc=\"Training\", leave=False)):\n",
    "#         X, y = X.to(device), y.to(device)\n",
    "#         # Compute prediction and loss\n",
    "#         pred = model(X)\n",
    "#         loss = loss_fn(pred, y)\n",
    "\n",
    "#         # Backpropagation\n",
    "#         optimizer.zero_grad()\n",
    "#         loss.backward()\n",
    "#         optimizer.step()\n",
    "        \n",
    "#         if batch % 100 == 0:\n",
    "#             loss, current = loss.item(), batch * batch_size + len(X)\n",
    "#             print(f\"loss: {loss:>7f}  [{current:>5d}/{size:>5d}]\")\n",
    "\n",
    "\n",
    "# def test_loop(dataloader, model, loss_fn, device):\n",
    "#     # Set the model to evaluation mode - important for batch normalization and dropout layers\n",
    "#     # Unnecessary in this situation but added for best practices\n",
    "#     model.eval()\n",
    "#     size = len(dataloader.dataset)\n",
    "#     num_batches = len(dataloader)\n",
    "#     test_loss, correct = 0, 0\n",
    "\n",
    "#     # Evaluating the model with torch.no_grad() ensures that no gradients are computed during test mode\n",
    "#     # also serves to reduce unnecessary gradient computations and memory usage for tensors with requires_grad=True\n",
    "#     with torch.no_grad():\n",
    "#         for X, y in dataloader:\n",
    "#             X, y = X.to(device), y.to(device)\n",
    "#             pred = model(X)\n",
    "#             test_loss += loss_fn(pred, y).item()\n",
    "#             correct += (pred.argmax(1) == y).type(torch.float).sum().item()\n",
    "\n",
    "#     test_loss /= num_batches\n",
    "#     correct /= size\n",
    "#     print(f\"Test Error: \\n Accuracy: {(100*correct):>0.1f}%, Avg loss: {test_loss:>8f} \\n\")"
   ]
  },
  {
   "cell_type": "code",
   "execution_count": 34,
   "id": "3a101e43-cc86-4c3d-80e8-c33bca5e3fb0",
   "metadata": {},
   "outputs": [],
   "source": [
    "def train_loop(dataloader, model, loss_fn, optimizer, device):\n",
    "    size = len(dataloader.dataset)\n",
    "    # Set the model to training mode - important for batch normalization and dropout layers\n",
    "    # Unnecessary in this situation but added for best practices\n",
    "    model.train()\n",
    "    total_loss, correct, total = 0.0, 0, 0\n",
    "\n",
    "    loop = tqdm(dataloader, desc=\"Train\", leave=False)\n",
    "    for X, y in loop:\n",
    "        X, y = X.to(device), y.to(device)\n",
    "        # Compute prediction and loss\n",
    "        pred = model(X)\n",
    "        loss = loss_fn(pred, y)\n",
    "\n",
    "        # Backpropagation\n",
    "        optimizer.zero_grad()\n",
    "        loss.backward()\n",
    "        optimizer.step()\n",
    "        \n",
    "        total_loss += loss.item() * X.size(0)\n",
    "        correct += (pred.argmax(1) == y).type(torch.float).sum().item()\n",
    "        total += y.size(0)\n",
    "\n",
    "    avg_loss = total_loss / total\n",
    "    accuracy = correct / total\n",
    "    return avg_loss, accuracy\n",
    "\n",
    "\n",
    "def test_loop(dataloader, model, loss_fn, device):\n",
    "    # Set the model to evaluation mode - important for batch normalization and dropout layers\n",
    "    # Unnecessary in this situation but added for best practices\n",
    "    model.eval()\n",
    "    total_loss, correct, total = 0.0, 0, 0\n",
    "\n",
    "    # Evaluating the model with torch.no_grad() ensures that no gradients are computed during test mode\n",
    "    # also serves to reduce unnecessary gradient computations and memory usage for tensors with requires_grad=True\n",
    "    with torch.no_grad():\n",
    "        for X, y in dataloader:\n",
    "            X, y = X.to(device), y.to(device)\n",
    "            pred = model(X)\n",
    "            total_loss += loss_fn(pred, y).item() * X.size(0)\n",
    "            correct += (pred.argmax(1) == y).type(torch.float).sum().item()\n",
    "            total += y.size(0)\n",
    "\n",
    "    avg_loss = total_loss / total\n",
    "    accuracy = correct / total\n",
    "    return avg_loss, accuracy"
   ]
  },
  {
   "cell_type": "code",
   "execution_count": 35,
   "id": "989528ff-a0b4-42e7-9c32-bb67d552ae60",
   "metadata": {
    "scrolled": true
   },
   "outputs": [
    {
     "name": "stderr",
     "output_type": "stream",
     "text": [
      "                                                                                "
     ]
    },
    {
     "name": "stdout",
     "output_type": "stream",
     "text": [
      "Epoch  1/20 | Train Loss: 0.4132 | Train Acc: 87.32% | Test Loss: 0.1731 | Test Acc: 94.69%\n"
     ]
    },
    {
     "name": "stderr",
     "output_type": "stream",
     "text": [
      "                                                                                "
     ]
    },
    {
     "name": "stdout",
     "output_type": "stream",
     "text": [
      "Epoch  2/20 | Train Loss: 0.1338 | Train Acc: 95.48% | Test Loss: 0.0967 | Test Acc: 96.62%\n"
     ]
    },
    {
     "name": "stderr",
     "output_type": "stream",
     "text": [
      "                                                                                "
     ]
    },
    {
     "name": "stdout",
     "output_type": "stream",
     "text": [
      "Epoch  3/20 | Train Loss: 0.0837 | Train Acc: 97.04% | Test Loss: 0.0700 | Test Acc: 97.48%\n"
     ]
    },
    {
     "name": "stderr",
     "output_type": "stream",
     "text": [
      "                                                                                "
     ]
    },
    {
     "name": "stdout",
     "output_type": "stream",
     "text": [
      "Epoch  4/20 | Train Loss: 0.0625 | Train Acc: 97.83% | Test Loss: 0.0582 | Test Acc: 97.75%\n"
     ]
    },
    {
     "name": "stderr",
     "output_type": "stream",
     "text": [
      "                                                                                "
     ]
    },
    {
     "name": "stdout",
     "output_type": "stream",
     "text": [
      "Epoch  5/20 | Train Loss: 0.0534 | Train Acc: 98.27% | Test Loss: 0.0529 | Test Acc: 97.91%\n"
     ]
    },
    {
     "name": "stderr",
     "output_type": "stream",
     "text": [
      "                                                                                "
     ]
    },
    {
     "name": "stdout",
     "output_type": "stream",
     "text": [
      "Epoch  6/20 | Train Loss: 0.0470 | Train Acc: 98.39% | Test Loss: 0.0485 | Test Acc: 97.96%\n"
     ]
    },
    {
     "name": "stderr",
     "output_type": "stream",
     "text": [
      "                                                                                "
     ]
    },
    {
     "name": "stdout",
     "output_type": "stream",
     "text": [
      "Epoch  7/20 | Train Loss: 0.0425 | Train Acc: 98.51% | Test Loss: 0.0580 | Test Acc: 97.80%\n"
     ]
    },
    {
     "name": "stderr",
     "output_type": "stream",
     "text": [
      "                                                                                "
     ]
    },
    {
     "name": "stdout",
     "output_type": "stream",
     "text": [
      "Epoch  8/20 | Train Loss: 0.0381 | Train Acc: 98.74% | Test Loss: 0.0418 | Test Acc: 98.18%\n"
     ]
    },
    {
     "name": "stderr",
     "output_type": "stream",
     "text": [
      "                                                                                "
     ]
    },
    {
     "name": "stdout",
     "output_type": "stream",
     "text": [
      "Epoch  9/20 | Train Loss: 0.0356 | Train Acc: 98.87% | Test Loss: 0.0435 | Test Acc: 98.34%\n"
     ]
    },
    {
     "name": "stderr",
     "output_type": "stream",
     "text": [
      "                                                                                "
     ]
    },
    {
     "name": "stdout",
     "output_type": "stream",
     "text": [
      "Epoch 10/20 | Train Loss: 0.0330 | Train Acc: 98.95% | Test Loss: 0.0396 | Test Acc: 98.45%\n"
     ]
    },
    {
     "name": "stderr",
     "output_type": "stream",
     "text": [
      "                                                                                "
     ]
    },
    {
     "name": "stdout",
     "output_type": "stream",
     "text": [
      "Epoch 11/20 | Train Loss: 0.0300 | Train Acc: 99.09% | Test Loss: 0.0363 | Test Acc: 98.29%\n"
     ]
    },
    {
     "name": "stderr",
     "output_type": "stream",
     "text": [
      "                                                                                "
     ]
    },
    {
     "name": "stdout",
     "output_type": "stream",
     "text": [
      "Epoch 12/20 | Train Loss: 0.0274 | Train Acc: 99.10% | Test Loss: 0.0346 | Test Acc: 98.50%\n"
     ]
    },
    {
     "name": "stderr",
     "output_type": "stream",
     "text": [
      "                                                                                "
     ]
    },
    {
     "name": "stdout",
     "output_type": "stream",
     "text": [
      "Epoch 13/20 | Train Loss: 0.0259 | Train Acc: 99.15% | Test Loss: 0.0360 | Test Acc: 98.50%\n"
     ]
    },
    {
     "name": "stderr",
     "output_type": "stream",
     "text": [
      "                                                                                "
     ]
    },
    {
     "name": "stdout",
     "output_type": "stream",
     "text": [
      "Epoch 14/20 | Train Loss: 0.0247 | Train Acc: 99.21% | Test Loss: 0.0327 | Test Acc: 98.50%\n"
     ]
    },
    {
     "name": "stderr",
     "output_type": "stream",
     "text": [
      "                                                                                "
     ]
    },
    {
     "name": "stdout",
     "output_type": "stream",
     "text": [
      "Epoch 15/20 | Train Loss: 0.0229 | Train Acc: 99.26% | Test Loss: 0.0342 | Test Acc: 98.55%\n"
     ]
    },
    {
     "name": "stderr",
     "output_type": "stream",
     "text": [
      "                                                                                "
     ]
    },
    {
     "name": "stdout",
     "output_type": "stream",
     "text": [
      "Epoch 16/20 | Train Loss: 0.0210 | Train Acc: 99.34% | Test Loss: 0.0320 | Test Acc: 98.55%\n"
     ]
    },
    {
     "name": "stderr",
     "output_type": "stream",
     "text": [
      "                                                                                "
     ]
    },
    {
     "name": "stdout",
     "output_type": "stream",
     "text": [
      "Epoch 17/20 | Train Loss: 0.0192 | Train Acc: 99.39% | Test Loss: 0.0313 | Test Acc: 98.66%\n"
     ]
    },
    {
     "name": "stderr",
     "output_type": "stream",
     "text": [
      "                                                                                "
     ]
    },
    {
     "name": "stdout",
     "output_type": "stream",
     "text": [
      "Epoch 18/20 | Train Loss: 0.0185 | Train Acc: 99.47% | Test Loss: 0.0314 | Test Acc: 98.66%\n"
     ]
    },
    {
     "name": "stderr",
     "output_type": "stream",
     "text": [
      "                                                                                "
     ]
    },
    {
     "name": "stdout",
     "output_type": "stream",
     "text": [
      "Epoch 19/20 | Train Loss: 0.0169 | Train Acc: 99.55% | Test Loss: 0.0329 | Test Acc: 98.45%\n"
     ]
    },
    {
     "name": "stderr",
     "output_type": "stream",
     "text": [
      "                                                                                "
     ]
    },
    {
     "name": "stdout",
     "output_type": "stream",
     "text": [
      "Epoch 20/20 | Train Loss: 0.0155 | Train Acc: 99.61% | Test Loss: 0.0332 | Test Acc: 98.71%\n"
     ]
    },
    {
     "name": "stderr",
     "output_type": "stream",
     "text": []
    }
   ],
   "source": [
    "neural_model = NeuralNetwork(n_px=n_px, n_classes=len(digits)).to(device)\n",
    "\n",
    "loss_fn = nn.CrossEntropyLoss()\n",
    "optimizer = torch.optim.Adam(neural_model.parameters(), lr=1e-3)\n",
    "\n",
    "for epoch in range(1, epochs + 1):\n",
    "    train_loss, train_acc = train_loop(train_loader, neural_model, loss_fn, optimizer, device)\n",
    "    test_loss, test_acc = test_loop(test_loader, neural_model, loss_fn, device)\n",
    "    print(f\"Epoch {epoch:2d}/{epochs} | \"\n",
    "          f\"Train Loss: {train_loss:.4f} | Train Acc: {train_acc*100:5.2f}% | \"\n",
    "          f\"Test Loss: {test_loss:.4f} | Test Acc: {test_acc*100:5.2f}%\")"
   ]
  },
  {
   "cell_type": "code",
   "execution_count": 36,
   "id": "94a668ed-04a4-4624-bce0-ceef5e41fadc",
   "metadata": {
    "scrolled": true
   },
   "outputs": [
    {
     "name": "stderr",
     "output_type": "stream",
     "text": [
      "                                                                                "
     ]
    },
    {
     "name": "stdout",
     "output_type": "stream",
     "text": [
      "Epoch  1/20 | Train Loss: 0.4265 | Train Acc: 82.57% | Test Loss: 0.1466 | Test Acc: 95.23%\n"
     ]
    },
    {
     "name": "stderr",
     "output_type": "stream",
     "text": [
      "                                                                                "
     ]
    },
    {
     "name": "stdout",
     "output_type": "stream",
     "text": [
      "Epoch  2/20 | Train Loss: 0.0898 | Train Acc: 97.17% | Test Loss: 0.0496 | Test Acc: 98.39%\n"
     ]
    },
    {
     "name": "stderr",
     "output_type": "stream",
     "text": [
      "                                                                                "
     ]
    },
    {
     "name": "stdout",
     "output_type": "stream",
     "text": [
      "Epoch  3/20 | Train Loss: 0.0466 | Train Acc: 98.55% | Test Loss: 0.0311 | Test Acc: 98.87%\n"
     ]
    },
    {
     "name": "stderr",
     "output_type": "stream",
     "text": [
      "                                                                                "
     ]
    },
    {
     "name": "stdout",
     "output_type": "stream",
     "text": [
      "Epoch  4/20 | Train Loss: 0.0337 | Train Acc: 98.86% | Test Loss: 0.0329 | Test Acc: 98.93%\n"
     ]
    },
    {
     "name": "stderr",
     "output_type": "stream",
     "text": [
      "                                                                                "
     ]
    },
    {
     "name": "stdout",
     "output_type": "stream",
     "text": [
      "Epoch  5/20 | Train Loss: 0.0283 | Train Acc: 99.13% | Test Loss: 0.0168 | Test Acc: 99.41%\n"
     ]
    },
    {
     "name": "stderr",
     "output_type": "stream",
     "text": [
      "                                                                                "
     ]
    },
    {
     "name": "stdout",
     "output_type": "stream",
     "text": [
      "Epoch  6/20 | Train Loss: 0.0244 | Train Acc: 99.24% | Test Loss: 0.0166 | Test Acc: 99.25%\n"
     ]
    },
    {
     "name": "stderr",
     "output_type": "stream",
     "text": [
      "                                                                                "
     ]
    },
    {
     "name": "stdout",
     "output_type": "stream",
     "text": [
      "Epoch  7/20 | Train Loss: 0.0214 | Train Acc: 99.28% | Test Loss: 0.0190 | Test Acc: 99.36%\n"
     ]
    },
    {
     "name": "stderr",
     "output_type": "stream",
     "text": [
      "                                                                                "
     ]
    },
    {
     "name": "stdout",
     "output_type": "stream",
     "text": [
      "Epoch  8/20 | Train Loss: 0.0208 | Train Acc: 99.37% | Test Loss: 0.0205 | Test Acc: 99.30%\n"
     ]
    },
    {
     "name": "stderr",
     "output_type": "stream",
     "text": [
      "                                                                                "
     ]
    },
    {
     "name": "stdout",
     "output_type": "stream",
     "text": [
      "Epoch  9/20 | Train Loss: 0.0211 | Train Acc: 99.27% | Test Loss: 0.0137 | Test Acc: 99.30%\n"
     ]
    },
    {
     "name": "stderr",
     "output_type": "stream",
     "text": [
      "                                                                                "
     ]
    },
    {
     "name": "stdout",
     "output_type": "stream",
     "text": [
      "Epoch 10/20 | Train Loss: 0.0176 | Train Acc: 99.43% | Test Loss: 0.0098 | Test Acc: 99.62%\n"
     ]
    },
    {
     "name": "stderr",
     "output_type": "stream",
     "text": [
      "                                                                                "
     ]
    },
    {
     "name": "stdout",
     "output_type": "stream",
     "text": [
      "Epoch 11/20 | Train Loss: 0.0167 | Train Acc: 99.45% | Test Loss: 0.0101 | Test Acc: 99.68%\n"
     ]
    },
    {
     "name": "stderr",
     "output_type": "stream",
     "text": [
      "                                                                                "
     ]
    },
    {
     "name": "stdout",
     "output_type": "stream",
     "text": [
      "Epoch 12/20 | Train Loss: 0.0157 | Train Acc: 99.39% | Test Loss: 0.0087 | Test Acc: 99.62%\n"
     ]
    },
    {
     "name": "stderr",
     "output_type": "stream",
     "text": [
      "                                                                                "
     ]
    },
    {
     "name": "stdout",
     "output_type": "stream",
     "text": [
      "Epoch 13/20 | Train Loss: 0.0154 | Train Acc: 99.54% | Test Loss: 0.0144 | Test Acc: 99.57%\n"
     ]
    },
    {
     "name": "stderr",
     "output_type": "stream",
     "text": [
      "                                                                                "
     ]
    },
    {
     "name": "stdout",
     "output_type": "stream",
     "text": [
      "Epoch 14/20 | Train Loss: 0.0141 | Train Acc: 99.54% | Test Loss: 0.0110 | Test Acc: 99.52%\n"
     ]
    },
    {
     "name": "stderr",
     "output_type": "stream",
     "text": [
      "                                                                                "
     ]
    },
    {
     "name": "stdout",
     "output_type": "stream",
     "text": [
      "Epoch 15/20 | Train Loss: 0.0123 | Train Acc: 99.60% | Test Loss: 0.0075 | Test Acc: 99.79%\n"
     ]
    },
    {
     "name": "stderr",
     "output_type": "stream",
     "text": [
      "                                                                                "
     ]
    },
    {
     "name": "stdout",
     "output_type": "stream",
     "text": [
      "Epoch 16/20 | Train Loss: 0.0127 | Train Acc: 99.59% | Test Loss: 0.0068 | Test Acc: 99.79%\n"
     ]
    },
    {
     "name": "stderr",
     "output_type": "stream",
     "text": [
      "                                                                                "
     ]
    },
    {
     "name": "stdout",
     "output_type": "stream",
     "text": [
      "Epoch 17/20 | Train Loss: 0.0106 | Train Acc: 99.66% | Test Loss: 0.0125 | Test Acc: 99.62%\n"
     ]
    },
    {
     "name": "stderr",
     "output_type": "stream",
     "text": [
      "                                                                                "
     ]
    },
    {
     "name": "stdout",
     "output_type": "stream",
     "text": [
      "Epoch 18/20 | Train Loss: 0.0128 | Train Acc: 99.50% | Test Loss: 0.0165 | Test Acc: 99.46%\n"
     ]
    },
    {
     "name": "stderr",
     "output_type": "stream",
     "text": [
      "                                                                                "
     ]
    },
    {
     "name": "stdout",
     "output_type": "stream",
     "text": [
      "Epoch 19/20 | Train Loss: 0.0101 | Train Acc: 99.68% | Test Loss: 0.0122 | Test Acc: 99.57%\n"
     ]
    },
    {
     "name": "stderr",
     "output_type": "stream",
     "text": [
      "                                                                                "
     ]
    },
    {
     "name": "stdout",
     "output_type": "stream",
     "text": [
      "Epoch 20/20 | Train Loss: 0.0101 | Train Acc: 99.63% | Test Loss: 0.0061 | Test Acc: 99.68%\n"
     ]
    }
   ],
   "source": [
    "cnn_model = NetCNN(n_px=n_px, n_classes=len(digits)).to(device)\n",
    "\n",
    "loss_fn = nn.CrossEntropyLoss()\n",
    "optimizer = torch.optim.Adam(cnn_model.parameters(), lr=1e-3)\n",
    "\n",
    "for epoch in range(1, epochs + 1):\n",
    "    train_loss, train_acc = train_loop(train_loader, cnn_model, loss_fn, optimizer, device)\n",
    "    test_loss, test_acc = test_loop(test_loader, cnn_model, loss_fn, device)\n",
    "    print(f\"Epoch {epoch:2d}/{epochs} | \"\n",
    "          f\"Train Loss: {train_loss:.4f} | Train Acc: {train_acc*100:5.2f}% | \"\n",
    "          f\"Test Loss: {test_loss:.4f} | Test Acc: {test_acc*100:5.2f}%\")"
   ]
  },
  {
   "cell_type": "markdown",
   "id": "bdd4a65e-9894-4d41-9ab1-e141868cfac5",
   "metadata": {},
   "source": [
    "## Adversarial attack"
   ]
  },
  {
   "cell_type": "code",
   "execution_count": 37,
   "id": "fb15badf-d0f0-4a57-b6e4-e69d38e2500f",
   "metadata": {},
   "outputs": [],
   "source": [
    "def PGD(model, feats, labels, epsilon=0.1, alpha=None, num_iter=10):\n",
    "    if alpha is None:\n",
    "        alpha = epsilon/num_iter\n",
    "    \n",
    "    model.eval()  # Ensure model is in eval mode\n",
    "    feats = feats.clone().detach().to(device)\n",
    "    labels = labels.clone().detach().to(device)\n",
    "    \n",
    "    # Start with zero perturbation\n",
    "    delta = torch.zeros_like(feats, requires_grad=True).to(device)\n",
    "    \n",
    "    for t in range(num_iter):\n",
    "        outputs = model(feats + delta)\n",
    "        loss = nn.CrossEntropyLoss()(outputs, labels)\n",
    "        loss.backward()\n",
    "        \n",
    "        # Update delta and clamp it to epsilon\n",
    "        delta.data = (delta + alpha * delta.grad.detach().sign()).clamp(-epsilon, epsilon)\n",
    "        delta.grad.zero_()\n",
    "    \n",
    "    return delta.detach()"
   ]
  },
  {
   "cell_type": "code",
   "execution_count": 38,
   "id": "b072df5a-eec5-4f04-8570-75598f003f3b",
   "metadata": {},
   "outputs": [],
   "source": [
    "x_perturb = x_test.to(device)\n",
    "y_perturb = y_test.to(device)\n",
    "perturbations = PGD(model=cnn_model, feats=x_perturb, labels=y_perturb, epsilon=0.18, alpha=0.01, num_iter=100)"
   ]
  },
  {
   "cell_type": "code",
   "execution_count": 39,
   "id": "60976e22-74de-4289-8308-af33be0807d9",
   "metadata": {},
   "outputs": [
    {
     "data": {
      "image/png": "[encoded data removed]",
      "text/plain": [
       "<Figure size 400x200 with 2 Axes>"
      ]
     },
     "metadata": {},
     "output_type": "display_data"
    }
   ],
   "source": [
    "# show one image from each class (in the train- and testsets, the images are randomly permuted)\n",
    "x_vis = [(x_perturb[y_perturb == i])[0].squeeze(0).to(\"cpu\") for i in range(len(digits))]\n",
    "y_vis = digits\n",
    "\n",
    "visualize_data(x_vis, y_vis)"
   ]
  },
  {
   "cell_type": "code",
   "execution_count": 40,
   "id": "89f25f05-d110-4962-bbe4-f4bc4449f50b",
   "metadata": {},
   "outputs": [],
   "source": [
    "x_perturb = x_perturb + perturbations"
   ]
  },
  {
   "cell_type": "code",
   "execution_count": 41,
   "id": "fd16bb25-7666-4242-9aea-e51213be6e43",
   "metadata": {},
   "outputs": [
    {
     "data": {
      "image/png": "[encoded data removed]",
      "text/plain": [
       "<Figure size 400x200 with 2 Axes>"
      ]
     },
     "metadata": {},
     "output_type": "display_data"
    }
   ],
   "source": [
    "# show one image from each class (in the train- and testsets, the images are randomly permuted)\n",
    "x_vis = [(x_perturb[y_perturb == i])[0].squeeze(0).to(\"cpu\") for i in range(len(digits))]\n",
    "y_vis = digits\n",
    "\n",
    "visualize_data(x_vis, y_vis)"
   ]
  },
  {
   "cell_type": "code",
   "execution_count": 42,
   "id": "defb4d02-6dfe-442f-8236-3a0b334aa32a",
   "metadata": {},
   "outputs": [],
   "source": [
    "adv_loader = DataLoader(TensorDataset(x_perturb, y_perturb), batch_size=batch_size)"
   ]
  },
  {
   "cell_type": "code",
   "execution_count": 43,
   "id": "753f230d-552f-4d36-ad9c-dde145a4f1ef",
   "metadata": {},
   "outputs": [
    {
     "name": "stdout",
     "output_type": "stream",
     "text": [
      "Test Loss: 0.0332 | Test Acc: 98.71% | Adv Test Loss: 1.9588 | Adv Test Acc: 57.45% | \n"
     ]
    }
   ],
   "source": [
    "test_loss, test_acc = test_loop(test_loader, neural_model, loss_fn, device)\n",
    "adv_test_loss, adv_test_acc = test_loop(adv_loader, neural_model, loss_fn, device)\n",
    "print(f\"Test Loss: {test_loss:.4f} | Test Acc: {test_acc*100:5.2f}% | \"\n",
    "      f\"Adv Test Loss: {adv_test_loss:.4f} | Adv Test Acc: {adv_test_acc*100:5.2f}% | \")"
   ]
  },
  {
   "cell_type": "code",
   "execution_count": 44,
   "id": "f071548e-356f-4b07-b59e-c7d948e4dd62",
   "metadata": {},
   "outputs": [
    {
     "name": "stdout",
     "output_type": "stream",
     "text": [
      "Test Loss: 0.0061 | Test Acc: 99.68% | Adv Test Loss: 14.3700 | Adv Test Acc:  0.05% | \n"
     ]
    }
   ],
   "source": [
    "test_loss, test_acc = test_loop(test_loader, cnn_model, loss_fn, device)\n",
    "adv_test_loss, adv_test_acc = test_loop(adv_loader, cnn_model, loss_fn, device)\n",
    "print(f\"Test Loss: {test_loss:.4f} | Test Acc: {test_acc*100:5.2f}% | \"\n",
    "      f\"Adv Test Loss: {adv_test_loss:.4f} | Adv Test Acc: {adv_test_acc*100:5.2f}% | \")"
   ]
  },
  {
   "cell_type": "code",
   "execution_count": 45,
   "id": "bfd59c33-06ac-463e-9761-488e65fbde7a",
   "metadata": {},
   "outputs": [],
   "source": [
    "# Evaluate model on adversarial examples\n",
    "def evaluate_under_attack(model, base_feats, labels, epsilons, alpha, num_iter=10):\n",
    "    acc_list = []\n",
    "\n",
    "    for eps in epsilons:\n",
    "        perturb = PGD(model, base_feats, labels, epsilon=eps, alpha=alpha, num_iter=num_iter)\n",
    "        x_adv = (base_feats + perturb).clamp(0, 1)  # Clamp to valid pixel range\n",
    "        adv_loader = DataLoader(TensorDataset(x_adv, labels), batch_size=batch_size)\n",
    "        _, acc = test_loop(adv_loader, model, loss_fn, device)\n",
    "        acc_list.append(acc)\n",
    "\n",
    "    return acc_list\n",
    "\n",
    "# Settings\n",
    "epsilons = np.linspace(0, 0.2, 10)  # Change range/resolution as needed\n",
    "x_perturb = x_test[:100].to(device)\n",
    "y_perturb = y_test[:100].to(device)\n",
    "alpha = 1e-2\n",
    "num_iter = 100\n",
    "\n",
    "# Evaluate both models\n",
    "accs_cnn = evaluate_under_attack(cnn_model, x_perturb, y_perturb, epsilons, alpha, num_iter)\n",
    "accs_neural = evaluate_under_attack(neural_model, x_perturb, y_perturb, epsilons, alpha, num_iter)"
   ]
  },
  {
   "cell_type": "code",
   "execution_count": 46,
   "id": "2148c553-4952-4466-bf21-1c0f44145ebf",
   "metadata": {},
   "outputs": [
    {
     "data": {
      "image/png": "[encoded data removed]",
      "text/plain": [
       "<Figure size 800x500 with 1 Axes>"
      ]
     },
     "metadata": {},
     "output_type": "display_data"
    }
   ],
   "source": [
    "# Plot\n",
    "plt.figure(figsize=(8, 5))\n",
    "plt.plot(epsilons, accs_cnn, 'bs-', label='CNN Model')\n",
    "plt.plot(epsilons, accs_neural, 'ro-', label='Neural Model')\n",
    "plt.xlabel('Epsilon (ε)')\n",
    "plt.ylabel('Accuracy')\n",
    "plt.title('Accuracy vs. Epsilon under PGD Attack')\n",
    "plt.legend()\n",
    "plt.grid(True)\n",
    "plt.show()"
   ]
  },
  {
   "cell_type": "code",
   "execution_count": 43,
   "id": "e8413ad3-edb7-47d8-ad4f-9974a24e1045",
   "metadata": {},
   "outputs": [
    {
     "data": {
      "image/png": "[encoded data removed]",
      "text/plain": [
       "<Figure size 800x500 with 1 Axes>"
      ]
     },
     "metadata": {},
     "output_type": "display_data"
    }
   ],
   "source": [
    "# Plot\n",
    "plt.figure(figsize=(8, 5))\n",
    "plt.plot(epsilons, accs_cnn, 'bs-', label='CNN Model')\n",
    "plt.plot(epsilons, accs_neural, 'ro-', label='Neural Model')\n",
    "plt.xlabel('Epsilon (ε)')\n",
    "plt.ylabel('Accuracy')\n",
    "plt.title('Accuracy vs. Epsilon under PGD Attack')\n",
    "plt.legend()\n",
    "plt.grid(True)\n",
    "plt.show()"
   ]
  },
  {
   "cell_type": "code",
   "execution_count": null,
   "id": "e9aacbbb-857e-410e-a773-fcd5a52bf9e5",
   "metadata": {},
   "outputs": [],
   "source": []
  }
 ],
 "metadata": {
  "kernelspec": {
   "display_name": "Python (qml)",
   "language": "python",
   "name": "qml"
  },
  "language_info": {
   "codemirror_mode": {
    "name": "ipython",
    "version": 3
   },
   "file_extension": ".py",
   "mimetype": "text/x-python",
   "name": "python",
   "nbconvert_exporter": "python",
   "pygments_lexer": "ipython3",
   "version": "3.12.9"
  }
 },
 "nbformat": 4,
 "nbformat_minor": 5
}
