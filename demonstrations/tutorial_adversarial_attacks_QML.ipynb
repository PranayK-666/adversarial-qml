{
 "cells": [
  {
   "cell_type": "code",
   "execution_count": 1,
   "metadata": {
    "collapsed": false,
    "jupyter": {
     "outputs_hidden": false
    }
   },
   "outputs": [],
   "source": [
    "# This cell is added by sphinx-gallery\n",
    "# It can be customized to whatever you like\n",
    "%matplotlib inline"
   ]
  },
  {
   "cell_type": "markdown",
   "metadata": {},
   "source": [
    "Adversarial attacks and robustness for quantum machine learning\n",
    "===============================================\n"
   ]
  },
  {
   "cell_type": "markdown",
   "metadata": {},
   "source": [
    "This demo is based on the paper *A Comparative Analysis of Adversarial\n",
    "Robustness for Quantum and Classical Machine Learning Models* by M.\n",
    "Wendlinger, K. Tscharke and P. Debus, which dives into the world of\n",
    "adversarial attacks on quantum computers to find relations to classical\n",
    "adversarial machine learning. In the following, we briefly cover the\n",
    "necessary theoretical baselines of adversarial attacks on classification\n",
    "networks before giving a hands-on example of how to construct such an\n",
    "attack and how we can make QML models more robust. Let's go!\n",
    "\n",
    "![](../_static/demonstration_assets/adversarial_attacks_QML/QAML_overview.png){.align-center\n",
    "width=\"80.0%\"}\n"
   ]
  },
  {
   "cell_type": "markdown",
   "metadata": {},
   "source": [
    "# What are adversarial attacks?\n",
    "\n",
    "Adversarial attacks are small, carefully crafted perturbations to input\n",
    "data that lead to high rates of misclassification for machine learning\n",
    "models, while the data seems to be identical to the original for human\n",
    "observers. In particular, images are sensitive to this type of attack,\n",
    "as small manipulations of the pixels can fool a classifier without any\n",
    "changes being visible to humans. A typical example of an adversarial\n",
    "attack is shown in the picture above, where an image of a panda is\n",
    "manipulated by adding a small noise to each pixel. The original image is\n",
    "correctly classified as \\\"Panda,\\\" while the image with tiny\n",
    "manipulations is falsely classified as \\\"Gibbon\\\" (the noise is\n",
    "magnified in the figure so we can actually see it). This example is\n",
    "adapted from a famous paper showing the vulnerability of classical\n",
    "machine learning models to adversarial attacks.\n",
    "\n",
    "Mathematically, the goal of an (untargeted) attack is to achieve a\n",
    "misclassification of the model such that a sample $x$ leads to a\n",
    "predicted label $y' \\neq y$ that is not the true label $y.$ This is\n",
    "achieved by finding the perturbation $\\delta\\in\\Delta$ to the original\n",
    "input that maximizes the loss of the true class. For a loss function\n",
    "$\\mathcal{L},$ a model $f: \\mathbb{R}^{D} \\to \\mathbb{R}^K$ (mapping\n",
    "$D$-dimensional input to\n",
    "[softmax](https://en.wikipedia.org/wiki/Softmax_function) probability\n",
    "scores of $K$ classes with model parameters $\\theta^*$), the objective\n",
    "of the untargeted attack is:\n",
    "\n",
    "$$\\delta \\equiv \\; \\underset{\\delta^{\\prime} \\in \\Delta}{\\operatorname{argmax}} \\;\\mathcal{L}\\left(f\\left(x+\\delta^{\\prime} ; \\theta^*\\right), y\\right).$$\n",
    "\n",
    "Later, when we show how to actually construct such an attack, we will\n",
    "revisit this equation. For an adversarial attack to be considered\n",
    "useful, it must hold that the modifications to the input elements are\n",
    "imperceptible, i.e. that\n",
    "$\\Delta=\\{\\delta \\in \\mathbb{R}^{D}: \\| \\delta\\|_{\\infty} \\le \\varepsilon\\},$\n",
    "where $\\varepsilon$ is some small bound, typically below $0.1.$\n"
   ]
  },
  {
   "cell_type": "markdown",
   "metadata": {},
   "source": [
    "# Why are adversarial attacks dangerous?\n",
    "\n",
    "Machine learning (ML) is becoming essential in many security-critical\n",
    "applications, for example in\n",
    "[cybersecurity](https://arxiv.org/abs/1901.03407), the [medical\n",
    "sector](https://arxiv.org/abs/1606.05718), or [autonomous\n",
    "vehicles](https://arxiv.org/abs/1604.07316). In cybersecurity, ML models\n",
    "are used, amongst others, for malware detection or the prevention of\n",
    "attacks on networks. Given their critical roles, any successful attack\n",
    "of these ML models can lead to severe consequences, ranging from\n",
    "financial losses and privacy violations to threats to human life. As we\n",
    "have seen above, adversarial attacks are imperceptible to humans, and\n",
    "hence difficult to detect. For this reason, it is essential that ML\n",
    "models in security-critical applications are robust against these types\n",
    "of attacks.\n",
    "\n",
    "[Quantum machine learning\n",
    "(QML)](%5B/whatisqml%5D(https://pennylane.ai/qml/whatisqml/)) has been\n",
    "shown to have theoretical advantages over classical ML methods and is\n",
    "becoming increasingly popular. However, first works in this direction\n",
    "suggest that QML suffers from the same vulnerabilities as classical ML.\n",
    "How the vulnerability of QML models relates to classical models and how\n",
    "robust the models are in comparison is evaluated in. But enough talk,\n",
    "let's see how we can actually attack a QML model!\n"
   ]
  },
  {
   "cell_type": "markdown",
   "metadata": {},
   "source": [
    "# Let's see this in action!\n",
    "\n",
    "## Setting up the environment\n",
    "\n",
    "For this tutorial, we will use the PennyLane\n",
    "`~pennylane.qnn.TorchLayer`{.interpreted-text role=\"class\"} class to\n",
    "perform circuit operations and optimizations with the PyTorch backend.\n",
    "Thus, we need to import the torch library alongside PennyLane:\n"
   ]
  },
  {
   "cell_type": "code",
   "execution_count": 2,
   "metadata": {
    "collapsed": false,
    "jupyter": {
     "outputs_hidden": false
    }
   },
   "outputs": [],
   "source": [
    "import pennylane as qml\n",
    "from pennylane import numpy as np\n",
    "import torch\n",
    "from matplotlib import pyplot as plt"
   ]
  },
  {
   "cell_type": "markdown",
   "metadata": {},
   "source": [
    "# Visualization of the dataset\n",
    "\n",
    "As in the paper, we make use of the\n",
    "[PlusMinus](https://pennylane.ai/datasets/single-dataset/plus-minus)\n",
    "dataset (available via [PennyLane\n",
    "Datasets](https://pennylane.ai/datasets/)), which serves as a good\n",
    "baseline for evaluating a QML image classification model's ability to\n",
    "find useful features in the input. It also allows us to define the\n",
    "usefulness of attacks on the QML model while being low-dimensional\n",
    "enough to perform scalable training (more info on the dataset can be\n",
    "found in). It consists of four classes of $16\\times16$ pixel grayscale\n",
    "images which show one of the four symbols $\\{+,-,\\vdash,\\dashv\\}.$ Below\n",
    "we visualize one sample of each class to get an understanding of the\n",
    "dataset.\n",
    "\n",
    "The data can be loaded directly from [PennyLane\n",
    "Datasets](https://pennylane.ai/datasets/) for easy integration into\n",
    "PennyLane circuits and optimization code.\n"
   ]
  },
  {
   "cell_type": "code",
   "execution_count": 3,
   "metadata": {
    "collapsed": false,
    "jupyter": {
     "outputs_hidden": false
    }
   },
   "outputs": [
    {
     "data": {
      "image/png": "[encoded data removed]",
      "text/plain": [
       "<Figure size 800x200 with 4 Axes>"
      ]
     },
     "metadata": {},
     "output_type": "display_data"
    }
   ],
   "source": [
    "# we can use the dataset hosted on PennyLane\n",
    "[pm] = qml.data.load('other', name='plus-minus')\n",
    "\n",
    "X_train = pm.img_train  # shape (1000,16,16)\n",
    "X_test = pm.img_test  # shape (200,16,16)\n",
    "Y_train = pm.labels_train  # shape (1000,)\n",
    "Y_test = pm.labels_test  # shape (200,)\n",
    "\n",
    "# show one image from each class (in the train- and testsets, the images are randomly permuted)\n",
    "x_vis = [\n",
    "    (X_train[Y_train == 0])[0],\n",
    "    (X_train[Y_train == 1])[0],\n",
    "    (X_train[Y_train == 2])[0],\n",
    "    (X_train[Y_train == 3])[0],\n",
    "]\n",
    "y_vis = [0, 1, 2, 3]\n",
    "\n",
    "\n",
    "# later when we train the model we include the predictions as well, so let's just add the functionality here\n",
    "def visualize_data(x, y, pred=None):\n",
    "    n_img = len(x)\n",
    "    labels_list = [\"\\u2212\", \"\\u002b\", \"\\ua714\", \"\\u02e7\"]\n",
    "    fig, axes = plt.subplots(1, 4, figsize=(8, 2))\n",
    "    for i in range(n_img):\n",
    "        axes[i].imshow(x[i], cmap=\"gray\")\n",
    "        if pred is None:\n",
    "            axes[i].set_title(\"Label: {}\".format(labels_list[y[i]]))\n",
    "        else:\n",
    "            axes[i].set_title(\"Label: {}, Pred: {}\".format(labels_list[y[i]], labels_list[pred[i]]))\n",
    "    plt.tight_layout(w_pad=2)\n",
    "    # plt.show()\n",
    "\n",
    "\n",
    "visualize_data(x_vis, y_vis)"
   ]
  },
  {
   "cell_type": "markdown",
   "metadata": {},
   "source": [
    "# Building the QML circuit for classification\n",
    "\n",
    "We will make use of a\n",
    "`data-reuploading <tutorial_data_reuploading_classifier>`{.interpreted-text\n",
    "role=\"doc\"} scheme to encode the 256 input pixels into the latent space\n",
    "of the quantum classifier. To this end, the\n",
    "`~pennylane.StronglyEntanglingLayers`{.interpreted-text role=\"class\"}\n",
    "template provides an easy-to-use structure for the circuit design. The\n",
    "output of our classifier is a four-dimensional vector resulting from\n",
    "Pauli Z oberservables along the first four qubits. These outputs\n",
    "(unnormalized probability scores --- i.e. logits) are then used in the\n",
    "[CrossEntropyLoss](https://pytorch.org/docs/stable/generated/torch.nn.CrossEntropyLoss.html)\n",
    "function to optimize the model parameters. Together with the PyTorch\n",
    "integration mentioned above, the classifier code looks like the\n",
    "following:\n"
   ]
  },
  {
   "cell_type": "code",
   "execution_count": 4,
   "metadata": {
    "collapsed": false,
    "jupyter": {
     "outputs_hidden": false
    }
   },
   "outputs": [
    {
     "name": "stdout",
     "output_type": "stream",
     "text": [
      "Using device: cuda\n"
     ]
    }
   ],
   "source": [
    "#### Hyperparameters ####\n",
    "input_dim = 256\n",
    "num_classes = 4\n",
    "num_layers = 32\n",
    "num_qubits = 8\n",
    "num_reup = 3\n",
    "\n",
    "device = torch.device(\"cuda\" if torch.cuda.is_available() else \"cpu\")\n",
    "print(\"Using device:\", device)\n",
    "\n",
    "\n",
    "class QML_classifier(torch.nn.Module):\n",
    "    \"\"\"\n",
    "    Class for creating a quantum machine learning (classification) model based on the StronglyEntanglingLayers template.\n",
    "\n",
    "    Args:\n",
    "        input_dim: the dimension of the input samples\n",
    "        output_dim: the dimension of the output, i.e. the numbers of classes \n",
    "        num_qubits: the number of qubits in the circuit\n",
    "        num_layers: the number of layers within the StronglyEntanglingLayers template\n",
    "    \"\"\"\n",
    "    def __init__(self, input_dim, output_dim, num_qubits, num_layers):\n",
    "        super().__init__()\n",
    "        torch.manual_seed(1337)  # fixed seed for reproducibility\n",
    "        self.num_qubits = num_qubits\n",
    "        self.output_dim = output_dim\n",
    "        self.num_layers = num_layers\n",
    "        self.device = qml.device(\"lightning.qubit\", wires=self.num_qubits)\n",
    "        self.weights_shape = qml.StronglyEntanglingLayers.shape(\n",
    "            n_layers=self.num_layers, n_wires=self.num_qubits\n",
    "        )\n",
    "\n",
    "        @qml.qnode(self.device)\n",
    "        def circuit(inputs, weights, bias):\n",
    "            inputs = torch.reshape(inputs, self.weights_shape)\n",
    "            qml.StronglyEntanglingLayers(\n",
    "                weights=weights * inputs + bias, wires=range(self.num_qubits)\n",
    "            )\n",
    "            return [qml.expval(qml.PauliZ(i)) for i in range(self.output_dim)]\n",
    "\n",
    "        param_shapes = {\"weights\": self.weights_shape, \"bias\": self.weights_shape}\n",
    "        init_vals = {\n",
    "            \"weights\": 0.1 * torch.rand(self.weights_shape),\n",
    "            \"bias\": 0.1 * torch.rand(self.weights_shape),\n",
    "        }\n",
    "\n",
    "        # initialize the quantum circuit\n",
    "        self.qcircuit = qml.qnn.TorchLayer(\n",
    "            qnode=circuit, weight_shapes=param_shapes, init_method=init_vals\n",
    "        )\n",
    "\n",
    "    def forward(self, x):\n",
    "        inputs_stack = torch.hstack([x] * num_reup)\n",
    "        return self.qcircuit(inputs_stack)"
   ]
  },
  {
   "cell_type": "markdown",
   "metadata": {},
   "source": [
    "# Training the classifier\n",
    "\n",
    "The 'test' set will be used as validation in each training step to\n",
    "verify the generalization capabilities of our classifier.\n"
   ]
  },
  {
   "cell_type": "code",
   "execution_count": null,
   "metadata": {
    "collapsed": false,
    "jupyter": {
     "outputs_hidden": false
    }
   },
   "outputs": [
    {
     "name": "stdout",
     "output_type": "stream",
     "text": [
      "Starting training loop for quantum variational classifier (8 qubits, 32 layers)...\n",
      "Epoch 0/4 | Approx Cost (train): 1.3883214 | Cost (val): 1.3875420 | Approx Acc train: 0.1600000 | Acc val: 0.1200000\n"
     ]
    }
   ],
   "source": [
    "#### Hyperparameters ####\n",
    "learning_rate = 0.1\n",
    "epochs = 4\n",
    "batch_size = 20\n",
    "\n",
    "# we use a subset of the training and validation data for this tutorial to speed up the training\n",
    "feats_train = torch.from_numpy(X_train[:200]).reshape(200, -1).to(device)\n",
    "feats_test = torch.from_numpy(X_test[:50]).reshape(50, -1).to(device)\n",
    "labels_train = torch.from_numpy(Y_train[:200]).to(device)\n",
    "labels_test = torch.from_numpy(Y_test[:50]).to(device)\n",
    "num_train = feats_train.shape[0]\n",
    "\n",
    "# initialize the model, loss function and optimization algorithm (Adam optimizer)\n",
    "qml_model = QML_classifier(input_dim, num_classes, num_qubits, num_layers)\n",
    "loss = torch.nn.CrossEntropyLoss()\n",
    "optimizer = torch.optim.Adam(qml_model.parameters(), lr=learning_rate)\n",
    "num_batches = feats_train.shape[0] // batch_size\n",
    "\n",
    "\n",
    "# set up a measure for performance\n",
    "def accuracy(labels, predictions):\n",
    "    acc = 0\n",
    "    for l, p in zip(labels, predictions):\n",
    "        if torch.argmax(p) == l:\n",
    "            acc += 1\n",
    "    acc = acc / len(labels)\n",
    "    return acc\n",
    "\n",
    "\n",
    "# generate randomly permutated batches to speed up training\n",
    "def gen_batches(num_samples, num_batches):\n",
    "    assert num_samples % num_batches == 0\n",
    "    perm_ind = torch.reshape(torch.randperm(num_samples), (num_batches, -1))\n",
    "    return perm_ind\n",
    "\n",
    "\n",
    "# display accuracy and loss after each epoch (to speed up runtime, only do this for first 100 samples)\n",
    "def print_acc(epoch, max_ep=4):\n",
    "    predictions_train = [qml_model(f) for f in feats_train[:50]]\n",
    "    predictions_test = [qml_model(f) for f in feats_test]\n",
    "    cost_approx_train = loss(torch.stack(predictions_train), labels_train[:50])\n",
    "    cost_approx_test = loss(torch.stack(predictions_test), labels_test)\n",
    "    acc_approx_train = accuracy(labels_train[:50], predictions_train)\n",
    "    acc_approx_test = accuracy(labels_test, predictions_test)\n",
    "    print(\n",
    "        f\"Epoch {epoch}/{max_ep} | Approx Cost (train): {cost_approx_train:0.7f} | Cost (val): {cost_approx_test:0.7f} |\"\n",
    "        f\" Approx Acc train: {acc_approx_train:0.7f} | Acc val: {acc_approx_test:0.7f}\"\n",
    "    )\n",
    "\n",
    "\n",
    "print(\n",
    "    f\"Starting training loop for quantum variational classifier ({num_qubits} qubits, {num_layers} layers)...\"\n",
    ")\n",
    "\n",
    "# optimize over model parameters for given number of epochs\n",
    "for ep in range(0, epochs):\n",
    "    batch_ind = gen_batches(num_train, num_batches)\n",
    "    print_acc(epoch=ep)\n",
    "\n",
    "    for it in range(num_batches):\n",
    "        optimizer.zero_grad()\n",
    "        feats_train_batch = feats_train[batch_ind[it]]\n",
    "        labels_train_batch = labels_train[batch_ind[it]]\n",
    "\n",
    "        outputs = [qml_model(f) for f in feats_train_batch]\n",
    "        batch_loss = loss(torch.stack(outputs), labels_train_batch)\n",
    "        # if REG:\n",
    "        #    loss = loss + lipschitz_regularizer(regularization_rate, model.qcircuit.weights)\n",
    "        batch_loss.backward()\n",
    "        optimizer.step()\n",
    "\n",
    "print_acc(epochs)"
   ]
  },
  {
   "cell_type": "markdown",
   "metadata": {},
   "source": [
    "# Evaluation - benign data\n"
   ]
  },
  {
   "cell_type": "code",
   "execution_count": null,
   "metadata": {
    "collapsed": false,
    "jupyter": {
     "outputs_hidden": false
    }
   },
   "outputs": [],
   "source": [
    "# show accuracy\n",
    "x_vis_torch = torch.from_numpy(np.array(x_vis).reshape(4, -1))\n",
    "y_vis_torch = torch.from_numpy(np.array(y_vis))\n",
    "benign_preds = [qml_model(f) for f in x_vis_torch]\n",
    "\n",
    "benign_class_output = [torch.argmax(p) for p in benign_preds]\n",
    "visualize_data(x_vis, y_vis, benign_class_output)"
   ]
  },
  {
   "cell_type": "markdown",
   "metadata": {},
   "source": [
    "# Let's break stuff!\n",
    "\n",
    "As described before, the mathematical notation for an adversarial attack\n",
    "is as follows:\n",
    "\n",
    "$$\\delta \\equiv \\; \\underset{\\delta^{\\prime} \\in \\Delta}{\\operatorname{argmax}} \\;\\mathcal{L}\\left(f\\left(x+\\delta^{\\prime} ; \\theta^*\\right), y\\right).$$\n",
    "\n",
    "This equation can be summarized in a simple step-by-step recipe. In\n",
    "basic terms, we perform a forward and backward pass through the model\n",
    "and loss function (just like we do during training) for the specific\n",
    "samples that we want to find perturbations for. The difference to\n",
    "training steps is that the gradients we calculate are **with respect to\n",
    "the input features** of the data samples. Using these gradients, we find\n",
    "the direction of ascent in the loss function (as we want to force high\n",
    "losses, i.e. bad model performance for the specific samples). Finally,\n",
    "we clip the delta (perturbations), such that they lie within the epsilon\n",
    "boundary we set beforehand (this is just some hyperparameter wich limits\n",
    "the attack strength). All of these steps can be seen in the code below:\n"
   ]
  },
  {
   "cell_type": "code",
   "execution_count": null,
   "metadata": {
    "collapsed": false,
    "jupyter": {
     "outputs_hidden": false
    }
   },
   "outputs": [],
   "source": [
    "# simple implementation of projected gradient descent (PGD) attack (without randomized starting points — cf. BIM)\n",
    "# for an introduction to PGD, see https://adversarial-ml-tutorial.org/adversarial_examples/#projected-gradient-descent\n",
    "def PGD(model, feats, labels, epsilon=0.1, alpha=0.01, num_iter=10):\n",
    "\n",
    "    # initialize image perturbations with zero\n",
    "    delta = torch.zeros_like(feats, requires_grad=True)\n",
    "    for t in range(num_iter):\n",
    "        feats_adv = feats + delta\n",
    "        outputs = [model(f) for f in feats_adv]\n",
    "\n",
    "        # forward & backward pass through the model, accumulating gradients\n",
    "        l = loss(torch.stack(outputs), labels)\n",
    "        l.backward()\n",
    "\n",
    "        # use gradients with respect to inputs and clip the results to lie within the epsilon boundary\n",
    "        delta.data = (delta + alpha * delta.grad.detach().sign()).clamp(-epsilon, epsilon)\n",
    "        delta.grad.zero_()\n",
    "    return delta.detach()"
   ]
  },
  {
   "cell_type": "markdown",
   "metadata": {},
   "source": [
    "# Evaluation --- model under attack\n"
   ]
  },
  {
   "cell_type": "code",
   "execution_count": null,
   "metadata": {
    "collapsed": false,
    "jupyter": {
     "outputs_hidden": false
    }
   },
   "outputs": [],
   "source": [
    "perturbations = PGD(model=qml_model, feats=x_vis_torch, labels=y_vis_torch, epsilon=0.1)\n",
    "perturbed_x = x_vis_torch + perturbations\n",
    "\n",
    "# check model performance\n",
    "adversarial_preds = [qml_model(f) for f in perturbed_x]\n",
    "adversarial_class_output = [torch.argmax(p) for p in adversarial_preds]\n",
    "\n",
    "visualize_data(perturbed_x.reshape(-1, 16, 16), y_vis, adversarial_class_output)"
   ]
  },
  {
   "cell_type": "markdown",
   "metadata": {},
   "source": [
    "We can see the devastating effect of a simple PGD (projected gradient\n",
    "descent) attack using a perturbation strength $\\varepsilon=0.1,$ where\n",
    "the model misclassifies each of the four samples we used for\n",
    "visualization of the dataset. For humans, the images are still very\n",
    "easily classifiable, the perturbations look mostly like random noise\n",
    "added to the images. All in all, the accuracy of the model for the\n",
    "perturbed trainset decreases to around $0.1,$ so almost all samples of\n",
    "the dataset are misclassified!\n",
    "\n",
    "Using the code above, you can try the attack on your own and check which\n",
    "samples are more robust against attacks and which labels the model\n",
    "(wrongly) assigns to the data. The remaining question is: Can we defend\n",
    "against such attacks? How can we train our (QML) models to be more\n",
    "robust against adversarial attacks? This is a field of much active\n",
    "research and in general a very hard problem to solve for different kinds\n",
    "of attacks, model architectures and input data, but a very simple\n",
    "approach is given below.\n"
   ]
  },
  {
   "cell_type": "markdown",
   "metadata": {},
   "source": [
    "# Increasing the robustness of QML models\n",
    "\n",
    "The easiest way to make our model aware of slight modifications is to\n",
    "simply include the perturbed images into the training dataset (this can\n",
    "be seen as data augmentation and is often done in classical machine\n",
    "learning using noise). That way, the model is expected to be more robust\n",
    "against samples that were constructed using the same attack without\n",
    "changing anything in the model architecture itself; this method is\n",
    "called **adversarial (re)training**.\n"
   ]
  },
  {
   "cell_type": "code",
   "execution_count": null,
   "metadata": {
    "collapsed": false,
    "jupyter": {
     "outputs_hidden": false
    }
   },
   "outputs": [],
   "source": [
    "adv_dataset = (\n",
    "    PGD(model=qml_model, feats=feats_train[:20], labels=labels_train[:20], epsilon=0.1)\n",
    "    + feats_train[:20]\n",
    ")\n",
    "\n",
    "feats_retrain = torch.cat((feats_train, adv_dataset))\n",
    "labels_retrain = torch.cat((labels_train, labels_train[:20]))\n",
    "epochs_retraining = 2\n",
    "\n",
    "for ep in range(0, epochs_retraining):\n",
    "    batch_ind = gen_batches(num_train, num_batches)\n",
    "    print_acc(epoch=ep, max_ep=2)\n",
    "\n",
    "    for it in range(num_batches):\n",
    "        optimizer.zero_grad()\n",
    "        feats_train_batch = feats_retrain[batch_ind[it]]\n",
    "        labels_train_batch = labels_retrain[batch_ind[it]]\n",
    "\n",
    "        outputs = [qml_model(f) for f in feats_train_batch]\n",
    "        batch_loss = loss(torch.stack(outputs), labels_train_batch)\n",
    "        # if REG:\n",
    "        #    loss = loss + lipschitz_regularizer(regularization_rate, model.qcircuit.weights)\n",
    "        batch_loss.backward()\n",
    "        optimizer.step()\n",
    "\n",
    "print_acc(epochs_retraining, max_ep=2)"
   ]
  },
  {
   "cell_type": "markdown",
   "metadata": {},
   "source": [
    "# Evaluation of the retrained model\n"
   ]
  },
  {
   "cell_type": "code",
   "execution_count": null,
   "metadata": {
    "collapsed": false,
    "jupyter": {
     "outputs_hidden": false
    }
   },
   "outputs": [],
   "source": [
    "adversarial_preds = [qml_model(f) for f in perturbed_x]\n",
    "adversarial_class_output = [torch.argmax(p) for p in adversarial_preds]\n",
    "\n",
    "visualize_data(perturbed_x.reshape(-1, 16, 16), y_vis, adversarial_class_output)"
   ]
  },
  {
   "cell_type": "markdown",
   "metadata": {},
   "source": [
    "We can see that the model now correctly classifies three out of the four\n",
    "perturbed input images. As before, you can adapt the code above and test\n",
    "the retrained model for the whole dataset to see how much the accuracy\n",
    "under attack improves overall.\n"
   ]
  },
  {
   "cell_type": "markdown",
   "metadata": {},
   "source": [
    "# Conclusion\n",
    "\n",
    "In this demo we saw how to perform adversarial attacks on quantum\n",
    "variational classification models. The resulting perturbed images (which\n",
    "--- for humans --- still closely resemble the original ones) result in\n",
    "large misclassification rates of the QML models, showing the\n",
    "vulnerability of such models to adversarial attacks. Consequently, we\n",
    "showcased one possibility to increase the adversarial robustness using\n",
    "adversarial retraining, which led the model under attack to perform\n",
    "better.\n",
    "\n",
    "While this method does seem useful, it needs to be noted that this is a\n",
    "very basic approach (just include the pertubed images in the trainset,\n",
    "duh!) and might not work equally well for a different attack or slightly\n",
    "changed epsilon values. There are approaches (e.g. using Lipschitz\n",
    "regularization as shown in) that have the potential to be more effective\n",
    "in increasing the robustness, but this is still a field of ongoing\n",
    "research, and many different approaches are waiting to be discovered!\n"
   ]
  },
  {
   "cell_type": "markdown",
   "metadata": {},
   "source": [
    "# References\n"
   ]
  },
  {
   "cell_type": "markdown",
   "metadata": {},
   "source": [
    "# About the authors\n"
   ]
  }
 ],
 "metadata": {
  "kernelspec": {
   "display_name": "Python 3 (ipykernel)",
   "language": "python",
   "name": "python3"
  },
  "language_info": {
   "codemirror_mode": {
    "name": "ipython",
    "version": 3
   },
   "file_extension": ".py",
   "mimetype": "text/x-python",
   "name": "python",
   "nbconvert_exporter": "python",
   "pygments_lexer": "ipython3",
   "version": "3.12.9"
  }
 },
 "nbformat": 4,
 "nbformat_minor": 4
}
