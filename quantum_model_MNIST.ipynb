{
 "cells": [
  {
   "cell_type": "code",
   "execution_count": 1,
   "id": "c4cad042-b417-416e-8a5e-d7e638e30eb8",
   "metadata": {},
   "outputs": [
    {
     "name": "stderr",
     "output_type": "stream",
     "text": [
      "2025-04-30 12:11:17.064872: E external/local_xla/xla/stream_executor/cuda/cuda_fft.cc:467] Unable to register cuFFT factory: Attempting to register factory for plugin cuFFT when one has already been registered\n",
      "WARNING: All log messages before absl::InitializeLog() is called are written to STDERR\n",
      "E0000 00:00:1745979077.081194   65013 cuda_dnn.cc:8579] Unable to register cuDNN factory: Attempting to register factory for plugin cuDNN when one has already been registered\n",
      "E0000 00:00:1745979077.086206   65013 cuda_blas.cc:1407] Unable to register cuBLAS factory: Attempting to register factory for plugin cuBLAS when one has already been registered\n",
      "W0000 00:00:1745979077.098857   65013 computation_placer.cc:177] computation placer already registered. Please check linkage and avoid linking the same target more than once.\n",
      "W0000 00:00:1745979077.098872   65013 computation_placer.cc:177] computation placer already registered. Please check linkage and avoid linking the same target more than once.\n",
      "W0000 00:00:1745979077.098874   65013 computation_placer.cc:177] computation placer already registered. Please check linkage and avoid linking the same target more than once.\n",
      "W0000 00:00:1745979077.098875   65013 computation_placer.cc:177] computation placer already registered. Please check linkage and avoid linking the same target more than once.\n"
     ]
    }
   ],
   "source": [
    "import pennylane as qml\n",
    "from pennylane import numpy as np\n",
    "import torch # to use PennyLane TorchLayer class to perform circuit operations and optimisations with PyTorch backend\n",
    "from matplotlib import pyplot as plt\n",
    "\n",
    "from utils.tools import get_dataset, visualise_data"
   ]
  },
  {
   "cell_type": "code",
   "execution_count": 2,
   "id": "9eeaef2e-2e1f-41a6-b453-5829adb43b82",
   "metadata": {},
   "outputs": [
    {
     "name": "stderr",
     "output_type": "stream",
     "text": [
      "I0000 00:00:1745979079.047126   65013 gpu_device.cc:2019] Created device /job:localhost/replica:0/task:0/device:GPU:0 with 10759 MB memory:  -> device: 0, name: Tesla P100-PCIE-12GB, pci bus id: 0000:02:00.0, compute capability: 6.0\n"
     ]
    },
    {
     "data": {
      "image/png": "[encoded data removed]",
      "text/plain": [
       "<Figure size 800x200 with 4 Axes>"
      ]
     },
     "metadata": {},
     "output_type": "display_data"
    }
   ],
   "source": [
    "digits = [0,1,2,3]\n",
    "n_px = 16\n",
    "\n",
    "(x_train, y_train), (x_test, y_test) = get_dataset(digits=digits, n_px=n_px)\n",
    "\n",
    "# show one image from each class\n",
    "x_vis = [(x_train[y_train==digit])[np.random.choice(range(10))] for digit in digits] \n",
    "y_vis = range(len(digits))\n",
    "\n",
    "visualise_data(digits, x_vis, y_vis)"
   ]
  },
  {
   "cell_type": "code",
   "execution_count": 3,
   "id": "097c2c6a-4a74-4d05-9a26-324b2c637009",
   "metadata": {},
   "outputs": [
    {
     "name": "stdout",
     "output_type": "stream",
     "text": [
      "X\n",
      "Shape : (1000, 16, 16)\n",
      "dType : float32\n",
      "pyType: <class 'pennylane.numpy.tensor.tensor'>\n",
      "Y\n",
      "Shape : (1000,)\n",
      "dType : uint8\n",
      "pyType: <class 'numpy.ndarray'>\n"
     ]
    }
   ],
   "source": [
    "X_train = np.reshape(x_train, (len(x_train), n_px, n_px))\n",
    "X_test = np.reshape(x_test, (len(x_test), n_px, n_px))\n",
    "Y_train = y_train\n",
    "Y_test = y_test\n",
    "\n",
    "print('X')\n",
    "print(f'Shape : {X_train.shape}')\n",
    "print(f'dType : {X_train.dtype}')\n",
    "print(f'pyType: {type(X_train)}')\n",
    "\n",
    "print('Y')\n",
    "print(f'Shape : {Y_train.shape}')\n",
    "print(f'dType : {Y_train.dtype}')\n",
    "print(f'pyType: {type(Y_train)}')"
   ]
  },
  {
   "cell_type": "code",
   "execution_count": 6,
   "id": "1ca76ff0-5ff5-4e1e-ace6-aa6cd4781720",
   "metadata": {},
   "outputs": [
    {
     "name": "stdout",
     "output_type": "stream",
     "text": [
      "Using device: cpu\n"
     ]
    }
   ],
   "source": [
    "#### Hyperparameters ####\n",
    "input_dim = n_px * n_px # 16 X 16 pixels\n",
    "num_classes = len(digits)\n",
    "num_layers = 32\n",
    "num_qubits = 8\n",
    "num_reup = 3\n",
    "\n",
    "# device = torch.device(\"cuda\" if torch.cuda.is_available() else \"cpu\")\n",
    "device = torch.device(\"cpu\")\n",
    "print(\"Using device:\", device)\n",
    "\n",
    "\n",
    "class QML_classifier(torch.nn.Module):\n",
    "    \"\"\"\n",
    "    Class for creating a quantum machine learning (classification) model based on the StronglyEntanglingLayers template.\n",
    "\n",
    "    Args:\n",
    "        input_dim: the dimension of the input samples\n",
    "        output_dim: the dimension of the output, i.e. the numbers of classes\n",
    "        num_qubits: the number of qubits in the circuit\n",
    "        num_layers: the number of layers within the StronglyEntanglingLayers template\n",
    "    \"\"\"\n",
    "    def __init__(self, input_dim, output_dim, num_qubits, num_layers):\n",
    "        super().__init__()\n",
    "        torch.manual_seed(1337)  # fixed seed for reproducibility\n",
    "        self.num_qubits = num_qubits\n",
    "        self.output_dim = output_dim\n",
    "        self.num_layers = num_layers\n",
    "        self.device = qml.device(\"lightning.qubit\", wires=self.num_qubits)\n",
    "        self.weights_shape = qml.StronglyEntanglingLayers.shape(\n",
    "            n_layers=self.num_layers, n_wires=self.num_qubits\n",
    "        )\n",
    "\n",
    "        @qml.qnode(self.device)\n",
    "        def circuit(inputs, weights, bias):\n",
    "            inputs = torch.reshape(inputs, self.weights_shape)\n",
    "            qml.StronglyEntanglingLayers(\n",
    "                weights=weights * inputs + bias, wires=range(self.num_qubits)\n",
    "            )\n",
    "            return [qml.expval(qml.PauliZ(i)) for i in range(self.output_dim)]\n",
    "\n",
    "        param_shapes = {\"weights\": self.weights_shape, \"bias\": self.weights_shape}\n",
    "        init_vals = {\n",
    "            \"weights\": 0.1 * torch.rand(self.weights_shape),\n",
    "            \"bias\": 0.1 * torch.rand(self.weights_shape),\n",
    "        }\n",
    "\n",
    "        # initialize the quantum circuit\n",
    "        self.qcircuit = qml.qnn.TorchLayer(\n",
    "            qnode=circuit, weight_shapes=param_shapes, init_method=init_vals\n",
    "        )\n",
    "\n",
    "    def forward(self, x):\n",
    "        inputs_stack = torch.hstack([x] * num_reup)\n",
    "        return self.qcircuit(inputs_stack)"
   ]
  },
  {
   "cell_type": "code",
   "execution_count": 7,
   "id": "d1995362-d954-4bff-b302-5a9f9dd8a5b6",
   "metadata": {},
   "outputs": [
    {
     "name": "stdout",
     "output_type": "stream",
     "text": [
      "Starting training loop for quantum variational classifier (8 qubits, 32 layers)...\n",
      "Epoch 0/4 | Approx Cost (train): 1.3835318 | Cost (val): 1.3829010 | Approx Acc train: 0.3000000 | Acc val: 0.2700000\n",
      "Epoch 1/4 | Approx Cost (train): 1.2503847 | Cost (val): 1.2510983 | Approx Acc train: 0.6600000 | Acc val: 0.6700000\n",
      "Epoch 2/4 | Approx Cost (train): 1.2095851 | Cost (val): 1.1875492 | Approx Acc train: 0.6600000 | Acc val: 0.6800000\n",
      "Epoch 3/4 | Approx Cost (train): 1.1719388 | Cost (val): 1.1515929 | Approx Acc train: 0.7200000 | Acc val: 0.8100000\n",
      "Epoch 4/4 | Approx Cost (train): 1.1225013 | Cost (val): 1.1072137 | Approx Acc train: 0.7200000 | Acc val: 0.7900000\n",
      "\n",
      "Time elapsed: 322.22449254989624 s.\n"
     ]
    }
   ],
   "source": [
    "import time\n",
    "t = time.time()\n",
    "#### Hyperparameters ####\n",
    "learning_rate = 0.1\n",
    "epochs = 4\n",
    "batch_size = 20\n",
    "\n",
    "# we use a subset of the training and validation data for this tutorial to speed up the training\n",
    "n_train = 400\n",
    "n_test = 100\n",
    "\n",
    "feats_train = torch.from_numpy(X_train[:n_train]).reshape(n_train, -1).to(device)\n",
    "feats_test = torch.from_numpy(X_test[:n_test]).reshape(n_test, -1).to(device)\n",
    "labels_train = torch.from_numpy(Y_train[:n_train]).to(device)\n",
    "labels_test = torch.from_numpy(Y_test[:n_test]).to(device)\n",
    "num_train = feats_train.shape[0]\n",
    "\n",
    "# initialize the model, loss function and optimization algorithm (Adam optimizer)\n",
    "qml_model = QML_classifier(input_dim, num_classes, num_qubits, num_layers)\n",
    "loss = torch.nn.CrossEntropyLoss()\n",
    "optimizer = torch.optim.Adam(qml_model.parameters(), lr=learning_rate)\n",
    "num_batches = feats_train.shape[0] // batch_size\n",
    "\n",
    "\n",
    "# set up a measure for performance\n",
    "def accuracy(labels, predictions):\n",
    "    acc = 0\n",
    "    for l, p in zip(labels, predictions):\n",
    "        if torch.argmax(p) == l:\n",
    "            acc += 1\n",
    "    acc = acc / len(labels)\n",
    "    return acc\n",
    "\n",
    "\n",
    "# generate randomly permutated batches to speed up training\n",
    "def gen_batches(num_samples, num_batches):\n",
    "    assert num_samples % num_batches == 0\n",
    "    perm_ind = torch.reshape(torch.randperm(num_samples), (num_batches, -1))\n",
    "    return perm_ind\n",
    "\n",
    "\n",
    "# display accuracy and loss after each epoch (to speed up runtime, only do this for first 100 samples)\n",
    "def print_acc(epoch, max_ep=4):\n",
    "    predictions_train = [qml_model(f) for f in feats_train[:50]]\n",
    "    predictions_test = [qml_model(f) for f in feats_test]\n",
    "    cost_approx_train = loss(torch.stack(predictions_train), labels_train[:50])\n",
    "    cost_approx_test = loss(torch.stack(predictions_test), labels_test)\n",
    "    acc_approx_train = accuracy(labels_train[:50], predictions_train)\n",
    "    acc_approx_test = accuracy(labels_test, predictions_test)\n",
    "    print(\n",
    "        f\"Epoch {epoch}/{max_ep} | Approx Cost (train): {cost_approx_train:0.7f} | Cost (val): {cost_approx_test:0.7f} |\"\n",
    "        f\" Approx Acc train: {acc_approx_train:0.7f} | Acc val: {acc_approx_test:0.7f}\"\n",
    "    )\n",
    "\n",
    "\n",
    "print(\n",
    "    f\"Starting training loop for quantum variational classifier ({num_qubits} qubits, {num_layers} layers)...\"\n",
    ")\n",
    "\n",
    "# optimize over model parameters for given number of epochs\n",
    "for ep in range(0, epochs):\n",
    "    batch_ind = gen_batches(num_train, num_batches)\n",
    "    print_acc(epoch=ep)\n",
    "\n",
    "    for it in range(num_batches):\n",
    "        optimizer.zero_grad()\n",
    "        feats_train_batch = feats_train[batch_ind[it]]\n",
    "        labels_train_batch = labels_train[batch_ind[it]]\n",
    "\n",
    "        outputs = [qml_model(f) for f in feats_train_batch]\n",
    "        batch_loss = loss(torch.stack(outputs), labels_train_batch)\n",
    "        # if REG:\n",
    "        #    loss = loss + lipschitz_regularizer(regularization_rate, model.qcircuit.weights)\n",
    "        batch_loss.backward()\n",
    "        optimizer.step()\n",
    "\n",
    "print_acc(epochs)\n",
    "\n",
    "elapsed = time.time() - t\n",
    "print(f\"\\nTime elapsed: {elapsed} s.\")"
   ]
  },
  {
   "cell_type": "code",
   "execution_count": 50,
   "id": "4e9b06f9-1b57-42d0-b201-1d9bfe95a487",
   "metadata": {},
   "outputs": [
    {
     "name": "stdout",
     "output_type": "stream",
     "text": [
      "<function QML_classifier.__init__.<locals>.circuit at 0x7f321d33e7a0>\n"
     ]
    }
   ],
   "source": [
    "print(qml.draw(qml_model.qcircuit, level=\"device\"))"
   ]
  },
  {
   "cell_type": "code",
   "execution_count": 54,
   "id": "6e7c286d-142b-4ba9-98a6-5e65bc170484",
   "metadata": {},
   "outputs": [
    {
     "data": {
      "image/png": "[encoded data removed]",
      "text/plain": [
       "<Figure size 400x200 with 2 Axes>"
      ]
     },
     "metadata": {},
     "output_type": "display_data"
    }
   ],
   "source": [
    "# show accuracy\n",
    "x_vis_torch = torch.from_numpy(np.array(x_vis).reshape(num_classes, -1))\n",
    "y_vis_torch = torch.from_numpy(np.array(y_vis))\n",
    "benign_preds = [qml_model(f) for f in x_vis_torch]\n",
    "\n",
    "benign_class_output = [torch.argmax(p) for p in benign_preds]\n",
    "visualise_data(digits, x_vis, y_vis, benign_class_output)"
   ]
  },
  {
   "cell_type": "code",
   "execution_count": 55,
   "id": "4ebca5b3-aae2-4570-9410-8134ad5d061f",
   "metadata": {},
   "outputs": [],
   "source": [
    "# simple implementation of projected gradient descent (PGD) attack (without randomized starting points — cf. BIM)\n",
    "# for an introduction to PGD, see https://adversarial-ml-tutorial.org/adversarial_examples/#projected-gradient-descent\n",
    "def PGD(model, feats, labels, epsilon=0.1, alpha=0.1, num_iter=10):\n",
    "\n",
    "    # initialize image perturbations with zero\n",
    "    delta = torch.zeros_like(feats, requires_grad=True)\n",
    "    for t in range(num_iter):\n",
    "        feats_adv = feats + delta\n",
    "        outputs = [model(f) for f in feats_adv]\n",
    "\n",
    "        # forward & backward pass through the model, accumulating gradients\n",
    "        l = loss(torch.stack(outputs), labels)\n",
    "        l.backward()\n",
    "\n",
    "        # use gradients with respect to inputs and clip the results to lie within the epsilon boundary\n",
    "        delta.data = (delta + alpha * delta.grad.detach().sign()).clamp(-epsilon, epsilon)\n",
    "        delta.grad.zero_()\n",
    "    return delta.detach()"
   ]
  },
  {
   "cell_type": "code",
   "execution_count": 57,
   "id": "728425a3-b7ff-4b5d-8d30-21638055006d",
   "metadata": {},
   "outputs": [
    {
     "data": {
      "image/png": "[encoded data removed]",
      "text/plain": [
       "<Figure size 400x200 with 2 Axes>"
      ]
     },
     "metadata": {},
     "output_type": "display_data"
    }
   ],
   "source": [
    "perturbations = PGD(model=qml_model, feats=x_vis_torch, labels=y_vis_torch, epsilon=0.2) # even smaller values of epsilon do some damage (epsilon > 0.04)\n",
    "perturbed_x = x_vis_torch + perturbations\n",
    "\n",
    "# check model performance\n",
    "adversarial_preds = [qml_model(f) for f in perturbed_x]\n",
    "adversarial_class_output = [torch.argmax(p) for p in adversarial_preds]\n",
    "\n",
    "visualise_data(digits, perturbed_x.reshape(-1, n_px, n_px), y_vis, adversarial_class_output)"
   ]
  },
  {
   "cell_type": "code",
   "execution_count": 58,
   "id": "09bd46e6-79ac-48a1-a386-8f5b9c988a45",
   "metadata": {},
   "outputs": [
    {
     "name": "stdout",
     "output_type": "stream",
     "text": [
      "Epoch 0/2 | Approx Cost (train): 0.1785702 | Cost (val): 0.1729840 | Approx Acc train: 1.0000000 | Acc val: 1.0000000\n",
      "Epoch 1/2 | Approx Cost (train): 0.1735246 | Cost (val): 0.1680840 | Approx Acc train: 1.0000000 | Acc val: 1.0000000\n",
      "Epoch 2/2 | Approx Cost (train): 0.1720764 | Cost (val): 0.1666546 | Approx Acc train: 1.0000000 | Acc val: 1.0000000\n"
     ]
    }
   ],
   "source": [
    "adv_dataset = (\n",
    "    PGD(model=qml_model, feats=feats_train[:20], labels=labels_train[:20], epsilon=0.1)\n",
    "    + feats_train[:20]\n",
    ")\n",
    "\n",
    "feats_retrain = torch.cat((feats_train, adv_dataset))\n",
    "labels_retrain = torch.cat((labels_train, labels_train[:20]))\n",
    "epochs_retraining = 2\n",
    "\n",
    "for ep in range(0, epochs_retraining):\n",
    "    batch_ind = gen_batches(num_train, num_batches)\n",
    "    print_acc(epoch=ep, max_ep=2)\n",
    "\n",
    "    for it in range(num_batches):\n",
    "        optimizer.zero_grad()\n",
    "        feats_train_batch = feats_retrain[batch_ind[it]]\n",
    "        labels_train_batch = labels_retrain[batch_ind[it]]\n",
    "\n",
    "        outputs = [qml_model(f) for f in feats_train_batch]\n",
    "        batch_loss = loss(torch.stack(outputs), labels_train_batch)\n",
    "        # if REG:\n",
    "        #    loss = loss + lipschitz_regularizer(regularization_rate, model.qcircuit.weights)\n",
    "        batch_loss.backward()\n",
    "        optimizer.step()\n",
    "\n",
    "print_acc(epochs_retraining, max_ep=2)"
   ]
  },
  {
   "cell_type": "code",
   "execution_count": 59,
   "id": "f3066b48-ee3a-4288-8b99-903e5709377e",
   "metadata": {},
   "outputs": [
    {
     "data": {
      "image/png": "[encoded data removed]",
      "text/plain": [
       "<Figure size 400x200 with 2 Axes>"
      ]
     },
     "metadata": {},
     "output_type": "display_data"
    }
   ],
   "source": [
    "adversarial_preds = [qml_model(f) for f in perturbed_x]\n",
    "adversarial_class_output = [torch.argmax(p) for p in adversarial_preds]\n",
    "\n",
    "visualise_data(digits, perturbed_x.reshape(-1, 16, 16), y_vis, adversarial_class_output)"
   ]
  },
  {
   "cell_type": "markdown",
   "id": "acc18d97-79ca-43c8-a0ca-a45ef7f2ace5",
   "metadata": {
    "jp-MarkdownHeadingCollapsed": true
   },
   "source": [
    "## Quantum model with amplitude embedding"
   ]
  },
  {
   "cell_type": "code",
   "execution_count": 1,
   "id": "1e02f2f4-53d9-47c4-9616-6eb0047a28f5",
   "metadata": {},
   "outputs": [],
   "source": [
    "import pennylane as qml\n",
    "from pennylane import numpy as np"
   ]
  },
  {
   "cell_type": "code",
   "execution_count": 2,
   "id": "ca41662b-7271-47e6-baf8-b26059585f01",
   "metadata": {},
   "outputs": [
    {
     "ename": "ValueError",
     "evalue": "State must be of length 256; got length 8. Use the 'pad_with' argument for automated padding.",
     "output_type": "error",
     "traceback": [
      "\u001b[31m---------------------------------------------------------------------------\u001b[39m",
      "\u001b[31mValueError\u001b[39m                                Traceback (most recent call last)",
      "\u001b[36mCell\u001b[39m\u001b[36m \u001b[39m\u001b[32mIn[2]\u001b[39m\u001b[32m, line 12\u001b[39m\n\u001b[32m      9\u001b[39m x = np.random.rand(\u001b[32m8\u001b[39m,\u001b[32m8\u001b[39m)\n\u001b[32m     10\u001b[39m \u001b[38;5;66;03m# weights = np.ran\u001b[39;00m\n\u001b[32m---> \u001b[39m\u001b[32m12\u001b[39m \u001b[38;5;28mprint\u001b[39m(\u001b[43mqml\u001b[49m\u001b[43m.\u001b[49m\u001b[43mdraw\u001b[49m\u001b[43m(\u001b[49m\u001b[43mcircuit\u001b[49m\u001b[43m,\u001b[49m\u001b[43m \u001b[49m\u001b[43mlevel\u001b[49m\u001b[43m=\u001b[49m\u001b[33;43m\"\u001b[39;49m\u001b[33;43mdevice\u001b[39;49m\u001b[33;43m\"\u001b[39;49m\u001b[43m)\u001b[49m\u001b[43m(\u001b[49m\u001b[43mx\u001b[49m\u001b[43m,\u001b[49m\u001b[43m \u001b[49m\u001b[43mnum_wires\u001b[49m\u001b[43m)\u001b[49m)\n",
      "\u001b[36mFile \u001b[39m\u001b[32m~/miniforge3/envs/qml/lib/python3.12/site-packages/pennylane/drawer/draw.py:305\u001b[39m, in \u001b[36m_draw_qnode.<locals>.wrapper\u001b[39m\u001b[34m(*args, **kwargs)\u001b[39m\n\u001b[32m    303\u001b[39m \u001b[38;5;129m@wraps\u001b[39m(qnode)\n\u001b[32m    304\u001b[39m \u001b[38;5;28;01mdef\u001b[39;00m\u001b[38;5;250m \u001b[39m\u001b[34mwrapper\u001b[39m(*args, **kwargs):\n\u001b[32m--> \u001b[39m\u001b[32m305\u001b[39m     tapes, _ = \u001b[43mqml\u001b[49m\u001b[43m.\u001b[49m\u001b[43mworkflow\u001b[49m\u001b[43m.\u001b[49m\u001b[43mconstruct_batch\u001b[49m\u001b[43m(\u001b[49m\u001b[43mqnode\u001b[49m\u001b[43m,\u001b[49m\u001b[43m \u001b[49m\u001b[43mlevel\u001b[49m\u001b[43m=\u001b[49m\u001b[43mlevel\u001b[49m\u001b[43m)\u001b[49m\u001b[43m(\u001b[49m\u001b[43m*\u001b[49m\u001b[43margs\u001b[49m\u001b[43m,\u001b[49m\u001b[43m \u001b[49m\u001b[43m*\u001b[49m\u001b[43m*\u001b[49m\u001b[43mkwargs\u001b[49m\u001b[43m)\u001b[49m\n\u001b[32m    307\u001b[39m     \u001b[38;5;28;01mif\u001b[39;00m wire_order:\n\u001b[32m    308\u001b[39m         _wire_order = wire_order\n",
      "\u001b[36mFile \u001b[39m\u001b[32m~/miniforge3/envs/qml/lib/python3.12/site-packages/pennylane/workflow/construct_batch.py:358\u001b[39m, in \u001b[36mconstruct_batch.<locals>.batch_constructor\u001b[39m\u001b[34m(*args, **kwargs)\u001b[39m\n\u001b[32m    351\u001b[39m     cntxt.watch(\u001b[38;5;28mlist\u001b[39m(qnode.qnode_weights.values()))\n\u001b[32m    353\u001b[39m     kwargs = {\n\u001b[32m    354\u001b[39m         **{k: \u001b[32m1.0\u001b[39m * w \u001b[38;5;28;01mfor\u001b[39;00m k, w \u001b[38;5;129;01min\u001b[39;00m qnode.qnode_weights.items()},\n\u001b[32m    355\u001b[39m         **kwargs,\n\u001b[32m    356\u001b[39m     }\n\u001b[32m--> \u001b[39m\u001b[32m358\u001b[39m initial_tape = \u001b[43mqml\u001b[49m\u001b[43m.\u001b[49m\u001b[43mtape\u001b[49m\u001b[43m.\u001b[49m\u001b[43mmake_qscript\u001b[49m\u001b[43m(\u001b[49m\u001b[43mqnode\u001b[49m\u001b[43m.\u001b[49m\u001b[43mfunc\u001b[49m\u001b[43m,\u001b[49m\u001b[43m \u001b[49m\u001b[43mshots\u001b[49m\u001b[43m=\u001b[49m\u001b[43mshots\u001b[49m\u001b[43m)\u001b[49m\u001b[43m(\u001b[49m\u001b[43m*\u001b[49m\u001b[43margs\u001b[49m\u001b[43m,\u001b[49m\u001b[43m \u001b[49m\u001b[43m*\u001b[49m\u001b[43m*\u001b[49m\u001b[43mkwargs\u001b[49m\u001b[43m)\u001b[49m\n\u001b[32m    359\u001b[39m params = initial_tape.get_parameters(trainable_only=\u001b[38;5;28;01mFalse\u001b[39;00m)\n\u001b[32m    360\u001b[39m initial_tape.trainable_params = qml.math.get_trainable_indices(params)\n",
      "\u001b[36mFile \u001b[39m\u001b[32m~/miniforge3/envs/qml/lib/python3.12/site-packages/pennylane/tape/qscript.py:1428\u001b[39m, in \u001b[36mmake_qscript.<locals>.wrapper\u001b[39m\u001b[34m(*args, **kwargs)\u001b[39m\n\u001b[32m   1426\u001b[39m \u001b[38;5;28;01mdef\u001b[39;00m\u001b[38;5;250m \u001b[39m\u001b[34mwrapper\u001b[39m(*args, **kwargs):\n\u001b[32m   1427\u001b[39m     \u001b[38;5;28;01mwith\u001b[39;00m AnnotatedQueue() \u001b[38;5;28;01mas\u001b[39;00m q:\n\u001b[32m-> \u001b[39m\u001b[32m1428\u001b[39m         \u001b[43mfn\u001b[49m\u001b[43m(\u001b[49m\u001b[43m*\u001b[49m\u001b[43margs\u001b[49m\u001b[43m,\u001b[49m\u001b[43m \u001b[49m\u001b[43m*\u001b[49m\u001b[43m*\u001b[49m\u001b[43mkwargs\u001b[49m\u001b[43m)\u001b[49m\n\u001b[32m   1430\u001b[39m     \u001b[38;5;28;01mreturn\u001b[39;00m QuantumScript.from_queue(q, shots)\n",
      "\u001b[36mCell\u001b[39m\u001b[36m \u001b[39m\u001b[32mIn[2]\u001b[39m\u001b[32m, line 6\u001b[39m, in \u001b[36mcircuit\u001b[39m\u001b[34m(x, num_wires)\u001b[39m\n\u001b[32m      4\u001b[39m \u001b[38;5;129m@qml\u001b[39m.qnode(dev)\n\u001b[32m      5\u001b[39m \u001b[38;5;28;01mdef\u001b[39;00m\u001b[38;5;250m \u001b[39m\u001b[34mcircuit\u001b[39m(x, num_wires):\n\u001b[32m----> \u001b[39m\u001b[32m6\u001b[39m     \u001b[43mqml\u001b[49m\u001b[43m.\u001b[49m\u001b[43mAmplitudeEmbedding\u001b[49m\u001b[43m(\u001b[49m\u001b[43mx\u001b[49m\u001b[43m,\u001b[49m\u001b[43m \u001b[49m\u001b[43mwires\u001b[49m\u001b[43m=\u001b[49m\u001b[38;5;28;43mrange\u001b[39;49m\u001b[43m(\u001b[49m\u001b[43mnum_wires\u001b[49m\u001b[43m)\u001b[49m\u001b[43m)\u001b[49m\n",
      "\u001b[36mFile \u001b[39m\u001b[32m~/miniforge3/envs/qml/lib/python3.12/site-packages/pennylane/capture/capture_meta.py:89\u001b[39m, in \u001b[36mCaptureMeta.__call__\u001b[39m\u001b[34m(cls, *args, **kwargs)\u001b[39m\n\u001b[32m     85\u001b[39m \u001b[38;5;28;01mif\u001b[39;00m enabled():\n\u001b[32m     86\u001b[39m     \u001b[38;5;66;03m# when tracing is enabled, we want to\u001b[39;00m\n\u001b[32m     87\u001b[39m     \u001b[38;5;66;03m# use bind to construct the class if we want class construction to add it to the jaxpr\u001b[39;00m\n\u001b[32m     88\u001b[39m     \u001b[38;5;28;01mreturn\u001b[39;00m \u001b[38;5;28mcls\u001b[39m._primitive_bind_call(*args, **kwargs)\n\u001b[32m---> \u001b[39m\u001b[32m89\u001b[39m \u001b[38;5;28;01mreturn\u001b[39;00m \u001b[38;5;28;43mtype\u001b[39;49m\u001b[43m.\u001b[49m\u001b[34;43m__call__\u001b[39;49m\u001b[43m(\u001b[49m\u001b[38;5;28;43mcls\u001b[39;49m\u001b[43m,\u001b[49m\u001b[43m \u001b[49m\u001b[43m*\u001b[49m\u001b[43margs\u001b[49m\u001b[43m,\u001b[49m\u001b[43m \u001b[49m\u001b[43m*\u001b[49m\u001b[43m*\u001b[49m\u001b[43mkwargs\u001b[49m\u001b[43m)\u001b[49m\n",
      "\u001b[36mFile \u001b[39m\u001b[32m~/miniforge3/envs/qml/lib/python3.12/site-packages/pennylane/templates/embeddings/amplitude.py:113\u001b[39m, in \u001b[36mAmplitudeEmbedding.__init__\u001b[39m\u001b[34m(self, features, wires, pad_with, normalize, id, validate_norm)\u001b[39m\n\u001b[32m    110\u001b[39m \u001b[38;5;28;01mdef\u001b[39;00m\u001b[38;5;250m \u001b[39m\u001b[34m__init__\u001b[39m(\n\u001b[32m    111\u001b[39m     \u001b[38;5;28mself\u001b[39m, features, wires, pad_with=\u001b[38;5;28;01mNone\u001b[39;00m, normalize=\u001b[38;5;28;01mFalse\u001b[39;00m, \u001b[38;5;28mid\u001b[39m=\u001b[38;5;28;01mNone\u001b[39;00m, validate_norm=\u001b[38;5;28;01mTrue\u001b[39;00m\n\u001b[32m    112\u001b[39m ):\n\u001b[32m--> \u001b[39m\u001b[32m113\u001b[39m     \u001b[38;5;28;43msuper\u001b[39;49m\u001b[43m(\u001b[49m\u001b[43m)\u001b[49m\u001b[43m.\u001b[49m\u001b[34;43m__init__\u001b[39;49m\u001b[43m(\u001b[49m\n\u001b[32m    114\u001b[39m \u001b[43m        \u001b[49m\u001b[43mfeatures\u001b[49m\u001b[43m,\u001b[49m\n\u001b[32m    115\u001b[39m \u001b[43m        \u001b[49m\u001b[43mwires\u001b[49m\u001b[43m=\u001b[49m\u001b[43mwires\u001b[49m\u001b[43m,\u001b[49m\n\u001b[32m    116\u001b[39m \u001b[43m        \u001b[49m\u001b[43mpad_with\u001b[49m\u001b[43m=\u001b[49m\u001b[43mpad_with\u001b[49m\u001b[43m,\u001b[49m\n\u001b[32m    117\u001b[39m \u001b[43m        \u001b[49m\u001b[43mnormalize\u001b[49m\u001b[43m=\u001b[49m\u001b[43mnormalize\u001b[49m\u001b[43m,\u001b[49m\n\u001b[32m    118\u001b[39m \u001b[43m        \u001b[49m\u001b[43mvalidate_norm\u001b[49m\u001b[43m=\u001b[49m\u001b[43mvalidate_norm\u001b[49m\u001b[43m,\u001b[49m\n\u001b[32m    119\u001b[39m \u001b[43m        \u001b[49m\u001b[38;5;28;43mid\u001b[39;49m\u001b[43m=\u001b[49m\u001b[38;5;28;43mid\u001b[39;49m\u001b[43m,\u001b[49m\n\u001b[32m    120\u001b[39m \u001b[43m    \u001b[49m\u001b[43m)\u001b[49m\n",
      "\u001b[36mFile \u001b[39m\u001b[32m~/miniforge3/envs/qml/lib/python3.12/site-packages/pennylane/ops/qubit/state_preparation.py:301\u001b[39m, in \u001b[36mStatePrep.__init__\u001b[39m\u001b[34m(self, state, wires, pad_with, normalize, id, validate_norm)\u001b[39m\n\u001b[32m    291\u001b[39m \u001b[38;5;28;01mdef\u001b[39;00m\u001b[38;5;250m \u001b[39m\u001b[34m__init__\u001b[39m(\n\u001b[32m    292\u001b[39m     \u001b[38;5;28mself\u001b[39m,\n\u001b[32m    293\u001b[39m     state: TensorLike,\n\u001b[32m   (...)\u001b[39m\u001b[32m    298\u001b[39m     validate_norm: \u001b[38;5;28mbool\u001b[39m = \u001b[38;5;28;01mTrue\u001b[39;00m,\n\u001b[32m    299\u001b[39m ):\n\u001b[32m--> \u001b[39m\u001b[32m301\u001b[39m     state = \u001b[38;5;28;43mself\u001b[39;49m\u001b[43m.\u001b[49m\u001b[43m_preprocess\u001b[49m\u001b[43m(\u001b[49m\u001b[43mstate\u001b[49m\u001b[43m,\u001b[49m\u001b[43m \u001b[49m\u001b[43mwires\u001b[49m\u001b[43m,\u001b[49m\u001b[43m \u001b[49m\u001b[43mpad_with\u001b[49m\u001b[43m,\u001b[49m\u001b[43m \u001b[49m\u001b[43mnormalize\u001b[49m\u001b[43m,\u001b[49m\u001b[43m \u001b[49m\u001b[43mvalidate_norm\u001b[49m\u001b[43m)\u001b[49m\n\u001b[32m    303\u001b[39m     \u001b[38;5;28mself\u001b[39m._hyperparameters = {\n\u001b[32m    304\u001b[39m         \u001b[33m\"\u001b[39m\u001b[33mpad_with\u001b[39m\u001b[33m\"\u001b[39m: pad_with,\n\u001b[32m    305\u001b[39m         \u001b[33m\"\u001b[39m\u001b[33mnormalize\u001b[39m\u001b[33m\"\u001b[39m: normalize,\n\u001b[32m    306\u001b[39m         \u001b[33m\"\u001b[39m\u001b[33mvalidate_norm\u001b[39m\u001b[33m\"\u001b[39m: validate_norm,\n\u001b[32m    307\u001b[39m     }\n\u001b[32m    309\u001b[39m     \u001b[38;5;28msuper\u001b[39m().\u001b[34m__init__\u001b[39m(state, wires=wires, \u001b[38;5;28mid\u001b[39m=\u001b[38;5;28mid\u001b[39m)\n",
      "\u001b[36mFile \u001b[39m\u001b[32m~/miniforge3/envs/qml/lib/python3.12/site-packages/pennylane/ops/qubit/state_preparation.py:398\u001b[39m, in \u001b[36mStatePrep._preprocess\u001b[39m\u001b[34m(state, wires, pad_with, normalize, validate_norm)\u001b[39m\n\u001b[32m    396\u001b[39m dim = \u001b[32m2\u001b[39m ** \u001b[38;5;28mlen\u001b[39m(Wires(wires))\n\u001b[32m    397\u001b[39m \u001b[38;5;28;01mif\u001b[39;00m pad_with \u001b[38;5;129;01mis\u001b[39;00m \u001b[38;5;28;01mNone\u001b[39;00m \u001b[38;5;129;01mand\u001b[39;00m n_states != dim:\n\u001b[32m--> \u001b[39m\u001b[32m398\u001b[39m     \u001b[38;5;28;01mraise\u001b[39;00m \u001b[38;5;167;01mValueError\u001b[39;00m(\n\u001b[32m    399\u001b[39m         \u001b[33mf\u001b[39m\u001b[33m\"\u001b[39m\u001b[33mState must be of length \u001b[39m\u001b[38;5;132;01m{\u001b[39;00mdim\u001b[38;5;132;01m}\u001b[39;00m\u001b[33m; got length \u001b[39m\u001b[38;5;132;01m{\u001b[39;00mn_states\u001b[38;5;132;01m}\u001b[39;00m\u001b[33m. \u001b[39m\u001b[33m\"\u001b[39m\n\u001b[32m    400\u001b[39m         \u001b[33mf\u001b[39m\u001b[33m\"\u001b[39m\u001b[33mUse the \u001b[39m\u001b[33m'\u001b[39m\u001b[33mpad_with\u001b[39m\u001b[33m'\u001b[39m\u001b[33m argument for automated padding.\u001b[39m\u001b[33m\"\u001b[39m\n\u001b[32m    401\u001b[39m     )\n\u001b[32m    403\u001b[39m \u001b[38;5;28;01mif\u001b[39;00m pad_with \u001b[38;5;129;01mis\u001b[39;00m \u001b[38;5;129;01mnot\u001b[39;00m \u001b[38;5;28;01mNone\u001b[39;00m:\n\u001b[32m    404\u001b[39m     normalize = \u001b[38;5;28;01mTrue\u001b[39;00m\n",
      "\u001b[31mValueError\u001b[39m: State must be of length 256; got length 8. Use the 'pad_with' argument for automated padding."
     ]
    }
   ],
   "source": [
    "num_wires = 8\n",
    "dev = qml.device(\"lightning.qubit\", wires=num_wires)\n",
    "\n",
    "@qml.qnode(dev)\n",
    "def circuit(x, num_wires):\n",
    "    qml.AmplitudeEmbedding(x, wires=range(num_wires))\n",
    "    # qml.StronglyEntanglingLayers(weights=weights, wires=range(num_wires))\n",
    "\n",
    "x = np.random.rand(8,8)\n",
    "# weights = np.ran\n",
    "\n",
    "print(qml.draw(circuit, level=\"device\")(x, num_wires))"
   ]
  },
  {
   "cell_type": "code",
   "execution_count": 3,
   "id": "8df00163-b262-435d-8a86-7f164d7765b5",
   "metadata": {},
   "outputs": [],
   "source": [
    "dev = qml.device('default.qubit', wires=4)\n",
    "\n",
    "@qml.qnode(dev)\n",
    "def circuit(f, parameters):\n",
    "    qml.AmplitudeEmbedding(features=f, wires=range(4), normalize=True)\n",
    "    qml.StronglyEntanglingLayers(weights=parameters, wires=range(4))\n",
    "    return qml.expval(qml.Z(0))\n",
    "\n",
    "shape = qml.StronglyEntanglingLayers.shape(n_layers=2, n_wires=4)\n",
    "weights = np.random.random(size=shape)\n",
    "f = np.random.random(size=16)"
   ]
  },
  {
   "cell_type": "code",
   "execution_count": 4,
   "id": "645ebf75-20f2-4357-8101-aec4e5e5acff",
   "metadata": {},
   "outputs": [
    {
     "name": "stdout",
     "output_type": "stream",
     "text": [
      "0: ─╭|Ψ⟩──Rot(0.76,0.01,0.01)─╭●───────╭X──Rot(0.75,0.57,0.53)─╭●────╭X────┤  <Z>\n",
      "1: ─├|Ψ⟩──Rot(0.41,0.14,0.01)─╰X─╭●────│───Rot(0.69,0.42,0.03)─│──╭●─│──╭X─┤     \n",
      "2: ─├|Ψ⟩──Rot(0.49,0.12,0.47)────╰X─╭●─│───Rot(0.25,0.28,0.00)─╰X─│──╰●─│──┤     \n",
      "3: ─╰|Ψ⟩──Rot(0.18,0.12,0.03)───────╰X─╰●──Rot(0.99,0.60,0.30)────╰X────╰●─┤     \n"
     ]
    }
   ],
   "source": [
    "print(qml.draw(circuit, level=\"device\")(f, weights))"
   ]
  },
  {
   "cell_type": "code",
   "execution_count": 5,
   "id": "9e552fc0-59c0-4028-a170-a2747a3f5b34",
   "metadata": {},
   "outputs": [
    {
     "name": "stdout",
     "output_type": "stream",
     "text": [
      "0: ─╭|Ψ⟩──Rot(0.76,0.01,0.01)─╭●───────╭X──Rot(0.75,0.57,0.53)─╭●────╭X────┤  <Z>\n",
      "1: ─├|Ψ⟩──Rot(0.41,0.14,0.01)─╰X─╭●────│───Rot(0.69,0.42,0.03)─│──╭●─│──╭X─┤     \n",
      "2: ─├|Ψ⟩──Rot(0.49,0.12,0.47)────╰X─╭●─│───Rot(0.25,0.28,0.00)─╰X─│──╰●─│──┤     \n",
      "3: ─╰|Ψ⟩──Rot(0.18,0.12,0.03)───────╰X─╰●──Rot(0.99,0.60,0.30)────╰X────╰●─┤     \n"
     ]
    }
   ],
   "source": [
    "print(qml.draw(circuit, level=\"device\")(f, weights))"
   ]
  },
  {
   "cell_type": "code",
   "execution_count": 8,
   "id": "997e01fc-8f26-43b8-a737-e5c540f1447e",
   "metadata": {},
   "outputs": [],
   "source": [
    "n_px = 8\n",
    "num_qubits = int(np.log2(n_px**2))\n",
    "dev = qml.device('default.qubit', wires=num_qubits)\n",
    "\n",
    "@qml.qnode(dev)\n",
    "def circuit(f, parameters):\n",
    "    qml.AmplitudeEmbedding(features=f, wires=range(num_qubits), normalize=True)\n",
    "    qml.StronglyEntanglingLayers(weights=parameters, wires=range(num_qubits))\n",
    "    return qml.expval(qml.Z(0))\n",
    " \n",
    "shape = qml.StronglyEntanglingLayers.shape(n_layers=4, n_wires=num_qubits)\n",
    "weights = np.random.random(size=shape)\n",
    "f = x.flatten()"
   ]
  },
  {
   "cell_type": "code",
   "execution_count": 9,
   "id": "b49bf470-4f7c-498f-bb98-a736d34bb315",
   "metadata": {},
   "outputs": [
    {
     "name": "stdout",
     "output_type": "stream",
     "text": [
      "0: ─╭|Ψ⟩──Rot(0.36,0.56,0.73)─╭●─────────────╭X──Rot(0.64,0.67,0.14)─╭●──────────╭X\n",
      "1: ─├|Ψ⟩──Rot(0.01,0.51,0.35)─╰X─╭●──────────│───Rot(0.68,0.70,0.41)─│──╭●───────│─\n",
      "2: ─├|Ψ⟩──Rot(0.13,0.24,0.68)────╰X─╭●───────│───Rot(0.99,1.00,0.35)─╰X─│──╭●────│─\n",
      "3: ─├|Ψ⟩──Rot(0.71,0.79,0.90)───────╰X─╭●────│───Rot(0.63,0.17,0.96)────╰X─│──╭●─│─\n",
      "4: ─├|Ψ⟩──Rot(0.11,0.77,0.84)──────────╰X─╭●─│───Rot(0.60,0.87,0.60)───────╰X─│──╰●\n",
      "5: ─╰|Ψ⟩──Rot(0.40,0.85,0.98)─────────────╰X─╰●──Rot(0.45,0.74,0.12)──────────╰X───\n",
      "\n",
      "───Rot(0.66,0.07,0.32)──────────────────────╭●───────╭X──Rot(0.19,0.11,0.89)─────────────────────\n",
      "──╭X────────────────────Rot(0.16,0.91,0.35)─│──╭●────│──╭X────────────────────Rot(0.13,0.31,0.82)\n",
      "──│─────────────────────Rot(0.88,0.35,0.71)─│──│──╭●─│──│────────────────────╭X──────────────────\n",
      "──│─────────────────────Rot(0.85,0.69,0.75)─╰X─│──│──╰●─│────────────────────│───────────────────\n",
      "──│─────────────────────Rot(0.66,0.38,0.05)────╰X─│─────╰●───────────────────│───────────────────\n",
      "──╰●────────────────────Rot(0.11,0.74,0.55)───────╰X─────────────────────────╰●──────────────────\n",
      "\n",
      "───────────────────────╭●────╭X──────────┤  <Z>\n",
      "───────────────────────│──╭●─│──╭X───────┤     \n",
      "───Rot(0.45,0.96,0.09)─│──│──╰●─│──╭X────┤     \n",
      "───Rot(0.74,0.08,0.75)─│──│─────╰●─│──╭X─┤     \n",
      "───Rot(0.97,0.57,0.17)─╰X─│────────╰●─│──┤     \n",
      "───Rot(0.29,0.63,0.65)────╰X──────────╰●─┤     \n"
     ]
    }
   ],
   "source": [
    "print(qml.draw(circuit, level=\"device\")(f, weights))"
   ]
  },
  {
   "cell_type": "code",
   "execution_count": 3,
   "id": "26140b76-a0a6-40d1-a2b1-7d2508a834de",
   "metadata": {},
   "outputs": [],
   "source": [
    "import pennylane as qml\n",
    "from pennylane import numpy as np\n",
    "from pennylane.optimize import NesterovMomentumOptimizer"
   ]
  },
  {
   "cell_type": "code",
   "execution_count": 14,
   "id": "100ba19c-7300-441b-81cc-2ccd3022570d",
   "metadata": {},
   "outputs": [],
   "source": [
    "n_qubits = int(np.log2(n_px**2))"
   ]
  },
  {
   "cell_type": "code",
   "execution_count": 15,
   "id": "726d97b7-2ca6-40d6-bc76-ef2ab8bce4ec",
   "metadata": {},
   "outputs": [],
   "source": [
    "dev = qml.device(\"lightning.qubit\", wires=range(n_qubits))"
   ]
  },
  {
   "cell_type": "code",
   "execution_count": 21,
   "id": "036a57a6-90e5-4a9a-8f8f-769b144f73d1",
   "metadata": {},
   "outputs": [],
   "source": [
    "def layer(layer_weights):\n",
    "    for wire in range(n_qubits):\n",
    "        qml.Rot(*layer_weights[wire], wires=wire)\n",
    "\n",
    "    for i in range(n_qubits):\n",
    "        qml.CNOT(wires=[i, (i + 1) % n_qubits])"
   ]
  },
  {
   "cell_type": "code",
   "execution_count": 22,
   "id": "a2c16ce5-6b60-4cf8-9320-4ed1d5918dc1",
   "metadata": {},
   "outputs": [],
   "source": [
    "def state_preparation(x):\n",
    "    qml.BasisState(x, wires=range(n_qubits))"
   ]
  },
  {
   "cell_type": "code",
   "execution_count": 23,
   "id": "fa846f24-0cbe-4f6e-b157-a1c1303589e7",
   "metadata": {},
   "outputs": [],
   "source": [
    "@qml.qnode(dev)\n",
    "def circuit(weights, x):\n",
    "    state_preparation(x)\n",
    "\n",
    "    for layer_weights in weights:\n",
    "        layer(layer_weights)\n",
    "\n",
    "    return qml.expval(qml.PauliZ(0))"
   ]
  },
  {
   "cell_type": "code",
   "execution_count": 24,
   "id": "6b5e5bfe-bb5b-4f27-8928-3173ece0726b",
   "metadata": {},
   "outputs": [],
   "source": [
    "def variational_classifier(weights, bias, x):\n",
    "    return circuit(weights, x) + bias"
   ]
  },
  {
   "cell_type": "code",
   "execution_count": 25,
   "id": "717403e1-2b1a-460c-aebe-851d3cd714c2",
   "metadata": {},
   "outputs": [],
   "source": [
    "def square_loss(labels, predictions):\n",
    "    # We use a call to qml.math.stack to allow subtracting the arrays directly\n",
    "    return np.mean((labels - qml.math.stack(predictions)) ** 2)"
   ]
  },
  {
   "cell_type": "code",
   "execution_count": 26,
   "id": "0de3d352-6de9-416e-87b5-4fdb7e4f948e",
   "metadata": {},
   "outputs": [],
   "source": [
    "def accuracy(labels, predictions):\n",
    "    acc = sum(abs(l - p) < 1e-5 for l, p in zip(labels, predictions))\n",
    "    acc = acc / len(labels)\n",
    "    return acc"
   ]
  },
  {
   "cell_type": "code",
   "execution_count": 27,
   "id": "5ae3f5c3-5526-494e-b735-f2e01d37dab1",
   "metadata": {},
   "outputs": [],
   "source": [
    "def cost(weights, bias, X, Y):\n",
    "    predictions = [variational_classifier(weights, bias, x) for x in X]\n",
    "    return square_loss(Y, predictions)"
   ]
  },
  {
   "cell_type": "code",
   "execution_count": null,
   "id": "80fb7bae-bf8e-4978-9089-c02e85a13a94",
   "metadata": {},
   "outputs": [],
   "source": []
  }
 ],
 "metadata": {
  "kernelspec": {
   "display_name": "Python (qml)",
   "language": "python",
   "name": "qml"
  },
  "language_info": {
   "codemirror_mode": {
    "name": "ipython",
    "version": 3
   },
   "file_extension": ".py",
   "mimetype": "text/x-python",
   "name": "python",
   "nbconvert_exporter": "python",
   "pygments_lexer": "ipython3",
   "version": "3.12.9"
  }
 },
 "nbformat": 4,
 "nbformat_minor": 5
}
