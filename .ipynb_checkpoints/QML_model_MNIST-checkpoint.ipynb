{
 "cells": [
  {
   "cell_type": "code",
   "execution_count": 1,
   "id": "a978f117-20bd-41e5-a3e2-f8c7f21bb708",
   "metadata": {},
   "outputs": [],
   "source": [
    "import torch\n",
    "import torch.nn as nn\n",
    "import torch.nn.functional as F\n",
    "from torchvision import datasets\n",
    "import pennylane as qml\n",
    "import matplotlib.pyplot as plt"
   ]
  },
  {
   "cell_type": "code",
   "execution_count": 2,
   "id": "2f6c4336-c13d-4057-84b1-c6e0c726f37a",
   "metadata": {},
   "outputs": [],
   "source": [
    "def get_dataset(digits=[3, 5, 8, 9], n_px=16, train_size=1000, test_size=200):\n",
    "    mnist_train = datasets.MNIST(root='./data', train=True, download=True)\n",
    "    mnist_test = datasets.MNIST(root='./data', train=False, download=True)\n",
    "\n",
    "    def prepare(data, targets, digits, size, n_px):\n",
    "        mask = torch.zeros_like(targets, dtype=torch.bool)\n",
    "        for d in digits:\n",
    "            mask |= (targets == d)\n",
    "        data_f = data[mask]\n",
    "        targ_f = targets[mask]\n",
    "        idx = torch.randperm(len(data_f))[:size]\n",
    "        imgs = data_f[idx].unsqueeze(1).float() / 255.0\n",
    "        labs = targ_f[idx]\n",
    "        imgs_resized = F.interpolate(imgs, size=(n_px, n_px), mode='bilinear', align_corners=False)\n",
    "        labs_mapped = torch.tensor([digits.index(int(l)) for l in labs])\n",
    "        return imgs_resized, labs_mapped\n",
    "\n",
    "    x_train, y_train = prepare(mnist_train.data, mnist_train.targets, digits, train_size, n_px)\n",
    "    x_test, y_test = prepare(mnist_test.data, mnist_test.targets, digits, test_size, n_px)\n",
    "    return (x_train, y_train), (x_test, y_test)\n",
    "\n",
    "def visualize_data(x, y, pred=None):\n",
    "    n_img = len(x)\n",
    "    fig, axes = plt.subplots(1, n_img, figsize=(2*n_img, 2))\n",
    "    for i in range(n_img):\n",
    "        axes[i].imshow(x[i], cmap=\"gray\")\n",
    "        if pred is None:\n",
    "            axes[i].set_title(f\"Label: {y[i]}\")\n",
    "        else:\n",
    "            axes[i].set_title(f\"Label: {y[i]}, Pred: {pred[i]}\")\n",
    "    plt.tight_layout(w_pad=2)"
   ]
  },
  {
   "cell_type": "code",
   "execution_count": 8,
   "id": "c08a33f8-c80e-4938-ba18-97b2a50a4ec0",
   "metadata": {},
   "outputs": [],
   "source": [
    "# ---- Configuration ----\n",
    "digits = [3, 5, 8, 9]\n",
    "n_px = 16\n",
    "n_qubits = 8  # small enough for simulation\n",
    "n_q_layers = 32\n",
    "num_classes = len(digits)\n",
    "epochs = 30\n",
    "batch_size = 64\n",
    "lr = 0.03\n"
   ]
  },
  {
   "cell_type": "code",
   "execution_count": 9,
   "id": "db34daa6-42c6-41bb-abc5-e9723bf4f756",
   "metadata": {},
   "outputs": [],
   "source": [
    "# ---- Load and Prepare Data ----\n",
    "(x_train, y_train), (x_test, y_test) = get_dataset(digits=digits, n_px=n_px, train_size=10000, test_size=2000)\n",
    "x_train = x_train.view(x_train.shape[0], -1)\n",
    "x_test = x_test.view(x_test.shape[0], -1)"
   ]
  },
  {
   "cell_type": "code",
   "execution_count": 10,
   "id": "0d15920d-04d0-4cb5-89d1-d829a3713df2",
   "metadata": {},
   "outputs": [
    {
     "data": {
      "image/png": "[encoded data removed]",
      "text/plain": [
       "<Figure size 800x200 with 4 Axes>"
      ]
     },
     "metadata": {},
     "output_type": "display_data"
    }
   ],
   "source": [
    "# Visualize\n",
    "x_vis = [(x_train[y_train == i])[0].reshape(n_px, n_px) for i in range(num_classes)]\n",
    "visualize_data(x_vis, digits)"
   ]
  },
  {
   "cell_type": "code",
   "execution_count": 11,
   "id": "81271a5e-879c-4e81-9c5c-bca304d67a2e",
   "metadata": {},
   "outputs": [],
   "source": [
    "# ---- Define Quantum Layer ----\n",
    "dev = qml.device(\"default.qubit\", wires=n_qubits)\n",
    "\n",
    "def quantum_circuit(inputs, weights):\n",
    "    qml.templates.AngleEmbedding(inputs, wires=range(n_qubits), rotation='Y')\n",
    "    qml.templates.StronglyEntanglingLayers(weights, wires=range(n_qubits))\n",
    "    return [qml.expval(qml.PauliZ(i)) for i in range(n_qubits)]\n",
    "\n",
    "weight_shapes = {\"weights\": (n_q_layers, n_qubits, 3)}\n",
    "qnode = qml.QNode(quantum_circuit, dev, interface=\"torch\", diff_method=\"backprop\")\n",
    "quantum_layer = qml.qnn.TorchLayer(qnode, weight_shapes)\n"
   ]
  },
  {
   "cell_type": "code",
   "execution_count": 12,
   "id": "3127e576-9ce3-4af9-950c-99decf44cc9b",
   "metadata": {},
   "outputs": [],
   "source": [
    "# ---- Hybrid Model ----\n",
    "class QuantumHybridModel(nn.Module):\n",
    "    def __init__(self, input_dim, n_qubits, num_classes):\n",
    "        super().__init__()\n",
    "        self.encoder = nn.Linear(input_dim, n_qubits)  # reduce to n_qubits\n",
    "        self.q_layer = quantum_layer\n",
    "        self.classifier = nn.Linear(n_qubits, num_classes)  # final logits\n",
    "\n",
    "    def forward(self, x):\n",
    "        x = self.encoder(x)\n",
    "        x = self.q_layer(x)\n",
    "        return self.classifier(x)  # return logits directly"
   ]
  },
  {
   "cell_type": "code",
   "execution_count": 13,
   "id": "f74d61ce-59ed-4d89-9402-8b627e0cc1eb",
   "metadata": {},
   "outputs": [
    {
     "name": "stdout",
     "output_type": "stream",
     "text": [
      "Epoch 1 | Loss: 1.3913 | Test Acc: 0.2555\n",
      "Epoch 2 | Loss: 1.3876 | Test Acc: 0.3265\n",
      "Epoch 3 | Loss: 1.3681 | Test Acc: 0.3620\n",
      "Epoch 4 | Loss: 1.3393 | Test Acc: 0.5350\n",
      "Epoch 5 | Loss: 1.3091 | Test Acc: 0.6160\n",
      "Epoch 6 | Loss: 1.2635 | Test Acc: 0.6680\n",
      "Epoch 7 | Loss: 1.2171 | Test Acc: 0.6780\n",
      "Epoch 8 | Loss: 1.1640 | Test Acc: 0.7035\n",
      "Epoch 9 | Loss: 1.1208 | Test Acc: 0.7100\n",
      "Epoch 10 | Loss: 1.0325 | Test Acc: 0.7450\n",
      "Epoch 11 | Loss: 1.0563 | Test Acc: 0.7355\n",
      "Epoch 12 | Loss: 1.0420 | Test Acc: 0.7485\n",
      "Epoch 13 | Loss: 0.9044 | Test Acc: 0.7015\n",
      "Epoch 14 | Loss: 0.9456 | Test Acc: 0.6700\n",
      "Epoch 15 | Loss: 0.9527 | Test Acc: 0.7150\n",
      "Epoch 16 | Loss: 0.9184 | Test Acc: 0.7760\n",
      "Epoch 17 | Loss: 0.8923 | Test Acc: 0.7440\n",
      "Epoch 18 | Loss: 0.8388 | Test Acc: 0.7860\n",
      "Epoch 19 | Loss: 0.8895 | Test Acc: 0.7645\n",
      "Epoch 20 | Loss: 0.8500 | Test Acc: 0.7825\n",
      "Epoch 21 | Loss: 0.8580 | Test Acc: 0.8215\n",
      "Epoch 22 | Loss: 0.7627 | Test Acc: 0.8110\n",
      "Epoch 23 | Loss: 0.7611 | Test Acc: 0.8350\n",
      "Epoch 24 | Loss: 0.6108 | Test Acc: 0.8320\n",
      "Epoch 25 | Loss: 0.6690 | Test Acc: 0.7890\n",
      "Epoch 26 | Loss: 0.7777 | Test Acc: 0.8465\n",
      "Epoch 27 | Loss: 0.6608 | Test Acc: 0.8340\n",
      "Epoch 28 | Loss: 0.6617 | Test Acc: 0.8320\n",
      "Epoch 29 | Loss: 0.5754 | Test Acc: 0.8415\n",
      "Epoch 30 | Loss: 0.6336 | Test Acc: 0.8580\n"
     ]
    }
   ],
   "source": [
    "# ---- Training ----\n",
    "model = QuantumHybridModel(input_dim=n_px * n_px, n_qubits=n_qubits, num_classes=num_classes)\n",
    "optimizer = torch.optim.Adam(model.parameters(), lr=lr)\n",
    "loss_fn = nn.CrossEntropyLoss()\n",
    "\n",
    "def train(model, x_train, y_train, x_test, y_test, epochs, batch_size):\n",
    "    for epoch in range(epochs):\n",
    "        model.train()\n",
    "        idx = torch.randperm(x_train.shape[0])[:batch_size]\n",
    "        x_batch, y_batch = x_train[idx], y_train[idx]\n",
    "\n",
    "        logits = model(x_batch)\n",
    "        loss = loss_fn(logits, y_batch)\n",
    "\n",
    "        optimizer.zero_grad()\n",
    "        loss.backward()\n",
    "        optimizer.step()\n",
    "\n",
    "        with torch.no_grad():\n",
    "            model.eval()\n",
    "            test_logits = model(x_test)\n",
    "            acc = (torch.argmax(test_logits, dim=1) == y_test).float().mean()\n",
    "        print(f\"Epoch {epoch+1} | Loss: {loss.item():.4f} | Test Acc: {acc:.4f}\")\n",
    "\n",
    "train(model, x_train, y_train, x_test, y_test, epochs=epochs, batch_size=batch_size)"
   ]
  },
  {
   "cell_type": "code",
   "execution_count": 38,
   "id": "af8b508b-a222-4d85-a099-3b509f3f8476",
   "metadata": {},
   "outputs": [
    {
     "data": {
      "image/png": "[encoded data removed]",
      "text/plain": [
       "<Figure size 800x200 with 4 Axes>"
      ]
     },
     "metadata": {},
     "output_type": "display_data"
    }
   ],
   "source": [
    "# ---- Predict and Visualize ----\n",
    "with torch.no_grad():\n",
    "    sample_idx = [0, 1, 2, 3]\n",
    "    x_sample = x_test[sample_idx]\n",
    "    y_true = [digits[i] for i in y_test[sample_idx]]\n",
    "    logits = model(x_sample)\n",
    "    preds = torch.argmax(logits, axis=1)\n",
    "    y_pred = [digits[i] for i in preds]\n",
    "    x_sample_imgs = x_sample.reshape(-1, n_px, n_px)\n",
    "    visualize_data(x_sample_imgs, y_true, y_pred)"
   ]
  },
  {
   "cell_type": "markdown",
   "id": "23173d64-4e2c-4104-9869-af0da80d1cea",
   "metadata": {},
   "source": [
    "# Quantum Model - Amplitude Embedding"
   ]
  },
  {
   "cell_type": "code",
   "execution_count": 12,
   "id": "6eee8088-b71e-4175-9642-0153562a19a2",
   "metadata": {},
   "outputs": [],
   "source": [
    "import torch\n",
    "import torch.nn as nn\n",
    "import torch.nn.functional as F\n",
    "from torch.utils.data import DataLoader, TensorDataset\n",
    "from torchvision import datasets\n",
    "import pennylane as qml\n",
    "import matplotlib.pyplot as plt"
   ]
  },
  {
   "cell_type": "code",
   "execution_count": 13,
   "id": "fb09d37b-7821-47e5-b0e8-3a99ca4b2eb7",
   "metadata": {},
   "outputs": [],
   "source": [
    "# -------------------------------\n",
    "# Dataset Preparation\n",
    "# -------------------------------\n",
    "def get_dataset(digits=[3, 5, 8, 9], n_px=16, train_size=10000, test_size=2000):\n",
    "    mnist_train = datasets.MNIST(root='./data', train=True, download=True)\n",
    "    mnist_test = datasets.MNIST(root='./data', train=False, download=True)\n",
    "\n",
    "    def prepare(data, targets, digits, size, n_px):\n",
    "        mask = torch.zeros_like(targets, dtype=torch.bool)\n",
    "        for d in digits:\n",
    "            mask |= (targets == d)\n",
    "        data_f = data[mask]\n",
    "        targ_f = targets[mask]\n",
    "\n",
    "        idx = torch.randperm(len(data_f))[:size]\n",
    "        imgs = data_f[idx].unsqueeze(1).float() / 255.0\n",
    "        imgs_resized = F.interpolate(imgs, size=(n_px, n_px), mode='bilinear', align_corners=False)\n",
    "        labs = targ_f[idx]\n",
    "        labs_mapped = torch.tensor([digits.index(int(l)) for l in labs])\n",
    "        return imgs_resized, labs_mapped\n",
    "\n",
    "    x_train, y_train = prepare(mnist_train.data, mnist_train.targets, digits, train_size, n_px)\n",
    "    x_test, y_test = prepare(mnist_test.data, mnist_test.targets, digits, test_size, n_px)\n",
    "    return (x_train, y_train), (x_test, y_test)"
   ]
  },
  {
   "cell_type": "code",
   "execution_count": 14,
   "id": "91e7b2bb-fda9-471f-9460-cba8f1902539",
   "metadata": {},
   "outputs": [],
   "source": [
    "# -------------------------------\n",
    "# Quantum Circuit\n",
    "# -------------------------------\n",
    "def create_quantum_layer(n_qubits=8, n_layers=32):\n",
    "    dev = qml.device(\"default.qubit\", wires=n_qubits)\n",
    "\n",
    "    @qml.qnode(dev, interface=\"torch\", diff_method=\"backprop\")\n",
    "    def qnode(inputs, weights):\n",
    "        qml.AmplitudeEmbedding(inputs, wires=range(n_qubits), normalize=False)\n",
    "        # qml.AngleEmbedding(inputs, wires=range(n_qubits), rotation='Y')\n",
    "        qml.templates.StronglyEntanglingLayers(weights, wires=range(n_qubits))\n",
    "        return [qml.expval(qml.PauliZ(w)) for w in range(4)]\n",
    "\n",
    "    weight_shapes = {\"weights\": (n_layers, n_qubits, 3)}\n",
    "    return qml.qnn.TorchLayer(qnode, weight_shapes)"
   ]
  },
  {
   "cell_type": "code",
   "execution_count": 20,
   "id": "8b3b627e-fc2b-4c61-ac66-139c2eabfeab",
   "metadata": {},
   "outputs": [],
   "source": [
    "# -------------------------------\n",
    "# Hybrid Model\n",
    "# -------------------------------\n",
    "class QuantumHybridModel(nn.Module):\n",
    "    def __init__(self, n_qubits, num_classes, quantum_layer, n_px):\n",
    "        super().__init__()\n",
    "        self.n_qubits = n_qubits\n",
    "        # self.encoder = nn.Linear(n_px * n_px, n_qubits)  # reduce 256 → n_qubits\n",
    "        self.q_layer = quantum_layer\n",
    "        self.classifier = nn.Linear(n_qubits, num_classes)\n",
    "\n",
    "    def forward(self, x):\n",
    "        x = x.view(x.shape[0], -1)  # Flatten: [B, 256]\n",
    "        x = x / x.norm(dim=1, keepdim=True)  # Normalize for amplitude embedding\n",
    "        # x = self.encoder(x)\n",
    "        x = self.q_layer(x)  # Output: [B, n_qubits]\n",
    "        # x = F.layer_norm(x, x.shape)  # Optional normalization\n",
    "        return self.classifier(x)  # Logits\n",
    "        # return self.q_layer(x)  # Output: [B, n_classes] logits"
   ]
  },
  {
   "cell_type": "code",
   "execution_count": 21,
   "id": "4147a183-6953-4dab-8c1d-bd5727986054",
   "metadata": {},
   "outputs": [],
   "source": [
    "# -------------------------------\n",
    "# Training Utilities\n",
    "# -------------------------------\n",
    "def train(model, dataloader, optimizer, loss_fn, device):\n",
    "    model.train()\n",
    "    total_loss, correct = 0, 0\n",
    "    for x, y in dataloader:\n",
    "        x, y = x.to(device), y.to(device)\n",
    "        optimizer.zero_grad()\n",
    "        logits = model(x)\n",
    "        loss = loss_fn(logits, y)\n",
    "        loss.backward()\n",
    "        optimizer.step()\n",
    "        total_loss += loss.item() * x.size(0)\n",
    "        correct += (logits.argmax(dim=1) == y).sum().item()\n",
    "    return total_loss / len(dataloader.dataset), correct / len(dataloader.dataset)\n",
    "\n",
    "def evaluate(model, dataloader, loss_fn, device):\n",
    "    model.eval()\n",
    "    total_loss, correct = 0, 0\n",
    "    with torch.no_grad():\n",
    "        for x, y in dataloader:\n",
    "            x, y = x.to(device), y.to(device)\n",
    "            logits = model(x)\n",
    "            loss = loss_fn(logits, y)\n",
    "            total_loss += loss.item() * x.size(0)\n",
    "            correct += (logits.argmax(dim=1) == y).sum().item()\n",
    "    return total_loss / len(dataloader.dataset), correct / len(dataloader.dataset)\n"
   ]
  },
  {
   "cell_type": "code",
   "execution_count": null,
   "id": "3066714e-f6f7-40e7-a457-fbada4363fb7",
   "metadata": {},
   "outputs": [
    {
     "name": "stdout",
     "output_type": "stream",
     "text": [
      "Epoch   1 | Train Acc: 0.7214 | Test Acc: 0.8165\n",
      "Epoch   2 | Train Acc: 0.8436 | Test Acc: 0.8665\n",
      "Epoch   3 | Train Acc: 0.8583 | Test Acc: 0.8625\n",
      "Epoch   4 | Train Acc: 0.8584 | Test Acc: 0.8690\n",
      "Epoch   5 | Train Acc: 0.8585 | Test Acc: 0.8720\n",
      "Epoch   6 | Train Acc: 0.8615 | Test Acc: 0.8735\n",
      "Epoch   7 | Train Acc: 0.8584 | Test Acc: 0.8625\n",
      "Epoch   8 | Train Acc: 0.8594 | Test Acc: 0.8770\n",
      "Epoch   9 | Train Acc: 0.8608 | Test Acc: 0.8755\n",
      "Epoch  10 | Train Acc: 0.8628 | Test Acc: 0.8740\n",
      "Epoch  11 | Train Acc: 0.8607 | Test Acc: 0.8695\n",
      "Epoch  12 | Train Acc: 0.8616 | Test Acc: 0.8720\n",
      "Epoch  13 | Train Acc: 0.8649 | Test Acc: 0.8760\n"
     ]
    }
   ],
   "source": [
    "# -------------------------------\n",
    "# Main\n",
    "# -------------------------------\n",
    "# Setup\n",
    "device = torch.device(\"cuda\" if torch.cuda.is_available() else \"cpu\")\n",
    "n_qubits = 6\n",
    "n_classes = 4\n",
    "batch_size = 100\n",
    "epochs = 20\n",
    "n_px = 8\n",
    "\n",
    "# Load Data\n",
    "digits = [3, 5, 8, 9]\n",
    "(x_train, y_train), (x_test, y_test) = get_dataset(digits=digits, n_px=n_px)\n",
    "train_ds = TensorDataset(x_train, y_train)\n",
    "test_ds = TensorDataset(x_test, y_test)\n",
    "train_dl = DataLoader(train_ds, batch_size=batch_size, shuffle=True)\n",
    "test_dl = DataLoader(test_ds, batch_size=batch_size)\n",
    "\n",
    "# Model\n",
    "q_layer = create_quantum_layer(n_qubits=n_qubits, n_layers=32)\n",
    "model = QuantumHybridModel(n_qubits=n_qubits, num_classes=n_classes, quantum_layer=q_layer, n_px=n_px).to(device)\n",
    "\n",
    "# Training Setup\n",
    "optimizer = torch.optim.Adam(model.parameters(), lr=3e-2)\n",
    "scheduler = torch.optim.lr_scheduler.ReduceLROnPlateau(optimizer, patience=5, factor=0.5)\n",
    "loss_fn = nn.CrossEntropyLoss()\n",
    "\n",
    "# Training Loop\n",
    "for epoch in range(1, epochs + 1):\n",
    "    train_loss, train_acc = train(model, train_dl, optimizer, loss_fn, device)\n",
    "    test_loss, test_acc = evaluate(model, test_dl, loss_fn, device)\n",
    "    scheduler.step(test_loss)\n",
    "\n",
    "    print(f\"Epoch {epoch:3d} | Train Acc: {train_acc:.4f} | Test Acc: {test_acc:.4f}\")"
   ]
  },
  {
   "cell_type": "code",
   "execution_count": null,
   "id": "5a3dabd1-2fc0-4ea6-bff8-52b732f16fc5",
   "metadata": {},
   "outputs": [],
   "source": []
  }
 ],
 "metadata": {
  "kernelspec": {
   "display_name": "Python (qml)",
   "language": "python",
   "name": "qml"
  },
  "language_info": {
   "codemirror_mode": {
    "name": "ipython",
    "version": 3
   },
   "file_extension": ".py",
   "mimetype": "text/x-python",
   "name": "python",
   "nbconvert_exporter": "python",
   "pygments_lexer": "ipython3",
   "version": "3.12.9"
  }
 },
 "nbformat": 4,
 "nbformat_minor": 5
}
