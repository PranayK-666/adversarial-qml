{
 "cells": [
  {
   "cell_type": "markdown",
   "metadata": {},
   "source": [
    "# Adversarial attacks and robustness for quantum machine learning\n",
    "Based on the PennyLane [demo](https://pennylane.ai/qml/demos/tutorial_adversarial_attacks_QML). Refer to this [paper](https://arxiv.org/abs/2404.16154)."
   ]
  },
  {
   "cell_type": "code",
   "execution_count": 1,
   "metadata": {
    "editable": true,
    "slideshow": {
     "slide_type": ""
    },
    "tags": [],
    "vscode": {
     "languageId": "plaintext"
    }
   },
   "outputs": [],
   "source": [
    "import pennylane as qml\n",
    "from pennylane import numpy as np\n",
    "import torch # to use PennyLane TorchLayer class to perform circuit operations and optimisations with PyTorch backend\n",
    "from matplotlib import pyplot as plt"
   ]
  },
  {
   "cell_type": "markdown",
   "metadata": {},
   "source": [
    "### Visualisation of the dataset"
   ]
  },
  {
   "cell_type": "code",
   "execution_count": 2,
   "metadata": {
    "editable": true,
    "slideshow": {
     "slide_type": ""
    },
    "tags": [],
    "vscode": {
     "languageId": "plaintext"
    }
   },
   "outputs": [
    {
     "data": {
      "image/png": "[encoded data removed]",
      "text/plain": [
       "<Figure size 800x200 with 4 Axes>"
      ]
     },
     "metadata": {},
     "output_type": "display_data"
    }
   ],
   "source": [
    "# we can use the dataset hosted on PennyLane\n",
    "# 'plus-minus' is a low dimensional dataset and can be useful to perform scalable training\n",
    "# while also serves as a baseline for evaluating QML image classification model's ability to find useful features in the input\n",
    "[pm] = qml.data.load('other', name='plus-minus') \n",
    "\n",
    "X_train = pm.img_train  # shape (1000,16,16)\n",
    "X_test = pm.img_test  # shape (200,16,16)\n",
    "Y_train = pm.labels_train  # shape (1000,)\n",
    "Y_test = pm.labels_test  # shape (200,)\n",
    "\n",
    "# show one image from each class (in the train- and testsets, the images are randomly permuted)\n",
    "x_vis = [\n",
    "    (X_train[Y_train == 0])[0],\n",
    "    (X_train[Y_train == 1])[0],\n",
    "    (X_train[Y_train == 2])[0],\n",
    "    (X_train[Y_train == 3])[0],\n",
    "]\n",
    "y_vis = [0, 1, 2, 3]\n",
    "\n",
    "\n",
    "# later when we train the model we include the predictions as well, so let's just add the functionality here\n",
    "def visualize_data(x, y, pred=None):\n",
    "    n_img = len(x)\n",
    "    labels_list = [\"\\u2212\", \"\\u002b\", \"\\ua714\", \"\\u02e7\"]\n",
    "    fig, axes = plt.subplots(1, 4, figsize=(8, 2))\n",
    "    for i in range(n_img):\n",
    "        axes[i].imshow(x[i], cmap=\"gray\")\n",
    "        if pred is None:\n",
    "            axes[i].set_title(\"Label: {}\".format(labels_list[y[i]]))\n",
    "        else:\n",
    "            axes[i].set_title(\"Label: {}, Pred: {}\".format(labels_list[y[i]], labels_list[pred[i]]))\n",
    "    plt.tight_layout(w_pad=2)\n",
    "    # plt.show()\n",
    "\n",
    "\n",
    "visualize_data(x_vis, y_vis)"
   ]
  },
  {
   "cell_type": "code",
   "execution_count": 3,
   "metadata": {},
   "outputs": [
    {
     "name": "stdout",
     "output_type": "stream",
     "text": [
      "X\n",
      "Shape : (1000, 16, 16)\n",
      "dType : float32\n",
      "pyType: <class 'pennylane.numpy.tensor.tensor'>\n",
      "Y\n",
      "Shape : (1000,)\n",
      "dType : int64\n",
      "pyType: <class 'numpy.ndarray'>\n"
     ]
    }
   ],
   "source": [
    "print('X')\n",
    "print(f'Shape : {X_train.shape}')\n",
    "print(f'dType : {X_train.dtype}')\n",
    "print(f'pyType: {type(X_train)}')\n",
    "\n",
    "print('Y')\n",
    "print(f'Shape : {Y_train.shape}')\n",
    "print(f'dType : {Y_train.dtype}')\n",
    "print(f'pyType: {type(Y_train)}')"
   ]
  },
  {
   "cell_type": "code",
   "execution_count": 4,
   "metadata": {},
   "outputs": [
    {
     "name": "stderr",
     "output_type": "stream",
     "text": [
      "2025-04-30 00:05:22.051917: E external/local_xla/xla/stream_executor/cuda/cuda_fft.cc:467] Unable to register cuFFT factory: Attempting to register factory for plugin cuFFT when one has already been registered\n",
      "WARNING: All log messages before absl::InitializeLog() is called are written to STDERR\n",
      "E0000 00:00:1745935522.067825   63984 cuda_dnn.cc:8579] Unable to register cuDNN factory: Attempting to register factory for plugin cuDNN when one has already been registered\n",
      "E0000 00:00:1745935522.072722   63984 cuda_blas.cc:1407] Unable to register cuBLAS factory: Attempting to register factory for plugin cuBLAS when one has already been registered\n",
      "W0000 00:00:1745935522.085261   63984 computation_placer.cc:177] computation placer already registered. Please check linkage and avoid linking the same target more than once.\n",
      "W0000 00:00:1745935522.085276   63984 computation_placer.cc:177] computation placer already registered. Please check linkage and avoid linking the same target more than once.\n",
      "W0000 00:00:1745935522.085278   63984 computation_placer.cc:177] computation placer already registered. Please check linkage and avoid linking the same target more than once.\n",
      "W0000 00:00:1745935522.085279   63984 computation_placer.cc:177] computation placer already registered. Please check linkage and avoid linking the same target more than once.\n",
      "I0000 00:00:1745935524.019856   63984 gpu_device.cc:2019] Created device /job:localhost/replica:0/task:0/device:GPU:0 with 11045 MB memory:  -> device: 0, name: Tesla P100-PCIE-12GB, pci bus id: 0000:02:00.0, compute capability: 6.0\n"
     ]
    },
    {
     "data": {
      "image/png": "[encoded data removed]",
      "text/plain": [
       "<Figure size 800x200 with 4 Axes>"
      ]
     },
     "metadata": {},
     "output_type": "display_data"
    }
   ],
   "source": [
    "from utils.tools import get_dataset, visualise_data\n",
    "\n",
    "digits = [0,1,2,3]\n",
    "n_px = 16\n",
    "\n",
    "(x_train, y_train), (x_test, y_test) = get_dataset(digits=digits, n_px=n_px)\n",
    "\n",
    "# show one image from each class\n",
    "x_vis = [(x_train[y_train==digit])[np.random.choice(range(10))] for digit in digits] \n",
    "y_vis = range(len(digits))\n",
    "\n",
    "visualise_data(digits, x_vis, y_vis)"
   ]
  },
  {
   "cell_type": "code",
   "execution_count": 5,
   "metadata": {},
   "outputs": [
    {
     "name": "stdout",
     "output_type": "stream",
     "text": [
      "X\n",
      "Shape : (1000, 16, 16)\n",
      "dType : float32\n",
      "pyType: <class 'pennylane.numpy.tensor.tensor'>\n",
      "Y\n",
      "Shape : (1000,)\n",
      "dType : uint8\n",
      "pyType: <class 'numpy.ndarray'>\n"
     ]
    }
   ],
   "source": [
    "X_train = np.reshape(x_train, (len(x_train), n_px, n_px))\n",
    "X_test = np.reshape(x_test, (len(x_test), n_px, n_px))\n",
    "Y_train = y_train\n",
    "Y_test = y_test\n",
    "\n",
    "print('X')\n",
    "print(f'Shape : {X_train.shape}')\n",
    "print(f'dType : {X_train.dtype}')\n",
    "print(f'pyType: {type(X_train)}')\n",
    "\n",
    "print('Y')\n",
    "print(f'Shape : {Y_train.shape}')\n",
    "print(f'dType : {Y_train.dtype}')\n",
    "print(f'pyType: {type(Y_train)}')"
   ]
  },
  {
   "cell_type": "markdown",
   "metadata": {},
   "source": [
    "### Building the QML circuit for classification"
   ]
  },
  {
   "cell_type": "markdown",
   "metadata": {},
   "source": [
    "[\"data-reuploading\"](https://pennylane.ai/qml/demos/tutorial_data_reuploading_classifier) scheme is used to encode the pixels into the space of the quantum classifier <br>\n",
    "`StronglyEntanglingLayers` template from PennyLane is used for the circuit design. <br>\n",
    "PauliZ observables give the output which is used in PyTorch `CrossEntropyLoss` function to optimise the parameters."
   ]
  },
  {
   "cell_type": "code",
   "execution_count": 6,
   "metadata": {},
   "outputs": [
    {
     "name": "stdout",
     "output_type": "stream",
     "text": [
      "Using device: cpu\n"
     ]
    }
   ],
   "source": [
    "#### Hyperparameters ####\n",
    "input_dim = 256 # 16 X 16 pixels\n",
    "num_classes = 4\n",
    "num_layers = 32\n",
    "num_qubits = 8\n",
    "num_reup = 3\n",
    "\n",
    "# device = torch.device(\"cuda\" if torch.cuda.is_available() else \"cpu\")\n",
    "device = torch.device(\"cpu\")\n",
    "print(\"Using device:\", device)\n",
    "\n",
    "\n",
    "class QML_classifier(torch.nn.Module):\n",
    "    \"\"\"\n",
    "    Class for creating a quantum machine learning (classification) model based on the StronglyEntanglingLayers template.\n",
    "\n",
    "    Args:\n",
    "        input_dim: the dimension of the input samples\n",
    "        output_dim: the dimension of the output, i.e. the numbers of classes\n",
    "        num_qubits: the number of qubits in the circuit\n",
    "        num_layers: the number of layers within the StronglyEntanglingLayers template\n",
    "    \"\"\"\n",
    "    def __init__(self, input_dim, output_dim, num_qubits, num_layers):\n",
    "        super().__init__()\n",
    "        torch.manual_seed(1337)  # fixed seed for reproducibility\n",
    "        self.num_qubits = num_qubits\n",
    "        self.output_dim = output_dim\n",
    "        self.num_layers = num_layers\n",
    "        self.device = qml.device(\"lightning.qubit\", wires=self.num_qubits)\n",
    "        self.weights_shape = qml.StronglyEntanglingLayers.shape(\n",
    "            n_layers=self.num_layers, n_wires=self.num_qubits\n",
    "        )\n",
    "\n",
    "        @qml.qnode(self.device)\n",
    "        def circuit(inputs, weights, bias):\n",
    "            inputs = torch.reshape(inputs, self.weights_shape)\n",
    "            qml.StronglyEntanglingLayers(\n",
    "                weights=weights * inputs + bias, wires=range(self.num_qubits)\n",
    "            )\n",
    "            return [qml.expval(qml.PauliZ(i)) for i in range(self.output_dim)]\n",
    "\n",
    "        param_shapes = {\"weights\": self.weights_shape, \"bias\": self.weights_shape}\n",
    "        init_vals = {\n",
    "            \"weights\": 0.1 * torch.rand(self.weights_shape),\n",
    "            \"bias\": 0.1 * torch.rand(self.weights_shape),\n",
    "        }\n",
    "\n",
    "        # initialize the quantum circuit\n",
    "        self.qcircuit = qml.qnn.TorchLayer(\n",
    "            qnode=circuit, weight_shapes=param_shapes, init_method=init_vals\n",
    "        )\n",
    "\n",
    "    def forward(self, x):\n",
    "        inputs_stack = torch.hstack([x] * num_reup)\n",
    "        return self.qcircuit(inputs_stack)"
   ]
  },
  {
   "cell_type": "markdown",
   "metadata": {},
   "source": [
    "### Training the classifier"
   ]
  },
  {
   "cell_type": "code",
   "execution_count": 7,
   "metadata": {},
   "outputs": [
    {
     "name": "stdout",
     "output_type": "stream",
     "text": [
      "Starting training loop for quantum variational classifier (8 qubits, 32 layers)...\n",
      "Epoch 0/4 | Approx Cost (train): 1.3833874 | Cost (val): 1.3837718 | Approx Acc train: 0.3800000 | Acc val: 0.3100000\n",
      "Epoch 1/4 | Approx Cost (train): 1.2260454 | Cost (val): 1.2698224 | Approx Acc train: 0.7200000 | Acc val: 0.6500000\n",
      "Epoch 2/4 | Approx Cost (train): 1.1533152 | Cost (val): 1.1867813 | Approx Acc train: 0.8800000 | Acc val: 0.8200000\n",
      "Epoch 3/4 | Approx Cost (train): 1.0741080 | Cost (val): 1.1013923 | Approx Acc train: 0.8600000 | Acc val: 0.8200000\n",
      "Epoch 4/4 | Approx Cost (train): 0.9681479 | Cost (val): 0.9922172 | Approx Acc train: 0.8800000 | Acc val: 0.8400000\n",
      "\n",
      "Time elapsed: 320.6922838687897 s.\n"
     ]
    }
   ],
   "source": [
    "import time\n",
    "t=time.time()\n",
    "\n",
    "#### Hyperparameters ####\n",
    "learning_rate = 0.1\n",
    "epochs = 4\n",
    "batch_size = 20\n",
    "\n",
    "# we use a subset of the training and validation data for this tutorial to speed up the training\n",
    "n_train = 400\n",
    "n_test = 100\n",
    "\n",
    "feats_train = torch.from_numpy(X_train[:n_train]).reshape(n_train, -1).to(device)\n",
    "feats_test = torch.from_numpy(X_test[:n_test]).reshape(n_test, -1).to(device)\n",
    "labels_train = torch.from_numpy(Y_train[:n_train]).to(device)\n",
    "labels_test = torch.from_numpy(Y_test[:n_test]).to(device)\n",
    "num_train = feats_train.shape[0]\n",
    "\n",
    "# initialize the model, loss function and optimization algorithm (Adam optimizer)\n",
    "qml_model = QML_classifier(input_dim, num_classes, num_qubits, num_layers)\n",
    "loss = torch.nn.CrossEntropyLoss()\n",
    "optimizer = torch.optim.Adam(qml_model.parameters(), lr=learning_rate)\n",
    "num_batches = feats_train.shape[0] // batch_size\n",
    "\n",
    "\n",
    "# set up a measure for performance\n",
    "def accuracy(labels, predictions):\n",
    "    acc = 0\n",
    "    for l, p in zip(labels, predictions):\n",
    "        if torch.argmax(p) == l:\n",
    "            acc += 1\n",
    "    acc = acc / len(labels)\n",
    "    return acc\n",
    "\n",
    "\n",
    "# generate randomly permutated batches to speed up training\n",
    "def gen_batches(num_samples, num_batches):\n",
    "    assert num_samples % num_batches == 0\n",
    "    perm_ind = torch.reshape(torch.randperm(num_samples), (num_batches, -1))\n",
    "    return perm_ind\n",
    "\n",
    "\n",
    "# display accuracy and loss after each epoch (to speed up runtime, only do this for first 100 samples)\n",
    "def print_acc(epoch, max_ep=4):\n",
    "    predictions_train = [qml_model(f) for f in feats_train[:50]]\n",
    "    predictions_test = [qml_model(f) for f in feats_test]\n",
    "    cost_approx_train = loss(torch.stack(predictions_train), labels_train[:50])\n",
    "    cost_approx_test = loss(torch.stack(predictions_test), labels_test)\n",
    "    acc_approx_train = accuracy(labels_train[:50], predictions_train)\n",
    "    acc_approx_test = accuracy(labels_test, predictions_test)\n",
    "    print(\n",
    "        f\"Epoch {epoch}/{max_ep} | Approx Cost (train): {cost_approx_train:0.7f} | Cost (val): {cost_approx_test:0.7f} |\"\n",
    "        f\" Approx Acc train: {acc_approx_train:0.7f} | Acc val: {acc_approx_test:0.7f}\"\n",
    "    )\n",
    "\n",
    "\n",
    "print(\n",
    "    f\"Starting training loop for quantum variational classifier ({num_qubits} qubits, {num_layers} layers)...\"\n",
    ")\n",
    "\n",
    "# optimize over model parameters for given number of epochs\n",
    "for ep in range(0, epochs):\n",
    "    batch_ind = gen_batches(num_train, num_batches)\n",
    "    print_acc(epoch=ep)\n",
    "\n",
    "    for it in range(num_batches):\n",
    "        optimizer.zero_grad()\n",
    "        feats_train_batch = feats_train[batch_ind[it]]\n",
    "        labels_train_batch = labels_train[batch_ind[it]]\n",
    "\n",
    "        outputs = [qml_model(f) for f in feats_train_batch]\n",
    "        batch_loss = loss(torch.stack(outputs), labels_train_batch)\n",
    "        # if REG:\n",
    "        #    loss = loss + lipschitz_regularizer(regularization_rate, model.qcircuit.weights)\n",
    "        batch_loss.backward()\n",
    "        optimizer.step()\n",
    "\n",
    "print_acc(epochs)\n",
    "\n",
    "elapsed = time.time() - t\n",
    "print(f\"\\nTime elapsed: {elapsed} s.\")"
   ]
  },
  {
   "cell_type": "markdown",
   "metadata": {},
   "source": [
    "### Evaluation"
   ]
  },
  {
   "cell_type": "code",
   "execution_count": 8,
   "metadata": {},
   "outputs": [
    {
     "data": {
      "image/png": "[encoded data removed]",
      "text/plain": [
       "<Figure size 800x200 with 4 Axes>"
      ]
     },
     "metadata": {},
     "output_type": "display_data"
    }
   ],
   "source": [
    "# show accuracy\n",
    "x_vis_torch = torch.from_numpy(np.array(x_vis).reshape(4, -1))\n",
    "y_vis_torch = torch.from_numpy(np.array(y_vis))\n",
    "benign_preds = [qml_model(f) for f in x_vis_torch]\n",
    "\n",
    "benign_class_output = [torch.argmax(p) for p in benign_preds]\n",
    "visualize_data(x_vis, y_vis, benign_class_output)"
   ]
  },
  {
   "cell_type": "markdown",
   "metadata": {},
   "source": [
    "### Adversarial attack - [PGD](https://adversarial-ml-tutorial.org/adversarial_examples/#projected-gradient-descent)"
   ]
  },
  {
   "cell_type": "code",
   "execution_count": 14,
   "metadata": {},
   "outputs": [],
   "source": [
    "# simple implementation of projected gradient descent (PGD) attack (without randomized starting points — cf. BIM)\n",
    "# for an introduction to PGD, see https://adversarial-ml-tutorial.org/adversarial_examples/#projected-gradient-descent\n",
    "def PGD(model, feats, labels, epsilon=0.1, alpha=0.01, num_iter=10):\n",
    "\n",
    "    # initialize image perturbations with zero\n",
    "    delta = torch.zeros_like(feats, requires_grad=True)\n",
    "    for t in range(num_iter):\n",
    "        feats_adv = feats + delta\n",
    "        outputs = [model(f) for f in feats_adv]\n",
    "\n",
    "        # forward & backward pass through the model, accumulating gradients\n",
    "        l = loss(torch.stack(outputs), labels)\n",
    "        l.backward()\n",
    "\n",
    "        # use gradients with respect to inputs and clip the results to lie within the epsilon boundary\n",
    "        delta.data = (delta + alpha * delta.grad.detach().sign()).clamp(-epsilon, epsilon)\n",
    "        delta.grad.zero_()\n",
    "    return delta.detach()"
   ]
  },
  {
   "cell_type": "markdown",
   "metadata": {},
   "source": [
    "### Evaluation - adversarial samples"
   ]
  },
  {
   "cell_type": "code",
   "execution_count": null,
   "metadata": {},
   "outputs": [],
   "source": [
    "perturbations = PGD(model=qml_model, feats=x_vis_torch, labels=y_vis_torch, epsilon=0.1) # even smaller values of epsilon do some damage (epsilon > 0.04)\n",
    "perturbed_x = x_vis_torch + perturbations\n",
    "\n",
    "# check model performance\n",
    "adversarial_preds = [qml_model(f) for f in perturbed_x]\n",
    "adversarial_class_output = [torch.argmax(p) for p in adversarial_preds]\n",
    "\n",
    "visualize_data(perturbed_x.reshape(-1, 16, 16), y_vis, adversarial_class_output)"
   ]
  },
  {
   "cell_type": "code",
   "execution_count": null,
   "metadata": {},
   "outputs": [],
   "source": [
    "np.shape(x_vis_torch)"
   ]
  },
  {
   "cell_type": "code",
   "execution_count": 29,
   "metadata": {},
   "outputs": [],
   "source": [
    "adv_x = torch.from_numpy(np.array(x_test[0:100].reshape(100,-1)))\n",
    "adv_y = torch.from_numpy(np.array(y_test[0:100]))"
   ]
  },
  {
   "cell_type": "code",
   "execution_count": 30,
   "metadata": {},
   "outputs": [
    {
     "ename": "TypeError",
     "evalue": "clamp() received an invalid combination of arguments - got (tensor, tensor), but expected one of:\n * (Tensor min = None, Tensor max = None)\n      didn't match because some of the arguments have invalid types: (!tensor!, !tensor!)\n * (Number min = None, Number max = None)\n      didn't match because some of the arguments have invalid types: (!tensor!, !tensor!)\n",
     "output_type": "error",
     "traceback": [
      "\u001b[31m---------------------------------------------------------------------------\u001b[39m",
      "\u001b[31mTypeError\u001b[39m                                 Traceback (most recent call last)",
      "\u001b[36mCell\u001b[39m\u001b[36m \u001b[39m\u001b[32mIn[30]\u001b[39m\u001b[32m, line 4\u001b[39m\n\u001b[32m      1\u001b[39m eps = np.linspace(\u001b[32m0\u001b[39m, \u001b[32m0.2\u001b[39m, \u001b[32m10\u001b[39m)\n\u001b[32m      3\u001b[39m \u001b[38;5;28;01mfor\u001b[39;00m ep \u001b[38;5;129;01min\u001b[39;00m eps:\n\u001b[32m----> \u001b[39m\u001b[32m4\u001b[39m     perturbations = \u001b[43mPGD\u001b[49m\u001b[43m(\u001b[49m\u001b[43mmodel\u001b[49m\u001b[43m=\u001b[49m\u001b[43mqml_model\u001b[49m\u001b[43m,\u001b[49m\u001b[43m \u001b[49m\u001b[43mfeats\u001b[49m\u001b[43m=\u001b[49m\u001b[43madv_x\u001b[49m\u001b[43m,\u001b[49m\u001b[43m \u001b[49m\u001b[43mlabels\u001b[49m\u001b[43m=\u001b[49m\u001b[43madv_y\u001b[49m\u001b[43m,\u001b[49m\u001b[43m \u001b[49m\u001b[43mepsilon\u001b[49m\u001b[43m=\u001b[49m\u001b[43mep\u001b[49m\u001b[43m)\u001b[49m\n\u001b[32m      5\u001b[39m     perturbed_x = adv_x + perturbations\n\u001b[32m      6\u001b[39m     adv_pred = [qml_model(f) \u001b[38;5;28;01mfor\u001b[39;00m f \u001b[38;5;129;01min\u001b[39;00m perturbed_x]\n",
      "\u001b[36mCell\u001b[39m\u001b[36m \u001b[39m\u001b[32mIn[14]\u001b[39m\u001b[32m, line 16\u001b[39m, in \u001b[36mPGD\u001b[39m\u001b[34m(model, feats, labels, epsilon, alpha, num_iter)\u001b[39m\n\u001b[32m     13\u001b[39m     l.backward()\n\u001b[32m     15\u001b[39m     \u001b[38;5;66;03m# use gradients with respect to inputs and clip the results to lie within the epsilon boundary\u001b[39;00m\n\u001b[32m---> \u001b[39m\u001b[32m16\u001b[39m     delta.data = \u001b[43m(\u001b[49m\u001b[43mdelta\u001b[49m\u001b[43m \u001b[49m\u001b[43m+\u001b[49m\u001b[43m \u001b[49m\u001b[43malpha\u001b[49m\u001b[43m \u001b[49m\u001b[43m*\u001b[49m\u001b[43m \u001b[49m\u001b[43mdelta\u001b[49m\u001b[43m.\u001b[49m\u001b[43mgrad\u001b[49m\u001b[43m.\u001b[49m\u001b[43mdetach\u001b[49m\u001b[43m(\u001b[49m\u001b[43m)\u001b[49m\u001b[43m.\u001b[49m\u001b[43msign\u001b[49m\u001b[43m(\u001b[49m\u001b[43m)\u001b[49m\u001b[43m)\u001b[49m\u001b[43m.\u001b[49m\u001b[43mclamp\u001b[49m\u001b[43m(\u001b[49m\u001b[43m-\u001b[49m\u001b[43mepsilon\u001b[49m\u001b[43m,\u001b[49m\u001b[43m \u001b[49m\u001b[43mepsilon\u001b[49m\u001b[43m)\u001b[49m\n\u001b[32m     17\u001b[39m     delta.grad.zero_()\n\u001b[32m     18\u001b[39m \u001b[38;5;28;01mreturn\u001b[39;00m delta.detach()\n",
      "\u001b[31mTypeError\u001b[39m: clamp() received an invalid combination of arguments - got (tensor, tensor), but expected one of:\n * (Tensor min = None, Tensor max = None)\n      didn't match because some of the arguments have invalid types: (!tensor!, !tensor!)\n * (Number min = None, Number max = None)\n      didn't match because some of the arguments have invalid types: (!tensor!, !tensor!)\n"
     ]
    }
   ],
   "source": [
    "eps = np.linspace(0, 0.2, 10)\n",
    "\n",
    "for ep in eps:\n",
    "    perturbations = PGD(model=qml_model, feats=adv_x, labels=adv_y, epsilon=ep)\n",
    "    perturbed_x = adv_x + perturbations\n",
    "    adv_pred = [qml_model(f) for f in perturbed_x]"
   ]
  },
  {
   "cell_type": "code",
   "execution_count": null,
   "metadata": {},
   "outputs": [],
   "source": [
    "adv_pred"
   ]
  },
  {
   "cell_type": "markdown",
   "metadata": {},
   "source": [
    "### Adversarial robustness"
   ]
  },
  {
   "cell_type": "markdown",
   "metadata": {},
   "source": [
    "by data augmentation (including some perturbed samples in training) - <strong>adversarial (re)training</strong> <br>\n",
    "here, the model does not change, only trained on adversarial examples, which makes it robust against that particular type of attack"
   ]
  },
  {
   "cell_type": "code",
   "execution_count": 11,
   "metadata": {},
   "outputs": [
    {
     "name": "stdout",
     "output_type": "stream",
     "text": [
      "Epoch 0/2 | Approx Cost (train): 0.9681479 | Cost (val): 0.9922172 | Approx Acc train: 0.8800000 | Acc val: 0.8400000\n",
      "Epoch 1/2 | Approx Cost (train): 0.9573029 | Cost (val): 1.0042179 | Approx Acc train: 0.8600000 | Acc val: 0.7800000\n",
      "Epoch 2/2 | Approx Cost (train): 0.9427876 | Cost (val): 0.9823330 | Approx Acc train: 0.8400000 | Acc val: 0.8100000\n"
     ]
    }
   ],
   "source": [
    "adv_dataset = (\n",
    "    PGD(model=qml_model, feats=feats_train[:20], labels=labels_train[:20], epsilon=0.1)\n",
    "    + feats_train[:20]\n",
    ")\n",
    "\n",
    "feats_retrain = torch.cat((feats_train, adv_dataset))\n",
    "labels_retrain = torch.cat((labels_train, labels_train[:20]))\n",
    "epochs_retraining = 2\n",
    "\n",
    "for ep in range(0, epochs_retraining):\n",
    "    batch_ind = gen_batches(num_train, num_batches)\n",
    "    print_acc(epoch=ep, max_ep=2)\n",
    "\n",
    "    for it in range(num_batches):\n",
    "        optimizer.zero_grad()\n",
    "        feats_train_batch = feats_retrain[batch_ind[it]]\n",
    "        labels_train_batch = labels_retrain[batch_ind[it]]\n",
    "\n",
    "        outputs = [qml_model(f) for f in feats_train_batch]\n",
    "        batch_loss = loss(torch.stack(outputs), labels_train_batch)\n",
    "        # if REG:\n",
    "        #    loss = loss + lipschitz_regularizer(regularization_rate, model.qcircuit.weights)\n",
    "        batch_loss.backward()\n",
    "        optimizer.step()\n",
    "\n",
    "print_acc(epochs_retraining, max_ep=2)"
   ]
  },
  {
   "cell_type": "markdown",
   "metadata": {},
   "source": [
    "### Evaluation - robust model"
   ]
  },
  {
   "cell_type": "code",
   "execution_count": 12,
   "metadata": {},
   "outputs": [
    {
     "data": {
      "image/png": "[encoded data removed]",
      "text/plain": [
       "<Figure size 800x200 with 4 Axes>"
      ]
     },
     "metadata": {},
     "output_type": "display_data"
    }
   ],
   "source": [
    "adversarial_preds = [qml_model(f) for f in perturbed_x]\n",
    "adversarial_class_output = [torch.argmax(p) for p in adversarial_preds]\n",
    "\n",
    "visualize_data(perturbed_x.reshape(-1, 16, 16), y_vis, adversarial_class_output)"
   ]
  },
  {
   "cell_type": "markdown",
   "metadata": {},
   "source": [
    "## Next steps\n",
    "* test the above model throughout the dataset to compare the accuracy in each case and for each label ('+' seems to be the mmost vulnerable at a first glance)\n",
    "    * samples near the decisino boundary are more susceptible\n",
    "* explore Lipschitz regularisation\n",
    "* implement the [paper](https://ieeexplore.ieee.org/document/10821377/) "
   ]
  }
 ],
 "metadata": {
  "kernelspec": {
   "display_name": "Python (qml)",
   "language": "python",
   "name": "qml"
  },
  "language_info": {
   "codemirror_mode": {
    "name": "ipython",
    "version": 3
   },
   "file_extension": ".py",
   "mimetype": "text/x-python",
   "name": "python",
   "nbconvert_exporter": "python",
   "pygments_lexer": "ipython3",
   "version": "3.12.9"
  }
 },
 "nbformat": 4,
 "nbformat_minor": 4
}
