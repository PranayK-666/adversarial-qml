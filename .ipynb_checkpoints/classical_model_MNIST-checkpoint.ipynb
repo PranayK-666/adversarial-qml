{
 "cells": [
  {
   "cell_type": "code",
   "execution_count": 1,
   "id": "b089220e-bd80-4aaa-9ac8-ce48e80430b3",
   "metadata": {},
   "outputs": [
    {
     "name": "stderr",
     "output_type": "stream",
     "text": [
      "2025-04-17 12:04:18.873850: E external/local_xla/xla/stream_executor/cuda/cuda_fft.cc:467] Unable to register cuFFT factory: Attempting to register factory for plugin cuFFT when one has already been registered\n",
      "WARNING: All log messages before absl::InitializeLog() is called are written to STDERR\n",
      "E0000 00:00:1744855458.889992   24666 cuda_dnn.cc:8579] Unable to register cuDNN factory: Attempting to register factory for plugin cuDNN when one has already been registered\n",
      "E0000 00:00:1744855458.894996   24666 cuda_blas.cc:1407] Unable to register cuBLAS factory: Attempting to register factory for plugin cuBLAS when one has already been registered\n",
      "W0000 00:00:1744855458.907573   24666 computation_placer.cc:177] computation placer already registered. Please check linkage and avoid linking the same target more than once.\n",
      "W0000 00:00:1744855458.907584   24666 computation_placer.cc:177] computation placer already registered. Please check linkage and avoid linking the same target more than once.\n",
      "W0000 00:00:1744855458.907586   24666 computation_placer.cc:177] computation placer already registered. Please check linkage and avoid linking the same target more than once.\n",
      "W0000 00:00:1744855458.907587   24666 computation_placer.cc:177] computation placer already registered. Please check linkage and avoid linking the same target more than once.\n"
     ]
    }
   ],
   "source": [
    "from pennylane import numpy as np\n",
    "from tensorflow import keras\n",
    "from matplotlib import pyplot as plt\n",
    "import tensorflow as tf\n",
    "import seaborn as sns\n",
    "\n",
    "from utils.tools import get_dataset, visualise_data"
   ]
  },
  {
   "cell_type": "code",
   "execution_count": 2,
   "id": "5e39251c-6c29-4e1b-a8d3-9354c271d120",
   "metadata": {},
   "outputs": [
    {
     "name": "stderr",
     "output_type": "stream",
     "text": [
      "I0000 00:00:1744855461.248853   24666 gpu_device.cc:2019] Created device /job:localhost/replica:0/task:0/device:GPU:0 with 10493 MB memory:  -> device: 0, name: Tesla P100-PCIE-12GB, pci bus id: 0000:02:00.0, compute capability: 6.0\n"
     ]
    },
    {
     "data": {
      "image/png": "[encoded data removed]",
      "text/plain": [
       "<Figure size 800x200 with 4 Axes>"
      ]
     },
     "metadata": {},
     "output_type": "display_data"
    }
   ],
   "source": [
    "digits = [5,8,7,6]\n",
    "n_px = 16\n",
    "\n",
    "(x_train, y_train), (x_test, y_test) = get_dataset(digits=digits, n_px=n_px)\n",
    "\n",
    "# show one image from each class\n",
    "x_vis = [(x_train[y_train==digit])[np.random.choice(range(10))] for digit in digits] \n",
    "y_vis = range(len(digits))\n",
    "\n",
    "visualise_data(digits, x_vis, y_vis)"
   ]
  },
  {
   "cell_type": "markdown",
   "id": "2e0a4012-340a-43c1-928a-7b238d4f12ab",
   "metadata": {},
   "source": [
    "### Classical model"
   ]
  },
  {
   "cell_type": "code",
   "execution_count": 3,
   "id": "2b8bf2b3-35c6-4e18-b0a4-846821f8c712",
   "metadata": {},
   "outputs": [],
   "source": [
    "def create_classical_model(n_px):\n",
    "    model = keras.Sequential([\n",
    "        keras.Input(shape=(n_px,n_px,1)),\n",
    "        keras.layers.Flatten(),\n",
    "        # select the dense layer outputs to match quantum model characteristics\n",
    "        keras.layers.Dense(8, activation='relu'),\n",
    "        keras.layers.Dense(10, activation='softmax')\n",
    "    ])\n",
    "\n",
    "    return model\n",
    "\n",
    "def create_classical_model_CNN(n_px):\n",
    "    model = keras.Sequential([\n",
    "        keras.Input(shape=(n_px,n_px,1)),\n",
    "        keras.layers.Conv2D(32, [3,3], activation='relu'),\n",
    "        keras.layers.Conv2D(64, [3, 3], activation='relu'),\n",
    "        keras.layers.MaxPooling2D(pool_size=(2, 2)),\n",
    "        keras.layers.Dropout(0.25),\n",
    "        keras.layers.Flatten(),\n",
    "        keras.layers.Dense(128, activation='relu'),\n",
    "        keras.layers.Dropout(0.5),\n",
    "        keras.layers.Dense(10, activation='softmax')\n",
    "    ])\n",
    "\n",
    "    return model"
   ]
  },
  {
   "cell_type": "code",
   "execution_count": 4,
   "id": "c8fe0470-cfd8-4148-81b6-2565adbd3c29",
   "metadata": {},
   "outputs": [
    {
     "data": {
      "text/html": [
       "<pre style=\"white-space:pre;overflow-x:auto;line-height:normal;font-family:Menlo,'DejaVu Sans Mono',consolas,'Courier New',monospace\"><span style=\"font-weight: bold\">Model: \"sequential\"</span>\n",
       "</pre>\n"
      ],
      "text/plain": [
       "\u001b[1mModel: \"sequential\"\u001b[0m\n"
      ]
     },
     "metadata": {},
     "output_type": "display_data"
    },
    {
     "data": {
      "text/html": [
       "<pre style=\"white-space:pre;overflow-x:auto;line-height:normal;font-family:Menlo,'DejaVu Sans Mono',consolas,'Courier New',monospace\">┏━━━━━━━━━━━━━━━━━━━━━━━━━━━━━━━━━┳━━━━━━━━━━━━━━━━━━━━━━━━┳━━━━━━━━━━━━━━━┓\n",
       "┃<span style=\"font-weight: bold\"> Layer (type)                    </span>┃<span style=\"font-weight: bold\"> Output Shape           </span>┃<span style=\"font-weight: bold\">       Param # </span>┃\n",
       "┡━━━━━━━━━━━━━━━━━━━━━━━━━━━━━━━━━╇━━━━━━━━━━━━━━━━━━━━━━━━╇━━━━━━━━━━━━━━━┩\n",
       "│ flatten (<span style=\"color: #0087ff; text-decoration-color: #0087ff\">Flatten</span>)               │ (<span style=\"color: #00d7ff; text-decoration-color: #00d7ff\">None</span>, <span style=\"color: #00af00; text-decoration-color: #00af00\">256</span>)            │             <span style=\"color: #00af00; text-decoration-color: #00af00\">0</span> │\n",
       "├─────────────────────────────────┼────────────────────────┼───────────────┤\n",
       "│ dense (<span style=\"color: #0087ff; text-decoration-color: #0087ff\">Dense</span>)                   │ (<span style=\"color: #00d7ff; text-decoration-color: #00d7ff\">None</span>, <span style=\"color: #00af00; text-decoration-color: #00af00\">8</span>)              │         <span style=\"color: #00af00; text-decoration-color: #00af00\">2,056</span> │\n",
       "├─────────────────────────────────┼────────────────────────┼───────────────┤\n",
       "│ dense_1 (<span style=\"color: #0087ff; text-decoration-color: #0087ff\">Dense</span>)                 │ (<span style=\"color: #00d7ff; text-decoration-color: #00d7ff\">None</span>, <span style=\"color: #00af00; text-decoration-color: #00af00\">10</span>)             │            <span style=\"color: #00af00; text-decoration-color: #00af00\">90</span> │\n",
       "└─────────────────────────────────┴────────────────────────┴───────────────┘\n",
       "</pre>\n"
      ],
      "text/plain": [
       "┏━━━━━━━━━━━━━━━━━━━━━━━━━━━━━━━━━┳━━━━━━━━━━━━━━━━━━━━━━━━┳━━━━━━━━━━━━━━━┓\n",
       "┃\u001b[1m \u001b[0m\u001b[1mLayer (type)                   \u001b[0m\u001b[1m \u001b[0m┃\u001b[1m \u001b[0m\u001b[1mOutput Shape          \u001b[0m\u001b[1m \u001b[0m┃\u001b[1m \u001b[0m\u001b[1m      Param #\u001b[0m\u001b[1m \u001b[0m┃\n",
       "┡━━━━━━━━━━━━━━━━━━━━━━━━━━━━━━━━━╇━━━━━━━━━━━━━━━━━━━━━━━━╇━━━━━━━━━━━━━━━┩\n",
       "│ flatten (\u001b[38;5;33mFlatten\u001b[0m)               │ (\u001b[38;5;45mNone\u001b[0m, \u001b[38;5;34m256\u001b[0m)            │             \u001b[38;5;34m0\u001b[0m │\n",
       "├─────────────────────────────────┼────────────────────────┼───────────────┤\n",
       "│ dense (\u001b[38;5;33mDense\u001b[0m)                   │ (\u001b[38;5;45mNone\u001b[0m, \u001b[38;5;34m8\u001b[0m)              │         \u001b[38;5;34m2,056\u001b[0m │\n",
       "├─────────────────────────────────┼────────────────────────┼───────────────┤\n",
       "│ dense_1 (\u001b[38;5;33mDense\u001b[0m)                 │ (\u001b[38;5;45mNone\u001b[0m, \u001b[38;5;34m10\u001b[0m)             │            \u001b[38;5;34m90\u001b[0m │\n",
       "└─────────────────────────────────┴────────────────────────┴───────────────┘\n"
      ]
     },
     "metadata": {},
     "output_type": "display_data"
    },
    {
     "data": {
      "text/html": [
       "<pre style=\"white-space:pre;overflow-x:auto;line-height:normal;font-family:Menlo,'DejaVu Sans Mono',consolas,'Courier New',monospace\"><span style=\"font-weight: bold\"> Total params: </span><span style=\"color: #00af00; text-decoration-color: #00af00\">2,146</span> (8.38 KB)\n",
       "</pre>\n"
      ],
      "text/plain": [
       "\u001b[1m Total params: \u001b[0m\u001b[38;5;34m2,146\u001b[0m (8.38 KB)\n"
      ]
     },
     "metadata": {},
     "output_type": "display_data"
    },
    {
     "data": {
      "text/html": [
       "<pre style=\"white-space:pre;overflow-x:auto;line-height:normal;font-family:Menlo,'DejaVu Sans Mono',consolas,'Courier New',monospace\"><span style=\"font-weight: bold\"> Trainable params: </span><span style=\"color: #00af00; text-decoration-color: #00af00\">2,146</span> (8.38 KB)\n",
       "</pre>\n"
      ],
      "text/plain": [
       "\u001b[1m Trainable params: \u001b[0m\u001b[38;5;34m2,146\u001b[0m (8.38 KB)\n"
      ]
     },
     "metadata": {},
     "output_type": "display_data"
    },
    {
     "data": {
      "text/html": [
       "<pre style=\"white-space:pre;overflow-x:auto;line-height:normal;font-family:Menlo,'DejaVu Sans Mono',consolas,'Courier New',monospace\"><span style=\"font-weight: bold\"> Non-trainable params: </span><span style=\"color: #00af00; text-decoration-color: #00af00\">0</span> (0.00 B)\n",
       "</pre>\n"
      ],
      "text/plain": [
       "\u001b[1m Non-trainable params: \u001b[0m\u001b[38;5;34m0\u001b[0m (0.00 B)\n"
      ]
     },
     "metadata": {},
     "output_type": "display_data"
    }
   ],
   "source": [
    "classical_model = create_classical_model(n_px)\n",
    "classical_model.compile(\n",
    "    optimizer=keras.optimizers.Adam(),\n",
    "    loss=keras.losses.sparse_categorical_crossentropy,\n",
    "    metrics=['accuracy']\n",
    ")\n",
    "classical_model.summary()"
   ]
  },
  {
   "cell_type": "code",
   "execution_count": 5,
   "id": "636da60c-c91b-4689-b0f0-d7ebd5ea1016",
   "metadata": {},
   "outputs": [
    {
     "data": {
      "text/html": [
       "<pre style=\"white-space:pre;overflow-x:auto;line-height:normal;font-family:Menlo,'DejaVu Sans Mono',consolas,'Courier New',monospace\"><span style=\"font-weight: bold\">Model: \"sequential_1\"</span>\n",
       "</pre>\n"
      ],
      "text/plain": [
       "\u001b[1mModel: \"sequential_1\"\u001b[0m\n"
      ]
     },
     "metadata": {},
     "output_type": "display_data"
    },
    {
     "data": {
      "text/html": [
       "<pre style=\"white-space:pre;overflow-x:auto;line-height:normal;font-family:Menlo,'DejaVu Sans Mono',consolas,'Courier New',monospace\">┏━━━━━━━━━━━━━━━━━━━━━━━━━━━━━━━━━┳━━━━━━━━━━━━━━━━━━━━━━━━┳━━━━━━━━━━━━━━━┓\n",
       "┃<span style=\"font-weight: bold\"> Layer (type)                    </span>┃<span style=\"font-weight: bold\"> Output Shape           </span>┃<span style=\"font-weight: bold\">       Param # </span>┃\n",
       "┡━━━━━━━━━━━━━━━━━━━━━━━━━━━━━━━━━╇━━━━━━━━━━━━━━━━━━━━━━━━╇━━━━━━━━━━━━━━━┩\n",
       "│ conv2d (<span style=\"color: #0087ff; text-decoration-color: #0087ff\">Conv2D</span>)                 │ (<span style=\"color: #00d7ff; text-decoration-color: #00d7ff\">None</span>, <span style=\"color: #00af00; text-decoration-color: #00af00\">14</span>, <span style=\"color: #00af00; text-decoration-color: #00af00\">14</span>, <span style=\"color: #00af00; text-decoration-color: #00af00\">32</span>)     │           <span style=\"color: #00af00; text-decoration-color: #00af00\">320</span> │\n",
       "├─────────────────────────────────┼────────────────────────┼───────────────┤\n",
       "│ conv2d_1 (<span style=\"color: #0087ff; text-decoration-color: #0087ff\">Conv2D</span>)               │ (<span style=\"color: #00d7ff; text-decoration-color: #00d7ff\">None</span>, <span style=\"color: #00af00; text-decoration-color: #00af00\">12</span>, <span style=\"color: #00af00; text-decoration-color: #00af00\">12</span>, <span style=\"color: #00af00; text-decoration-color: #00af00\">64</span>)     │        <span style=\"color: #00af00; text-decoration-color: #00af00\">18,496</span> │\n",
       "├─────────────────────────────────┼────────────────────────┼───────────────┤\n",
       "│ max_pooling2d (<span style=\"color: #0087ff; text-decoration-color: #0087ff\">MaxPooling2D</span>)    │ (<span style=\"color: #00d7ff; text-decoration-color: #00d7ff\">None</span>, <span style=\"color: #00af00; text-decoration-color: #00af00\">6</span>, <span style=\"color: #00af00; text-decoration-color: #00af00\">6</span>, <span style=\"color: #00af00; text-decoration-color: #00af00\">64</span>)       │             <span style=\"color: #00af00; text-decoration-color: #00af00\">0</span> │\n",
       "├─────────────────────────────────┼────────────────────────┼───────────────┤\n",
       "│ dropout (<span style=\"color: #0087ff; text-decoration-color: #0087ff\">Dropout</span>)               │ (<span style=\"color: #00d7ff; text-decoration-color: #00d7ff\">None</span>, <span style=\"color: #00af00; text-decoration-color: #00af00\">6</span>, <span style=\"color: #00af00; text-decoration-color: #00af00\">6</span>, <span style=\"color: #00af00; text-decoration-color: #00af00\">64</span>)       │             <span style=\"color: #00af00; text-decoration-color: #00af00\">0</span> │\n",
       "├─────────────────────────────────┼────────────────────────┼───────────────┤\n",
       "│ flatten_1 (<span style=\"color: #0087ff; text-decoration-color: #0087ff\">Flatten</span>)             │ (<span style=\"color: #00d7ff; text-decoration-color: #00d7ff\">None</span>, <span style=\"color: #00af00; text-decoration-color: #00af00\">2304</span>)           │             <span style=\"color: #00af00; text-decoration-color: #00af00\">0</span> │\n",
       "├─────────────────────────────────┼────────────────────────┼───────────────┤\n",
       "│ dense_2 (<span style=\"color: #0087ff; text-decoration-color: #0087ff\">Dense</span>)                 │ (<span style=\"color: #00d7ff; text-decoration-color: #00d7ff\">None</span>, <span style=\"color: #00af00; text-decoration-color: #00af00\">128</span>)            │       <span style=\"color: #00af00; text-decoration-color: #00af00\">295,040</span> │\n",
       "├─────────────────────────────────┼────────────────────────┼───────────────┤\n",
       "│ dropout_1 (<span style=\"color: #0087ff; text-decoration-color: #0087ff\">Dropout</span>)             │ (<span style=\"color: #00d7ff; text-decoration-color: #00d7ff\">None</span>, <span style=\"color: #00af00; text-decoration-color: #00af00\">128</span>)            │             <span style=\"color: #00af00; text-decoration-color: #00af00\">0</span> │\n",
       "├─────────────────────────────────┼────────────────────────┼───────────────┤\n",
       "│ dense_3 (<span style=\"color: #0087ff; text-decoration-color: #0087ff\">Dense</span>)                 │ (<span style=\"color: #00d7ff; text-decoration-color: #00d7ff\">None</span>, <span style=\"color: #00af00; text-decoration-color: #00af00\">10</span>)             │         <span style=\"color: #00af00; text-decoration-color: #00af00\">1,290</span> │\n",
       "└─────────────────────────────────┴────────────────────────┴───────────────┘\n",
       "</pre>\n"
      ],
      "text/plain": [
       "┏━━━━━━━━━━━━━━━━━━━━━━━━━━━━━━━━━┳━━━━━━━━━━━━━━━━━━━━━━━━┳━━━━━━━━━━━━━━━┓\n",
       "┃\u001b[1m \u001b[0m\u001b[1mLayer (type)                   \u001b[0m\u001b[1m \u001b[0m┃\u001b[1m \u001b[0m\u001b[1mOutput Shape          \u001b[0m\u001b[1m \u001b[0m┃\u001b[1m \u001b[0m\u001b[1m      Param #\u001b[0m\u001b[1m \u001b[0m┃\n",
       "┡━━━━━━━━━━━━━━━━━━━━━━━━━━━━━━━━━╇━━━━━━━━━━━━━━━━━━━━━━━━╇━━━━━━━━━━━━━━━┩\n",
       "│ conv2d (\u001b[38;5;33mConv2D\u001b[0m)                 │ (\u001b[38;5;45mNone\u001b[0m, \u001b[38;5;34m14\u001b[0m, \u001b[38;5;34m14\u001b[0m, \u001b[38;5;34m32\u001b[0m)     │           \u001b[38;5;34m320\u001b[0m │\n",
       "├─────────────────────────────────┼────────────────────────┼───────────────┤\n",
       "│ conv2d_1 (\u001b[38;5;33mConv2D\u001b[0m)               │ (\u001b[38;5;45mNone\u001b[0m, \u001b[38;5;34m12\u001b[0m, \u001b[38;5;34m12\u001b[0m, \u001b[38;5;34m64\u001b[0m)     │        \u001b[38;5;34m18,496\u001b[0m │\n",
       "├─────────────────────────────────┼────────────────────────┼───────────────┤\n",
       "│ max_pooling2d (\u001b[38;5;33mMaxPooling2D\u001b[0m)    │ (\u001b[38;5;45mNone\u001b[0m, \u001b[38;5;34m6\u001b[0m, \u001b[38;5;34m6\u001b[0m, \u001b[38;5;34m64\u001b[0m)       │             \u001b[38;5;34m0\u001b[0m │\n",
       "├─────────────────────────────────┼────────────────────────┼───────────────┤\n",
       "│ dropout (\u001b[38;5;33mDropout\u001b[0m)               │ (\u001b[38;5;45mNone\u001b[0m, \u001b[38;5;34m6\u001b[0m, \u001b[38;5;34m6\u001b[0m, \u001b[38;5;34m64\u001b[0m)       │             \u001b[38;5;34m0\u001b[0m │\n",
       "├─────────────────────────────────┼────────────────────────┼───────────────┤\n",
       "│ flatten_1 (\u001b[38;5;33mFlatten\u001b[0m)             │ (\u001b[38;5;45mNone\u001b[0m, \u001b[38;5;34m2304\u001b[0m)           │             \u001b[38;5;34m0\u001b[0m │\n",
       "├─────────────────────────────────┼────────────────────────┼───────────────┤\n",
       "│ dense_2 (\u001b[38;5;33mDense\u001b[0m)                 │ (\u001b[38;5;45mNone\u001b[0m, \u001b[38;5;34m128\u001b[0m)            │       \u001b[38;5;34m295,040\u001b[0m │\n",
       "├─────────────────────────────────┼────────────────────────┼───────────────┤\n",
       "│ dropout_1 (\u001b[38;5;33mDropout\u001b[0m)             │ (\u001b[38;5;45mNone\u001b[0m, \u001b[38;5;34m128\u001b[0m)            │             \u001b[38;5;34m0\u001b[0m │\n",
       "├─────────────────────────────────┼────────────────────────┼───────────────┤\n",
       "│ dense_3 (\u001b[38;5;33mDense\u001b[0m)                 │ (\u001b[38;5;45mNone\u001b[0m, \u001b[38;5;34m10\u001b[0m)             │         \u001b[38;5;34m1,290\u001b[0m │\n",
       "└─────────────────────────────────┴────────────────────────┴───────────────┘\n"
      ]
     },
     "metadata": {},
     "output_type": "display_data"
    },
    {
     "data": {
      "text/html": [
       "<pre style=\"white-space:pre;overflow-x:auto;line-height:normal;font-family:Menlo,'DejaVu Sans Mono',consolas,'Courier New',monospace\"><span style=\"font-weight: bold\"> Total params: </span><span style=\"color: #00af00; text-decoration-color: #00af00\">315,146</span> (1.20 MB)\n",
       "</pre>\n"
      ],
      "text/plain": [
       "\u001b[1m Total params: \u001b[0m\u001b[38;5;34m315,146\u001b[0m (1.20 MB)\n"
      ]
     },
     "metadata": {},
     "output_type": "display_data"
    },
    {
     "data": {
      "text/html": [
       "<pre style=\"white-space:pre;overflow-x:auto;line-height:normal;font-family:Menlo,'DejaVu Sans Mono',consolas,'Courier New',monospace\"><span style=\"font-weight: bold\"> Trainable params: </span><span style=\"color: #00af00; text-decoration-color: #00af00\">315,146</span> (1.20 MB)\n",
       "</pre>\n"
      ],
      "text/plain": [
       "\u001b[1m Trainable params: \u001b[0m\u001b[38;5;34m315,146\u001b[0m (1.20 MB)\n"
      ]
     },
     "metadata": {},
     "output_type": "display_data"
    },
    {
     "data": {
      "text/html": [
       "<pre style=\"white-space:pre;overflow-x:auto;line-height:normal;font-family:Menlo,'DejaVu Sans Mono',consolas,'Courier New',monospace\"><span style=\"font-weight: bold\"> Non-trainable params: </span><span style=\"color: #00af00; text-decoration-color: #00af00\">0</span> (0.00 B)\n",
       "</pre>\n"
      ],
      "text/plain": [
       "\u001b[1m Non-trainable params: \u001b[0m\u001b[38;5;34m0\u001b[0m (0.00 B)\n"
      ]
     },
     "metadata": {},
     "output_type": "display_data"
    }
   ],
   "source": [
    "classical_model_CNN = create_classical_model_CNN(n_px)\n",
    "classical_model_CNN.compile(\n",
    "    optimizer=keras.optimizers.Adam(),\n",
    "    loss=keras.losses.sparse_categorical_crossentropy,\n",
    "    metrics=['accuracy']\n",
    ")\n",
    "classical_model_CNN.summary()"
   ]
  },
  {
   "cell_type": "code",
   "execution_count": 9,
   "id": "e06f1be8-0698-4aa5-9658-8405e4a09e4c",
   "metadata": {},
   "outputs": [
    {
     "name": "stdout",
     "output_type": "stream",
     "text": [
      "Epoch 1/20\n",
      "\u001b[1m34/34\u001b[0m \u001b[32m━━━━━━━━━━━━━━━━━━━━\u001b[0m\u001b[37m\u001b[0m \u001b[1m2s\u001b[0m 36ms/step - accuracy: 0.9986 - loss: 0.0162 - val_accuracy: 0.9450 - val_loss: 0.2073\n",
      "Epoch 2/20\n",
      "\u001b[1m34/34\u001b[0m \u001b[32m━━━━━━━━━━━━━━━━━━━━\u001b[0m\u001b[37m\u001b[0m \u001b[1m0s\u001b[0m 4ms/step - accuracy: 1.0000 - loss: 0.0150 - val_accuracy: 0.9500 - val_loss: 0.2016\n",
      "Epoch 3/20\n",
      "\u001b[1m34/34\u001b[0m \u001b[32m━━━━━━━━━━━━━━━━━━━━\u001b[0m\u001b[37m\u001b[0m \u001b[1m0s\u001b[0m 3ms/step - accuracy: 1.0000 - loss: 0.0142 - val_accuracy: 0.9500 - val_loss: 0.2010\n",
      "Epoch 4/20\n",
      "\u001b[1m34/34\u001b[0m \u001b[32m━━━━━━━━━━━━━━━━━━━━\u001b[0m\u001b[37m\u001b[0m \u001b[1m0s\u001b[0m 3ms/step - accuracy: 1.0000 - loss: 0.0142 - val_accuracy: 0.9500 - val_loss: 0.1993\n",
      "Epoch 5/20\n",
      "\u001b[1m34/34\u001b[0m \u001b[32m━━━━━━━━━━━━━━━━━━━━\u001b[0m\u001b[37m\u001b[0m \u001b[1m0s\u001b[0m 4ms/step - accuracy: 1.0000 - loss: 0.0143 - val_accuracy: 0.9500 - val_loss: 0.2002\n",
      "Epoch 6/20\n",
      "\u001b[1m34/34\u001b[0m \u001b[32m━━━━━━━━━━━━━━━━━━━━\u001b[0m\u001b[37m\u001b[0m \u001b[1m0s\u001b[0m 3ms/step - accuracy: 1.0000 - loss: 0.0169 - val_accuracy: 0.9500 - val_loss: 0.2021\n",
      "Epoch 7/20\n",
      "\u001b[1m34/34\u001b[0m \u001b[32m━━━━━━━━━━━━━━━━━━━━\u001b[0m\u001b[37m\u001b[0m \u001b[1m0s\u001b[0m 3ms/step - accuracy: 1.0000 - loss: 0.0142 - val_accuracy: 0.9500 - val_loss: 0.1987\n",
      "Epoch 8/20\n",
      "\u001b[1m34/34\u001b[0m \u001b[32m━━━━━━━━━━━━━━━━━━━━\u001b[0m\u001b[37m\u001b[0m \u001b[1m0s\u001b[0m 3ms/step - accuracy: 1.0000 - loss: 0.0136 - val_accuracy: 0.9500 - val_loss: 0.2001\n",
      "Epoch 9/20\n",
      "\u001b[1m34/34\u001b[0m \u001b[32m━━━━━━━━━━━━━━━━━━━━\u001b[0m\u001b[37m\u001b[0m \u001b[1m0s\u001b[0m 4ms/step - accuracy: 1.0000 - loss: 0.0143 - val_accuracy: 0.9500 - val_loss: 0.2007\n",
      "Epoch 10/20\n",
      "\u001b[1m34/34\u001b[0m \u001b[32m━━━━━━━━━━━━━━━━━━━━\u001b[0m\u001b[37m\u001b[0m \u001b[1m0s\u001b[0m 4ms/step - accuracy: 1.0000 - loss: 0.0131 - val_accuracy: 0.9500 - val_loss: 0.2010\n",
      "Epoch 11/20\n",
      "\u001b[1m34/34\u001b[0m \u001b[32m━━━━━━━━━━━━━━━━━━━━\u001b[0m\u001b[37m\u001b[0m \u001b[1m0s\u001b[0m 4ms/step - accuracy: 1.0000 - loss: 0.0151 - val_accuracy: 0.9500 - val_loss: 0.2022\n",
      "Epoch 12/20\n",
      "\u001b[1m34/34\u001b[0m \u001b[32m━━━━━━━━━━━━━━━━━━━━\u001b[0m\u001b[37m\u001b[0m \u001b[1m0s\u001b[0m 4ms/step - accuracy: 1.0000 - loss: 0.0147 - val_accuracy: 0.9500 - val_loss: 0.2002\n",
      "Epoch 13/20\n",
      "\u001b[1m34/34\u001b[0m \u001b[32m━━━━━━━━━━━━━━━━━━━━\u001b[0m\u001b[37m\u001b[0m \u001b[1m0s\u001b[0m 4ms/step - accuracy: 1.0000 - loss: 0.0135 - val_accuracy: 0.9500 - val_loss: 0.2020\n",
      "Epoch 14/20\n",
      "\u001b[1m34/34\u001b[0m \u001b[32m━━━━━━━━━━━━━━━━━━━━\u001b[0m\u001b[37m\u001b[0m \u001b[1m0s\u001b[0m 4ms/step - accuracy: 1.0000 - loss: 0.0134 - val_accuracy: 0.9500 - val_loss: 0.2012\n",
      "Epoch 15/20\n",
      "\u001b[1m34/34\u001b[0m \u001b[32m━━━━━━━━━━━━━━━━━━━━\u001b[0m\u001b[37m\u001b[0m \u001b[1m0s\u001b[0m 4ms/step - accuracy: 1.0000 - loss: 0.0125 - val_accuracy: 0.9500 - val_loss: 0.2025\n",
      "Epoch 16/20\n",
      "\u001b[1m34/34\u001b[0m \u001b[32m━━━━━━━━━━━━━━━━━━━━\u001b[0m\u001b[37m\u001b[0m \u001b[1m0s\u001b[0m 4ms/step - accuracy: 1.0000 - loss: 0.0121 - val_accuracy: 0.9500 - val_loss: 0.2016\n",
      "Epoch 17/20\n",
      "\u001b[1m34/34\u001b[0m \u001b[32m━━━━━━━━━━━━━━━━━━━━\u001b[0m\u001b[37m\u001b[0m \u001b[1m0s\u001b[0m 4ms/step - accuracy: 1.0000 - loss: 0.0143 - val_accuracy: 0.9500 - val_loss: 0.2013\n",
      "Epoch 18/20\n",
      "\u001b[1m34/34\u001b[0m \u001b[32m━━━━━━━━━━━━━━━━━━━━\u001b[0m\u001b[37m\u001b[0m \u001b[1m0s\u001b[0m 4ms/step - accuracy: 1.0000 - loss: 0.0136 - val_accuracy: 0.9500 - val_loss: 0.2032\n",
      "Epoch 19/20\n",
      "\u001b[1m34/34\u001b[0m \u001b[32m━━━━━━━━━━━━━━━━━━━━\u001b[0m\u001b[37m\u001b[0m \u001b[1m0s\u001b[0m 4ms/step - accuracy: 1.0000 - loss: 0.0104 - val_accuracy: 0.9500 - val_loss: 0.2034\n",
      "Epoch 20/20\n",
      "\u001b[1m34/34\u001b[0m \u001b[32m━━━━━━━━━━━━━━━━━━━━\u001b[0m\u001b[37m\u001b[0m \u001b[1m0s\u001b[0m 4ms/step - accuracy: 1.0000 - loss: 0.0132 - val_accuracy: 0.9500 - val_loss: 0.2037\n"
     ]
    }
   ],
   "source": [
    "c_history = classical_model.fit(\n",
    "    x_train,\n",
    "    y_train,\n",
    "    validation_data=(x_test, y_test),\n",
    "    batch_size=30,\n",
    "    epochs=20,\n",
    "    verbose=1\n",
    ")\n",
    "\n",
    "# classical_model_results = classical_model.evaluate(x_test, y_test)"
   ]
  },
  {
   "cell_type": "code",
   "execution_count": 10,
   "id": "16215d6d-d580-487b-a0f0-2ccc26b1740b",
   "metadata": {},
   "outputs": [
    {
     "name": "stdout",
     "output_type": "stream",
     "text": [
      "Epoch 1/20\n",
      "\u001b[1m34/34\u001b[0m \u001b[32m━━━━━━━━━━━━━━━━━━━━\u001b[0m\u001b[37m\u001b[0m \u001b[1m5s\u001b[0m 83ms/step - accuracy: 1.0000 - loss: 0.0027 - val_accuracy: 0.9950 - val_loss: 0.0377\n",
      "Epoch 2/20\n",
      "\u001b[1m34/34\u001b[0m \u001b[32m━━━━━━━━━━━━━━━━━━━━\u001b[0m\u001b[37m\u001b[0m \u001b[1m0s\u001b[0m 4ms/step - accuracy: 0.9993 - loss: 0.0043 - val_accuracy: 0.9950 - val_loss: 0.0376\n",
      "Epoch 3/20\n",
      "\u001b[1m34/34\u001b[0m \u001b[32m━━━━━━━━━━━━━━━━━━━━\u001b[0m\u001b[37m\u001b[0m \u001b[1m0s\u001b[0m 4ms/step - accuracy: 0.9970 - loss: 0.0051 - val_accuracy: 0.9950 - val_loss: 0.0510\n",
      "Epoch 4/20\n",
      "\u001b[1m34/34\u001b[0m \u001b[32m━━━━━━━━━━━━━━━━━━━━\u001b[0m\u001b[37m\u001b[0m \u001b[1m0s\u001b[0m 4ms/step - accuracy: 0.9999 - loss: 4.0961e-04 - val_accuracy: 0.9950 - val_loss: 0.0522\n",
      "Epoch 5/20\n",
      "\u001b[1m34/34\u001b[0m \u001b[32m━━━━━━━━━━━━━━━━━━━━\u001b[0m\u001b[37m\u001b[0m \u001b[1m0s\u001b[0m 4ms/step - accuracy: 0.9975 - loss: 0.0091 - val_accuracy: 0.9900 - val_loss: 0.0668\n",
      "Epoch 6/20\n",
      "\u001b[1m34/34\u001b[0m \u001b[32m━━━━━━━━━━━━━━━━━━━━\u001b[0m\u001b[37m\u001b[0m \u001b[1m0s\u001b[0m 4ms/step - accuracy: 1.0000 - loss: 6.3786e-04 - val_accuracy: 0.9900 - val_loss: 0.0637\n",
      "Epoch 7/20\n",
      "\u001b[1m34/34\u001b[0m \u001b[32m━━━━━━━━━━━━━━━━━━━━\u001b[0m\u001b[37m\u001b[0m \u001b[1m0s\u001b[0m 4ms/step - accuracy: 1.0000 - loss: 3.5607e-04 - val_accuracy: 0.9900 - val_loss: 0.0629\n",
      "Epoch 8/20\n",
      "\u001b[1m34/34\u001b[0m \u001b[32m━━━━━━━━━━━━━━━━━━━━\u001b[0m\u001b[37m\u001b[0m \u001b[1m0s\u001b[0m 4ms/step - accuracy: 1.0000 - loss: 2.8263e-04 - val_accuracy: 0.9900 - val_loss: 0.0638\n",
      "Epoch 9/20\n",
      "\u001b[1m34/34\u001b[0m \u001b[32m━━━━━━━━━━━━━━━━━━━━\u001b[0m\u001b[37m\u001b[0m \u001b[1m0s\u001b[0m 4ms/step - accuracy: 1.0000 - loss: 2.1223e-04 - val_accuracy: 0.9900 - val_loss: 0.0632\n",
      "Epoch 10/20\n",
      "\u001b[1m34/34\u001b[0m \u001b[32m━━━━━━━━━━━━━━━━━━━━\u001b[0m\u001b[37m\u001b[0m \u001b[1m0s\u001b[0m 5ms/step - accuracy: 1.0000 - loss: 3.4684e-04 - val_accuracy: 0.9900 - val_loss: 0.0635\n",
      "Epoch 11/20\n",
      "\u001b[1m34/34\u001b[0m \u001b[32m━━━━━━━━━━━━━━━━━━━━\u001b[0m\u001b[37m\u001b[0m \u001b[1m0s\u001b[0m 5ms/step - accuracy: 0.9995 - loss: 6.1351e-04 - val_accuracy: 0.9900 - val_loss: 0.0636\n",
      "Epoch 12/20\n",
      "\u001b[1m34/34\u001b[0m \u001b[32m━━━━━━━━━━━━━━━━━━━━\u001b[0m\u001b[37m\u001b[0m \u001b[1m0s\u001b[0m 4ms/step - accuracy: 1.0000 - loss: 3.6538e-04 - val_accuracy: 0.9900 - val_loss: 0.0698\n",
      "Epoch 13/20\n",
      "\u001b[1m34/34\u001b[0m \u001b[32m━━━━━━━━━━━━━━━━━━━━\u001b[0m\u001b[37m\u001b[0m \u001b[1m0s\u001b[0m 5ms/step - accuracy: 1.0000 - loss: 1.7354e-04 - val_accuracy: 0.9900 - val_loss: 0.0709\n",
      "Epoch 14/20\n",
      "\u001b[1m34/34\u001b[0m \u001b[32m━━━━━━━━━━━━━━━━━━━━\u001b[0m\u001b[37m\u001b[0m \u001b[1m0s\u001b[0m 5ms/step - accuracy: 1.0000 - loss: 2.8278e-04 - val_accuracy: 0.9900 - val_loss: 0.0711\n",
      "Epoch 15/20\n",
      "\u001b[1m34/34\u001b[0m \u001b[32m━━━━━━━━━━━━━━━━━━━━\u001b[0m\u001b[37m\u001b[0m \u001b[1m0s\u001b[0m 5ms/step - accuracy: 1.0000 - loss: 1.3000e-04 - val_accuracy: 0.9900 - val_loss: 0.0722\n",
      "Epoch 16/20\n",
      "\u001b[1m34/34\u001b[0m \u001b[32m━━━━━━━━━━━━━━━━━━━━\u001b[0m\u001b[37m\u001b[0m \u001b[1m0s\u001b[0m 5ms/step - accuracy: 0.9985 - loss: 0.0018 - val_accuracy: 0.9900 - val_loss: 0.0657\n",
      "Epoch 17/20\n",
      "\u001b[1m34/34\u001b[0m \u001b[32m━━━━━━━━━━━━━━━━━━━━\u001b[0m\u001b[37m\u001b[0m \u001b[1m0s\u001b[0m 4ms/step - accuracy: 0.9991 - loss: 0.0034 - val_accuracy: 0.9950 - val_loss: 0.0538\n",
      "Epoch 18/20\n",
      "\u001b[1m34/34\u001b[0m \u001b[32m━━━━━━━━━━━━━━━━━━━━\u001b[0m\u001b[37m\u001b[0m \u001b[1m0s\u001b[0m 5ms/step - accuracy: 0.9970 - loss: 0.0036 - val_accuracy: 0.9950 - val_loss: 0.0552\n",
      "Epoch 19/20\n",
      "\u001b[1m34/34\u001b[0m \u001b[32m━━━━━━━━━━━━━━━━━━━━\u001b[0m\u001b[37m\u001b[0m \u001b[1m0s\u001b[0m 5ms/step - accuracy: 0.9998 - loss: 9.8405e-04 - val_accuracy: 0.9950 - val_loss: 0.0473\n",
      "Epoch 20/20\n",
      "\u001b[1m34/34\u001b[0m \u001b[32m━━━━━━━━━━━━━━━━━━━━\u001b[0m\u001b[37m\u001b[0m \u001b[1m0s\u001b[0m 5ms/step - accuracy: 1.0000 - loss: 1.9556e-04 - val_accuracy: 0.9950 - val_loss: 0.0487\n"
     ]
    }
   ],
   "source": [
    "CNN_history = classical_model_CNN.fit(x_train,\n",
    "                   y_train,\n",
    "                   batch_size=30,\n",
    "                   epochs=20,\n",
    "                   verbose=1,\n",
    "                   validation_data=(x_test, y_test))"
   ]
  },
  {
   "cell_type": "code",
   "execution_count": 11,
   "id": "2b15c6cc-1fc3-4bb3-aae4-ec90c614f461",
   "metadata": {},
   "outputs": [
    {
     "data": {
      "image/png": "[encoded data removed]",
      "text/plain": [
       "<Figure size 600x900 with 2 Axes>"
      ]
     },
     "metadata": {},
     "output_type": "display_data"
    }
   ],
   "source": [
    "plt.style.use(\"seaborn-v0_8\")\n",
    "fig, ax = plt.subplots(2, 1, figsize=(6,9))\n",
    "\n",
    "ax[0].plot(c_history.history[\"val_accuracy\"], \"-ob\", label=\"Classical feedforward network\")\n",
    "ax[0].plot(CNN_history.history[\"val_accuracy\"], \"-og\", label=\"Convolutional neural network\")\n",
    "ax[0].set_ylabel(\"Accuracy\")\n",
    "ax[0].set_ylim([0, 1.1])\n",
    "ax[0].set_xlabel(\"Epoch\")\n",
    "ax[0].legend()\n",
    "\n",
    "ax[1].plot(c_history.history[\"val_loss\"], \"-ob\", label=\"Classical feedforward network\")\n",
    "ax[1].plot(CNN_history.history[\"val_loss\"], \"-og\", label=\"Convolutional neural network\")\n",
    "ax[1].set_ylabel(\"Loss\")\n",
    "# ax[1].set_ylim(top=2.5)\n",
    "ax[1].set_xlabel(\"Epoch\")\n",
    "ax[1].legend()\n",
    "\n",
    "plt.tight_layout()\n",
    "plt.show()"
   ]
  },
  {
   "cell_type": "markdown",
   "id": "71322022-100a-4f7d-b294-5fcf7cebb7eb",
   "metadata": {},
   "source": [
    "For quantum model see other notebook."
   ]
  },
  {
   "cell_type": "code",
   "execution_count": 29,
   "id": "c5065556-3843-4c29-9f9b-97424c56ee17",
   "metadata": {},
   "outputs": [
    {
     "name": "stdout",
     "output_type": "stream",
     "text": [
      "X\n",
      "Shape : (1000, 16, 16)\n",
      "dType : float32\n",
      "pyType: <class 'pennylane.numpy.tensor.tensor'>\n",
      "Y\n",
      "Shape : (1000,)\n",
      "dType : uint8\n",
      "pyType: <class 'numpy.ndarray'>\n"
     ]
    }
   ],
   "source": [
    "X_train = np.reshape(x_train, (len(x_train), n_px, n_px))\n",
    "X_test = np.reshape(x_test, (len(x_test), n_px, n_px))\n",
    "Y_train = y_train\n",
    "Y_test = y_test\n",
    "\n",
    "print('X')\n",
    "print(f'Shape : {X_train.shape}')\n",
    "print(f'dType : {X_train.dtype}')\n",
    "print(f'pyType: {type(X_train)}')\n",
    "\n",
    "print('Y')\n",
    "print(f'Shape : {Y_train.shape}')\n",
    "print(f'dType : {Y_train.dtype}')\n",
    "print(f'pyType: {type(Y_train)}')"
   ]
  },
  {
   "cell_type": "markdown",
   "id": "b2509c3c-729e-4512-8aac-b3f187da4341",
   "metadata": {},
   "source": [
    "## Adversarial attack"
   ]
  },
  {
   "cell_type": "code",
   "execution_count": 24,
   "id": "aa23d584-dc32-4bc5-9ecb-603373b0c340",
   "metadata": {},
   "outputs": [],
   "source": [
    "def pgd(model, X, y, epsilon, alpha, num_iter):\n",
    "    \"\"\" Construct FGSM adversarial examples on the examples X\"\"\"\n",
    "    delta = np.zeros_like(X, requires_grad=True)\n",
    "    for t in range(num_iter):\n",
    "        loss = nn.CrossEntropyLoss()(model(X + delta), y)\n",
    "        loss.backward()\n",
    "        delta.data = (delta + X.shape[0]*alpha*delta.grad.data).clamp(-epsilon,epsilon)\n",
    "        delta.grad.zero_()\n",
    "    return delta.detach()"
   ]
  },
  {
   "cell_type": "code",
   "execution_count": 27,
   "id": "16a7d76f-1d20-402e-b62c-5f4fe7c61e95",
   "metadata": {},
   "outputs": [
    {
     "ename": "TypeError",
     "evalue": "cross_entropy_loss(): argument 'input' (position 1) must be Tensor, not tensorflow.python.framework.ops.EagerTensor",
     "output_type": "error",
     "traceback": [
      "\u001b[31m---------------------------------------------------------------------------\u001b[39m",
      "\u001b[31mTypeError\u001b[39m                                 Traceback (most recent call last)",
      "\u001b[36mCell\u001b[39m\u001b[36m \u001b[39m\u001b[32mIn[27]\u001b[39m\u001b[32m, line 2\u001b[39m\n\u001b[32m      1\u001b[39m \u001b[38;5;66;03m### Illustrate attacked images\u001b[39;00m\n\u001b[32m----> \u001b[39m\u001b[32m2\u001b[39m delta = \u001b[43mpgd\u001b[49m\u001b[43m(\u001b[49m\u001b[43mclassical_model_CNN\u001b[49m\u001b[43m,\u001b[49m\u001b[43m \u001b[49m\u001b[43mX_train\u001b[49m\u001b[43m[\u001b[49m\u001b[32;43m0\u001b[39;49m\u001b[43m:\u001b[49m\u001b[32;43m50\u001b[39;49m\u001b[43m,\u001b[49m\u001b[43m:\u001b[49m\u001b[43m]\u001b[49m\u001b[43m,\u001b[49m\u001b[43m \u001b[49m\u001b[43my_train\u001b[49m\u001b[43m[\u001b[49m\u001b[32;43m0\u001b[39;49m\u001b[43m:\u001b[49m\u001b[32;43m50\u001b[39;49m\u001b[43m]\u001b[49m\u001b[43m,\u001b[49m\u001b[43m \u001b[49m\u001b[32;43m0.1\u001b[39;49m\u001b[43m,\u001b[49m\u001b[43m \u001b[49m\u001b[32;43m1e4\u001b[39;49m\u001b[43m,\u001b[49m\u001b[43m \u001b[49m\u001b[32;43m1000\u001b[39;49m\u001b[43m)\u001b[49m\n\u001b[32m      3\u001b[39m yp = classical_model_CNN(X_train + delta)\n\u001b[32m      4\u001b[39m \u001b[38;5;66;03m# plot_images(X+delta, y, yp, 3, 6)\u001b[39;00m\n",
      "\u001b[36mCell\u001b[39m\u001b[36m \u001b[39m\u001b[32mIn[24]\u001b[39m\u001b[32m, line 5\u001b[39m, in \u001b[36mpgd\u001b[39m\u001b[34m(model, X, y, epsilon, alpha, num_iter)\u001b[39m\n\u001b[32m      3\u001b[39m delta = np.zeros_like(X, requires_grad=\u001b[38;5;28;01mTrue\u001b[39;00m)\n\u001b[32m      4\u001b[39m \u001b[38;5;28;01mfor\u001b[39;00m t \u001b[38;5;129;01min\u001b[39;00m \u001b[38;5;28mrange\u001b[39m(num_iter):\n\u001b[32m----> \u001b[39m\u001b[32m5\u001b[39m     loss = \u001b[43mnn\u001b[49m\u001b[43m.\u001b[49m\u001b[43mCrossEntropyLoss\u001b[49m\u001b[43m(\u001b[49m\u001b[43m)\u001b[49m\u001b[43m(\u001b[49m\u001b[43mmodel\u001b[49m\u001b[43m(\u001b[49m\u001b[43mX\u001b[49m\u001b[43m \u001b[49m\u001b[43m+\u001b[49m\u001b[43m \u001b[49m\u001b[43mdelta\u001b[49m\u001b[43m)\u001b[49m\u001b[43m,\u001b[49m\u001b[43m \u001b[49m\u001b[43my\u001b[49m\u001b[43m)\u001b[49m\n\u001b[32m      6\u001b[39m     loss.backward()\n\u001b[32m      7\u001b[39m     delta.data = (delta + X.shape[\u001b[32m0\u001b[39m]*alpha*delta.grad.data).clamp(-epsilon,epsilon)\n",
      "\u001b[36mFile \u001b[39m\u001b[32m~/miniforge3/envs/qml/lib/python3.12/site-packages/torch/nn/modules/module.py:1739\u001b[39m, in \u001b[36mModule._wrapped_call_impl\u001b[39m\u001b[34m(self, *args, **kwargs)\u001b[39m\n\u001b[32m   1737\u001b[39m     \u001b[38;5;28;01mreturn\u001b[39;00m \u001b[38;5;28mself\u001b[39m._compiled_call_impl(*args, **kwargs)  \u001b[38;5;66;03m# type: ignore[misc]\u001b[39;00m\n\u001b[32m   1738\u001b[39m \u001b[38;5;28;01melse\u001b[39;00m:\n\u001b[32m-> \u001b[39m\u001b[32m1739\u001b[39m     \u001b[38;5;28;01mreturn\u001b[39;00m \u001b[38;5;28;43mself\u001b[39;49m\u001b[43m.\u001b[49m\u001b[43m_call_impl\u001b[49m\u001b[43m(\u001b[49m\u001b[43m*\u001b[49m\u001b[43margs\u001b[49m\u001b[43m,\u001b[49m\u001b[43m \u001b[49m\u001b[43m*\u001b[49m\u001b[43m*\u001b[49m\u001b[43mkwargs\u001b[49m\u001b[43m)\u001b[49m\n",
      "\u001b[36mFile \u001b[39m\u001b[32m~/miniforge3/envs/qml/lib/python3.12/site-packages/torch/nn/modules/module.py:1750\u001b[39m, in \u001b[36mModule._call_impl\u001b[39m\u001b[34m(self, *args, **kwargs)\u001b[39m\n\u001b[32m   1745\u001b[39m \u001b[38;5;66;03m# If we don't have any hooks, we want to skip the rest of the logic in\u001b[39;00m\n\u001b[32m   1746\u001b[39m \u001b[38;5;66;03m# this function, and just call forward.\u001b[39;00m\n\u001b[32m   1747\u001b[39m \u001b[38;5;28;01mif\u001b[39;00m \u001b[38;5;129;01mnot\u001b[39;00m (\u001b[38;5;28mself\u001b[39m._backward_hooks \u001b[38;5;129;01mor\u001b[39;00m \u001b[38;5;28mself\u001b[39m._backward_pre_hooks \u001b[38;5;129;01mor\u001b[39;00m \u001b[38;5;28mself\u001b[39m._forward_hooks \u001b[38;5;129;01mor\u001b[39;00m \u001b[38;5;28mself\u001b[39m._forward_pre_hooks\n\u001b[32m   1748\u001b[39m         \u001b[38;5;129;01mor\u001b[39;00m _global_backward_pre_hooks \u001b[38;5;129;01mor\u001b[39;00m _global_backward_hooks\n\u001b[32m   1749\u001b[39m         \u001b[38;5;129;01mor\u001b[39;00m _global_forward_hooks \u001b[38;5;129;01mor\u001b[39;00m _global_forward_pre_hooks):\n\u001b[32m-> \u001b[39m\u001b[32m1750\u001b[39m     \u001b[38;5;28;01mreturn\u001b[39;00m \u001b[43mforward_call\u001b[49m\u001b[43m(\u001b[49m\u001b[43m*\u001b[49m\u001b[43margs\u001b[49m\u001b[43m,\u001b[49m\u001b[43m \u001b[49m\u001b[43m*\u001b[49m\u001b[43m*\u001b[49m\u001b[43mkwargs\u001b[49m\u001b[43m)\u001b[49m\n\u001b[32m   1752\u001b[39m result = \u001b[38;5;28;01mNone\u001b[39;00m\n\u001b[32m   1753\u001b[39m called_always_called_hooks = \u001b[38;5;28mset\u001b[39m()\n",
      "\u001b[36mFile \u001b[39m\u001b[32m~/miniforge3/envs/qml/lib/python3.12/site-packages/torch/nn/modules/loss.py:1295\u001b[39m, in \u001b[36mCrossEntropyLoss.forward\u001b[39m\u001b[34m(self, input, target)\u001b[39m\n\u001b[32m   1294\u001b[39m \u001b[38;5;28;01mdef\u001b[39;00m\u001b[38;5;250m \u001b[39m\u001b[34mforward\u001b[39m(\u001b[38;5;28mself\u001b[39m, \u001b[38;5;28minput\u001b[39m: Tensor, target: Tensor) -> Tensor:\n\u001b[32m-> \u001b[39m\u001b[32m1295\u001b[39m     \u001b[38;5;28;01mreturn\u001b[39;00m \u001b[43mF\u001b[49m\u001b[43m.\u001b[49m\u001b[43mcross_entropy\u001b[49m\u001b[43m(\u001b[49m\n\u001b[32m   1296\u001b[39m \u001b[43m        \u001b[49m\u001b[38;5;28;43minput\u001b[39;49m\u001b[43m,\u001b[49m\n\u001b[32m   1297\u001b[39m \u001b[43m        \u001b[49m\u001b[43mtarget\u001b[49m\u001b[43m,\u001b[49m\n\u001b[32m   1298\u001b[39m \u001b[43m        \u001b[49m\u001b[43mweight\u001b[49m\u001b[43m=\u001b[49m\u001b[38;5;28;43mself\u001b[39;49m\u001b[43m.\u001b[49m\u001b[43mweight\u001b[49m\u001b[43m,\u001b[49m\n\u001b[32m   1299\u001b[39m \u001b[43m        \u001b[49m\u001b[43mignore_index\u001b[49m\u001b[43m=\u001b[49m\u001b[38;5;28;43mself\u001b[39;49m\u001b[43m.\u001b[49m\u001b[43mignore_index\u001b[49m\u001b[43m,\u001b[49m\n\u001b[32m   1300\u001b[39m \u001b[43m        \u001b[49m\u001b[43mreduction\u001b[49m\u001b[43m=\u001b[49m\u001b[38;5;28;43mself\u001b[39;49m\u001b[43m.\u001b[49m\u001b[43mreduction\u001b[49m\u001b[43m,\u001b[49m\n\u001b[32m   1301\u001b[39m \u001b[43m        \u001b[49m\u001b[43mlabel_smoothing\u001b[49m\u001b[43m=\u001b[49m\u001b[38;5;28;43mself\u001b[39;49m\u001b[43m.\u001b[49m\u001b[43mlabel_smoothing\u001b[49m\u001b[43m,\u001b[49m\n\u001b[32m   1302\u001b[39m \u001b[43m    \u001b[49m\u001b[43m)\u001b[49m\n",
      "\u001b[36mFile \u001b[39m\u001b[32m~/miniforge3/envs/qml/lib/python3.12/site-packages/torch/nn/functional.py:3494\u001b[39m, in \u001b[36mcross_entropy\u001b[39m\u001b[34m(input, target, weight, size_average, ignore_index, reduce, reduction, label_smoothing)\u001b[39m\n\u001b[32m   3492\u001b[39m \u001b[38;5;28;01mif\u001b[39;00m size_average \u001b[38;5;129;01mis\u001b[39;00m \u001b[38;5;129;01mnot\u001b[39;00m \u001b[38;5;28;01mNone\u001b[39;00m \u001b[38;5;129;01mor\u001b[39;00m reduce \u001b[38;5;129;01mis\u001b[39;00m \u001b[38;5;129;01mnot\u001b[39;00m \u001b[38;5;28;01mNone\u001b[39;00m:\n\u001b[32m   3493\u001b[39m     reduction = _Reduction.legacy_get_string(size_average, reduce)\n\u001b[32m-> \u001b[39m\u001b[32m3494\u001b[39m \u001b[38;5;28;01mreturn\u001b[39;00m \u001b[43mtorch\u001b[49m\u001b[43m.\u001b[49m\u001b[43m_C\u001b[49m\u001b[43m.\u001b[49m\u001b[43m_nn\u001b[49m\u001b[43m.\u001b[49m\u001b[43mcross_entropy_loss\u001b[49m\u001b[43m(\u001b[49m\n\u001b[32m   3495\u001b[39m \u001b[43m    \u001b[49m\u001b[38;5;28;43minput\u001b[39;49m\u001b[43m,\u001b[49m\n\u001b[32m   3496\u001b[39m \u001b[43m    \u001b[49m\u001b[43mtarget\u001b[49m\u001b[43m,\u001b[49m\n\u001b[32m   3497\u001b[39m \u001b[43m    \u001b[49m\u001b[43mweight\u001b[49m\u001b[43m,\u001b[49m\n\u001b[32m   3498\u001b[39m \u001b[43m    \u001b[49m\u001b[43m_Reduction\u001b[49m\u001b[43m.\u001b[49m\u001b[43mget_enum\u001b[49m\u001b[43m(\u001b[49m\u001b[43mreduction\u001b[49m\u001b[43m)\u001b[49m\u001b[43m,\u001b[49m\n\u001b[32m   3499\u001b[39m \u001b[43m    \u001b[49m\u001b[43mignore_index\u001b[49m\u001b[43m,\u001b[49m\n\u001b[32m   3500\u001b[39m \u001b[43m    \u001b[49m\u001b[43mlabel_smoothing\u001b[49m\u001b[43m,\u001b[49m\n\u001b[32m   3501\u001b[39m \u001b[43m\u001b[49m\u001b[43m)\u001b[49m\n",
      "\u001b[31mTypeError\u001b[39m: cross_entropy_loss(): argument 'input' (position 1) must be Tensor, not tensorflow.python.framework.ops.EagerTensor"
     ]
    }
   ],
   "source": [
    "### Illustrate attacked images\n",
    "delta = pgd(classical_model_CNN, X_train[0:50,:], y_train[0:50], 0.1, 1e4, 1000)\n",
    "yp = classical_model_CNN(X_train + delta)\n",
    "# plot_images(X+delta, y, yp, 3, 6)"
   ]
  },
  {
   "cell_type": "code",
   "execution_count": 23,
   "id": "831b132a-7003-4e4e-a5bd-eb934b3baf81",
   "metadata": {},
   "outputs": [
    {
     "data": {
      "text/plain": [
       "(50, 16, 16)"
      ]
     },
     "execution_count": 23,
     "metadata": {},
     "output_type": "execute_result"
    }
   ],
   "source": [
    "X_train[0:50,:].shape"
   ]
  },
  {
   "cell_type": "code",
   "execution_count": 26,
   "id": "542a20fd-8d3e-4799-ab99-1094eb93b343",
   "metadata": {},
   "outputs": [],
   "source": [
    "import torch.nn as nn"
   ]
  },
  {
   "cell_type": "markdown",
   "id": "19a75416-73bb-4982-b4f2-9fc91cd226b6",
   "metadata": {},
   "source": [
    "## PyTorch"
   ]
  },
  {
   "cell_type": "code",
   "execution_count": 34,
   "id": "25bf22af-062a-406c-8c3b-d11b9eed1f8f",
   "metadata": {},
   "outputs": [],
   "source": [
    "import torch\n",
    "import torch.nn as nn\n",
    "import torch.nn.functional as F\n",
    "import torch.optim as optim\n",
    "from torch.utils.data import DataLoader, TensorDataset\n",
    "from torchvision import datasets, transforms\n",
    "import matplotlib.pyplot as plt\n",
    "import numpy as np\n",
    "from PIL import Image"
   ]
  },
  {
   "cell_type": "code",
   "execution_count": 35,
   "id": "b1cad457-bc77-4bf0-a0db-692631015efb",
   "metadata": {},
   "outputs": [],
   "source": [
    "digits = [5, 8, 7, 6]\n",
    "n_px = 16\n",
    "train_size = 1000\n",
    "test_size = 200\n",
    "batch_size = 64\n",
    "epochs = 10\n",
    "device = torch.device(\"cuda\" if torch.cuda.is_available() else \"cpu\")"
   ]
  },
  {
   "cell_type": "code",
   "execution_count": 36,
   "id": "d8edd214-6c88-4dbb-b26b-de74f6bfcd6f",
   "metadata": {},
   "outputs": [],
   "source": [
    "# --- DATASET ---\n",
    "def get_dataset(digits=[3, 5], n_px=8, train_size=1000, test_size=200):\n",
    "    transform = transforms.ToTensor()\n",
    "    mnist_train = datasets.MNIST(root='./data', train=True, download=True, transform=transform)\n",
    "    mnist_test = datasets.MNIST(root='./data', train=False, download=True, transform=transform)\n",
    "\n",
    "    def filter_and_resize(dataset, digits, size, n_px):\n",
    "        data = [(img, label) for img, label in dataset if label in digits]\n",
    "        np.random.shuffle(data)\n",
    "        data = data[:size]\n",
    "\n",
    "        imgs, labels = zip(*data)\n",
    "        resized_imgs = []\n",
    "        for img in imgs:\n",
    "            img_pil = transforms.ToPILImage()(img)\n",
    "            img_resized = transforms.Resize((n_px, n_px))(img_pil)\n",
    "            resized_imgs.append(transforms.ToTensor()(img_resized))\n",
    "\n",
    "        x = torch.stack(resized_imgs)\n",
    "        y = torch.tensor([digits.index(label) for label in labels])\n",
    "        return x, y\n",
    "\n",
    "    x_train, y_train = filter_and_resize(mnist_train, digits, train_size, n_px)\n",
    "    x_test, y_test = filter_and_resize(mnist_test, digits, test_size, n_px)\n",
    "    return (x_train, y_train), (x_test, y_test)\n",
    "\n",
    "# --- VISUALIZATION ---\n",
    "def visualise_data(digits, x_data, y_data):\n",
    "    fig, axes = plt.subplots(1, len(digits), figsize=(10, 2))\n",
    "    for i, ax in enumerate(axes):\n",
    "        ax.imshow(x_data[i].squeeze(), cmap='gray')\n",
    "        ax.set_title(f\"Digit: {digits[y_data[i]]}\")\n",
    "        ax.axis('off')\n",
    "    plt.tight_layout()\n",
    "    plt.show()"
   ]
  },
  {
   "cell_type": "code",
   "execution_count": 37,
   "id": "e202b4d2-80d9-48d2-98ec-162ee1604d42",
   "metadata": {},
   "outputs": [
    {
     "data": {
      "image/png": "[encoded data removed]",
      "text/plain": [
       "<Figure size 1000x200 with 4 Axes>"
      ]
     },
     "metadata": {},
     "output_type": "display_data"
    }
   ],
   "source": [
    "# Load dataset\n",
    "(x_train, y_train), (x_test, y_test) = get_dataset(digits=digits, n_px=n_px)\n",
    "\n",
    "train_dataset = TensorDataset(x_train, y_train)\n",
    "test_dataset = TensorDataset(x_test, y_test)\n",
    "\n",
    "train_loader = DataLoader(train_dataset, batch_size=batch_size, shuffle=True)\n",
    "test_loader = DataLoader(test_dataset, batch_size=batch_size)\n",
    "\n",
    "x_vis = [x_train[y_train == i][torch.randint(0, 10, (1,))] for i in range(len(digits))]\n",
    "y_vis = list(range(len(digits)))\n",
    "visualise_data(digits, x_vis, y_vis)"
   ]
  },
  {
   "cell_type": "code",
   "execution_count": 38,
   "id": "e1dedc57-8bf9-45cd-873e-eb955a38fdda",
   "metadata": {},
   "outputs": [],
   "source": [
    "# --- MODEL ---\n",
    "class ClassicalCNN(nn.Module):\n",
    "    def __init__(self):\n",
    "        super().__init__()\n",
    "        self.conv1 = nn.Conv2d(1, 32, kernel_size=3, padding=1)\n",
    "        self.pool = nn.MaxPool2d(2, 2)\n",
    "        self.fc1 = nn.Linear(32 * (n_px // 2) * (n_px // 2), 10)\n",
    "\n",
    "    def forward(self, x):\n",
    "        x = self.pool(F.relu(self.conv1(x)))\n",
    "        x = x.view(x.size(0), -1)\n",
    "        return F.log_softmax(self.fc1(x), dim=1)"
   ]
  },
  {
   "cell_type": "code",
   "execution_count": 33,
   "id": "4ab28d6e-191f-4d01-bfc5-4a674a5cbdcf",
   "metadata": {},
   "outputs": [
    {
     "data": {
      "image/png": "[encoded data removed]",
      "text/plain": [
       "<Figure size 1000x200 with 4 Axes>"
      ]
     },
     "metadata": {},
     "output_type": "display_data"
    },
    {
     "name": "stdout",
     "output_type": "stream",
     "text": [
      "Epoch 1/10\n",
      "Test Accuracy: 0.7200\n",
      "Epoch 2/10\n",
      "Test Accuracy: 0.7950\n",
      "Epoch 3/10\n",
      "Test Accuracy: 0.8550\n",
      "Epoch 4/10\n",
      "Test Accuracy: 0.9300\n",
      "Epoch 5/10\n",
      "Test Accuracy: 0.9150\n",
      "Epoch 6/10\n",
      "Test Accuracy: 0.9450\n",
      "Epoch 7/10\n",
      "Test Accuracy: 0.9450\n",
      "Epoch 8/10\n",
      "Test Accuracy: 0.9500\n",
      "Epoch 9/10\n",
      "Test Accuracy: 0.9550\n",
      "Epoch 10/10\n",
      "Test Accuracy: 0.9500\n"
     ]
    }
   ],
   "source": [
    "# --- TRAINING ---\n",
    "def train(model, loader, optimizer, criterion):\n",
    "    model.train()\n",
    "    for data, target in loader:\n",
    "        data, target = data.to(device), target.to(device)\n",
    "        optimizer.zero_grad()\n",
    "        output = model(data)\n",
    "        loss = criterion(output, target)\n",
    "        loss.backward()\n",
    "        optimizer.step()\n",
    "\n",
    "# --- TESTING ---\n",
    "def test(model, loader):\n",
    "    model.eval()\n",
    "    correct = 0\n",
    "    with torch.no_grad():\n",
    "        for data, target in loader:\n",
    "            data, target = data.to(device), target.to(device)\n",
    "            output = model(data)\n",
    "            pred = output.argmax(dim=1)\n",
    "            correct += pred.eq(target).sum().item()\n",
    "    accuracy = correct / len(loader.dataset)\n",
    "    print(f'Test Accuracy: {accuracy:.4f}')\n",
    "\n",
    "# --- RUN ---\n",
    "model = ClassicalCNN().to(device)\n",
    "optimizer = optim.Adam(model.parameters(), lr=0.001)\n",
    "criterion = nn.NLLLoss()\n",
    "\n",
    "for epoch in range(epochs):\n",
    "    print(f\"Epoch {epoch+1}/{epochs}\")\n",
    "    train(model, train_loader, optimizer, criterion)\n",
    "    test(model, test_loader)\n"
   ]
  },
  {
   "cell_type": "markdown",
   "id": "45d3e940-0a69-4766-a16d-1c309a717663",
   "metadata": {},
   "source": [
    "### With attack"
   ]
  },
  {
   "cell_type": "code",
   "execution_count": 39,
   "id": "1063f99a-c612-449a-b0fe-5a0f6c6151a7",
   "metadata": {},
   "outputs": [
    {
     "data": {
      "image/png": "[encoded data removed]",
      "text/plain": [
       "<Figure size 1000x200 with 4 Axes>"
      ]
     },
     "metadata": {},
     "output_type": "display_data"
    },
    {
     "name": "stdout",
     "output_type": "stream",
     "text": [
      "Epoch 1/10\n",
      "Test Accuracy: 0.7300\n",
      "Epoch 2/10\n",
      "Test Accuracy: 0.8950\n",
      "Epoch 3/10\n",
      "Test Accuracy: 0.8950\n",
      "Epoch 4/10\n",
      "Test Accuracy: 0.9100\n",
      "Epoch 5/10\n",
      "Test Accuracy: 0.9400\n",
      "Epoch 6/10\n",
      "Test Accuracy: 0.9450\n",
      "Epoch 7/10\n",
      "Test Accuracy: 0.9500\n",
      "Epoch 8/10\n",
      "Test Accuracy: 0.9450\n",
      "Epoch 9/10\n",
      "Test Accuracy: 0.9500\n",
      "Epoch 10/10\n",
      "Test Accuracy: 0.9500\n"
     ]
    },
    {
     "data": {
      "image/png": "[encoded data removed]",
      "text/plain": [
       "<Figure size 1000x200 with 4 Axes>"
      ]
     },
     "metadata": {},
     "output_type": "display_data"
    }
   ],
   "source": [
    "# PyTorch MNIST Classifier for Selected Digits (Fully Self-Contained)\n",
    "import torch\n",
    "import torch.nn as nn\n",
    "import torch.nn.functional as F\n",
    "import torch.optim as optim\n",
    "from torch.utils.data import DataLoader, TensorDataset\n",
    "from torchvision import datasets, transforms\n",
    "import matplotlib.pyplot as plt\n",
    "import numpy as np\n",
    "from PIL import Image\n",
    "\n",
    "# Configuration\n",
    "digits = [5, 8, 7, 6]\n",
    "n_px = 16\n",
    "train_size = 1000\n",
    "test_size = 200\n",
    "batch_size = 64\n",
    "epochs = 10\n",
    "device = torch.device(\"cuda\" if torch.cuda.is_available() else \"cpu\")\n",
    "\n",
    "# --- DATASET ---\n",
    "def get_dataset(digits=[3, 5], n_px=8, train_size=1000, test_size=200):\n",
    "    transform = transforms.ToTensor()\n",
    "    mnist_train = datasets.MNIST(root='./data', train=True, download=True, transform=transform)\n",
    "    mnist_test = datasets.MNIST(root='./data', train=False, download=True, transform=transform)\n",
    "\n",
    "    def filter_and_resize(dataset, digits, size, n_px):\n",
    "        data = [(img, label) for img, label in dataset if label in digits]\n",
    "        np.random.shuffle(data)\n",
    "        data = data[:size]\n",
    "\n",
    "        imgs, labels = zip(*data)\n",
    "        resized_imgs = []\n",
    "        for img in imgs:\n",
    "            img_pil = transforms.ToPILImage()(img)\n",
    "            img_resized = transforms.Resize((n_px, n_px))(img_pil)\n",
    "            resized_imgs.append(transforms.ToTensor()(img_resized))\n",
    "\n",
    "        x = torch.stack(resized_imgs)\n",
    "        y = torch.tensor([digits.index(label) for label in labels])\n",
    "        return x, y\n",
    "\n",
    "    x_train, y_train = filter_and_resize(mnist_train, digits, train_size, n_px)\n",
    "    x_test, y_test = filter_and_resize(mnist_test, digits, test_size, n_px)\n",
    "    return (x_train, y_train), (x_test, y_test)\n",
    "\n",
    "# --- VISUALIZATION ---\n",
    "def visualise_data(digits, x_data, y_data):\n",
    "    fig, axes = plt.subplots(1, len(digits), figsize=(10, 2))\n",
    "    for i, ax in enumerate(axes):\n",
    "        ax.imshow(x_data[i].squeeze(), cmap='gray')\n",
    "        ax.set_title(f\"Digit: {digits[y_data[i]]}\")\n",
    "        ax.axis('off')\n",
    "    plt.tight_layout()\n",
    "    plt.show()\n",
    "\n",
    "# Load dataset\n",
    "(x_train, y_train), (x_test, y_test) = get_dataset(digits=digits, n_px=n_px)\n",
    "\n",
    "train_dataset = TensorDataset(x_train, y_train)\n",
    "test_dataset = TensorDataset(x_test, y_test)\n",
    "\n",
    "train_loader = DataLoader(train_dataset, batch_size=batch_size, shuffle=True)\n",
    "test_loader = DataLoader(test_dataset, batch_size=batch_size)\n",
    "\n",
    "x_vis = [x_train[y_train == i][torch.randint(0, 10, (1,))] for i in range(len(digits))]\n",
    "y_vis = list(range(len(digits)))\n",
    "x_vis_torch = torch.cat(x_vis).to(device)\n",
    "y_vis_torch = torch.tensor(y_vis).to(device)\n",
    "visualise_data(digits, x_vis, y_vis)\n",
    "\n",
    "# --- MODEL ---\n",
    "class ClassicalCNN(nn.Module):\n",
    "    def __init__(self):\n",
    "        super().__init__()\n",
    "        self.conv1 = nn.Conv2d(1, 32, kernel_size=3, padding=1)\n",
    "        self.pool = nn.MaxPool2d(2, 2)\n",
    "        self.fc1 = nn.Linear(32 * (n_px // 2) * (n_px // 2), 10)\n",
    "\n",
    "    def forward(self, x):\n",
    "        x = self.pool(F.relu(self.conv1(x)))\n",
    "        x = x.view(x.size(0), -1)\n",
    "        return F.log_softmax(self.fc1(x), dim=1)\n",
    "\n",
    "# --- TRAINING ---\n",
    "def train(model, loader, optimizer, criterion):\n",
    "    model.train()\n",
    "    for data, target in loader:\n",
    "        data, target = data.to(device), target.to(device)\n",
    "        optimizer.zero_grad()\n",
    "        output = model(data)\n",
    "        loss = criterion(output, target)\n",
    "        loss.backward()\n",
    "        optimizer.step()\n",
    "\n",
    "# --- TESTING ---\n",
    "def test(model, loader):\n",
    "    model.eval()\n",
    "    correct = 0\n",
    "    with torch.no_grad():\n",
    "        for data, target in loader:\n",
    "            data, target = data.to(device), target.to(device)\n",
    "            output = model(data)\n",
    "            pred = output.argmax(dim=1)\n",
    "            correct += pred.eq(target).sum().item()\n",
    "    accuracy = correct / len(loader.dataset)\n",
    "    print(f'Test Accuracy: {accuracy:.4f}')\n",
    "\n",
    "# --- PGD ATTACK ---\n",
    "def PGD(model, feats, labels, epsilon=0.1, alpha=0.1, num_iter=10):\n",
    "    delta = torch.zeros_like(feats, requires_grad=True)\n",
    "    for t in range(num_iter):\n",
    "        feats_adv = feats + delta\n",
    "        outputs = [model(f.unsqueeze(0)) for f in feats_adv]\n",
    "        l = nn.NLLLoss()(torch.stack(outputs).squeeze(), labels)\n",
    "        l.backward()\n",
    "        delta.data = (delta + alpha * delta.grad.detach().sign()).clamp(-epsilon, epsilon)\n",
    "        delta.grad.zero_()\n",
    "    return delta.detach()\n",
    "\n",
    "# --- RUN ---\n",
    "model = ClassicalCNN().to(device)\n",
    "optimizer = optim.Adam(model.parameters(), lr=0.001)\n",
    "criterion = nn.NLLLoss()\n",
    "\n",
    "for epoch in range(epochs):\n",
    "    print(f\"Epoch {epoch+1}/{epochs}\")\n",
    "    train(model, train_loader, optimizer, criterion)\n",
    "    test(model, test_loader)\n",
    "\n",
    "# PGD Attack and Visualization\n",
    "perturbations = PGD(model=model, feats=x_vis_torch, labels=y_vis_torch, epsilon=0.2)\n",
    "perturbed_x = x_vis_torch + perturbations\n",
    "adversarial_preds = [model(f.unsqueeze(0)) for f in perturbed_x]\n",
    "adversarial_class_output = [torch.argmax(p).item() for p in adversarial_preds]\n",
    "visualise_data(digits, perturbed_x.reshape(-1, n_px, n_px).cpu(), adversarial_class_output)\n"
   ]
  },
  {
   "cell_type": "code",
   "execution_count": 41,
   "id": "3d8f7895-727d-44b5-8861-9d10e702f3e3",
   "metadata": {},
   "outputs": [
    {
     "data": {
      "image/png": "[encoded data removed]",
      "text/plain": [
       "<Figure size 1000x200 with 4 Axes>"
      ]
     },
     "metadata": {},
     "output_type": "display_data"
    },
    {
     "name": "stdout",
     "output_type": "stream",
     "text": [
      "Epoch 1/10\n",
      "Test Accuracy: 0.8600\n",
      "Epoch 2/10\n",
      "Test Accuracy: 0.9100\n",
      "Epoch 3/10\n",
      "Test Accuracy: 0.9200\n",
      "Epoch 4/10\n",
      "Test Accuracy: 0.9400\n",
      "Epoch 5/10\n",
      "Test Accuracy: 0.9550\n",
      "Epoch 6/10\n",
      "Test Accuracy: 0.9550\n",
      "Epoch 7/10\n",
      "Test Accuracy: 0.9600\n",
      "Epoch 8/10\n",
      "Test Accuracy: 0.9650\n",
      "Epoch 9/10\n",
      "Test Accuracy: 0.9650\n",
      "Epoch 10/10\n",
      "Test Accuracy: 0.9650\n"
     ]
    },
    {
     "data": {
      "image/png": "[encoded data removed]",
      "text/plain": [
       "<Figure size 1000x200 with 4 Axes>"
      ]
     },
     "metadata": {},
     "output_type": "display_data"
    },
    {
     "name": "stdout",
     "output_type": "stream",
     "text": [
      "Clean Accuracy on x_vis: 1.0000\n",
      "Adversarial Accuracy on x_vis (PGD): 0.0000\n"
     ]
    }
   ],
   "source": [
    "# PyTorch MNIST Classifier for Selected Digits (Fully Self-Contained)\n",
    "import torch\n",
    "import torch.nn as nn\n",
    "import torch.nn.functional as F\n",
    "import torch.optim as optim\n",
    "from torch.utils.data import DataLoader, TensorDataset\n",
    "from torchvision import datasets, transforms\n",
    "import matplotlib.pyplot as plt\n",
    "import numpy as np\n",
    "from PIL import Image\n",
    "\n",
    "# Configuration\n",
    "digits = [5, 8, 7, 6]\n",
    "n_px = 16\n",
    "train_size = 1000\n",
    "test_size = 200\n",
    "batch_size = 64\n",
    "epochs = 10\n",
    "device = torch.device(\"cuda\" if torch.cuda.is_available() else \"cpu\")\n",
    "\n",
    "# --- DATASET ---\n",
    "def get_dataset(digits=[3, 5], n_px=8, train_size=1000, test_size=200):\n",
    "    transform = transforms.ToTensor()\n",
    "    mnist_train = datasets.MNIST(root='./data', train=True, download=True, transform=transform)\n",
    "    mnist_test = datasets.MNIST(root='./data', train=False, download=True, transform=transform)\n",
    "\n",
    "    def filter_and_resize(dataset, digits, size, n_px):\n",
    "        data = [(img, label) for img, label in dataset if label in digits]\n",
    "        np.random.shuffle(data)\n",
    "        data = data[:size]\n",
    "\n",
    "        imgs, labels = zip(*data)\n",
    "        resized_imgs = []\n",
    "        for img in imgs:\n",
    "            img_pil = transforms.ToPILImage()(img)\n",
    "            img_resized = transforms.Resize((n_px, n_px))(img_pil)\n",
    "            resized_imgs.append(transforms.ToTensor()(img_resized))\n",
    "\n",
    "        x = torch.stack(resized_imgs)\n",
    "        y = torch.tensor([digits.index(label) for label in labels])\n",
    "        return x, y\n",
    "\n",
    "    x_train, y_train = filter_and_resize(mnist_train, digits, train_size, n_px)\n",
    "    x_test, y_test = filter_and_resize(mnist_test, digits, test_size, n_px)\n",
    "    return (x_train, y_train), (x_test, y_test)\n",
    "\n",
    "# --- VISUALIZATION ---\n",
    "def visualise_data(digits, x_data, y_data):\n",
    "    fig, axes = plt.subplots(1, len(digits), figsize=(10, 2))\n",
    "    for i, ax in enumerate(axes):\n",
    "        ax.imshow(x_data[i].squeeze(), cmap='gray')\n",
    "        ax.set_title(f\"Digit: {digits[y_data[i]]}\")\n",
    "        ax.axis('off')\n",
    "    plt.tight_layout()\n",
    "    plt.show()\n",
    "\n",
    "# Load dataset\n",
    "(x_train, y_train), (x_test, y_test) = get_dataset(digits=digits, n_px=n_px)\n",
    "\n",
    "train_dataset = TensorDataset(x_train, y_train)\n",
    "test_dataset = TensorDataset(x_test, y_test)\n",
    "\n",
    "train_loader = DataLoader(train_dataset, batch_size=batch_size, shuffle=True)\n",
    "test_loader = DataLoader(test_dataset, batch_size=batch_size)\n",
    "\n",
    "x_vis = [x_train[y_train == i][torch.randint(0, 10, (1,))] for i in range(len(digits))]\n",
    "y_vis = list(range(len(digits)))\n",
    "x_vis_torch = torch.cat(x_vis).to(device)\n",
    "y_vis_torch = torch.tensor(y_vis).to(device)\n",
    "visualise_data(digits, x_vis, y_vis)\n",
    "\n",
    "# --- MODEL ---\n",
    "class ClassicalCNN(nn.Module):\n",
    "    def __init__(self):\n",
    "        super().__init__()\n",
    "        self.conv1 = nn.Conv2d(1, 32, kernel_size=3, padding=1)\n",
    "        self.pool = nn.MaxPool2d(2, 2)\n",
    "        self.fc1 = nn.Linear(32 * (n_px // 2) * (n_px // 2), 10)\n",
    "\n",
    "    def forward(self, x):\n",
    "        x = self.pool(F.relu(self.conv1(x)))\n",
    "        x = x.view(x.size(0), -1)\n",
    "        return F.log_softmax(self.fc1(x), dim=1)\n",
    "\n",
    "# --- TRAINING ---\n",
    "def train(model, loader, optimizer, criterion):\n",
    "    model.train()\n",
    "    for data, target in loader:\n",
    "        data, target = data.to(device), target.to(device)\n",
    "        optimizer.zero_grad()\n",
    "        output = model(data)\n",
    "        loss = criterion(output, target)\n",
    "        loss.backward()\n",
    "        optimizer.step()\n",
    "\n",
    "# --- TESTING ---\n",
    "def test(model, loader):\n",
    "    model.eval()\n",
    "    correct = 0\n",
    "    with torch.no_grad():\n",
    "        for data, target in loader:\n",
    "            data, target = data.to(device), target.to(device)\n",
    "            output = model(data)\n",
    "            pred = output.argmax(dim=1)\n",
    "            correct += pred.eq(target).sum().item()\n",
    "    accuracy = correct / len(loader.dataset)\n",
    "    print(f'Test Accuracy: {accuracy:.4f}')\n",
    "    return accuracy\n",
    "\n",
    "# --- PGD ATTACK ---\n",
    "def PGD(model, feats, labels, epsilon=0.1, alpha=0.1, num_iter=10):\n",
    "    delta = torch.zeros_like(feats, requires_grad=True)\n",
    "    for t in range(num_iter):\n",
    "        feats_adv = feats + delta\n",
    "        outputs = [model(f.unsqueeze(0)) for f in feats_adv]\n",
    "        l = nn.NLLLoss()(torch.stack(outputs).squeeze(), labels)\n",
    "        l.backward()\n",
    "        delta.data = (delta + alpha * delta.grad.detach().sign()).clamp(-epsilon, epsilon)\n",
    "        delta.grad.zero_()\n",
    "    return delta.detach()\n",
    "\n",
    "# --- RUN ---\n",
    "model = ClassicalCNN().to(device)\n",
    "optimizer = optim.Adam(model.parameters(), lr=0.001)\n",
    "criterion = nn.NLLLoss()\n",
    "\n",
    "for epoch in range(epochs):\n",
    "    print(f\"Epoch {epoch+1}/{epochs}\")\n",
    "    train(model, train_loader, optimizer, criterion)\n",
    "    test(model, test_loader)\n",
    "\n",
    "# PGD Attack and Visualization\n",
    "perturbations = PGD(model=model, feats=x_vis_torch, labels=y_vis_torch, epsilon=0.1)\n",
    "perturbed_x = x_vis_torch + perturbations\n",
    "adversarial_preds = [model(f.unsqueeze(0)) for f in perturbed_x]\n",
    "adversarial_class_output = [torch.argmax(p).item() for p in adversarial_preds]\n",
    "visualise_data(digits, perturbed_x.reshape(-1, n_px, n_px).cpu(), adversarial_class_output)\n",
    "\n",
    "# --- Comparison: Clean vs Adversarial Accuracy ---\n",
    "model.eval()\n",
    "with torch.no_grad():\n",
    "    clean_output = model(x_vis_torch)\n",
    "    clean_pred = clean_output.argmax(dim=1)\n",
    "    clean_acc = (clean_pred == y_vis_torch).float().mean().item()\n",
    "\n",
    "    adv_output = model(perturbed_x)\n",
    "    adv_pred = adv_output.argmax(dim=1)\n",
    "    adv_acc = (adv_pred == y_vis_torch).float().mean().item()\n",
    "\n",
    "print(f\"Clean Accuracy on x_vis: {clean_acc:.4f}\")\n",
    "print(f\"Adversarial Accuracy on x_vis (PGD): {adv_acc:.4f}\")\n"
   ]
  },
  {
   "cell_type": "code",
   "execution_count": 42,
   "id": "e3f99f73-3e17-492e-ba1c-d9022b4ff72f",
   "metadata": {},
   "outputs": [
    {
     "data": {
      "image/png": "[encoded data removed]",
      "text/plain": [
       "<Figure size 1000x200 with 4 Axes>"
      ]
     },
     "metadata": {},
     "output_type": "display_data"
    },
    {
     "name": "stdout",
     "output_type": "stream",
     "text": [
      "Training CNN Model\n",
      "Epoch 1/10\n",
      "Test Accuracy: 0.7150\n",
      "Epoch 2/10\n",
      "Test Accuracy: 0.9200\n",
      "Epoch 3/10\n",
      "Test Accuracy: 0.9250\n",
      "Epoch 4/10\n",
      "Test Accuracy: 0.9400\n",
      "Epoch 5/10\n",
      "Test Accuracy: 0.9600\n",
      "Epoch 6/10\n",
      "Test Accuracy: 0.9650\n",
      "Epoch 7/10\n",
      "Test Accuracy: 0.9600\n",
      "Epoch 8/10\n",
      "Test Accuracy: 0.9600\n",
      "Epoch 9/10\n",
      "Test Accuracy: 0.9650\n",
      "Epoch 10/10\n",
      "Test Accuracy: 0.9700\n"
     ]
    },
    {
     "data": {
      "image/png": "[encoded data removed]",
      "text/plain": [
       "<Figure size 1000x200 with 4 Axes>"
      ]
     },
     "metadata": {},
     "output_type": "display_data"
    },
    {
     "name": "stdout",
     "output_type": "stream",
     "text": [
      "[CNN] Clean Accuracy on x_vis: 1.0000\n",
      "[CNN] Adversarial Accuracy on x_vis (PGD): 0.0000\n",
      "Training Simple FCNN Model\n",
      "Epoch 1/10\n",
      "Test Accuracy: 0.5550\n",
      "Epoch 2/10\n",
      "Test Accuracy: 0.7150\n",
      "Epoch 3/10\n",
      "Test Accuracy: 0.8550\n",
      "Epoch 4/10\n",
      "Test Accuracy: 0.8950\n",
      "Epoch 5/10\n",
      "Test Accuracy: 0.9100\n",
      "Epoch 6/10\n",
      "Test Accuracy: 0.9150\n",
      "Epoch 7/10\n",
      "Test Accuracy: 0.9200\n",
      "Epoch 8/10\n",
      "Test Accuracy: 0.9250\n",
      "Epoch 9/10\n",
      "Test Accuracy: 0.9350\n",
      "Epoch 10/10\n",
      "Test Accuracy: 0.9350\n",
      "[FCNN] Clean Accuracy on x_vis: 1.0000\n",
      "[FCNN] Adversarial Accuracy on x_vis (PGD): 0.0000\n"
     ]
    }
   ],
   "source": [
    "# PyTorch MNIST Classifier for Selected Digits (Fully Self-Contained)\n",
    "import torch\n",
    "import torch.nn as nn\n",
    "import torch.nn.functional as F\n",
    "import torch.optim as optim\n",
    "from torch.utils.data import DataLoader, TensorDataset\n",
    "from torchvision import datasets, transforms\n",
    "import matplotlib.pyplot as plt\n",
    "import numpy as np\n",
    "from PIL import Image\n",
    "\n",
    "# Configuration\n",
    "digits = [5, 8, 7, 6]\n",
    "n_px = 16\n",
    "train_size = 1000\n",
    "test_size = 200\n",
    "batch_size = 64\n",
    "epochs = 10\n",
    "device = torch.device(\"cuda\" if torch.cuda.is_available() else \"cpu\")\n",
    "\n",
    "# --- DATASET ---\n",
    "def get_dataset(digits=[3, 5], n_px=8, train_size=1000, test_size=200):\n",
    "    transform = transforms.ToTensor()\n",
    "    mnist_train = datasets.MNIST(root='./data', train=True, download=True, transform=transform)\n",
    "    mnist_test = datasets.MNIST(root='./data', train=False, download=True, transform=transform)\n",
    "\n",
    "    def filter_and_resize(dataset, digits, size, n_px):\n",
    "        data = [(img, label) for img, label in dataset if label in digits]\n",
    "        np.random.shuffle(data)\n",
    "        data = data[:size]\n",
    "\n",
    "        imgs, labels = zip(*data)\n",
    "        resized_imgs = []\n",
    "        for img in imgs:\n",
    "            img_pil = transforms.ToPILImage()(img)\n",
    "            img_resized = transforms.Resize((n_px, n_px))(img_pil)\n",
    "            resized_imgs.append(transforms.ToTensor()(img_resized))\n",
    "\n",
    "        x = torch.stack(resized_imgs)\n",
    "        y = torch.tensor([digits.index(label) for label in labels])\n",
    "        return x, y\n",
    "\n",
    "    x_train, y_train = filter_and_resize(mnist_train, digits, train_size, n_px)\n",
    "    x_test, y_test = filter_and_resize(mnist_test, digits, test_size, n_px)\n",
    "    return (x_train, y_train), (x_test, y_test)\n",
    "\n",
    "# --- VISUALIZATION ---\n",
    "def visualise_data(digits, x_data, y_data):\n",
    "    fig, axes = plt.subplots(1, len(digits), figsize=(10, 2))\n",
    "    for i, ax in enumerate(axes):\n",
    "        ax.imshow(x_data[i].squeeze(), cmap='gray')\n",
    "        ax.set_title(f\"Digit: {digits[y_data[i]]}\")\n",
    "        ax.axis('off')\n",
    "    plt.tight_layout()\n",
    "    plt.show()\n",
    "\n",
    "# Load dataset\n",
    "(x_train, y_train), (x_test, y_test) = get_dataset(digits=digits, n_px=n_px)\n",
    "\n",
    "train_dataset = TensorDataset(x_train, y_train)\n",
    "test_dataset = TensorDataset(x_test, y_test)\n",
    "\n",
    "train_loader = DataLoader(train_dataset, batch_size=batch_size, shuffle=True)\n",
    "test_loader = DataLoader(test_dataset, batch_size=batch_size)\n",
    "\n",
    "x_vis = [x_train[y_train == i][torch.randint(0, 10, (1,))] for i in range(len(digits))]\n",
    "y_vis = list(range(len(digits)))\n",
    "x_vis_torch = torch.cat(x_vis).to(device)\n",
    "y_vis_torch = torch.tensor(y_vis).to(device)\n",
    "visualise_data(digits, x_vis, y_vis)\n",
    "\n",
    "# --- MODELS ---\n",
    "class ClassicalCNN(nn.Module):\n",
    "    def __init__(self):\n",
    "        super().__init__()\n",
    "        self.conv1 = nn.Conv2d(1, 32, kernel_size=3, padding=1)\n",
    "        self.pool = nn.MaxPool2d(2, 2)\n",
    "        self.fc1 = nn.Linear(32 * (n_px // 2) * (n_px // 2), 10)\n",
    "\n",
    "    def forward(self, x):\n",
    "        x = self.pool(F.relu(self.conv1(x)))\n",
    "        x = x.view(x.size(0), -1)\n",
    "        return F.log_softmax(self.fc1(x), dim=1)\n",
    "\n",
    "class SimpleFCNN(nn.Module):\n",
    "    def __init__(self):\n",
    "        super().__init__()\n",
    "        self.flatten = nn.Flatten()\n",
    "        self.fc1 = nn.Linear(n_px * n_px, 32)  # smaller intermediate layer\n",
    "        self.fc2 = nn.Linear(32, 10)\n",
    "\n",
    "    def forward(self, x):\n",
    "        x = self.flatten(x)\n",
    "        x = F.relu(self.fc1(x))\n",
    "        x = self.fc2(x)\n",
    "        return F.log_softmax(x, dim=1)\n",
    "\n",
    "# --- TRAINING ---\n",
    "def train(model, loader, optimizer, criterion):\n",
    "    model.train()\n",
    "    for data, target in loader:\n",
    "        data, target = data.to(device), target.to(device)\n",
    "        optimizer.zero_grad()\n",
    "        output = model(data)\n",
    "        loss = criterion(output, target)\n",
    "        loss.backward()\n",
    "        optimizer.step()\n",
    "\n",
    "# --- TESTING ---\n",
    "def test(model, loader):\n",
    "    model.eval()\n",
    "    correct = 0\n",
    "    with torch.no_grad():\n",
    "        for data, target in loader:\n",
    "            data, target = data.to(device), target.to(device)\n",
    "            output = model(data)\n",
    "            pred = output.argmax(dim=1)\n",
    "            correct += pred.eq(target).sum().item()\n",
    "    accuracy = correct / len(loader.dataset)\n",
    "    print(f'Test Accuracy: {accuracy:.4f}')\n",
    "    return accuracy\n",
    "\n",
    "# --- PGD ATTACK ---\n",
    "def PGD(model, feats, labels, epsilon=0.1, alpha=0.1, num_iter=10):\n",
    "    delta = torch.zeros_like(feats, requires_grad=True)\n",
    "    for t in range(num_iter):\n",
    "        feats_adv = feats + delta\n",
    "        outputs = [model(f.unsqueeze(0)) for f in feats_adv]\n",
    "        l = nn.NLLLoss()(torch.stack(outputs).squeeze(), labels)\n",
    "        l.backward()\n",
    "        delta.data = (delta + alpha * delta.grad.detach().sign()).clamp(-epsilon, epsilon)\n",
    "        delta.grad.zero_()\n",
    "    return delta.detach()\n",
    "\n",
    "# --- RUN (CNN MODEL) ---\n",
    "model = ClassicalCNN().to(device)\n",
    "optimizer = optim.Adam(model.parameters(), lr=0.001)\n",
    "criterion = nn.NLLLoss()\n",
    "\n",
    "print(\"Training CNN Model\")\n",
    "for epoch in range(epochs):\n",
    "    print(f\"Epoch {epoch+1}/{epochs}\")\n",
    "    train(model, train_loader, optimizer, criterion)\n",
    "    test(model, test_loader)\n",
    "\n",
    "# PGD Attack and Visualization\n",
    "perturbations = PGD(model=model, feats=x_vis_torch, labels=y_vis_torch, epsilon=0.2)\n",
    "perturbed_x = x_vis_torch + perturbations\n",
    "adversarial_preds = [model(f.unsqueeze(0)) for f in perturbed_x]\n",
    "adversarial_class_output = [torch.argmax(p).item() for p in adversarial_preds]\n",
    "visualise_data(digits, perturbed_x.reshape(-1, n_px, n_px).cpu(), adversarial_class_output)\n",
    "\n",
    "# --- Comparison: Clean vs Adversarial Accuracy (CNN) ---\n",
    "model.eval()\n",
    "with torch.no_grad():\n",
    "    clean_output = model(x_vis_torch)\n",
    "    clean_pred = clean_output.argmax(dim=1)\n",
    "    clean_acc = (clean_pred == y_vis_torch).float().mean().item()\n",
    "\n",
    "    adv_output = model(perturbed_x)\n",
    "    adv_pred = adv_output.argmax(dim=1)\n",
    "    adv_acc = (adv_pred == y_vis_torch).float().mean().item()\n",
    "\n",
    "print(f\"[CNN] Clean Accuracy on x_vis: {clean_acc:.4f}\")\n",
    "print(f\"[CNN] Adversarial Accuracy on x_vis (PGD): {adv_acc:.4f}\")\n",
    "\n",
    "# --- RUN (FC MODEL) ---\n",
    "fc_model = SimpleFCNN().to(device)\n",
    "fc_optimizer = optim.Adam(fc_model.parameters(), lr=0.001)\n",
    "\n",
    "print(\"Training Simple FCNN Model\")\n",
    "for epoch in range(epochs):\n",
    "    print(f\"Epoch {epoch+1}/{epochs}\")\n",
    "    train(fc_model, train_loader, fc_optimizer, criterion)\n",
    "    test(fc_model, test_loader)\n",
    "\n",
    "# --- FC Accuracy Comparison ---\n",
    "fc_model.eval()\n",
    "with torch.no_grad():\n",
    "    clean_output_fc = fc_model(x_vis_torch)\n",
    "    clean_pred_fc = clean_output_fc.argmax(dim=1)\n",
    "    clean_acc_fc = (clean_pred_fc == y_vis_torch).float().mean().item()\n",
    "\n",
    "    adv_output_fc = fc_model(perturbed_x)\n",
    "    adv_pred_fc = adv_output_fc.argmax(dim=1)\n",
    "    adv_acc_fc = (adv_pred_fc == y_vis_torch).float().mean().item()\n",
    "\n",
    "print(f\"[FCNN] Clean Accuracy on x_vis: {clean_acc_fc:.4f}\")\n",
    "print(f\"[FCNN] Adversarial Accuracy on x_vis (PGD): {adv_acc_fc:.4f}\")\n"
   ]
  },
  {
   "cell_type": "code",
   "execution_count": 44,
   "id": "70d987f9-d863-4f55-9325-d27054b09c1e",
   "metadata": {},
   "outputs": [
    {
     "data": {
      "image/png": "[encoded data removed]",
      "text/plain": [
       "<Figure size 1000x200 with 4 Axes>"
      ]
     },
     "metadata": {},
     "output_type": "display_data"
    },
    {
     "name": "stdout",
     "output_type": "stream",
     "text": [
      "Training CNN Model\n",
      "Epoch 1/10\n",
      "Test Accuracy: 0.7900\n",
      "Epoch 2/10\n",
      "Test Accuracy: 0.8650\n",
      "Epoch 3/10\n",
      "Test Accuracy: 0.8800\n",
      "Epoch 4/10\n",
      "Test Accuracy: 0.9100\n",
      "Epoch 5/10\n",
      "Test Accuracy: 0.9300\n",
      "Epoch 6/10\n",
      "Test Accuracy: 0.9350\n",
      "Epoch 7/10\n",
      "Test Accuracy: 0.9500\n",
      "Epoch 8/10\n",
      "Test Accuracy: 0.9400\n",
      "Epoch 9/10\n",
      "Test Accuracy: 0.9400\n",
      "Epoch 10/10\n",
      "Test Accuracy: 0.9600\n"
     ]
    },
    {
     "data": {
      "image/png": "[encoded data removed]",
      "text/plain": [
       "<Figure size 1000x200 with 4 Axes>"
      ]
     },
     "metadata": {},
     "output_type": "display_data"
    },
    {
     "name": "stdout",
     "output_type": "stream",
     "text": [
      "[CNN] Clean Accuracy on x_vis: 0.9688\n",
      "[CNN] Adversarial Accuracy on x_vis (PGD): 0.8125\n",
      "Training Simple FCNN Model\n",
      "Epoch 1/10\n",
      "Test Accuracy: 0.5350\n",
      "Epoch 2/10\n",
      "Test Accuracy: 0.7400\n",
      "Epoch 3/10\n",
      "Test Accuracy: 0.7550\n",
      "Epoch 4/10\n",
      "Test Accuracy: 0.8450\n",
      "Epoch 5/10\n",
      "Test Accuracy: 0.8600\n",
      "Epoch 6/10\n",
      "Test Accuracy: 0.9050\n",
      "Epoch 7/10\n",
      "Test Accuracy: 0.9150\n",
      "Epoch 8/10\n",
      "Test Accuracy: 0.9200\n",
      "Epoch 9/10\n",
      "Test Accuracy: 0.9200\n",
      "Epoch 10/10\n",
      "Test Accuracy: 0.9300\n",
      "[FCNN] Clean Accuracy on x_vis: 0.9375\n",
      "[FCNN] Adversarial Accuracy on x_vis (PGD): 0.7969\n"
     ]
    },
    {
     "data": {
      "image/png": "[encoded data removed]",
      "text/plain": [
       "<Figure size 1000x200 with 4 Axes>"
      ]
     },
     "metadata": {},
     "output_type": "display_data"
    },
    {
     "data": {
      "image/png": "[encoded data removed]",
      "text/plain": [
       "<Figure size 1000x200 with 4 Axes>"
      ]
     },
     "metadata": {},
     "output_type": "display_data"
    }
   ],
   "source": [
    "# PyTorch MNIST Classifier for Selected Digits (Fully Self-Contained)\n",
    "import torch\n",
    "import torch.nn as nn\n",
    "import torch.nn.functional as F\n",
    "import torch.optim as optim\n",
    "from torch.utils.data import DataLoader, TensorDataset\n",
    "from torchvision import datasets, transforms\n",
    "import matplotlib.pyplot as plt\n",
    "import numpy as np\n",
    "from PIL import Image\n",
    "\n",
    "# Configuration\n",
    "digits = [5, 8, 7, 6]\n",
    "n_px = 16\n",
    "train_size = 1000\n",
    "test_size = 200\n",
    "batch_size = 64\n",
    "epochs = 10\n",
    "device = torch.device(\"cuda\" if torch.cuda.is_available() else \"cpu\")\n",
    "\n",
    "# --- DATASET ---\n",
    "def get_dataset(digits=[3, 5], n_px=8, train_size=1000, test_size=200):\n",
    "    transform = transforms.ToTensor()\n",
    "    mnist_train = datasets.MNIST(root='./data', train=True, download=True, transform=transform)\n",
    "    mnist_test = datasets.MNIST(root='./data', train=False, download=True, transform=transform)\n",
    "\n",
    "    def filter_and_resize(dataset, digits, size, n_px):\n",
    "        data = [(img, label) for img, label in dataset if label in digits]\n",
    "        np.random.shuffle(data)\n",
    "        data = data[:size]\n",
    "\n",
    "        imgs, labels = zip(*data)\n",
    "        resized_imgs = []\n",
    "        for img in imgs:\n",
    "            img_pil = transforms.ToPILImage()(img)\n",
    "            img_resized = transforms.Resize((n_px, n_px))(img_pil)\n",
    "            resized_imgs.append(transforms.ToTensor()(img_resized))\n",
    "\n",
    "        x = torch.stack(resized_imgs)\n",
    "        y = torch.tensor([digits.index(label) for label in labels])\n",
    "        return x, y\n",
    "\n",
    "    x_train, y_train = filter_and_resize(mnist_train, digits, train_size, n_px)\n",
    "    x_test, y_test = filter_and_resize(mnist_test, digits, test_size, n_px)\n",
    "    return (x_train, y_train), (x_test, y_test)\n",
    "\n",
    "# --- VISUALIZATION ---\n",
    "def visualise_data(digits, x_data, y_data):\n",
    "    fig, axes = plt.subplots(1, len(digits), figsize=(10, 2))\n",
    "    for i, ax in enumerate(axes):\n",
    "        ax.imshow(x_data[i].squeeze(), cmap='gray')\n",
    "        ax.set_title(f\"Digit: {digits[y_data[i]]}\")\n",
    "        ax.axis('off')\n",
    "    plt.tight_layout()\n",
    "    plt.show()\n",
    "\n",
    "# Load dataset\n",
    "(x_train, y_train), (x_test, y_test) = get_dataset(digits=digits, n_px=n_px)\n",
    "\n",
    "train_dataset = TensorDataset(x_train, y_train)\n",
    "test_dataset = TensorDataset(x_test, y_test)\n",
    "\n",
    "train_loader = DataLoader(train_dataset, batch_size=batch_size, shuffle=True)\n",
    "test_loader = DataLoader(test_dataset, batch_size=batch_size)\n",
    "\n",
    "# Select multiple test samples for visualization and PGD attack\n",
    "x_vis_torch = x_test[:64].to(device)\n",
    "y_vis_torch = y_test[:64].to(device)\n",
    "visualise_data(digits, x_vis_torch.cpu(), y_vis_torch.cpu())\n",
    "\n",
    "# --- MODELS ---\n",
    "class ClassicalCNN(nn.Module):\n",
    "    def __init__(self):\n",
    "        super().__init__()\n",
    "        self.conv1 = nn.Conv2d(1, 32, kernel_size=3, padding=1)\n",
    "        self.pool = nn.MaxPool2d(2, 2)\n",
    "        self.fc1 = nn.Linear(32 * (n_px // 2) * (n_px // 2), 10)\n",
    "\n",
    "    def forward(self, x):\n",
    "        x = self.pool(F.relu(self.conv1(x)))\n",
    "        x = x.view(x.size(0), -1)\n",
    "        return F.log_softmax(self.fc1(x), dim=1)\n",
    "\n",
    "class SimpleFCNN(nn.Module):\n",
    "    def __init__(self):\n",
    "        super().__init__()\n",
    "        self.flatten = nn.Flatten()\n",
    "        self.fc1 = nn.Linear(n_px * n_px, 32)\n",
    "        self.fc2 = nn.Linear(32, 10)\n",
    "\n",
    "    def forward(self, x):\n",
    "        x = self.flatten(x)\n",
    "        x = F.relu(self.fc1(x))\n",
    "        x = self.fc2(x)\n",
    "        return F.log_softmax(x, dim=1)\n",
    "\n",
    "# --- TRAINING ---\n",
    "def train(model, loader, optimizer, criterion):\n",
    "    model.train()\n",
    "    for data, target in loader:\n",
    "        data, target = data.to(device), target.to(device)\n",
    "        optimizer.zero_grad()\n",
    "        output = model(data)\n",
    "        loss = criterion(output, target)\n",
    "        loss.backward()\n",
    "        optimizer.step()\n",
    "\n",
    "# --- TESTING ---\n",
    "def test(model, loader):\n",
    "    model.eval()\n",
    "    correct = 0\n",
    "    with torch.no_grad():\n",
    "        for data, target in loader:\n",
    "            data, target = data.to(device), target.to(device)\n",
    "            output = model(data)\n",
    "            pred = output.argmax(dim=1)\n",
    "            correct += pred.eq(target).sum().item()\n",
    "    accuracy = correct / len(loader.dataset)\n",
    "    print(f'Test Accuracy: {accuracy:.4f}')\n",
    "    return accuracy\n",
    "\n",
    "# --- PGD ATTACK ---\n",
    "def PGD(model, feats, labels, epsilon=0.1, alpha=0.1, num_iter=10):\n",
    "    delta = torch.zeros_like(feats, requires_grad=True)\n",
    "    for t in range(num_iter):\n",
    "        feats_adv = feats + delta\n",
    "        output = model(feats_adv)\n",
    "        l = nn.NLLLoss()(output, labels)\n",
    "        l.backward()\n",
    "        delta.data = (delta + alpha * delta.grad.detach().sign()).clamp(-epsilon, epsilon)\n",
    "        delta.grad.zero_()\n",
    "    return delta.detach()\n",
    "\n",
    "# --- RUN (CNN MODEL) ---\n",
    "model = ClassicalCNN().to(device)\n",
    "optimizer = optim.Adam(model.parameters(), lr=0.001)\n",
    "criterion = nn.NLLLoss()\n",
    "\n",
    "print(\"Training CNN Model\")\n",
    "for epoch in range(epochs):\n",
    "    print(f\"Epoch {epoch+1}/{epochs}\")\n",
    "    train(model, train_loader, optimizer, criterion)\n",
    "    test(model, test_loader)\n",
    "\n",
    "perturbations = PGD(model=model, feats=x_vis_torch, labels=y_vis_torch, epsilon=0.04)\n",
    "perturbed_x = x_vis_torch + perturbations\n",
    "\n",
    "adversarial_preds = model(perturbed_x).argmax(dim=1)\n",
    "visualise_data(digits, perturbed_x[:len(digits)].reshape(-1, n_px, n_px).cpu(), adversarial_preds[:len(digits)].cpu())\n",
    "\n",
    "# --- Comparison: Clean vs Adversarial Accuracy (CNN) ---\n",
    "model.eval()\n",
    "with torch.no_grad():\n",
    "    clean_output = model(x_vis_torch)\n",
    "    clean_pred = clean_output.argmax(dim=1)\n",
    "    clean_acc = (clean_pred == y_vis_torch).float().mean().item()\n",
    "\n",
    "    adv_output = model(perturbed_x)\n",
    "    adv_pred = adv_output.argmax(dim=1)\n",
    "    adv_acc = (adv_pred == y_vis_torch).float().mean().item()\n",
    "\n",
    "print(f\"[CNN] Clean Accuracy on x_vis: {clean_acc:.4f}\")\n",
    "print(f\"[CNN] Adversarial Accuracy on x_vis (PGD): {adv_acc:.4f}\")\n",
    "\n",
    "# --- RUN (FC MODEL) ---\n",
    "fc_model = SimpleFCNN().to(device)\n",
    "fc_optimizer = optim.Adam(fc_model.parameters(), lr=0.001)\n",
    "\n",
    "print(\"Training Simple FCNN Model\")\n",
    "for epoch in range(epochs):\n",
    "    print(f\"Epoch {epoch+1}/{epochs}\")\n",
    "    train(fc_model, train_loader, fc_optimizer, criterion)\n",
    "    test(fc_model, test_loader)\n",
    "\n",
    "fc_model.eval()\n",
    "with torch.no_grad():\n",
    "    clean_output_fc = fc_model(x_vis_torch)\n",
    "    clean_pred_fc = clean_output_fc.argmax(dim=1)\n",
    "    clean_acc_fc = (clean_pred_fc == y_vis_torch).float().mean().item()\n",
    "\n",
    "    adv_output_fc = fc_model(perturbed_x)\n",
    "    adv_pred_fc = adv_output_fc.argmax(dim=1)\n",
    "    adv_acc_fc = (adv_pred_fc == y_vis_torch).float().mean().item()\n",
    "\n",
    "print(f\"[FCNN] Clean Accuracy on x_vis: {clean_acc_fc:.4f}\")\n",
    "print(f\"[FCNN] Adversarial Accuracy on x_vis (PGD): {adv_acc_fc:.4f}\")\n",
    "\n",
    "# Visualize Clean Predictions vs Adversarial for FCNN\n",
    "visualise_data(digits, x_vis_torch[:len(digits)].cpu(), clean_pred_fc[:len(digits)].cpu())\n",
    "visualise_data(digits, perturbed_x[:len(digits)].cpu(), adv_pred_fc[:len(digits)].cpu())\n"
   ]
  },
  {
   "cell_type": "code",
   "execution_count": null,
   "id": "10b5422d-1710-4bd1-a1e9-2d0749dde7d0",
   "metadata": {},
   "outputs": [],
   "source": []
  }
 ],
 "metadata": {
  "kernelspec": {
   "display_name": "Python (qml)",
   "language": "python",
   "name": "qml"
  },
  "language_info": {
   "codemirror_mode": {
    "name": "ipython",
    "version": 3
   },
   "file_extension": ".py",
   "mimetype": "text/x-python",
   "name": "python",
   "nbconvert_exporter": "python",
   "pygments_lexer": "ipython3",
   "version": "3.12.9"
  }
 },
 "nbformat": 4,
 "nbformat_minor": 5
}
